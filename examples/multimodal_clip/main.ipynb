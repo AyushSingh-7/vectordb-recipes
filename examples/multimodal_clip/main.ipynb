{
 "cells": [
  {
   "cell_type": "markdown",
   "id": "c11fde21",
   "metadata": {},
   "source": [
    "# Multimodal search using CLIP"
   ]
  },
  {
   "cell_type": "code",
   "execution_count": 3,
   "id": "69fb1627",
   "metadata": {},
   "outputs": [],
   "source": [
    "!pip install --quiet -U lancedb\n",
    "!pip install --quiet gradio transformers torch torchvision duckdb\n",
    "! pip install pip install tantivy@git+https://github.com/quickwit-oss/tantivy-py#164adc87e1a033117001cf70e38c82a53014d985"
   ]
  },
  {
   "cell_type": "markdown",
   "id": "2d53ade3",
   "metadata": {},
   "source": [
    "## First run setup: Download data and pre-process\n"
   ]
  },
  {
   "cell_type": "code",
   "execution_count": 1,
   "id": "9b7e97f9",
   "metadata": {},
   "outputs": [],
   "source": [
    "import io\n",
    "import PIL\n",
    "import duckdb\n",
    "import lancedb"
   ]
  },
  {
   "cell_type": "code",
   "execution_count": 3,
   "id": "5ba75742",
   "metadata": {},
   "outputs": [
    {
     "name": "stdout",
     "output_type": "stream",
     "text": [
      "--2023-07-05 14:41:47--  https://eto-public.s3.us-west-2.amazonaws.com/datasets/diffusiondb_lance.tar.gz\n",
      "Resolving eto-public.s3.us-west-2.amazonaws.com (eto-public.s3.us-west-2.amazonaws.com)... 52.218.224.17, 52.92.192.98, 52.92.131.34, ...\n",
      "Connecting to eto-public.s3.us-west-2.amazonaws.com (eto-public.s3.us-west-2.amazonaws.com)|52.218.224.17|:443... connected.\n",
      "HTTP request sent, awaiting response... 200 OK\n",
      "Length: 6121107645 (5.7G) [application/x-gzip]\n",
      "Saving to: ‘diffusiondb_lance.tar.gz’\n",
      "\n",
      "diffusiondb_lance.t 100%[===================>]   5.70G  6.40MB/s    in 29m 17s \n",
      "\n",
      "2023-07-05 15:11:05 (3.32 MB/s) - ‘diffusiondb_lance.tar.gz’ saved [6121107645/6121107645]\n",
      "\n",
      "x diffusiondb_test/\n",
      "x diffusiondb_test/_versions/\n",
      "x diffusiondb_test/_latest.manifest\n",
      "x diffusiondb_test/data/\n",
      "x diffusiondb_test/data/138fc0d8-a806-4b10-84f8-00dc381afdad.lance\n",
      "x diffusiondb_test/_versions/1.manifest\n"
     ]
    }
   ],
   "source": [
    "!wget https://eto-public.s3.us-west-2.amazonaws.com/datasets/diffusiondb_lance.tar.gz\n",
    "!tar -xvf diffusiondb_lance.tar.gz\n",
    "!mv diffusiondb_test rawdata.lance"
   ]
  },
  {
   "cell_type": "markdown",
   "id": "e2fcbf61",
   "metadata": {},
   "source": [
    "## Create / Open LanceDB Table"
   ]
  },
  {
   "cell_type": "code",
   "execution_count": 3,
   "id": "b3317a3c",
   "metadata": {},
   "outputs": [],
   "source": [
    "import pyarrow.compute as pc\n",
    "import lance\n",
    "\n",
    "db = lancedb.connect(\"~/datasets/demo\")\n",
    "if \"diffusiondb\" in db.table_names():\n",
    "    tbl= db.open_table(\"diffusiondb\")\n",
    "else:\n",
    "    # First data processing and full-text-search index\n",
    "    data = lance.dataset(\"rawdata.lance\").to_table()\n",
    "    # remove null prompts\n",
    "    tbl = db.create_table(\"diffusiondb\", data.filter(~pc.field(\"prompt\").is_null()), mode=\"overwrite\")\n",
    "    tbl.create_fts_index([\"prompt\"])"
   ]
  },
  {
   "cell_type": "markdown",
   "id": "d7e4fc03",
   "metadata": {},
   "source": [
    "## Create CLIP embedding function for the text"
   ]
  },
  {
   "cell_type": "code",
   "execution_count": 4,
   "id": "f8331d87",
   "metadata": {},
   "outputs": [
    {
     "name": "stderr",
     "output_type": "stream",
     "text": [
      "/Users/ayushchaurasia/Documents/vectordb-recipes/env/lib/python3.11/site-packages/tqdm/auto.py:21: TqdmWarning: IProgress not found. Please update jupyter and ipywidgets. See https://ipywidgets.readthedocs.io/en/stable/user_install.html\n",
      "  from .autonotebook import tqdm as notebook_tqdm\n"
     ]
    }
   ],
   "source": [
    "from transformers import CLIPModel, CLIPProcessor, CLIPTokenizerFast\n",
    "\n",
    "MODEL_ID = \"openai/clip-vit-base-patch32\"\n",
    "\n",
    "tokenizer = CLIPTokenizerFast.from_pretrained(MODEL_ID)\n",
    "model = CLIPModel.from_pretrained(MODEL_ID)\n",
    "processor = CLIPProcessor.from_pretrained(MODEL_ID)\n",
    "\n",
    "def embed_func(query):\n",
    "    inputs = tokenizer([query], padding=True, return_tensors=\"pt\")\n",
    "    text_features = model.get_text_features(**inputs)\n",
    "    return text_features.detach().numpy()[0]"
   ]
  },
  {
   "cell_type": "markdown",
   "id": "5e4d7a54",
   "metadata": {},
   "source": [
    "\n",
    "## Search functions for Gradio"
   ]
  },
  {
   "cell_type": "code",
   "execution_count": 5,
   "id": "10b8de6d",
   "metadata": {},
   "outputs": [],
   "source": [
    "def find_image_vectors(query):\n",
    "    emb = embed_func(query)\n",
    "    code = (\n",
    "        \"import lancedb\\n\"\n",
    "        \"db = lancedb.connect('~/datasets/demo')\\n\"\n",
    "        \"tbl = db.open_table('diffusiondb')\\n\\n\"\n",
    "        f\"embedding = embed_func('{query}')\\n\"\n",
    "        \"tbl.search(embedding).limit(9).to_df()\"\n",
    "    )\n",
    "    return (_extract(tbl.search(emb).limit(9).to_df()), code)\n",
    "\n",
    "def find_image_keywords(query):\n",
    "    code = (\n",
    "        \"import lancedb\\n\"\n",
    "        \"db = lancedb.connect('~/datasets/demo')\\n\"\n",
    "        \"tbl = db.open_table('diffusiondb')\\n\\n\"\n",
    "        f\"tbl.search('{query}').limit(9).to_df()\"\n",
    "    )\n",
    "    return (_extract(tbl.search(query).limit(9).to_df()), code)\n",
    "\n",
    "def find_image_sql(query):\n",
    "    code = (\n",
    "        \"import lancedb\\n\"\n",
    "        \"import duckdb\\n\"\n",
    "        \"db = lancedb.connect('~/datasets/demo')\\n\"\n",
    "        \"tbl = db.open_table('diffusiondb')\\n\\n\"\n",
    "        \"diffusiondb = tbl.to_lance()\\n\"\n",
    "        f\"duckdb.sql('{query}').to_df()\"\n",
    "    )    \n",
    "    diffusiondb = tbl.to_lance()\n",
    "    return (_extract(duckdb.sql(query).to_df()), code)\n",
    "\n",
    "def _extract(df):\n",
    "    image_col = \"image\"\n",
    "    return [(PIL.Image.open(io.BytesIO(row[image_col])), row[\"prompt\"]) for _, row in df.iterrows()]"
   ]
  },
  {
   "cell_type": "markdown",
   "id": "61aaf19b",
   "metadata": {},
   "source": [
    "## Setup Gradio interface"
   ]
  },
  {
   "cell_type": "code",
   "execution_count": 6,
   "id": "b6f40300",
   "metadata": {},
   "outputs": [
    {
     "name": "stderr",
     "output_type": "stream",
     "text": [
      "/Users/ayushchaurasia/Documents/vectordb-recipes/env/lib/python3.11/site-packages/gradio/components/gallery.py:205: UserWarning: The `style` method is deprecated. Please set these arguments in the constructor instead.\n",
      "  warnings.warn(\n"
     ]
    },
    {
     "name": "stdout",
     "output_type": "stream",
     "text": [
      "Running on local URL:  http://127.0.0.1:7860\n",
      "\n",
      "To create a public link, set `share=True` in `launch()`.\n"
     ]
    },
    {
     "data": {
      "text/html": [
       "<div><iframe src=\"http://127.0.0.1:7860/\" width=\"100%\" height=\"500\" allow=\"autoplay; camera; microphone; clipboard-read; clipboard-write;\" frameborder=\"0\" allowfullscreen></iframe></div>"
      ],
      "text/plain": [
       "<IPython.core.display.HTML object>"
      ]
     },
     "metadata": {},
     "output_type": "display_data"
    },
    {
     "data": {
      "text/plain": []
     },
     "execution_count": 6,
     "metadata": {},
     "output_type": "execute_result"
    }
   ],
   "source": [
    "import gradio as gr\n",
    "\n",
    "\n",
    "with gr.Blocks() as demo:\n",
    "    with gr.Row():\n",
    "        with gr.Tab(\"Embeddings\"):\n",
    "            vector_query = gr.Textbox(value=\"portraits of a person\", show_label=False)\n",
    "            b1 = gr.Button(\"Submit\")\n",
    "        with gr.Tab(\"Keywords\"):\n",
    "            keyword_query = gr.Textbox(value=\"ninja turtle\", show_label=False)\n",
    "            b2 = gr.Button(\"Submit\")\n",
    "        with gr.Tab(\"SQL\"):\n",
    "            sql_query = gr.Textbox(value=\"SELECT * from diffusiondb WHERE image_nsfw >= 2 LIMIT 9\", show_label=False)\n",
    "            b3 = gr.Button(\"Submit\")\n",
    "    with gr.Row():\n",
    "        code = gr.Code(label=\"Code\", language=\"python\")\n",
    "    with gr.Row():\n",
    "        gallery = gr.Gallery(\n",
    "                label=\"Found images\", show_label=False, elem_id=\"gallery\"\n",
    "            ).style(columns=[3], rows=[3], object_fit=\"contain\", height=\"auto\")   \n",
    "        \n",
    "    b1.click(find_image_vectors, inputs=vector_query, outputs=[gallery, code])\n",
    "    b2.click(find_image_keywords, inputs=keyword_query, outputs=[gallery, code])\n",
    "    b3.click(find_image_sql, inputs=sql_query, outputs=[gallery, code])\n",
    "    \n",
    "demo.launch()"
   ]
  },
  {
   "cell_type": "code",
   "execution_count": null,
   "id": "bbd6fb9d",
   "metadata": {},
   "outputs": [],
   "source": []
  }
 ],
 "metadata": {
  "kernelspec": {
   "display_name": "Python 3 (ipykernel)",
   "language": "python",
   "name": "python3"
  },
  "language_info": {
   "codemirror_mode": {
    "name": "ipython",
    "version": 3
   },
   "file_extension": ".py",
   "mimetype": "text/x-python",
   "name": "python",
   "nbconvert_exporter": "python",
   "pygments_lexer": "ipython3",
   "version": "3.11.4"
  },
  "vscode": {
   "interpreter": {
    "hash": "511a7c77cb034b09af5465c01316a0f4bb20176d139e60e6d7915f9a637a5037"
   }
  }
 },
 "nbformat": 4,
 "nbformat_minor": 5
}
