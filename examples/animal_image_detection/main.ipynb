{
 "cells": [
  {
   "cell_type": "code",
   "execution_count": 1,
   "metadata": {},
   "outputs": [
    {
     "name": "stderr",
     "output_type": "stream",
     "text": [
      "c:\\Users\\leony\\Documents\\Purdue\\lance\\vectordb-recipes\\.venv\\lib\\site-packages\\tqdm\\auto.py:21: TqdmWarning: IProgress not found. Please update jupyter and ipywidgets. See https://ipywidgets.readthedocs.io/en/stable/user_install.html\n",
      "  from .autonotebook import tqdm as notebook_tqdm\n"
     ]
    },
    {
     "name": "stdout",
     "output_type": "stream",
     "text": [
      "italian_greyhound\n"
     ]
    }
   ],
   "source": [
    "from datasets import load_dataset\n",
    "from enum import Enum\n",
    "\n",
    "dataset = load_dataset(\"CVdatasets/ImageNet15_animals_unbalanced_aug1\", split=\"train\")\n",
    "\n",
    "class Animal(Enum):\n",
    "    italian_greyhound = 0\n",
    "    coyote = 1\n",
    "    beagle = 2\n",
    "    rottweiler = 3\n",
    "    hyena = 4\n",
    "    greater_swiss_mountain_dog = 5\n",
    "    Triceratops = 6\n",
    "    french_bulldog = 7\n",
    "    red_wolf = 8\n",
    "    egyption_cat = 9\n",
    "    chihuahua = 10\n",
    "    irish_terrier = 11\n",
    "    tiger_cat = 12\n",
    "    white_wolf = 13\n",
    "    timber_wolf = 14\n",
    "\n",
    "print(Animal(dataset[0]['labels']).name)"
   ]
  },
  {
   "cell_type": "code",
   "execution_count": 13,
   "metadata": {},
   "outputs": [
    {
     "name": "stderr",
     "output_type": "stream",
     "text": [
      "100%|███████████████████████████████████████| 338M/338M [00:27<00:00, 12.7MiB/s]\n"
     ]
    }
   ],
   "source": [
    "import clip\n",
    "import torch\n",
    "\n",
    "device = \"cuda\" if torch.cuda.is_available() else \"cpu\"\n",
    "model, preprocess = clip.load(\"ViT-B/32\", device=device)\n"
   ]
  },
  {
   "cell_type": "code",
   "execution_count": 32,
   "metadata": {},
   "outputs": [],
   "source": [
    "image = preprocess(dataset[0]['img']).unsqueeze(0).to(device)\n",
    "image_features = model.encode_image(image)"
   ]
  },
  {
   "cell_type": "code",
   "execution_count": null,
   "metadata": {},
   "outputs": [],
   "source": []
  }
 ],
 "metadata": {
  "kernelspec": {
   "display_name": ".venv",
   "language": "python",
   "name": "python3"
  },
  "language_info": {
   "codemirror_mode": {
    "name": "ipython",
    "version": 3
   },
   "file_extension": ".py",
   "mimetype": "text/x-python",
   "name": "python",
   "nbconvert_exporter": "python",
   "pygments_lexer": "ipython3",
   "version": "3.9.6"
  },
  "orig_nbformat": 4
 },
 "nbformat": 4,
 "nbformat_minor": 2
}
