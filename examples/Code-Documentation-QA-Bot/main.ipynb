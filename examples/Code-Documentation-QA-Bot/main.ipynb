{
 "cells": [
  {
   "cell_type": "markdown",
   "id": "13cb272e",
   "metadata": {},
   "source": [
    "# Code documentation Q&A bot example with LangChain\n",
    "\n",
    "This Q&A bot will allow you to query your own documentation easily using questions. We'll also demonstrate the use of LangChain and LanceDB using the OpenAI API. \n",
    "\n",
    "In this example we'll use Pandas 2.0 documentation, but, this could be replaced for your own docs as well"
   ]
  },
  {
   "cell_type": "code",
   "execution_count": null,
   "id": "66638d6c",
   "metadata": {},
   "outputs": [],
   "source": [
    "!pip install -qq openai langchain tiktoken\n",
    "!pip install -qq lancedb"
   ]
  },
  {
   "cell_type": "markdown",
   "id": "d1cdcac3",
   "metadata": {},
   "source": [
    "First, let's get some setup out of the way. As we're using the OpenAI API, ensure that you've set your key (and organization if needed):"
   ]
  },
  {
   "cell_type": "code",
   "execution_count": 1,
   "id": "58ee1868",
   "metadata": {},
   "outputs": [
    {
     "ename": "AuthenticationError",
     "evalue": "No API key provided. You can set your API key in code using 'openai.api_key = <API-KEY>', or you can set the environment variable OPENAI_API_KEY=<API-KEY>). If your API key is stored in a file, you can point the openai module at it with 'openai.api_key_path = <PATH>'. You can generate API keys in the OpenAI web interface. See https://platform.openai.com/account/api-keys for details.",
     "output_type": "error",
     "traceback": [
      "\u001b[0;31m---------------------------------------------------------------------------\u001b[0m",
      "\u001b[0;31mAuthenticationError\u001b[0m                       Traceback (most recent call last)",
      "Cell \u001b[0;32mIn[1], line 10\u001b[0m\n\u001b[1;32m      6\u001b[0m \u001b[38;5;28;01mif\u001b[39;00m \u001b[38;5;124m\"\u001b[39m\u001b[38;5;124mOPENAI_API_KEY\u001b[39m\u001b[38;5;124m\"\u001b[39m \u001b[38;5;129;01mnot\u001b[39;00m \u001b[38;5;129;01min\u001b[39;00m os\u001b[38;5;241m.\u001b[39menviron:\n\u001b[1;32m      7\u001b[0m     \u001b[38;5;66;03m# OR set the key here as a variable\u001b[39;00m\n\u001b[1;32m      8\u001b[0m     os\u001b[38;5;241m.\u001b[39menviron[\u001b[38;5;124m\"\u001b[39m\u001b[38;5;124mOPENAI_API_KEY\u001b[39m\u001b[38;5;124m\"\u001b[39m] \u001b[38;5;241m=\u001b[39m \u001b[38;5;124m\"\u001b[39m\u001b[38;5;124msk-...\u001b[39m\u001b[38;5;124m\"\u001b[39m\n\u001b[0;32m---> 10\u001b[0m \u001b[38;5;28;01massert\u001b[39;00m \u001b[38;5;28mlen\u001b[39m(\u001b[43mopenai\u001b[49m\u001b[38;5;241;43m.\u001b[39;49m\u001b[43mModel\u001b[49m\u001b[38;5;241;43m.\u001b[39;49m\u001b[43mlist\u001b[49m\u001b[43m(\u001b[49m\u001b[43m)\u001b[49m[\u001b[38;5;124m\"\u001b[39m\u001b[38;5;124mdata\u001b[39m\u001b[38;5;124m\"\u001b[39m]) \u001b[38;5;241m>\u001b[39m \u001b[38;5;241m0\u001b[39m\n",
      "File \u001b[0;32m~/Documents/vectordb-recipes/env/lib/python3.11/site-packages/openai/api_resources/abstract/listable_api_resource.py:52\u001b[0m, in \u001b[0;36mListableAPIResource.list\u001b[0;34m(cls, api_key, request_id, api_version, organization, api_base, api_type, **params)\u001b[0m\n\u001b[1;32m     41\u001b[0m \u001b[38;5;129m@classmethod\u001b[39m\n\u001b[1;32m     42\u001b[0m \u001b[38;5;28;01mdef\u001b[39;00m \u001b[38;5;21mlist\u001b[39m(\n\u001b[1;32m     43\u001b[0m     \u001b[38;5;28mcls\u001b[39m,\n\u001b[0;32m   (...)\u001b[0m\n\u001b[1;32m     50\u001b[0m     \u001b[38;5;241m*\u001b[39m\u001b[38;5;241m*\u001b[39mparams,\n\u001b[1;32m     51\u001b[0m ):\n\u001b[0;32m---> 52\u001b[0m     requestor, url \u001b[38;5;241m=\u001b[39m \u001b[38;5;28;43mcls\u001b[39;49m\u001b[38;5;241;43m.\u001b[39;49m\u001b[43m__prepare_list_requestor\u001b[49m\u001b[43m(\u001b[49m\n\u001b[1;32m     53\u001b[0m \u001b[43m        \u001b[49m\u001b[43mapi_key\u001b[49m\u001b[43m,\u001b[49m\n\u001b[1;32m     54\u001b[0m \u001b[43m        \u001b[49m\u001b[43mapi_version\u001b[49m\u001b[43m,\u001b[49m\n\u001b[1;32m     55\u001b[0m \u001b[43m        \u001b[49m\u001b[43morganization\u001b[49m\u001b[43m,\u001b[49m\n\u001b[1;32m     56\u001b[0m \u001b[43m        \u001b[49m\u001b[43mapi_base\u001b[49m\u001b[43m,\u001b[49m\n\u001b[1;32m     57\u001b[0m \u001b[43m        \u001b[49m\u001b[43mapi_type\u001b[49m\u001b[43m,\u001b[49m\n\u001b[1;32m     58\u001b[0m \u001b[43m    \u001b[49m\u001b[43m)\u001b[49m\n\u001b[1;32m     60\u001b[0m     response, _, api_key \u001b[38;5;241m=\u001b[39m requestor\u001b[38;5;241m.\u001b[39mrequest(\n\u001b[1;32m     61\u001b[0m         \u001b[38;5;124m\"\u001b[39m\u001b[38;5;124mget\u001b[39m\u001b[38;5;124m\"\u001b[39m, url, params, request_id\u001b[38;5;241m=\u001b[39mrequest_id\n\u001b[1;32m     62\u001b[0m     )\n\u001b[1;32m     63\u001b[0m     openai_object \u001b[38;5;241m=\u001b[39m util\u001b[38;5;241m.\u001b[39mconvert_to_openai_object(\n\u001b[1;32m     64\u001b[0m         response, api_key, api_version, organization\n\u001b[1;32m     65\u001b[0m     )\n",
      "File \u001b[0;32m~/Documents/vectordb-recipes/env/lib/python3.11/site-packages/openai/api_resources/abstract/listable_api_resource.py:20\u001b[0m, in \u001b[0;36mListableAPIResource.__prepare_list_requestor\u001b[0;34m(cls, api_key, api_version, organization, api_base, api_type)\u001b[0m\n\u001b[1;32m     11\u001b[0m \u001b[38;5;129m@classmethod\u001b[39m\n\u001b[1;32m     12\u001b[0m \u001b[38;5;28;01mdef\u001b[39;00m \u001b[38;5;21m__prepare_list_requestor\u001b[39m(\n\u001b[1;32m     13\u001b[0m     \u001b[38;5;28mcls\u001b[39m,\n\u001b[0;32m   (...)\u001b[0m\n\u001b[1;32m     18\u001b[0m     api_type\u001b[38;5;241m=\u001b[39m\u001b[38;5;28;01mNone\u001b[39;00m,\n\u001b[1;32m     19\u001b[0m ):\n\u001b[0;32m---> 20\u001b[0m     requestor \u001b[38;5;241m=\u001b[39m \u001b[43mapi_requestor\u001b[49m\u001b[38;5;241;43m.\u001b[39;49m\u001b[43mAPIRequestor\u001b[49m\u001b[43m(\u001b[49m\n\u001b[1;32m     21\u001b[0m \u001b[43m        \u001b[49m\u001b[43mapi_key\u001b[49m\u001b[43m,\u001b[49m\n\u001b[1;32m     22\u001b[0m \u001b[43m        \u001b[49m\u001b[43mapi_base\u001b[49m\u001b[38;5;241;43m=\u001b[39;49m\u001b[43mapi_base\u001b[49m\u001b[43m \u001b[49m\u001b[38;5;129;43;01mor\u001b[39;49;00m\u001b[43m \u001b[49m\u001b[38;5;28;43mcls\u001b[39;49m\u001b[38;5;241;43m.\u001b[39;49m\u001b[43mapi_base\u001b[49m\u001b[43m(\u001b[49m\u001b[43m)\u001b[49m\u001b[43m,\u001b[49m\n\u001b[1;32m     23\u001b[0m \u001b[43m        \u001b[49m\u001b[43mapi_version\u001b[49m\u001b[38;5;241;43m=\u001b[39;49m\u001b[43mapi_version\u001b[49m\u001b[43m,\u001b[49m\n\u001b[1;32m     24\u001b[0m \u001b[43m        \u001b[49m\u001b[43mapi_type\u001b[49m\u001b[38;5;241;43m=\u001b[39;49m\u001b[43mapi_type\u001b[49m\u001b[43m,\u001b[49m\n\u001b[1;32m     25\u001b[0m \u001b[43m        \u001b[49m\u001b[43morganization\u001b[49m\u001b[38;5;241;43m=\u001b[39;49m\u001b[43morganization\u001b[49m\u001b[43m,\u001b[49m\n\u001b[1;32m     26\u001b[0m \u001b[43m    \u001b[49m\u001b[43m)\u001b[49m\n\u001b[1;32m     28\u001b[0m     typed_api_type, api_version \u001b[38;5;241m=\u001b[39m \u001b[38;5;28mcls\u001b[39m\u001b[38;5;241m.\u001b[39m_get_api_type_and_version(\n\u001b[1;32m     29\u001b[0m         api_type, api_version\n\u001b[1;32m     30\u001b[0m     )\n\u001b[1;32m     32\u001b[0m     \u001b[38;5;28;01mif\u001b[39;00m typed_api_type \u001b[38;5;129;01min\u001b[39;00m (ApiType\u001b[38;5;241m.\u001b[39mAZURE, ApiType\u001b[38;5;241m.\u001b[39mAZURE_AD):\n",
      "File \u001b[0;32m~/Documents/vectordb-recipes/env/lib/python3.11/site-packages/openai/api_requestor.py:138\u001b[0m, in \u001b[0;36mAPIRequestor.__init__\u001b[0;34m(self, key, api_base, api_type, api_version, organization)\u001b[0m\n\u001b[1;32m    129\u001b[0m \u001b[38;5;28;01mdef\u001b[39;00m \u001b[38;5;21m__init__\u001b[39m(\n\u001b[1;32m    130\u001b[0m     \u001b[38;5;28mself\u001b[39m,\n\u001b[1;32m    131\u001b[0m     key\u001b[38;5;241m=\u001b[39m\u001b[38;5;28;01mNone\u001b[39;00m,\n\u001b[0;32m   (...)\u001b[0m\n\u001b[1;32m    135\u001b[0m     organization\u001b[38;5;241m=\u001b[39m\u001b[38;5;28;01mNone\u001b[39;00m,\n\u001b[1;32m    136\u001b[0m ):\n\u001b[1;32m    137\u001b[0m     \u001b[38;5;28mself\u001b[39m\u001b[38;5;241m.\u001b[39mapi_base \u001b[38;5;241m=\u001b[39m api_base \u001b[38;5;129;01mor\u001b[39;00m openai\u001b[38;5;241m.\u001b[39mapi_base\n\u001b[0;32m--> 138\u001b[0m     \u001b[38;5;28mself\u001b[39m\u001b[38;5;241m.\u001b[39mapi_key \u001b[38;5;241m=\u001b[39m key \u001b[38;5;129;01mor\u001b[39;00m \u001b[43mutil\u001b[49m\u001b[38;5;241;43m.\u001b[39;49m\u001b[43mdefault_api_key\u001b[49m\u001b[43m(\u001b[49m\u001b[43m)\u001b[49m\n\u001b[1;32m    139\u001b[0m     \u001b[38;5;28mself\u001b[39m\u001b[38;5;241m.\u001b[39mapi_type \u001b[38;5;241m=\u001b[39m (\n\u001b[1;32m    140\u001b[0m         ApiType\u001b[38;5;241m.\u001b[39mfrom_str(api_type)\n\u001b[1;32m    141\u001b[0m         \u001b[38;5;28;01mif\u001b[39;00m api_type\n\u001b[1;32m    142\u001b[0m         \u001b[38;5;28;01melse\u001b[39;00m ApiType\u001b[38;5;241m.\u001b[39mfrom_str(openai\u001b[38;5;241m.\u001b[39mapi_type)\n\u001b[1;32m    143\u001b[0m     )\n\u001b[1;32m    144\u001b[0m     \u001b[38;5;28mself\u001b[39m\u001b[38;5;241m.\u001b[39mapi_version \u001b[38;5;241m=\u001b[39m api_version \u001b[38;5;129;01mor\u001b[39;00m openai\u001b[38;5;241m.\u001b[39mapi_version\n",
      "File \u001b[0;32m~/Documents/vectordb-recipes/env/lib/python3.11/site-packages/openai/util.py:186\u001b[0m, in \u001b[0;36mdefault_api_key\u001b[0;34m()\u001b[0m\n\u001b[1;32m    184\u001b[0m     \u001b[38;5;28;01mreturn\u001b[39;00m openai\u001b[38;5;241m.\u001b[39mapi_key\n\u001b[1;32m    185\u001b[0m \u001b[38;5;28;01melse\u001b[39;00m:\n\u001b[0;32m--> 186\u001b[0m     \u001b[38;5;28;01mraise\u001b[39;00m openai\u001b[38;5;241m.\u001b[39merror\u001b[38;5;241m.\u001b[39mAuthenticationError(\n\u001b[1;32m    187\u001b[0m         \u001b[38;5;124m\"\u001b[39m\u001b[38;5;124mNo API key provided. You can set your API key in code using \u001b[39m\u001b[38;5;124m'\u001b[39m\u001b[38;5;124mopenai.api_key = <API-KEY>\u001b[39m\u001b[38;5;124m'\u001b[39m\u001b[38;5;124m, or you can set the environment variable OPENAI_API_KEY=<API-KEY>). If your API key is stored in a file, you can point the openai module at it with \u001b[39m\u001b[38;5;124m'\u001b[39m\u001b[38;5;124mopenai.api_key_path = <PATH>\u001b[39m\u001b[38;5;124m'\u001b[39m\u001b[38;5;124m. You can generate API keys in the OpenAI web interface. See https://platform.openai.com/account/api-keys for details.\u001b[39m\u001b[38;5;124m\"\u001b[39m\n\u001b[1;32m    188\u001b[0m     )\n",
      "\u001b[0;31mAuthenticationError\u001b[0m: No API key provided. You can set your API key in code using 'openai.api_key = <API-KEY>', or you can set the environment variable OPENAI_API_KEY=<API-KEY>). If your API key is stored in a file, you can point the openai module at it with 'openai.api_key_path = <PATH>'. You can generate API keys in the OpenAI web interface. See https://platform.openai.com/account/api-keys for details."
     ]
    }
   ],
   "source": [
    "import openai\n",
    "import os\n",
    "\n",
    "# Configuring the environment variable OPENAI_API_KEY\n",
    "os.environ[\"OPENAI_API_KEY\"] = \"sk-...\"\n",
    "if \"OPENAI_API_KEY\" not in os.environ:\n",
    "    # OR set the key here as a variable\n",
    "    os.environ[\"OPENAI_API_KEY\"] = \"sk-...\"\n",
    "    \n",
    "assert len(openai.Model.list()[\"data\"]) > 0"
   ]
  },
  {
   "cell_type": "code",
   "execution_count": 2,
   "id": "2a1c54bd",
   "metadata": {},
   "outputs": [
    {
     "data": {
      "text/plain": [
       "LanceTable(sup)"
      ]
     },
     "execution_count": 2,
     "metadata": {},
     "output_type": "execute_result"
    }
   ],
   "source": [
    "import lancedb\n",
    "db = lancedb.connect(\"data/sample-lancedb\")\n",
    "db.open_table(\"sup\")"
   ]
  },
  {
   "cell_type": "markdown",
   "id": "34f524d3",
   "metadata": {},
   "source": [
    "# Loading in our code documentation, generating embeddings and storing our documents in LanceDB\n",
    "\n",
    "We're going to use the power of LangChain to help us create our Q&A bot. It comes with several APIs that can make our development much easier as well as a LanceDB integration for vectorstore."
   ]
  },
  {
   "cell_type": "code",
   "execution_count": 3,
   "id": "b55d22f1",
   "metadata": {},
   "outputs": [],
   "source": [
    "import lancedb\n",
    "import re\n",
    "import pickle\n",
    "import requests\n",
    "import zipfile\n",
    "from pathlib import Path\n",
    "\n",
    "from langchain.document_loaders import UnstructuredHTMLLoader\n",
    "from langchain.embeddings import OpenAIEmbeddings\n",
    "from langchain.text_splitter import RecursiveCharacterTextSplitter\n",
    "from langchain.vectorstores import LanceDB\n",
    "from langchain.llms import OpenAI\n",
    "from langchain.chains import RetrievalQA"
   ]
  },
  {
   "cell_type": "markdown",
   "id": "56cc6d50",
   "metadata": {},
   "source": [
    "To make this easier, we've downloaded Pandas documentation and stored the raw HTML files for you to download. We'll download them and then use LangChain's HTML document readers to parse them and store them in LanceDB as a vector store, along with relevant metadata."
   ]
  },
  {
   "cell_type": "code",
   "execution_count": 4,
   "id": "7da77e75",
   "metadata": {},
   "outputs": [],
   "source": [
    "pandas_docs = requests.get(\"https://eto-public.s3.us-west-2.amazonaws.com/datasets/pandas_docs/pandas.documentation.zip\")\n",
    "with open('/tmp/pandas.documentation.zip', 'wb') as f:\n",
    "    f.write(pandas_docs.content)\n",
    "\n",
    "file = zipfile.ZipFile(\"/tmp/pandas.documentation.zip\")\n",
    "file.extractall(path=\"/tmp/pandas_docs\")"
   ]
  },
  {
   "cell_type": "markdown",
   "id": "ae42496c",
   "metadata": {},
   "source": [
    "We'll create a simple helper function that can help to extract metadata, so we can use this downstream when we're wanting to query with filters. In this case, we want to keep the lineage of the uri or path for each document that we process:"
   ]
  },
  {
   "cell_type": "code",
   "execution_count": 5,
   "id": "d171d062",
   "metadata": {},
   "outputs": [],
   "source": [
    "def get_document_title(document):\n",
    "    m = str(document.metadata[\"source\"])\n",
    "    title = re.findall(\"pandas.documentation(.*).html\", m)\n",
    "    if title[0] is not None:\n",
    "        return(title[0])\n",
    "    return ''"
   ]
  },
  {
   "cell_type": "markdown",
   "id": "130162ad",
   "metadata": {},
   "source": [
    "# Pre-processing and loading the documentation\n",
    "\n",
    "Next, let's pre-process and load the documentation. To make sure we don't need to do this repeatedly if we were updating code, we're caching it using pickle so we can retrieve it again (this could take a few minutes to run the first time you do it). We'll also add some more metadata to the docs here such as the title and version of the code:"
   ]
  },
  {
   "cell_type": "code",
   "execution_count": 6,
   "id": "33bfe7d8",
   "metadata": {},
   "outputs": [],
   "source": [
    "docs_path = Path(\"docs.pkl\")\n",
    "docs = []\n",
    "\n",
    "if not docs_path.exists():\n",
    "    for p in Path(\"/tmp/pandas_docs/pandas.documentation\").rglob(\"*.html\"):\n",
    "        print(p)\n",
    "        if p.is_dir():\n",
    "            continue\n",
    "        try:\n",
    "            loader = UnstructuredHTMLLoader(p)\n",
    "            raw_document = loader.load()\n",
    "        except Exception as e:\n",
    "            print(f\"Error loading document: {e}\")\n",
    "            continue\n",
    "        \n",
    "        m = {}\n",
    "        m[\"title\"] = get_document_title(raw_document[0])\n",
    "        m[\"version\"] = \"2.0rc0\"\n",
    "        raw_document[0].metadata = raw_document[0].metadata | m\n",
    "        raw_document[0].metadata[\"source\"] = str(raw_document[0].metadata[\"source\"])\n",
    "        docs = docs + raw_document\n",
    "\n",
    "    with docs_path.open(\"wb\") as fh:\n",
    "        pickle.dump(docs, fh)\n",
    "else:\n",
    "    with docs_path.open(\"rb\") as fh:\n",
    "        docs = pickle.load(fh)\n"
   ]
  },
  {
   "cell_type": "markdown",
   "id": "c3852dd3",
   "metadata": {},
   "source": [
    "# Generating emebeddings from our docs\n",
    "\n",
    "Now that we have our raw documents loaded, we need to pre-process them to generate embeddings:"
   ]
  },
  {
   "cell_type": "code",
   "execution_count": 7,
   "id": "82230563",
   "metadata": {},
   "outputs": [],
   "source": [
    "text_splitter = RecursiveCharacterTextSplitter(\n",
    "    chunk_size=1000,\n",
    "    chunk_overlap=200,\n",
    ")\n",
    "documents = text_splitter.split_documents(docs)\n",
    "embeddings = OpenAIEmbeddings()"
   ]
  },
  {
   "cell_type": "markdown",
   "id": "43e68215",
   "metadata": {},
   "source": [
    "# Storing and querying with LanceDB\n",
    "\n",
    "Let's connect to LanceDB so we can store our documents. We'll create a Table to store them in:"
   ]
  },
  {
   "cell_type": "code",
   "execution_count": 8,
   "id": "74780a58",
   "metadata": {},
   "outputs": [
    {
     "name": "stdout",
     "output_type": "stream",
     "text": [
      "Skipped index 6626 due to embedding error\n",
      "Skipped index 8487 due to embedding error\n",
      "Skipped index 8575 due to embedding error\n",
      "Skipped index 10230 due to embedding error\n"
     ]
    }
   ],
   "source": [
    "db = lancedb.connect('lancedb')\n",
    "table = db.create_table(\"pandas_docs\", data=[\n",
    "    {\"vector\": embeddings.embed_query(\"Hello World\"), \"text\": \"Hello World\", \"id\": \"1\"}\n",
    "], mode=\"overwrite\")\n",
    "docsearch = LanceDB.from_documents(documents, embeddings, connection=table)"
   ]
  },
  {
   "cell_type": "markdown",
   "id": "3cb1dc5d",
   "metadata": {},
   "source": [
    "Now let's create our RetrievalQA chain using the LanceDB vector store:"
   ]
  },
  {
   "cell_type": "code",
   "execution_count": 9,
   "id": "6a5891ad",
   "metadata": {},
   "outputs": [],
   "source": [
    "qa = RetrievalQA.from_chain_type(llm=OpenAI(), chain_type=\"stuff\", retriever=docsearch.as_retriever())"
   ]
  },
  {
   "cell_type": "markdown",
   "id": "28d93b85",
   "metadata": {},
   "source": [
    "And thats it! We're all setup. The next step is to run some queries, let's try a few:"
   ]
  },
  {
   "cell_type": "code",
   "execution_count": 10,
   "id": "70d88316",
   "metadata": {},
   "outputs": [
    {
     "data": {
      "text/plain": [
       "' Enhancements such as installing optional dependencies with pip extras, the ability to use any numpy numeric dtype in a Index, and several bug fixes. Additionally, there are certain backwards incompatible API changes, deprecations, and performance improvements.'"
      ]
     },
     "execution_count": 10,
     "metadata": {},
     "output_type": "execute_result"
    }
   ],
   "source": [
    "query = \"What are the major differences in pandas 2.0?\"\n",
    "qa.run(query)"
   ]
  },
  {
   "cell_type": "code",
   "execution_count": 11,
   "id": "85a0397c",
   "metadata": {},
   "outputs": [
    {
     "data": {
      "text/plain": [
       "' 2.0.0rc0'"
      ]
     },
     "execution_count": 11,
     "metadata": {},
     "output_type": "execute_result"
    }
   ],
   "source": [
    "query = \"What's the current version of pandas?\"\n",
    "qa.run(query)"
   ]
  },
  {
   "cell_type": "code",
   "execution_count": 12,
   "id": "923f86c6",
   "metadata": {},
   "outputs": [
    {
     "data": {
      "text/plain": [
       "' You can install optional dependencies with the pip command, using the extra syntax (e.g. ``pandas[performance, aws]>=1.5.0``). Additionally, you can use mamba or pyenv to create a virtual environment for your development environment, and then install the build dependencies with the ``pip install -r requirements-dev.txt`` command. Finally, you should use the private helper ``pandas.compat._optional.import_optional_dependency`` to import any optional dependencies, along with adding a test to make sure an ImportError is raised if the dependency is not found.'"
      ]
     },
     "execution_count": 12,
     "metadata": {},
     "output_type": "execute_result"
    }
   ],
   "source": [
    "query = \"How do I make use of installing optional dependencies?\"\n",
    "qa.run(query)"
   ]
  },
  {
   "cell_type": "code",
   "execution_count": 13,
   "id": "02082f83",
   "metadata": {},
   "outputs": [
    {
     "data": {
      "text/plain": [
       "' Possible incompatibility for HDF5 formats created with pandas < 0.13.0, Map on Index types now return other Index types, Accessing datetime fields of Index now return Index, pd.unique will now be consistent with extension types, S3 file handling, Partial string indexing changes, Concat of different float dtypes will not automatically upcast, pandas Google BigQuery support has moved, Memory usage for Index is more accurate, DataFrame.sort_index changes, GroupBy describe formatting, Window binary corr/cov operations return a MultiIndex DataFrame, HDFStore where string comparison, Dependencies have increased minimum versions, Sum/prod of all-NaN or empty Series/DataFrames is now consistently NaN, Indexing with a list with missing labels is deprecated, NA naming changes, Iteration of Series/Index will now return Python scalars, Indexing with a Boolean Index, PeriodIndex resampling, Improved error handling during item assignment in pd.eval, Dtype conversions, MultiIndex constructor with a single level, UTC localization with Series, Consistency of range functions, No automatic Matplotlib converters, Instantiation from dicts preserves dict insertion order for Python 3.6+,'"
      ]
     },
     "execution_count": 13,
     "metadata": {},
     "output_type": "execute_result"
    }
   ],
   "source": [
    "query = \"What are the backwards incompatible API changes in Pandas 2.0?\"\n",
    "qa.run(query)"
   ]
  }
 ],
 "metadata": {
  "kernelspec": {
   "display_name": "Python 3.11.3 ('env': venv)",
   "language": "python",
   "name": "python3"
  },
  "language_info": {
   "codemirror_mode": {
    "name": "ipython",
    "version": 3
   },
   "file_extension": ".py",
   "mimetype": "text/x-python",
   "name": "python",
   "nbconvert_exporter": "python",
   "pygments_lexer": "ipython3",
   "version": "3.11.3"
  },
  "vscode": {
   "interpreter": {
    "hash": "511a7c77cb034b09af5465c01316a0f4bb20176d139e60e6d7915f9a637a5037"
   }
  }
 },
 "nbformat": 4,
 "nbformat_minor": 5
}
