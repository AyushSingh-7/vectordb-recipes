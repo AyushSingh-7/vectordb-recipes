{
 "cells": [
  {
   "cell_type": "markdown",
   "id": "13cb272e",
   "metadata": {
    "id": "13cb272e"
   },
   "source": [
    "# Code documentation Q&A bot example with LangChain\n",
    "![picture](https://lancedb.github.io/lancedb/assets/ecosystem-illustration.png)\n",
    "\n",
    "This Q&A bot will allow you to query your own documentation easily using questions. We'll also demonstrate the use of LangChain and LanceDB using the OpenAI API.\n",
    "\n",
    "In this example we'll **Numpy 1.26** documentation, but, this could be replaced for your own docs as well"
   ]
  },
  {
   "cell_type": "markdown",
   "id": "1991331f-4316-417a-b693-e2f27cbe9ea7",
   "metadata": {
    "id": "1991331f-4316-417a-b693-e2f27cbe9ea7"
   },
   "source": [
    "### Installing dependencies"
   ]
  },
  {
   "cell_type": "code",
   "execution_count": 5,
   "id": "e8a49c31",
   "metadata": {
    "id": "e8a49c31",
    "outputId": "a9aca639-0c3d-4164-bf9c-7bdae7bc92f1",
    "colab": {
     "base_uri": "https://localhost:8080/"
    }
   },
   "outputs": [
    {
     "output_type": "stream",
     "name": "stdout",
     "text": [
      "Requirement already satisfied: langchain in /usr/local/lib/python3.10/dist-packages (0.3.9)\n",
      "Requirement already satisfied: langchain-openai in /usr/local/lib/python3.10/dist-packages (0.2.10)\n",
      "Collecting langchain-community\n",
      "  Downloading langchain_community-0.3.8-py3-none-any.whl.metadata (2.9 kB)\n",
      "Requirement already satisfied: PyYAML>=5.3 in /usr/local/lib/python3.10/dist-packages (from langchain) (6.0.2)\n",
      "Requirement already satisfied: SQLAlchemy<3,>=1.4 in /usr/local/lib/python3.10/dist-packages (from langchain) (2.0.36)\n",
      "Requirement already satisfied: aiohttp<4.0.0,>=3.8.3 in /usr/local/lib/python3.10/dist-packages (from langchain) (3.11.2)\n",
      "Requirement already satisfied: async-timeout<5.0.0,>=4.0.0 in /usr/local/lib/python3.10/dist-packages (from langchain) (4.0.3)\n",
      "Requirement already satisfied: langchain-core<0.4.0,>=0.3.21 in /usr/local/lib/python3.10/dist-packages (from langchain) (0.3.21)\n",
      "Requirement already satisfied: langchain-text-splitters<0.4.0,>=0.3.0 in /usr/local/lib/python3.10/dist-packages (from langchain) (0.3.2)\n",
      "Requirement already satisfied: langsmith<0.2.0,>=0.1.17 in /usr/local/lib/python3.10/dist-packages (from langchain) (0.1.143)\n",
      "Requirement already satisfied: numpy<2,>=1.22.4 in /usr/local/lib/python3.10/dist-packages (from langchain) (1.26.4)\n",
      "Requirement already satisfied: pydantic<3.0.0,>=2.7.4 in /usr/local/lib/python3.10/dist-packages (from langchain) (2.9.2)\n",
      "Requirement already satisfied: requests<3,>=2 in /usr/local/lib/python3.10/dist-packages (from langchain) (2.32.3)\n",
      "Requirement already satisfied: tenacity!=8.4.0,<10,>=8.1.0 in /usr/local/lib/python3.10/dist-packages (from langchain) (9.0.0)\n",
      "Requirement already satisfied: openai<2.0.0,>=1.54.0 in /usr/local/lib/python3.10/dist-packages (from langchain-openai) (1.54.4)\n",
      "Requirement already satisfied: tiktoken<1,>=0.7 in /usr/local/lib/python3.10/dist-packages (from langchain-openai) (0.8.0)\n",
      "Collecting SQLAlchemy<3,>=1.4 (from langchain)\n",
      "  Downloading SQLAlchemy-2.0.35-cp310-cp310-manylinux_2_17_x86_64.manylinux2014_x86_64.whl.metadata (9.6 kB)\n",
      "Requirement already satisfied: dataclasses-json<0.7,>=0.5.7 in /usr/local/lib/python3.10/dist-packages (from langchain-community) (0.6.7)\n",
      "Collecting httpx-sse<0.5.0,>=0.4.0 (from langchain-community)\n",
      "  Downloading httpx_sse-0.4.0-py3-none-any.whl.metadata (9.0 kB)\n",
      "Collecting pydantic-settings<3.0.0,>=2.4.0 (from langchain-community)\n",
      "  Downloading pydantic_settings-2.6.1-py3-none-any.whl.metadata (3.5 kB)\n",
      "Requirement already satisfied: aiohappyeyeballs>=2.3.0 in /usr/local/lib/python3.10/dist-packages (from aiohttp<4.0.0,>=3.8.3->langchain) (2.4.3)\n",
      "Requirement already satisfied: aiosignal>=1.1.2 in /usr/local/lib/python3.10/dist-packages (from aiohttp<4.0.0,>=3.8.3->langchain) (1.3.1)\n",
      "Requirement already satisfied: attrs>=17.3.0 in /usr/local/lib/python3.10/dist-packages (from aiohttp<4.0.0,>=3.8.3->langchain) (24.2.0)\n",
      "Requirement already satisfied: frozenlist>=1.1.1 in /usr/local/lib/python3.10/dist-packages (from aiohttp<4.0.0,>=3.8.3->langchain) (1.5.0)\n",
      "Requirement already satisfied: multidict<7.0,>=4.5 in /usr/local/lib/python3.10/dist-packages (from aiohttp<4.0.0,>=3.8.3->langchain) (6.1.0)\n",
      "Requirement already satisfied: propcache>=0.2.0 in /usr/local/lib/python3.10/dist-packages (from aiohttp<4.0.0,>=3.8.3->langchain) (0.2.0)\n",
      "Requirement already satisfied: yarl<2.0,>=1.17.0 in /usr/local/lib/python3.10/dist-packages (from aiohttp<4.0.0,>=3.8.3->langchain) (1.17.2)\n",
      "Requirement already satisfied: marshmallow<4.0.0,>=3.18.0 in /usr/local/lib/python3.10/dist-packages (from dataclasses-json<0.7,>=0.5.7->langchain-community) (3.23.1)\n",
      "Requirement already satisfied: typing-inspect<1,>=0.4.0 in /usr/local/lib/python3.10/dist-packages (from dataclasses-json<0.7,>=0.5.7->langchain-community) (0.9.0)\n",
      "Requirement already satisfied: jsonpatch<2.0,>=1.33 in /usr/local/lib/python3.10/dist-packages (from langchain-core<0.4.0,>=0.3.21->langchain) (1.33)\n",
      "Requirement already satisfied: packaging<25,>=23.2 in /usr/local/lib/python3.10/dist-packages (from langchain-core<0.4.0,>=0.3.21->langchain) (24.2)\n",
      "Requirement already satisfied: typing-extensions>=4.7 in /usr/local/lib/python3.10/dist-packages (from langchain-core<0.4.0,>=0.3.21->langchain) (4.12.2)\n",
      "Requirement already satisfied: httpx<1,>=0.23.0 in /usr/local/lib/python3.10/dist-packages (from langsmith<0.2.0,>=0.1.17->langchain) (0.27.2)\n",
      "Requirement already satisfied: orjson<4.0.0,>=3.9.14 in /usr/local/lib/python3.10/dist-packages (from langsmith<0.2.0,>=0.1.17->langchain) (3.10.11)\n",
      "Requirement already satisfied: requests-toolbelt<2.0.0,>=1.0.0 in /usr/local/lib/python3.10/dist-packages (from langsmith<0.2.0,>=0.1.17->langchain) (1.0.0)\n",
      "Requirement already satisfied: anyio<5,>=3.5.0 in /usr/local/lib/python3.10/dist-packages (from openai<2.0.0,>=1.54.0->langchain-openai) (3.7.1)\n",
      "Requirement already satisfied: distro<2,>=1.7.0 in /usr/local/lib/python3.10/dist-packages (from openai<2.0.0,>=1.54.0->langchain-openai) (1.9.0)\n",
      "Requirement already satisfied: jiter<1,>=0.4.0 in /usr/local/lib/python3.10/dist-packages (from openai<2.0.0,>=1.54.0->langchain-openai) (0.7.1)\n",
      "Requirement already satisfied: sniffio in /usr/local/lib/python3.10/dist-packages (from openai<2.0.0,>=1.54.0->langchain-openai) (1.3.1)\n",
      "Requirement already satisfied: tqdm>4 in /usr/local/lib/python3.10/dist-packages (from openai<2.0.0,>=1.54.0->langchain-openai) (4.66.6)\n",
      "Requirement already satisfied: annotated-types>=0.6.0 in /usr/local/lib/python3.10/dist-packages (from pydantic<3.0.0,>=2.7.4->langchain) (0.7.0)\n",
      "Requirement already satisfied: pydantic-core==2.23.4 in /usr/local/lib/python3.10/dist-packages (from pydantic<3.0.0,>=2.7.4->langchain) (2.23.4)\n",
      "Collecting python-dotenv>=0.21.0 (from pydantic-settings<3.0.0,>=2.4.0->langchain-community)\n",
      "  Downloading python_dotenv-1.0.1-py3-none-any.whl.metadata (23 kB)\n",
      "Requirement already satisfied: charset-normalizer<4,>=2 in /usr/local/lib/python3.10/dist-packages (from requests<3,>=2->langchain) (3.4.0)\n",
      "Requirement already satisfied: idna<4,>=2.5 in /usr/local/lib/python3.10/dist-packages (from requests<3,>=2->langchain) (3.10)\n",
      "Requirement already satisfied: urllib3<3,>=1.21.1 in /usr/local/lib/python3.10/dist-packages (from requests<3,>=2->langchain) (2.2.3)\n",
      "Requirement already satisfied: certifi>=2017.4.17 in /usr/local/lib/python3.10/dist-packages (from requests<3,>=2->langchain) (2024.8.30)\n",
      "Requirement already satisfied: greenlet!=0.4.17 in /usr/local/lib/python3.10/dist-packages (from SQLAlchemy<3,>=1.4->langchain) (3.1.1)\n",
      "Requirement already satisfied: regex>=2022.1.18 in /usr/local/lib/python3.10/dist-packages (from tiktoken<1,>=0.7->langchain-openai) (2024.9.11)\n",
      "Requirement already satisfied: exceptiongroup in /usr/local/lib/python3.10/dist-packages (from anyio<5,>=3.5.0->openai<2.0.0,>=1.54.0->langchain-openai) (1.2.2)\n",
      "Requirement already satisfied: httpcore==1.* in /usr/local/lib/python3.10/dist-packages (from httpx<1,>=0.23.0->langsmith<0.2.0,>=0.1.17->langchain) (1.0.7)\n",
      "Requirement already satisfied: h11<0.15,>=0.13 in /usr/local/lib/python3.10/dist-packages (from httpcore==1.*->httpx<1,>=0.23.0->langsmith<0.2.0,>=0.1.17->langchain) (0.14.0)\n",
      "Requirement already satisfied: jsonpointer>=1.9 in /usr/local/lib/python3.10/dist-packages (from jsonpatch<2.0,>=1.33->langchain-core<0.4.0,>=0.3.21->langchain) (3.0.0)\n",
      "Requirement already satisfied: mypy-extensions>=0.3.0 in /usr/local/lib/python3.10/dist-packages (from typing-inspect<1,>=0.4.0->dataclasses-json<0.7,>=0.5.7->langchain-community) (1.0.0)\n",
      "Downloading langchain_community-0.3.8-py3-none-any.whl (2.4 MB)\n",
      "\u001b[2K   \u001b[90m━━━━━━━━━━━━━━━━━━━━━━━━━━━━━━━━━━━━━━━━\u001b[0m \u001b[32m2.4/2.4 MB\u001b[0m \u001b[31m24.3 MB/s\u001b[0m eta \u001b[36m0:00:00\u001b[0m\n",
      "\u001b[?25hDownloading httpx_sse-0.4.0-py3-none-any.whl (7.8 kB)\n",
      "Downloading pydantic_settings-2.6.1-py3-none-any.whl (28 kB)\n",
      "Downloading SQLAlchemy-2.0.35-cp310-cp310-manylinux_2_17_x86_64.manylinux2014_x86_64.whl (3.1 MB)\n",
      "\u001b[2K   \u001b[90m━━━━━━━━━━━━━━━━━━━━━━━━━━━━━━━━━━━━━━━━\u001b[0m \u001b[32m3.1/3.1 MB\u001b[0m \u001b[31m68.5 MB/s\u001b[0m eta \u001b[36m0:00:00\u001b[0m\n",
      "\u001b[?25hDownloading python_dotenv-1.0.1-py3-none-any.whl (19 kB)\n",
      "Installing collected packages: SQLAlchemy, python-dotenv, httpx-sse, pydantic-settings, langchain-community\n",
      "  Attempting uninstall: SQLAlchemy\n",
      "    Found existing installation: SQLAlchemy 2.0.36\n",
      "    Uninstalling SQLAlchemy-2.0.36:\n",
      "      Successfully uninstalled SQLAlchemy-2.0.36\n",
      "Successfully installed SQLAlchemy-2.0.35 httpx-sse-0.4.0 langchain-community-0.3.8 pydantic-settings-2.6.1 python-dotenv-1.0.1\n"
     ]
    }
   ],
   "source": [
    "! pip install -U langchain langchain-openai langchain-community"
   ]
  },
  {
   "cell_type": "code",
   "execution_count": 2,
   "id": "66638d6c",
   "metadata": {
    "id": "66638d6c",
    "outputId": "558a51fe-3b59-460d-cc1e-c3d436173000",
    "colab": {
     "base_uri": "https://localhost:8080/"
    }
   },
   "outputs": [
    {
     "output_type": "stream",
     "name": "stdout",
     "text": [
      "\u001b[?25l     \u001b[90m━━━━━━━━━━━━━━━━━━━━━━━━━━━━━━━━━━━━━━━━\u001b[0m \u001b[32m0.0/981.5 kB\u001b[0m \u001b[31m?\u001b[0m eta \u001b[36m-:--:--\u001b[0m\r\u001b[2K     \u001b[91m━━━━━━━━━━━━\u001b[0m\u001b[91m╸\u001b[0m\u001b[90m━━━━━━━━━━━━━━━━━━━━━━━━━━━\u001b[0m \u001b[32m317.4/981.5 kB\u001b[0m \u001b[31m9.2 MB/s\u001b[0m eta \u001b[36m0:00:01\u001b[0m\r\u001b[2K     \u001b[91m━━━━━━━━━━━━━━━━━━━━━━━━━━━━━━━━━━━━━━━\u001b[0m\u001b[91m╸\u001b[0m \u001b[32m972.8/981.5 kB\u001b[0m \u001b[31m16.4 MB/s\u001b[0m eta \u001b[36m0:00:01\u001b[0m\r\u001b[2K     \u001b[90m━━━━━━━━━━━━━━━━━━━━━━━━━━━━━━━━━━━━━━━━\u001b[0m \u001b[32m981.5/981.5 kB\u001b[0m \u001b[31m13.6 MB/s\u001b[0m eta \u001b[36m0:00:00\u001b[0m\n",
      "\u001b[?25h  Preparing metadata (setup.py) ... \u001b[?25l\u001b[?25hdone\n",
      "\u001b[2K   \u001b[90m━━━━━━━━━━━━━━━━━━━━━━━━━━━━━━━━━━━━━━━━\u001b[0m \u001b[32m1.7/1.7 MB\u001b[0m \u001b[31m54.9 MB/s\u001b[0m eta \u001b[36m0:00:00\u001b[0m\n",
      "\u001b[2K   \u001b[90m━━━━━━━━━━━━━━━━━━━━━━━━━━━━━━━━━━━━━━━━\u001b[0m \u001b[32m27.4/27.4 MB\u001b[0m \u001b[31m63.0 MB/s\u001b[0m eta \u001b[36m0:00:00\u001b[0m\n",
      "\u001b[2K   \u001b[90m━━━━━━━━━━━━━━━━━━━━━━━━━━━━━━━━━━━━━━━━\u001b[0m \u001b[32m30.5/30.5 MB\u001b[0m \u001b[31m24.5 MB/s\u001b[0m eta \u001b[36m0:00:00\u001b[0m\n",
      "\u001b[2K   \u001b[90m━━━━━━━━━━━━━━━━━━━━━━━━━━━━━━━━━━━━━━━━\u001b[0m \u001b[32m586.9/586.9 kB\u001b[0m \u001b[31m47.3 MB/s\u001b[0m eta \u001b[36m0:00:00\u001b[0m\n",
      "\u001b[2K   \u001b[90m━━━━━━━━━━━━━━━━━━━━━━━━━━━━━━━━━━━━━━━━\u001b[0m \u001b[32m274.9/274.9 kB\u001b[0m \u001b[31m29.0 MB/s\u001b[0m eta \u001b[36m0:00:00\u001b[0m\n",
      "\u001b[2K   \u001b[90m━━━━━━━━━━━━━━━━━━━━━━━━━━━━━━━━━━━━━━━━\u001b[0m \u001b[32m3.1/3.1 MB\u001b[0m \u001b[31m88.6 MB/s\u001b[0m eta \u001b[36m0:00:00\u001b[0m\n",
      "\u001b[2K   \u001b[90m━━━━━━━━━━━━━━━━━━━━━━━━━━━━━━━━━━━━━━━━\u001b[0m \u001b[32m62.9/62.9 kB\u001b[0m \u001b[31m7.2 MB/s\u001b[0m eta \u001b[36m0:00:00\u001b[0m\n",
      "\u001b[2K   \u001b[90m━━━━━━━━━━━━━━━━━━━━━━━━━━━━━━━━━━━━━━━━\u001b[0m \u001b[32m49.5/49.5 kB\u001b[0m \u001b[31m5.2 MB/s\u001b[0m eta \u001b[36m0:00:00\u001b[0m\n",
      "\u001b[2K   \u001b[90m━━━━━━━━━━━━━━━━━━━━━━━━━━━━━━━━━━━━━━━━\u001b[0m \u001b[32m298.0/298.0 kB\u001b[0m \u001b[31m30.4 MB/s\u001b[0m eta \u001b[36m0:00:00\u001b[0m\n",
      "\u001b[2K   \u001b[90m━━━━━━━━━━━━━━━━━━━━━━━━━━━━━━━━━━━━━━━━\u001b[0m \u001b[32m114.6/114.6 kB\u001b[0m \u001b[31m11.7 MB/s\u001b[0m eta \u001b[36m0:00:00\u001b[0m\n",
      "\u001b[?25h  Building wheel for langdetect (setup.py) ... \u001b[?25l\u001b[?25hdone\n"
     ]
    }
   ],
   "source": [
    "! pip install -qq tiktoken unstructured pandas lancedb"
   ]
  },
  {
   "cell_type": "markdown",
   "id": "d1cdcac3",
   "metadata": {
    "id": "d1cdcac3"
   },
   "source": [
    "First, let's get some setup out of the way. As we're using the OpenAI API, ensure that you've set your key (and organization if needed):"
   ]
  },
  {
   "cell_type": "code",
   "execution_count": 3,
   "id": "58ee1868",
   "metadata": {
    "id": "58ee1868"
   },
   "outputs": [],
   "source": [
    "import openai\n",
    "import os\n",
    "\n",
    "\n",
    "# Configuring the environment variable OPENAI_API_KEY\n",
    "os.environ[\"OPENAI_API_KEY\"] = \"sk-proj-....\"\n",
    "\n",
    "if \"OPENAI_API_KEY\" not in os.environ:\n",
    "    os.environ[\"OPENAI_API_KEY\"] = \"sk-...\"\n",
    "openai.api_key = os.environ[\"OPENAI_API_KEY\"]\n",
    "\n",
    "# assert len(openai.models.list()[\"data\"]) > 0"
   ]
  },
  {
   "cell_type": "markdown",
   "id": "34f524d3",
   "metadata": {
    "id": "34f524d3"
   },
   "source": [
    "\n",
    "We're going to use the power of LangChain to help us create our Q&A bot. It comes with several APIs that can make our development much easier as well as a LanceDB integration for vectorstore."
   ]
  },
  {
   "cell_type": "markdown",
   "id": "5e11ed32-b742-4012-a37d-af54ea2a2715",
   "metadata": {
    "id": "5e11ed32-b742-4012-a37d-af54ea2a2715"
   },
   "source": [
    "### Importing all libraries"
   ]
  },
  {
   "cell_type": "code",
   "execution_count": 6,
   "id": "b55d22f1",
   "metadata": {
    "id": "b55d22f1"
   },
   "outputs": [],
   "source": [
    "import lancedb\n",
    "import re\n",
    "import pickle\n",
    "import requests\n",
    "import zipfile\n",
    "from pathlib import Path\n",
    "\n",
    "from langchain_community.document_loaders import UnstructuredHTMLLoader\n",
    "from langchain.text_splitter import RecursiveCharacterTextSplitter\n",
    "from langchain.vectorstores import LanceDB\n",
    "from langchain_openai import OpenAI, OpenAIEmbeddings\n",
    "from langchain.chains import RetrievalQA"
   ]
  },
  {
   "cell_type": "markdown",
   "id": "56cc6d50",
   "metadata": {
    "id": "56cc6d50"
   },
   "source": [
    "To make this easier, we've downloaded Pandas documentation and stored the raw HTML files for you to download. We'll download them and then use LangChain's HTML document readers to parse them and store them in LanceDB as a vector store, along with relevant metadata.\n",
    "By default we'll use numpy docs as it is much smaller than pandas docs, but you can replace this with your own docs as well."
   ]
  },
  {
   "cell_type": "markdown",
   "id": "6f5c79b5-7a43-403d-b456-9276cfe175b5",
   "metadata": {
    "id": "6f5c79b5-7a43-403d-b456-9276cfe175b5"
   },
   "source": [
    "### Get the data"
   ]
  },
  {
   "cell_type": "code",
   "execution_count": 7,
   "id": "7da77e75",
   "metadata": {
    "id": "7da77e75"
   },
   "outputs": [],
   "source": [
    "# pandas_docs = requests.get(\"https://eto-public.s3.us-west-2.amazonaws.com/datasets/pandas_docs/pandas.documentation.zip\")\n",
    "\n",
    "numpy_docs = requests.get(\"https://numpy.org/doc/1.26/numpy-html.zip\")\n",
    "with open(\"numpy-html.zip\", \"wb\") as f:\n",
    "    f.write(numpy_docs.content)\n",
    "\n",
    "file = zipfile.ZipFile(\"numpy-html.zip\")\n",
    "file = file.extractall(path=\"numpy_docs\")"
   ]
  },
  {
   "cell_type": "markdown",
   "id": "ae42496c",
   "metadata": {
    "id": "ae42496c"
   },
   "source": [
    "We'll create a simple **helper function** that can help to extract metadata, so we can use this downstream when we're wanting to query with filters. In this case, we want to keep the lineage of the uri or path for each document that we process:"
   ]
  },
  {
   "cell_type": "code",
   "execution_count": 8,
   "id": "d171d062",
   "metadata": {
    "id": "d171d062"
   },
   "outputs": [],
   "source": [
    "# Pre-processing and loading the documentation\n",
    "\n",
    "# Next, let's pre-process and load the documentation. To make sure we don't need to do this repeatedly if we were updating code,\n",
    "# we're caching it using pickle so we can retrieve it again (this could take a few minutes to run the first time you do it).\n",
    "# We'll also add some more metadata to the docs here such as the title and version of the code:\n",
    "import re\n",
    "\n",
    "\n",
    "def get_document_title(document_list):\n",
    "    titles = []\n",
    "    for doc in document_list:\n",
    "        if \"metadata\" in doc and \"source\" in doc[\"metadata\"]:\n",
    "            m = str(doc[\"metadata\"][\"source\"])\n",
    "            title = re.findall(\"numpy_docs(.*).html\", m)\n",
    "            print(title)\n",
    "            if title:\n",
    "                titles.append(title[0])\n",
    "            else:\n",
    "                titles.append(\"\")\n",
    "        else:\n",
    "            titles.append(\"\")\n",
    "    return titles"
   ]
  },
  {
   "cell_type": "markdown",
   "id": "2abacdc6-6f40-4d96-99bb-0e4ef18ffdfa",
   "metadata": {
    "id": "2abacdc6-6f40-4d96-99bb-0e4ef18ffdfa"
   },
   "source": [
    "# Pre-processing and loading the documentation\n",
    "\n",
    "Next, let's pre-process and load the documentation. To make sure we don't need to do this repeatedly if we were updating code, we're caching it using pickle so we can retrieve it again (this could take a few minutes to run the first time you do it). We'll also add some more metadata to the docs here such as the title and version of the code:"
   ]
  },
  {
   "cell_type": "markdown",
   "id": "5609932d-21fd-4b39-a3e9-12b709358751",
   "metadata": {
    "id": "5609932d-21fd-4b39-a3e9-12b709358751"
   },
   "source": [
    "If there is some issue with nltk package, kindly try using\n",
    "```\n",
    "import nltk\n",
    "nltk.download('punkt')\n",
    "```\n",
    "or try to manually install the [nltk_data](https://github.com/nltk/nltk_data/tree/gh-pages) package and unzip the **punkt tokenizer** zip and the **averaged_perceptron_tagger** zip file in the packages folder."
   ]
  },
  {
   "cell_type": "code",
   "source": [
    "import nltk\n",
    "\n",
    "nltk.download(\"punkt\")"
   ],
   "metadata": {
    "id": "CMIplDGNSCIq",
    "outputId": "c1971940-748b-44b2-9a89-ce9bcc6f8604",
    "colab": {
     "base_uri": "https://localhost:8080/"
    }
   },
   "id": "CMIplDGNSCIq",
   "execution_count": 11,
   "outputs": [
    {
     "output_type": "stream",
     "name": "stderr",
     "text": [
      "[nltk_data] Downloading package punkt to /root/nltk_data...\n",
      "[nltk_data]   Unzipping tokenizers/punkt.zip.\n"
     ]
    },
    {
     "output_type": "execute_result",
     "data": {
      "text/plain": [
       "True"
      ]
     },
     "metadata": {},
     "execution_count": 11
    }
   ]
  },
  {
   "cell_type": "code",
   "execution_count": 14,
   "id": "f5f683a7-123b-4e9e-a60b-115bc1340a66",
   "metadata": {
    "id": "f5f683a7-123b-4e9e-a60b-115bc1340a66",
    "outputId": "d4952de1-932f-4512-9631-e520e30edd6a",
    "colab": {
     "base_uri": "https://localhost:8080/"
    }
   },
   "outputs": [
    {
     "output_type": "stream",
     "name": "stderr",
     "text": [
      "\r0it [00:00, ?it/s]"
     ]
    },
    {
     "output_type": "stream",
     "name": "stdout",
     "text": [
      "numpy_docs/index.html\n"
     ]
    },
    {
     "output_type": "stream",
     "name": "stderr",
     "text": [
      "\r1it [00:03,  3.51s/it]"
     ]
    },
    {
     "output_type": "stream",
     "name": "stdout",
     "text": [
      "numpy_docs/benchmarking.html\n"
     ]
    },
    {
     "output_type": "stream",
     "name": "stderr",
     "text": [
      "\r2it [00:04,  1.75s/it]"
     ]
    },
    {
     "output_type": "stream",
     "name": "stdout",
     "text": [
      "numpy_docs/release.html\n"
     ]
    },
    {
     "output_type": "stream",
     "name": "stderr",
     "text": [
      "\r3it [00:04,  1.25s/it]"
     ]
    },
    {
     "output_type": "stream",
     "name": "stdout",
     "text": [
      "numpy_docs/genindex.html\n"
     ]
    },
    {
     "output_type": "stream",
     "name": "stderr",
     "text": [
      "6it [00:05,  2.05it/s]"
     ]
    },
    {
     "output_type": "stream",
     "name": "stdout",
     "text": [
      "numpy_docs/license.html\n",
      "numpy_docs/glossary.html\n",
      "numpy_docs/search.html\n",
      "numpy_docs/getting_started.html\n",
      "numpy_docs/release/1.18.2-notes.html\n"
     ]
    },
    {
     "output_type": "stream",
     "name": "stderr",
     "text": [
      "10it [00:05,  3.73it/s]"
     ]
    },
    {
     "output_type": "stream",
     "name": "stdout",
     "text": [
      "numpy_docs/release/1.19.1-notes.html\n",
      "numpy_docs/release/1.11.0-notes.html\n"
     ]
    },
    {
     "output_type": "stream",
     "name": "stderr",
     "text": [
      "\r11it [00:06,  3.71it/s]"
     ]
    },
    {
     "output_type": "stream",
     "name": "stdout",
     "text": [
      "numpy_docs/release/1.16.2-notes.html\n"
     ]
    },
    {
     "output_type": "stream",
     "name": "stderr",
     "text": [
      "\r12it [00:06,  3.08it/s]"
     ]
    },
    {
     "output_type": "stream",
     "name": "stdout",
     "text": [
      "numpy_docs/release/1.17.0-notes.html\n"
     ]
    },
    {
     "output_type": "stream",
     "name": "stderr",
     "text": [
      "\r13it [00:07,  2.91it/s]"
     ]
    },
    {
     "output_type": "stream",
     "name": "stdout",
     "text": [
      "numpy_docs/release/1.21.3-notes.html\n",
      "numpy_docs/release/1.21.5-notes.html\n"
     ]
    },
    {
     "output_type": "stream",
     "name": "stderr",
     "text": [
      "16it [00:07,  3.53it/s]"
     ]
    },
    {
     "output_type": "stream",
     "name": "stdout",
     "text": [
      "numpy_docs/release/1.3.0-notes.html\n",
      "numpy_docs/release/1.12.0-notes.html\n"
     ]
    },
    {
     "output_type": "stream",
     "name": "stderr",
     "text": [
      "\r17it [00:08,  3.36it/s]"
     ]
    },
    {
     "output_type": "stream",
     "name": "stdout",
     "text": [
      "numpy_docs/release/1.15.3-notes.html\n"
     ]
    },
    {
     "output_type": "stream",
     "name": "stderr",
     "text": [
      "\r18it [00:08,  2.98it/s]"
     ]
    },
    {
     "output_type": "stream",
     "name": "stdout",
     "text": [
      "numpy_docs/release/1.10.0-notes.html\n"
     ]
    },
    {
     "output_type": "stream",
     "name": "stderr",
     "text": [
      "\r19it [00:08,  3.08it/s]"
     ]
    },
    {
     "output_type": "stream",
     "name": "stdout",
     "text": [
      "numpy_docs/release/1.23.0-notes.html\n"
     ]
    },
    {
     "output_type": "stream",
     "name": "stderr",
     "text": [
      "21it [00:10,  2.41it/s]"
     ]
    },
    {
     "output_type": "stream",
     "name": "stdout",
     "text": [
      "numpy_docs/release/1.24.2-notes.html\n",
      "numpy_docs/release/1.13.1-notes.html\n"
     ]
    },
    {
     "output_type": "stream",
     "name": "stderr",
     "text": [
      "\r22it [00:10,  3.06it/s]"
     ]
    },
    {
     "output_type": "stream",
     "name": "stdout",
     "text": [
      "numpy_docs/release/1.23.4-notes.html\n",
      "numpy_docs/release/1.19.2-notes.html\n"
     ]
    },
    {
     "output_type": "stream",
     "name": "stderr",
     "text": [
      "\r24it [00:10,  3.31it/s]"
     ]
    },
    {
     "output_type": "stream",
     "name": "stdout",
     "text": [
      "numpy_docs/release/1.7.1-notes.html\n"
     ]
    },
    {
     "output_type": "stream",
     "name": "stderr",
     "text": [
      "26it [00:11,  3.58it/s]"
     ]
    },
    {
     "output_type": "stream",
     "name": "stdout",
     "text": [
      "numpy_docs/release/1.22.1-notes.html\n",
      "numpy_docs/release/1.24.3-notes.html\n"
     ]
    },
    {
     "output_type": "stream",
     "name": "stderr",
     "text": [
      "\r27it [00:11,  3.10it/s]"
     ]
    },
    {
     "output_type": "stream",
     "name": "stdout",
     "text": [
      "numpy_docs/release/1.22.4-notes.html\n"
     ]
    },
    {
     "output_type": "stream",
     "name": "stderr",
     "text": [
      "\r28it [00:12,  2.76it/s]"
     ]
    },
    {
     "output_type": "stream",
     "name": "stdout",
     "text": [
      "numpy_docs/release/1.26.0-notes.html\n"
     ]
    },
    {
     "output_type": "stream",
     "name": "stderr",
     "text": [
      "30it [00:12,  3.34it/s]"
     ]
    },
    {
     "output_type": "stream",
     "name": "stdout",
     "text": [
      "numpy_docs/release/1.7.0-notes.html\n"
     ]
    },
    {
     "output_type": "stream",
     "name": "stderr",
     "text": [
      "\r31it [00:12,  4.11it/s]"
     ]
    },
    {
     "output_type": "stream",
     "name": "stdout",
     "text": [
      "numpy_docs/release/1.21.2-notes.html\n",
      "numpy_docs/release/1.8.2-notes.html\n",
      "numpy_docs/release/1.11.3-notes.html\n"
     ]
    },
    {
     "output_type": "stream",
     "name": "stderr",
     "text": [
      "\r33it [00:13,  3.82it/s]"
     ]
    },
    {
     "output_type": "stream",
     "name": "stdout",
     "text": [
      "numpy_docs/release/1.14.0-notes.html\n"
     ]
    },
    {
     "output_type": "stream",
     "name": "stderr",
     "text": [
      "\r34it [00:14,  2.09it/s]"
     ]
    },
    {
     "output_type": "stream",
     "name": "stdout",
     "text": [
      "numpy_docs/release/template.html\n",
      "numpy_docs/release/1.14.3-notes.html\n"
     ]
    },
    {
     "output_type": "stream",
     "name": "stderr",
     "text": [
      "\r36it [00:14,  2.69it/s]"
     ]
    },
    {
     "output_type": "stream",
     "name": "stdout",
     "text": [
      "numpy_docs/release/1.25.2-notes.html\n"
     ]
    },
    {
     "output_type": "stream",
     "name": "stderr",
     "text": [
      "\r37it [00:15,  2.11it/s]"
     ]
    },
    {
     "output_type": "stream",
     "name": "stdout",
     "text": [
      "numpy_docs/release/1.19.0-notes.html\n"
     ]
    },
    {
     "output_type": "stream",
     "name": "stderr",
     "text": [
      "\r38it [00:16,  2.02it/s]"
     ]
    },
    {
     "output_type": "stream",
     "name": "stdout",
     "text": [
      "numpy_docs/release/1.18.5-notes.html\n"
     ]
    },
    {
     "output_type": "stream",
     "name": "stderr",
     "text": [
      "\r39it [00:17,  1.75it/s]"
     ]
    },
    {
     "output_type": "stream",
     "name": "stdout",
     "text": [
      "numpy_docs/release/1.21.6-notes.html\n",
      "numpy_docs/release/1.17.3-notes.html\n"
     ]
    },
    {
     "output_type": "stream",
     "name": "stderr",
     "text": [
      "42it [00:18,  2.44it/s]"
     ]
    },
    {
     "output_type": "stream",
     "name": "stdout",
     "text": [
      "numpy_docs/release/1.15.1-notes.html\n",
      "numpy_docs/release/1.19.3-notes.html\n"
     ]
    },
    {
     "output_type": "stream",
     "name": "stderr",
     "text": [
      "45it [00:18,  3.61it/s]"
     ]
    },
    {
     "output_type": "stream",
     "name": "stdout",
     "text": [
      "numpy_docs/release/1.10.1-notes.html\n",
      "numpy_docs/release/1.21.1-notes.html\n",
      "numpy_docs/release/1.9.1-notes.html\n",
      "numpy_docs/release/1.15.0-notes.html\n"
     ]
    },
    {
     "output_type": "stream",
     "name": "stderr",
     "text": [
      "48it [00:19,  4.31it/s]"
     ]
    },
    {
     "output_type": "stream",
     "name": "stdout",
     "text": [
      "numpy_docs/release/1.6.0-notes.html\n",
      "numpy_docs/release/1.11.2-notes.html\n"
     ]
    },
    {
     "output_type": "stream",
     "name": "stderr",
     "text": [
      "\r49it [00:19,  4.92it/s]"
     ]
    },
    {
     "output_type": "stream",
     "name": "stdout",
     "text": [
      "numpy_docs/release/1.20.0-notes.html\n"
     ]
    },
    {
     "output_type": "stream",
     "name": "stderr",
     "text": [
      "51it [00:19,  4.07it/s]"
     ]
    },
    {
     "output_type": "stream",
     "name": "stdout",
     "text": [
      "numpy_docs/release/1.17.1-notes.html\n",
      "numpy_docs/release/1.9.0-notes.html\n"
     ]
    },
    {
     "output_type": "stream",
     "name": "stderr",
     "text": [
      "\r52it [00:20,  3.83it/s]"
     ]
    },
    {
     "output_type": "stream",
     "name": "stdout",
     "text": [
      "numpy_docs/release/1.14.4-notes.html\n"
     ]
    },
    {
     "output_type": "stream",
     "name": "stderr",
     "text": [
      "\r53it [00:20,  3.15it/s]"
     ]
    },
    {
     "output_type": "stream",
     "name": "stdout",
     "text": [
      "numpy_docs/release/1.22.3-notes.html\n",
      "numpy_docs/release/1.17.5-notes.html\n"
     ]
    },
    {
     "output_type": "stream",
     "name": "stderr",
     "text": [
      "\r55it [00:21,  3.42it/s]"
     ]
    },
    {
     "output_type": "stream",
     "name": "stdout",
     "text": [
      "numpy_docs/release/1.19.5-notes.html\n",
      "numpy_docs/release/1.25.0-notes.html\n"
     ]
    },
    {
     "output_type": "stream",
     "name": "stderr",
     "text": [
      "59it [00:22,  2.96it/s]"
     ]
    },
    {
     "output_type": "stream",
     "name": "stdout",
     "text": [
      "numpy_docs/release/1.23.3-notes.html\n",
      "numpy_docs/release/1.23.2-notes.html\n",
      "numpy_docs/release/1.16.5-notes.html\n"
     ]
    },
    {
     "output_type": "stream",
     "name": "stderr",
     "text": [
      "\r60it [00:23,  2.74it/s]"
     ]
    },
    {
     "output_type": "stream",
     "name": "stdout",
     "text": [
      "numpy_docs/release/1.17.2-notes.html\n"
     ]
    },
    {
     "output_type": "stream",
     "name": "stderr",
     "text": [
      "\r61it [00:23,  2.62it/s]"
     ]
    },
    {
     "output_type": "stream",
     "name": "stdout",
     "text": [
      "numpy_docs/release/1.8.0-notes.html\n"
     ]
    },
    {
     "output_type": "stream",
     "name": "stderr",
     "text": [
      "64it [00:24,  4.16it/s]"
     ]
    },
    {
     "output_type": "stream",
     "name": "stdout",
     "text": [
      "numpy_docs/release/1.18.4-notes.html\n",
      "numpy_docs/release/1.16.3-notes.html\n",
      "numpy_docs/release/1.22.2-notes.html\n"
     ]
    },
    {
     "output_type": "stream",
     "name": "stderr",
     "text": [
      "\r65it [00:24,  4.71it/s]"
     ]
    },
    {
     "output_type": "stream",
     "name": "stdout",
     "text": [
      "numpy_docs/release/1.6.1-notes.html\n"
     ]
    },
    {
     "output_type": "stream",
     "name": "stderr",
     "text": [
      "67it [00:25,  4.26it/s]"
     ]
    },
    {
     "output_type": "stream",
     "name": "stdout",
     "text": [
      "numpy_docs/release/1.14.1-notes.html\n",
      "numpy_docs/release/1.13.0-notes.html\n"
     ]
    },
    {
     "output_type": "stream",
     "name": "stderr",
     "text": [
      "\r68it [00:25,  3.63it/s]"
     ]
    },
    {
     "output_type": "stream",
     "name": "stdout",
     "text": [
      "numpy_docs/release/1.22.0-notes.html\n"
     ]
    },
    {
     "output_type": "stream",
     "name": "stderr",
     "text": [
      "\r69it [00:26,  1.64it/s]"
     ]
    },
    {
     "output_type": "stream",
     "name": "stdout",
     "text": [
      "numpy_docs/release/1.15.4-notes.html\n",
      "numpy_docs/release/1.8.1-notes.html\n"
     ]
    },
    {
     "output_type": "stream",
     "name": "stderr",
     "text": [
      "72it [00:27,  3.12it/s]"
     ]
    },
    {
     "output_type": "stream",
     "name": "stdout",
     "text": [
      "numpy_docs/release/1.16.1-notes.html\n",
      "numpy_docs/release/1.23.1-notes.html\n",
      "numpy_docs/release/1.6.2-notes.html\n"
     ]
    },
    {
     "output_type": "stream",
     "name": "stderr",
     "text": [
      "75it [00:28,  3.40it/s]"
     ]
    },
    {
     "output_type": "stream",
     "name": "stdout",
     "text": [
      "numpy_docs/release/1.17.4-notes.html\n",
      "numpy_docs/release/1.10.2-notes.html\n"
     ]
    },
    {
     "output_type": "stream",
     "name": "stderr",
     "text": [
      "\r76it [00:28,  3.13it/s]"
     ]
    },
    {
     "output_type": "stream",
     "name": "stdout",
     "text": [
      "numpy_docs/release/1.5.0-notes.html\n"
     ]
    },
    {
     "output_type": "stream",
     "name": "stderr",
     "text": [
      "\r77it [00:29,  1.89it/s]"
     ]
    },
    {
     "output_type": "stream",
     "name": "stdout",
     "text": [
      "numpy_docs/release/1.15.2-notes.html\n"
     ]
    },
    {
     "output_type": "stream",
     "name": "stderr",
     "text": [
      "\r78it [00:30,  1.63it/s]"
     ]
    },
    {
     "output_type": "stream",
     "name": "stdout",
     "text": [
      "numpy_docs/release/1.16.0-notes.html\n"
     ]
    },
    {
     "output_type": "stream",
     "name": "stderr",
     "text": [
      "\r79it [00:31,  1.63it/s]"
     ]
    },
    {
     "output_type": "stream",
     "name": "stdout",
     "text": [
      "numpy_docs/release/1.23.5-notes.html\n"
     ]
    },
    {
     "output_type": "stream",
     "name": "stderr",
     "text": [
      "\r80it [00:31,  1.78it/s]"
     ]
    },
    {
     "output_type": "stream",
     "name": "stdout",
     "text": [
      "numpy_docs/release/1.18.1-notes.html\n"
     ]
    },
    {
     "output_type": "stream",
     "name": "stderr",
     "text": [
      "82it [00:32,  2.42it/s]"
     ]
    },
    {
     "output_type": "stream",
     "name": "stdout",
     "text": [
      "numpy_docs/release/1.24.1-notes.html\n",
      "numpy_docs/release/1.19.4-notes.html\n"
     ]
    },
    {
     "output_type": "stream",
     "name": "stderr",
     "text": [
      "84it [00:32,  3.04it/s]"
     ]
    },
    {
     "output_type": "stream",
     "name": "stdout",
     "text": [
      "numpy_docs/release/1.7.2-notes.html\n",
      "numpy_docs/release/1.16.4-notes.html\n"
     ]
    },
    {
     "output_type": "stream",
     "name": "stderr",
     "text": [
      "\r85it [00:33,  2.50it/s]"
     ]
    },
    {
     "output_type": "stream",
     "name": "stdout",
     "text": [
      "numpy_docs/release/1.9.2-notes.html\n",
      "numpy_docs/release/1.12.1-notes.html\n"
     ]
    },
    {
     "output_type": "stream",
     "name": "stderr",
     "text": [
      "\r87it [00:33,  3.05it/s]"
     ]
    },
    {
     "output_type": "stream",
     "name": "stdout",
     "text": [
      "numpy_docs/release/1.14.5-notes.html\n"
     ]
    },
    {
     "output_type": "stream",
     "name": "stderr",
     "text": [
      "89it [00:34,  3.48it/s]"
     ]
    },
    {
     "output_type": "stream",
     "name": "stdout",
     "text": [
      "numpy_docs/release/1.20.2-notes.html\n",
      "numpy_docs/release/1.24.0-notes.html\n"
     ]
    },
    {
     "output_type": "stream",
     "name": "stderr",
     "text": [
      "\r90it [00:34,  3.27it/s]"
     ]
    },
    {
     "output_type": "stream",
     "name": "stdout",
     "text": [
      "numpy_docs/release/1.20.1-notes.html\n"
     ]
    },
    {
     "output_type": "stream",
     "name": "stderr",
     "text": [
      "\r91it [00:35,  2.84it/s]"
     ]
    },
    {
     "output_type": "stream",
     "name": "stdout",
     "text": [
      "numpy_docs/release/1.21.0-notes.html\n"
     ]
    },
    {
     "output_type": "stream",
     "name": "stderr",
     "text": [
      "\r92it [00:35,  2.84it/s]"
     ]
    },
    {
     "output_type": "stream",
     "name": "stdout",
     "text": [
      "numpy_docs/release/1.25.1-notes.html\n"
     ]
    },
    {
     "output_type": "stream",
     "name": "stderr",
     "text": [
      "94it [00:35,  3.35it/s]"
     ]
    },
    {
     "output_type": "stream",
     "name": "stdout",
     "text": [
      "numpy_docs/release/1.16.6-notes.html\n",
      "numpy_docs/release/1.14.6-notes.html\n"
     ]
    },
    {
     "output_type": "stream",
     "name": "stderr",
     "text": [
      "\r95it [00:36,  2.94it/s]"
     ]
    },
    {
     "output_type": "stream",
     "name": "stdout",
     "text": [
      "numpy_docs/release/1.14.2-notes.html\n"
     ]
    },
    {
     "output_type": "stream",
     "name": "stderr",
     "text": [
      "98it [00:36,  4.16it/s]"
     ]
    },
    {
     "output_type": "stream",
     "name": "stdout",
     "text": [
      "numpy_docs/release/1.21.4-notes.html\n",
      "numpy_docs/release/1.13.3-notes.html\n",
      "numpy_docs/release/1.18.0-notes.html\n"
     ]
    },
    {
     "output_type": "stream",
     "name": "stderr",
     "text": [
      "\r99it [00:37,  3.80it/s]"
     ]
    },
    {
     "output_type": "stream",
     "name": "stdout",
     "text": [
      "numpy_docs/release/1.20.3-notes.html\n"
     ]
    },
    {
     "output_type": "stream",
     "name": "stderr",
     "text": [
      "\r100it [00:37,  3.24it/s]"
     ]
    },
    {
     "output_type": "stream",
     "name": "stdout",
     "text": [
      "numpy_docs/release/1.11.1-notes.html\n"
     ]
    },
    {
     "output_type": "stream",
     "name": "stderr",
     "text": [
      "\r101it [00:38,  2.83it/s]"
     ]
    },
    {
     "output_type": "stream",
     "name": "stdout",
     "text": [
      "numpy_docs/release/1.10.4-notes.html\n"
     ]
    },
    {
     "output_type": "stream",
     "name": "stderr",
     "text": [
      "104it [00:38,  4.09it/s]"
     ]
    },
    {
     "output_type": "stream",
     "name": "stdout",
     "text": [
      "numpy_docs/release/1.13.2-notes.html\n",
      "numpy_docs/release/1.18.3-notes.html\n",
      "numpy_docs/release/1.4.0-notes.html\n"
     ]
    },
    {
     "output_type": "stream",
     "name": "stderr",
     "text": [
      "\r105it [00:39,  4.31it/s]"
     ]
    },
    {
     "output_type": "stream",
     "name": "stdout",
     "text": [
      "numpy_docs/release/1.10.3-notes.html\n",
      "numpy_docs/f2py/index.html\n"
     ]
    },
    {
     "output_type": "stream",
     "name": "stderr",
     "text": [
      "\r107it [00:39,  4.49it/s]"
     ]
    },
    {
     "output_type": "stream",
     "name": "stdout",
     "text": [
      "numpy_docs/f2py/python-usage.html\n"
     ]
    },
    {
     "output_type": "stream",
     "name": "stderr",
     "text": [
      "\r108it [00:40,  1.92it/s]"
     ]
    },
    {
     "output_type": "stream",
     "name": "stdout",
     "text": [
      "numpy_docs/f2py/f2py-reference.html\n",
      "numpy_docs/f2py/advanced.html\n"
     ]
    },
    {
     "output_type": "stream",
     "name": "stderr",
     "text": [
      "111it [00:42,  2.23it/s]"
     ]
    },
    {
     "output_type": "stream",
     "name": "stdout",
     "text": [
      "numpy_docs/f2py/f2py-testing.html\n",
      "numpy_docs/f2py/f2py-examples.html\n"
     ]
    },
    {
     "output_type": "stream",
     "name": "stderr",
     "text": [
      "\r112it [00:43,  1.38it/s]"
     ]
    },
    {
     "output_type": "stream",
     "name": "stdout",
     "text": [
      "numpy_docs/f2py/f2py-user.html\n",
      "numpy_docs/f2py/f2py.getting-started.html\n"
     ]
    },
    {
     "output_type": "stream",
     "name": "stderr",
     "text": [
      "\r114it [00:44,  1.90it/s]"
     ]
    },
    {
     "output_type": "stream",
     "name": "stdout",
     "text": [
      "numpy_docs/f2py/usage.html\n"
     ]
    },
    {
     "output_type": "stream",
     "name": "stderr",
     "text": [
      "\r115it [00:45,  1.54it/s]"
     ]
    },
    {
     "output_type": "stream",
     "name": "stdout",
     "text": [
      "numpy_docs/f2py/signature-file.html\n"
     ]
    },
    {
     "output_type": "stream",
     "name": "stderr",
     "text": [
      "118it [00:45,  2.76it/s]"
     ]
    },
    {
     "output_type": "stream",
     "name": "stdout",
     "text": [
      "numpy_docs/f2py/buildtools/index.html\n",
      "numpy_docs/f2py/buildtools/distutils.html\n",
      "numpy_docs/f2py/buildtools/meson.html\n"
     ]
    },
    {
     "output_type": "stream",
     "name": "stderr",
     "text": [
      "\r119it [00:45,  3.27it/s]"
     ]
    },
    {
     "output_type": "stream",
     "name": "stdout",
     "text": [
      "numpy_docs/f2py/buildtools/skbuild.html\n"
     ]
    },
    {
     "output_type": "stream",
     "name": "stderr",
     "text": [
      "\r120it [00:46,  2.60it/s]"
     ]
    },
    {
     "output_type": "stream",
     "name": "stdout",
     "text": [
      "numpy_docs/f2py/buildtools/cmake.html\n",
      "numpy_docs/f2py/windows/index.html\n"
     ]
    },
    {
     "output_type": "stream",
     "name": "stderr",
     "text": [
      "\r122it [00:47,  2.94it/s]"
     ]
    },
    {
     "output_type": "stream",
     "name": "stdout",
     "text": [
      "numpy_docs/f2py/windows/msys2.html\n",
      "numpy_docs/f2py/windows/pgi.html\n"
     ]
    },
    {
     "output_type": "stream",
     "name": "stderr",
     "text": [
      "127it [00:47,  5.74it/s]"
     ]
    },
    {
     "output_type": "stream",
     "name": "stdout",
     "text": [
      "numpy_docs/f2py/windows/conda.html\n",
      "numpy_docs/f2py/windows/intel.html\n",
      "numpy_docs/user/index.html\n",
      "numpy_docs/user/byteswapping.html\n",
      "numpy_docs/user/how-to-verify-bug.html\n"
     ]
    },
    {
     "output_type": "stream",
     "name": "stderr",
     "text": [
      "131it [00:48,  5.42it/s]"
     ]
    },
    {
     "output_type": "stream",
     "name": "stdout",
     "text": [
      "numpy_docs/user/basics.copies.html\n",
      "numpy_docs/user/whatisnumpy.html\n",
      "numpy_docs/user/c-info.how-to-extend.html\n"
     ]
    },
    {
     "output_type": "stream",
     "name": "stderr",
     "text": [
      "\r132it [00:48,  5.04it/s]"
     ]
    },
    {
     "output_type": "stream",
     "name": "stdout",
     "text": [
      "numpy_docs/user/numpy-for-matlab-users.html\n"
     ]
    },
    {
     "output_type": "stream",
     "name": "stderr",
     "text": [
      "\r133it [00:49,  4.50it/s]"
     ]
    },
    {
     "output_type": "stream",
     "name": "stdout",
     "text": [
      "numpy_docs/user/basics.subclassing.html\n"
     ]
    },
    {
     "output_type": "stream",
     "name": "stderr",
     "text": [
      "\r134it [00:49,  3.61it/s]"
     ]
    },
    {
     "output_type": "stream",
     "name": "stdout",
     "text": [
      "numpy_docs/user/c-info.ufunc-tutorial.html\n"
     ]
    },
    {
     "output_type": "stream",
     "name": "stderr",
     "text": [
      "\r135it [00:50,  2.43it/s]"
     ]
    },
    {
     "output_type": "stream",
     "name": "stdout",
     "text": [
      "numpy_docs/user/c-info.python-as-glue.html\n"
     ]
    },
    {
     "output_type": "stream",
     "name": "stderr",
     "text": [
      "\r136it [00:50,  2.40it/s]"
     ]
    },
    {
     "output_type": "stream",
     "name": "stdout",
     "text": [
      "numpy_docs/user/building.html\n"
     ]
    },
    {
     "output_type": "stream",
     "name": "stderr",
     "text": [
      "\r137it [00:51,  2.38it/s]"
     ]
    },
    {
     "output_type": "stream",
     "name": "stdout",
     "text": [
      "numpy_docs/user/theory.broadcasting.html\n",
      "numpy_docs/user/basics.interoperability.html\n"
     ]
    },
    {
     "output_type": "stream",
     "name": "stderr",
     "text": [
      "\r139it [00:51,  3.15it/s]"
     ]
    },
    {
     "output_type": "stream",
     "name": "stdout",
     "text": [
      "numpy_docs/user/how-to-io.html\n"
     ]
    },
    {
     "output_type": "stream",
     "name": "stderr",
     "text": [
      "\r140it [00:51,  3.39it/s]"
     ]
    },
    {
     "output_type": "stream",
     "name": "stdout",
     "text": [
      "numpy_docs/user/howtos_index.html\n",
      "numpy_docs/user/c-info.html\n",
      "numpy_docs/user/basics.types.html\n"
     ]
    },
    {
     "output_type": "stream",
     "name": "stderr",
     "text": [
      "\r143it [00:52,  5.39it/s]"
     ]
    },
    {
     "output_type": "stream",
     "name": "stdout",
     "text": [
      "numpy_docs/user/basics.io.genfromtxt.html\n"
     ]
    },
    {
     "output_type": "stream",
     "name": "stderr",
     "text": [
      "145it [00:53,  2.90it/s]"
     ]
    },
    {
     "output_type": "stream",
     "name": "stdout",
     "text": [
      "numpy_docs/user/misc.html\n",
      "numpy_docs/user/basics.creation.html\n"
     ]
    },
    {
     "output_type": "stream",
     "name": "stderr",
     "text": [
      "\r146it [00:54,  1.90it/s]"
     ]
    },
    {
     "output_type": "stream",
     "name": "stdout",
     "text": [
      "numpy_docs/user/quickstart.html\n"
     ]
    },
    {
     "output_type": "stream",
     "name": "stderr",
     "text": [
      "\r147it [00:55,  1.47it/s]"
     ]
    },
    {
     "output_type": "stream",
     "name": "stdout",
     "text": [
      "numpy_docs/user/basics.html\n",
      "numpy_docs/user/troubleshooting-importerror.html\n"
     ]
    },
    {
     "output_type": "stream",
     "name": "stderr",
     "text": [
      "\r149it [00:56,  2.17it/s]"
     ]
    },
    {
     "output_type": "stream",
     "name": "stdout",
     "text": [
      "numpy_docs/user/absolute_beginners.html\n"
     ]
    },
    {
     "output_type": "stream",
     "name": "stderr",
     "text": [
      "\r150it [00:57,  1.45it/s]"
     ]
    },
    {
     "output_type": "stream",
     "name": "stdout",
     "text": [
      "numpy_docs/user/c-info.beyond-basics.html\n"
     ]
    },
    {
     "output_type": "stream",
     "name": "stderr",
     "text": [
      "\r151it [00:58,  1.26it/s]"
     ]
    },
    {
     "output_type": "stream",
     "name": "stdout",
     "text": [
      "numpy_docs/user/how-to-how-to.html\n"
     ]
    },
    {
     "output_type": "stream",
     "name": "stderr",
     "text": [
      "\r152it [00:59,  1.41it/s]"
     ]
    },
    {
     "output_type": "stream",
     "name": "stdout",
     "text": [
      "numpy_docs/user/basics.dispatch.html\n"
     ]
    },
    {
     "output_type": "stream",
     "name": "stderr",
     "text": [
      "154it [00:59,  2.06it/s]"
     ]
    },
    {
     "output_type": "stream",
     "name": "stdout",
     "text": [
      "numpy_docs/user/basics.broadcasting.html\n",
      "numpy_docs/user/install.html\n",
      "numpy_docs/user/basics.indexing.html\n"
     ]
    },
    {
     "output_type": "stream",
     "name": "stderr",
     "text": [
      "\r156it [01:00,  2.67it/s]"
     ]
    },
    {
     "output_type": "stream",
     "name": "stdout",
     "text": [
      "numpy_docs/user/how-to-index.html\n"
     ]
    },
    {
     "output_type": "stream",
     "name": "stderr",
     "text": [
      "\r157it [01:01,  1.80it/s]"
     ]
    },
    {
     "output_type": "stream",
     "name": "stdout",
     "text": [
      "numpy_docs/user/basics.rec.html\n"
     ]
    },
    {
     "output_type": "stream",
     "name": "stderr",
     "text": [
      "160it [01:01,  2.67it/s]"
     ]
    },
    {
     "output_type": "stream",
     "name": "stdout",
     "text": [
      "numpy_docs/user/basics.io.html\n",
      "numpy_docs/user/basics.ufuncs.html\n"
     ]
    },
    {
     "output_type": "stream",
     "name": "stderr",
     "text": [
      "\r161it [01:02,  3.15it/s]"
     ]
    },
    {
     "output_type": "stream",
     "name": "stdout",
     "text": [
      "numpy_docs/user/how-to-partition.html\n",
      "numpy_docs/dev/index.html\n"
     ]
    },
    {
     "output_type": "stream",
     "name": "stderr",
     "text": [
      "\r162it [01:02,  3.43it/s]"
     ]
    },
    {
     "output_type": "stream",
     "name": "stdout",
     "text": [
      "numpy_docs/dev/development_workflow.html\n"
     ]
    },
    {
     "output_type": "stream",
     "name": "stderr",
     "text": [
      "\r163it [01:02,  3.16it/s]"
     ]
    },
    {
     "output_type": "stream",
     "name": "stdout",
     "text": [
      "numpy_docs/dev/howto_build_docs.html\n"
     ]
    },
    {
     "output_type": "stream",
     "name": "stderr",
     "text": [
      "166it [01:03,  4.39it/s]"
     ]
    },
    {
     "output_type": "stream",
     "name": "stdout",
     "text": [
      "numpy_docs/dev/underthehood.html\n",
      "numpy_docs/dev/depending_on_numpy.html\n",
      "numpy_docs/dev/internals.code-explanations.html\n"
     ]
    },
    {
     "output_type": "stream",
     "name": "stderr",
     "text": [
      "168it [01:03,  4.66it/s]"
     ]
    },
    {
     "output_type": "stream",
     "name": "stdout",
     "text": [
      "numpy_docs/dev/reviewer_guidelines.html\n",
      "numpy_docs/dev/alignment.html\n"
     ]
    },
    {
     "output_type": "stream",
     "name": "stderr",
     "text": [
      "\r169it [01:03,  5.40it/s]"
     ]
    },
    {
     "output_type": "stream",
     "name": "stdout",
     "text": [
      "numpy_docs/dev/howto-docs.html\n"
     ]
    },
    {
     "output_type": "stream",
     "name": "stderr",
     "text": [
      "\r170it [01:04,  4.71it/s]"
     ]
    },
    {
     "output_type": "stream",
     "name": "stdout",
     "text": [
      "numpy_docs/dev/releasing.html\n"
     ]
    },
    {
     "output_type": "stream",
     "name": "stderr",
     "text": [
      "\r171it [01:04,  3.81it/s]"
     ]
    },
    {
     "output_type": "stream",
     "name": "stdout",
     "text": [
      "numpy_docs/dev/development_advanced_debugging.html\n"
     ]
    },
    {
     "output_type": "stream",
     "name": "stderr",
     "text": [
      "\r172it [01:04,  2.99it/s]"
     ]
    },
    {
     "output_type": "stream",
     "name": "stdout",
     "text": [
      "numpy_docs/dev/development_environment.html\n"
     ]
    },
    {
     "output_type": "stream",
     "name": "stderr",
     "text": [
      "174it [01:05,  3.97it/s]"
     ]
    },
    {
     "output_type": "stream",
     "name": "stdout",
     "text": [
      "numpy_docs/dev/internals.html\n",
      "numpy_docs/dev/gitwash/index.html\n"
     ]
    },
    {
     "output_type": "stream",
     "name": "stderr",
     "text": [
      "\r175it [01:05,  3.77it/s]"
     ]
    },
    {
     "output_type": "stream",
     "name": "stdout",
     "text": [
      "numpy_docs/dev/gitwash/git_resources.html\n"
     ]
    },
    {
     "output_type": "stream",
     "name": "stderr",
     "text": [
      "\r176it [01:06,  3.39it/s]"
     ]
    },
    {
     "output_type": "stream",
     "name": "stdout",
     "text": [
      "numpy_docs/dev/gitwash/following_latest.html\n"
     ]
    },
    {
     "output_type": "stream",
     "name": "stderr",
     "text": [
      "\r177it [01:06,  3.33it/s]"
     ]
    },
    {
     "output_type": "stream",
     "name": "stdout",
     "text": [
      "numpy_docs/dev/gitwash/git_intro.html\n",
      "numpy_docs/dev/gitwash/dot2_dot3.html\n"
     ]
    },
    {
     "output_type": "stream",
     "name": "stderr",
     "text": [
      "\r179it [01:06,  4.33it/s]"
     ]
    },
    {
     "output_type": "stream",
     "name": "stdout",
     "text": [
      "numpy_docs/dev/gitwash/configure_git.html\n"
     ]
    },
    {
     "output_type": "stream",
     "name": "stderr",
     "text": [
      "181it [01:07,  3.85it/s]"
     ]
    },
    {
     "output_type": "stream",
     "name": "stdout",
     "text": [
      "numpy_docs/dev/gitwash/development_setup.html\n",
      "numpy_docs/dev/governance/index.html\n",
      "numpy_docs/dev/governance/governance.html\n"
     ]
    },
    {
     "output_type": "stream",
     "name": "stderr",
     "text": [
      "\r183it [01:07,  5.04it/s]"
     ]
    },
    {
     "output_type": "stream",
     "name": "stdout",
     "text": [
      "numpy_docs/reference/routines.html\n",
      "numpy_docs/reference/index.html\n"
     ]
    },
    {
     "output_type": "stream",
     "name": "stderr",
     "text": [
      "\r185it [01:08,  4.07it/s]"
     ]
    },
    {
     "output_type": "stream",
     "name": "stdout",
     "text": [
      "numpy_docs/reference/routines.testing.overrides.html\n",
      "numpy_docs/reference/routines.polynomials.classes.html\n"
     ]
    },
    {
     "output_type": "stream",
     "name": "stderr",
     "text": [
      "\r187it [01:08,  4.31it/s]"
     ]
    },
    {
     "output_type": "stream",
     "name": "stdout",
     "text": [
      "numpy_docs/reference/routines.polynomials.hermite.html\n"
     ]
    },
    {
     "output_type": "stream",
     "name": "stderr",
     "text": [
      "189it [01:08,  4.49it/s]"
     ]
    },
    {
     "output_type": "stream",
     "name": "stdout",
     "text": [
      "numpy_docs/reference/routines.polynomials.hermite_e.html\n",
      "numpy_docs/reference/routines.polynomials.poly1d.html\n"
     ]
    },
    {
     "output_type": "stream",
     "name": "stderr",
     "text": [
      "\r190it [01:09,  4.84it/s]"
     ]
    },
    {
     "output_type": "stream",
     "name": "stdout",
     "text": [
      "numpy_docs/reference/routines.polynomials.chebyshev.html\n"
     ]
    },
    {
     "output_type": "stream",
     "name": "stderr",
     "text": [
      "\r191it [01:09,  4.58it/s]"
     ]
    },
    {
     "output_type": "stream",
     "name": "stdout",
     "text": [
      "numpy_docs/reference/routines.linalg.html\n"
     ]
    },
    {
     "output_type": "stream",
     "name": "stderr",
     "text": [
      "\r192it [01:09,  4.62it/s]"
     ]
    },
    {
     "output_type": "stream",
     "name": "stdout",
     "text": [
      "numpy_docs/reference/routines.polynomials.html\n"
     ]
    },
    {
     "output_type": "stream",
     "name": "stderr",
     "text": [
      "\r193it [01:09,  4.35it/s]"
     ]
    },
    {
     "output_type": "stream",
     "name": "stdout",
     "text": [
      "numpy_docs/reference/routines.ma.html\n"
     ]
    },
    {
     "output_type": "stream",
     "name": "stderr",
     "text": [
      "\r194it [01:10,  3.13it/s]"
     ]
    },
    {
     "output_type": "stream",
     "name": "stdout",
     "text": [
      "numpy_docs/reference/routines.polynomials.package.html\n"
     ]
    },
    {
     "output_type": "stream",
     "name": "stderr",
     "text": [
      "196it [01:10,  3.90it/s]"
     ]
    },
    {
     "output_type": "stream",
     "name": "stdout",
     "text": [
      "numpy_docs/reference/arrays.indexing.html\n",
      "numpy_docs/reference/distutils.html\n"
     ]
    },
    {
     "output_type": "stream",
     "name": "stderr",
     "text": [
      "198it [01:11,  3.80it/s]"
     ]
    },
    {
     "output_type": "stream",
     "name": "stdout",
     "text": [
      "numpy_docs/reference/routines.set.html\n",
      "numpy_docs/reference/routines.array-creation.html\n"
     ]
    },
    {
     "output_type": "stream",
     "name": "stderr",
     "text": [
      "200it [01:11,  4.63it/s]"
     ]
    },
    {
     "output_type": "stream",
     "name": "stdout",
     "text": [
      "numpy_docs/reference/routines.dtype.html\n",
      "numpy_docs/reference/routines.window.html\n"
     ]
    },
    {
     "output_type": "stream",
     "name": "stderr",
     "text": [
      "202it [01:12,  4.03it/s]"
     ]
    },
    {
     "output_type": "stream",
     "name": "stdout",
     "text": [
      "numpy_docs/reference/routines.fft.html\n",
      "numpy_docs/reference/routines.sort.html\n",
      "numpy_docs/reference/distutils_guide.html\n"
     ]
    },
    {
     "output_type": "stream",
     "name": "stderr",
     "text": [
      "\r204it [01:12,  4.23it/s]"
     ]
    },
    {
     "output_type": "stream",
     "name": "stdout",
     "text": [
      "numpy_docs/reference/maskedarray.generic.html\n"
     ]
    },
    {
     "output_type": "stream",
     "name": "stderr",
     "text": [
      "\r205it [01:13,  3.83it/s]"
     ]
    },
    {
     "output_type": "stream",
     "name": "stdout",
     "text": [
      "numpy_docs/reference/arrays.scalars.html\n"
     ]
    },
    {
     "output_type": "stream",
     "name": "stderr",
     "text": [
      "\r206it [01:13,  3.43it/s]"
     ]
    },
    {
     "output_type": "stream",
     "name": "stdout",
     "text": [
      "numpy_docs/reference/arrays.classes.html\n"
     ]
    },
    {
     "output_type": "stream",
     "name": "stderr",
     "text": [
      "208it [01:13,  4.05it/s]"
     ]
    },
    {
     "output_type": "stream",
     "name": "stdout",
     "text": [
      "numpy_docs/reference/routines.char.html\n",
      "numpy_docs/reference/routines.polynomials.polynomial.html\n"
     ]
    },
    {
     "output_type": "stream",
     "name": "stderr",
     "text": [
      "\r209it [01:14,  4.75it/s]"
     ]
    },
    {
     "output_type": "stream",
     "name": "stdout",
     "text": [
      "numpy_docs/reference/swig.testing.html\n"
     ]
    },
    {
     "output_type": "stream",
     "name": "stderr",
     "text": [
      "212it [01:14,  5.15it/s]"
     ]
    },
    {
     "output_type": "stream",
     "name": "stdout",
     "text": [
      "numpy_docs/reference/internals.code-explanations.html\n",
      "numpy_docs/reference/arrays.interface.html\n",
      "numpy_docs/reference/typing.html\n"
     ]
    },
    {
     "output_type": "stream",
     "name": "stderr",
     "text": [
      "\r213it [01:15,  3.07it/s]"
     ]
    },
    {
     "output_type": "stream",
     "name": "stdout",
     "text": [
      "numpy_docs/reference/routines.emath.html\n"
     ]
    },
    {
     "output_type": "stream",
     "name": "stderr",
     "text": [
      "\r214it [01:15,  2.73it/s]"
     ]
    },
    {
     "output_type": "stream",
     "name": "stdout",
     "text": [
      "numpy_docs/reference/security.html\n"
     ]
    },
    {
     "output_type": "stream",
     "name": "stderr",
     "text": [
      "216it [01:16,  3.40it/s]"
     ]
    },
    {
     "output_type": "stream",
     "name": "stdout",
     "text": [
      "numpy_docs/reference/arrays.nditer.cython.html\n",
      "numpy_docs/reference/constants.html\n"
     ]
    },
    {
     "output_type": "stream",
     "name": "stderr",
     "text": [
      "\r217it [01:17,  2.50it/s]"
     ]
    },
    {
     "output_type": "stream",
     "name": "stdout",
     "text": [
      "numpy_docs/reference/routines.ctypeslib.html\n"
     ]
    },
    {
     "output_type": "stream",
     "name": "stderr",
     "text": [
      "\r218it [01:17,  2.28it/s]"
     ]
    },
    {
     "output_type": "stream",
     "name": "stdout",
     "text": [
      "numpy_docs/reference/routines.padding.html\n"
     ]
    },
    {
     "output_type": "stream",
     "name": "stderr",
     "text": [
      "\r219it [01:17,  2.41it/s]"
     ]
    },
    {
     "output_type": "stream",
     "name": "stdout",
     "text": [
      "numpy_docs/reference/routines.functional.html\n",
      "numpy_docs/reference/swig.interface-file.html\n"
     ]
    },
    {
     "output_type": "stream",
     "name": "stderr",
     "text": [
      "222it [01:18,  3.33it/s]"
     ]
    },
    {
     "output_type": "stream",
     "name": "stdout",
     "text": [
      "numpy_docs/reference/routines.array-manipulation.html\n",
      "numpy_docs/reference/arrays.ndarray.html\n"
     ]
    },
    {
     "output_type": "stream",
     "name": "stderr",
     "text": [
      "\r223it [01:18,  3.16it/s]"
     ]
    },
    {
     "output_type": "stream",
     "name": "stdout",
     "text": [
      "numpy_docs/reference/arrays.datetime.html\n"
     ]
    },
    {
     "output_type": "stream",
     "name": "stderr",
     "text": [
      "226it [01:19,  4.95it/s]"
     ]
    },
    {
     "output_type": "stream",
     "name": "stdout",
     "text": [
      "numpy_docs/reference/alignment.html\n",
      "numpy_docs/reference/routines.other.html\n",
      "numpy_docs/reference/arrays.nditer.html\n"
     ]
    },
    {
     "output_type": "stream",
     "name": "stderr",
     "text": [
      "\r227it [01:19,  3.71it/s]"
     ]
    },
    {
     "output_type": "stream",
     "name": "stdout",
     "text": [
      "numpy_docs/reference/arrays.html\n"
     ]
    },
    {
     "output_type": "stream",
     "name": "stderr",
     "text": [
      "\r228it [01:20,  3.46it/s]"
     ]
    },
    {
     "output_type": "stream",
     "name": "stdout",
     "text": [
      "numpy_docs/reference/ufuncs.html\n"
     ]
    },
    {
     "output_type": "stream",
     "name": "stderr",
     "text": [
      "\r229it [01:20,  3.56it/s]"
     ]
    },
    {
     "output_type": "stream",
     "name": "stdout",
     "text": [
      "numpy_docs/reference/array_api.html\n"
     ]
    },
    {
     "output_type": "stream",
     "name": "stderr",
     "text": [
      "\r230it [01:20,  3.63it/s]"
     ]
    },
    {
     "output_type": "stream",
     "name": "stdout",
     "text": [
      "numpy_docs/reference/routines.datetime.html\n",
      "numpy_docs/reference/routines.math.html\n"
     ]
    },
    {
     "output_type": "stream",
     "name": "stderr",
     "text": [
      "234it [01:21,  6.66it/s]"
     ]
    },
    {
     "output_type": "stream",
     "name": "stdout",
     "text": [
      "numpy_docs/reference/routines.matlib.html\n",
      "numpy_docs/reference/routines.help.html\n",
      "numpy_docs/reference/routines.statistics.html\n",
      "numpy_docs/reference/testing.html\n"
     ]
    },
    {
     "output_type": "stream",
     "name": "stderr",
     "text": [
      "237it [01:21,  6.66it/s]"
     ]
    },
    {
     "output_type": "stream",
     "name": "stdout",
     "text": [
      "numpy_docs/reference/routines.io.html\n",
      "numpy_docs/reference/arrays.dtypes.html\n"
     ]
    },
    {
     "output_type": "stream",
     "name": "stderr",
     "text": [
      "\r238it [01:21,  5.56it/s]"
     ]
    },
    {
     "output_type": "stream",
     "name": "stdout",
     "text": [
      "numpy_docs/reference/distutils_status_migration.html\n"
     ]
    },
    {
     "output_type": "stream",
     "name": "stderr",
     "text": [
      "\r239it [01:22,  2.98it/s]"
     ]
    },
    {
     "output_type": "stream",
     "name": "stdout",
     "text": [
      "numpy_docs/reference/routines.polynomials.laguerre.html\n"
     ]
    },
    {
     "output_type": "stream",
     "name": "stderr",
     "text": [
      "241it [01:23,  3.99it/s]"
     ]
    },
    {
     "output_type": "stream",
     "name": "stdout",
     "text": [
      "numpy_docs/reference/routines.err.html\n",
      "numpy_docs/reference/routines.polynomials.legendre.html\n"
     ]
    },
    {
     "output_type": "stream",
     "name": "stderr",
     "text": [
      "243it [01:23,  4.58it/s]"
     ]
    },
    {
     "output_type": "stream",
     "name": "stdout",
     "text": [
      "numpy_docs/reference/routines.testing.html\n",
      "numpy_docs/reference/routines.polynomials.polyutils.html\n"
     ]
    },
    {
     "output_type": "stream",
     "name": "stderr",
     "text": [
      "\r244it [01:23,  4.98it/s]"
     ]
    },
    {
     "output_type": "stream",
     "name": "stdout",
     "text": [
      "numpy_docs/reference/global_state.html\n"
     ]
    },
    {
     "output_type": "stream",
     "name": "stderr",
     "text": [
      "\r245it [01:24,  2.75it/s]"
     ]
    },
    {
     "output_type": "stream",
     "name": "stdout",
     "text": [
      "numpy_docs/reference/swig.html\n",
      "numpy_docs/reference/internals.html\n",
      "numpy_docs/reference/maskedarray.baseclass.html\n"
     ]
    },
    {
     "output_type": "stream",
     "name": "stderr",
     "text": [
      "249it [01:25,  3.99it/s]"
     ]
    },
    {
     "output_type": "stream",
     "name": "stdout",
     "text": [
      "numpy_docs/reference/routines.logic.html\n",
      "numpy_docs/reference/maskedarray.html\n"
     ]
    },
    {
     "output_type": "stream",
     "name": "stderr",
     "text": [
      "\r251it [01:25,  5.17it/s]"
     ]
    },
    {
     "output_type": "stream",
     "name": "stdout",
     "text": [
      "numpy_docs/reference/routines.bitwise.html\n",
      "numpy_docs/reference/random/index.html\n"
     ]
    },
    {
     "output_type": "stream",
     "name": "stderr",
     "text": [
      "\r252it [01:25,  4.79it/s]"
     ]
    },
    {
     "output_type": "stream",
     "name": "stdout",
     "text": [
      "numpy_docs/reference/random/extending.html\n"
     ]
    },
    {
     "output_type": "stream",
     "name": "stderr",
     "text": [
      "254it [01:25,  5.11it/s]"
     ]
    },
    {
     "output_type": "stream",
     "name": "stdout",
     "text": [
      "numpy_docs/reference/random/upgrading-pcg64.html\n",
      "numpy_docs/reference/random/parallel.html\n"
     ]
    },
    {
     "output_type": "stream",
     "name": "stderr",
     "text": [
      "\r255it [01:26,  5.17it/s]"
     ]
    },
    {
     "output_type": "stream",
     "name": "stdout",
     "text": [
      "numpy_docs/reference/random/legacy.html\n"
     ]
    },
    {
     "output_type": "stream",
     "name": "stderr",
     "text": [
      "\r256it [01:26,  4.86it/s]"
     ]
    },
    {
     "output_type": "stream",
     "name": "stdout",
     "text": [
      "numpy_docs/reference/random/compatibility.html\n",
      "numpy_docs/reference/random/performance.html\n"
     ]
    },
    {
     "output_type": "stream",
     "name": "stderr",
     "text": [
      "259it [01:26,  4.79it/s]"
     ]
    },
    {
     "output_type": "stream",
     "name": "stdout",
     "text": [
      "numpy_docs/reference/random/c-api.html\n",
      "numpy_docs/reference/random/new-or-different.html\n"
     ]
    },
    {
     "output_type": "stream",
     "name": "stderr",
     "text": [
      "\r260it [01:27,  5.24it/s]"
     ]
    },
    {
     "output_type": "stream",
     "name": "stdout",
     "text": [
      "numpy_docs/reference/random/generator.html\n"
     ]
    },
    {
     "output_type": "stream",
     "name": "stderr",
     "text": [
      "262it [01:27,  5.78it/s]"
     ]
    },
    {
     "output_type": "stream",
     "name": "stdout",
     "text": [
      "numpy_docs/reference/random/multithreading.html\n",
      "numpy_docs/reference/random/bit_generators/index.html\n"
     ]
    },
    {
     "output_type": "stream",
     "name": "stderr",
     "text": [
      "265it [01:27,  8.18it/s]"
     ]
    },
    {
     "output_type": "stream",
     "name": "stdout",
     "text": [
      "numpy_docs/reference/random/bit_generators/sfc64.html\n",
      "numpy_docs/reference/random/bit_generators/mt19937.html\n",
      "numpy_docs/reference/random/bit_generators/pcg64dxsm.html\n",
      "numpy_docs/reference/random/bit_generators/philox.html\n"
     ]
    },
    {
     "output_type": "stream",
     "name": "stderr",
     "text": [
      "\r267it [01:28,  5.36it/s]"
     ]
    },
    {
     "output_type": "stream",
     "name": "stdout",
     "text": [
      "numpy_docs/reference/random/bit_generators/pcg64.html\n",
      "numpy_docs/reference/random/bit_generators/generated/numpy.random.Philox.jumped.html\n"
     ]
    },
    {
     "output_type": "stream",
     "name": "stderr",
     "text": [
      "\r269it [01:28,  4.96it/s]"
     ]
    },
    {
     "output_type": "stream",
     "name": "stdout",
     "text": [
      "numpy_docs/reference/random/bit_generators/generated/numpy.random.Philox.advance.html\n"
     ]
    },
    {
     "output_type": "stream",
     "name": "stderr",
     "text": [
      "\r270it [01:29,  4.09it/s]"
     ]
    },
    {
     "output_type": "stream",
     "name": "stdout",
     "text": [
      "numpy_docs/reference/random/bit_generators/generated/numpy.random.SeedSequence.n_children_spawned.html\n",
      "numpy_docs/reference/random/bit_generators/generated/numpy.random.PCG64.jumped.html\n"
     ]
    },
    {
     "output_type": "stream",
     "name": "stderr",
     "text": [
      "\r272it [01:29,  4.41it/s]"
     ]
    },
    {
     "output_type": "stream",
     "name": "stdout",
     "text": [
      "numpy_docs/reference/random/bit_generators/generated/numpy.random.SeedSequence.generate_state.html\n",
      "numpy_docs/reference/random/bit_generators/generated/numpy.random.BitGenerator.cffi.html\n",
      "numpy_docs/reference/random/bit_generators/generated/numpy.random.SeedSequence.spawn.html\n"
     ]
    },
    {
     "output_type": "stream",
     "name": "stderr",
     "text": [
      "\r275it [01:30,  5.14it/s]"
     ]
    },
    {
     "output_type": "stream",
     "name": "stdout",
     "text": [
      "numpy_docs/reference/random/bit_generators/generated/numpy.random.SeedSequence.pool.html\n",
      "numpy_docs/reference/random/bit_generators/generated/numpy.random.SeedSequence.spawn_key.html\n",
      "numpy_docs/reference/random/bit_generators/generated/numpy.random.BitGenerator.lock.html\n",
      "numpy_docs/reference/random/bit_generators/generated/numpy.random.PCG64DXSM.advance.html\n"
     ]
    },
    {
     "output_type": "stream",
     "name": "stderr",
     "text": [
      "\r279it [01:30,  6.43it/s]"
     ]
    },
    {
     "output_type": "stream",
     "name": "stdout",
     "text": [
      "numpy_docs/reference/random/bit_generators/generated/numpy.random.BitGenerator.ctypes.html\n",
      "numpy_docs/reference/random/bit_generators/generated/numpy.random.SeedSequence.entropy.html\n",
      "numpy_docs/reference/random/bit_generators/generated/numpy.random.SeedSequence.html\n"
     ]
    },
    {
     "output_type": "stream",
     "name": "stderr",
     "text": [
      "\r282it [01:30,  6.41it/s]"
     ]
    },
    {
     "output_type": "stream",
     "name": "stdout",
     "text": [
      "numpy_docs/reference/random/bit_generators/generated/numpy.random.MT19937.state.html\n"
     ]
    },
    {
     "output_type": "stream",
     "name": "stderr",
     "text": [
      "\r283it [01:31,  5.35it/s]"
     ]
    },
    {
     "output_type": "stream",
     "name": "stdout",
     "text": [
      "numpy_docs/reference/random/bit_generators/generated/numpy.random.PCG64.cffi.html\n"
     ]
    },
    {
     "output_type": "stream",
     "name": "stderr",
     "text": [
      "\r284it [01:31,  4.59it/s]"
     ]
    },
    {
     "output_type": "stream",
     "name": "stdout",
     "text": [
      "numpy_docs/reference/random/bit_generators/generated/numpy.random.SFC64.ctypes.html\n"
     ]
    },
    {
     "output_type": "stream",
     "name": "stderr",
     "text": [
      "\r285it [01:32,  3.97it/s]"
     ]
    },
    {
     "output_type": "stream",
     "name": "stdout",
     "text": [
      "numpy_docs/reference/random/bit_generators/generated/numpy.random.Philox.cffi.html\n"
     ]
    },
    {
     "output_type": "stream",
     "name": "stderr",
     "text": [
      "\r286it [01:32,  3.55it/s]"
     ]
    },
    {
     "output_type": "stream",
     "name": "stdout",
     "text": [
      "numpy_docs/reference/random/bit_generators/generated/numpy.random.BitGenerator.state.html\n",
      "numpy_docs/reference/random/bit_generators/generated/numpy.random.Philox.state.html\n"
     ]
    },
    {
     "output_type": "stream",
     "name": "stderr",
     "text": [
      "\r288it [01:32,  3.98it/s]"
     ]
    },
    {
     "output_type": "stream",
     "name": "stdout",
     "text": [
      "numpy_docs/reference/random/bit_generators/generated/numpy.random.BitGenerator.spawn.html\n"
     ]
    },
    {
     "output_type": "stream",
     "name": "stderr",
     "text": [
      "\r289it [01:33,  3.52it/s]"
     ]
    },
    {
     "output_type": "stream",
     "name": "stdout",
     "text": [
      "numpy_docs/reference/random/bit_generators/generated/numpy.random.PCG64.ctypes.html\n"
     ]
    },
    {
     "output_type": "stream",
     "name": "stderr",
     "text": [
      "\r290it [01:33,  3.27it/s]"
     ]
    },
    {
     "output_type": "stream",
     "name": "stdout",
     "text": [
      "numpy_docs/reference/random/bit_generators/generated/numpy.random.BitGenerator.random_raw.html\n"
     ]
    },
    {
     "output_type": "stream",
     "name": "stderr",
     "text": [
      "\r291it [01:34,  3.02it/s]"
     ]
    },
    {
     "output_type": "stream",
     "name": "stdout",
     "text": [
      "numpy_docs/reference/random/bit_generators/generated/numpy.random.MT19937.ctypes.html\n"
     ]
    },
    {
     "output_type": "stream",
     "name": "stderr",
     "text": [
      "\r292it [01:34,  2.89it/s]"
     ]
    },
    {
     "output_type": "stream",
     "name": "stdout",
     "text": [
      "numpy_docs/reference/random/bit_generators/generated/numpy.random.SFC64.state.html\n"
     ]
    },
    {
     "output_type": "stream",
     "name": "stderr",
     "text": [
      "\r293it [01:34,  2.82it/s]"
     ]
    },
    {
     "output_type": "stream",
     "name": "stdout",
     "text": [
      "numpy_docs/reference/random/bit_generators/generated/numpy.random.PCG64.state.html\n"
     ]
    },
    {
     "output_type": "stream",
     "name": "stderr",
     "text": [
      "\r294it [01:35,  2.73it/s]"
     ]
    },
    {
     "output_type": "stream",
     "name": "stdout",
     "text": [
      "numpy_docs/reference/random/bit_generators/generated/numpy.random.PCG64DXSM.state.html\n"
     ]
    },
    {
     "output_type": "stream",
     "name": "stderr",
     "text": [
      "\r295it [01:35,  2.63it/s]"
     ]
    },
    {
     "output_type": "stream",
     "name": "stdout",
     "text": [
      "numpy_docs/reference/random/bit_generators/generated/numpy.random.SFC64.cffi.html\n"
     ]
    },
    {
     "output_type": "stream",
     "name": "stderr",
     "text": [
      "\r296it [01:36,  2.12it/s]"
     ]
    },
    {
     "output_type": "stream",
     "name": "stdout",
     "text": [
      "numpy_docs/reference/random/bit_generators/generated/numpy.random.PCG64DXSM.ctypes.html\n"
     ]
    },
    {
     "output_type": "stream",
     "name": "stderr",
     "text": [
      "\r297it [01:37,  1.86it/s]"
     ]
    },
    {
     "output_type": "stream",
     "name": "stdout",
     "text": [
      "numpy_docs/reference/random/bit_generators/generated/numpy.random.PCG64DXSM.jumped.html\n"
     ]
    },
    {
     "output_type": "stream",
     "name": "stderr",
     "text": [
      "300it [01:37,  2.88it/s]"
     ]
    },
    {
     "output_type": "stream",
     "name": "stdout",
     "text": [
      "numpy_docs/reference/random/bit_generators/generated/numpy.random.SeedSequence.pool_size.html\n",
      "numpy_docs/reference/random/bit_generators/generated/numpy.random.MT19937.jumped.html\n",
      "numpy_docs/reference/random/bit_generators/generated/numpy.random.BitGenerator.html\n"
     ]
    },
    {
     "output_type": "stream",
     "name": "stderr",
     "text": [
      "\r301it [01:38,  2.24it/s]"
     ]
    },
    {
     "output_type": "stream",
     "name": "stdout",
     "text": [
      "numpy_docs/reference/random/bit_generators/generated/numpy.random.Philox.ctypes.html\n"
     ]
    },
    {
     "output_type": "stream",
     "name": "stderr",
     "text": [
      "\r302it [01:39,  1.93it/s]"
     ]
    },
    {
     "output_type": "stream",
     "name": "stdout",
     "text": [
      "numpy_docs/reference/random/bit_generators/generated/numpy.random.BitGenerator.capsule.html\n",
      "numpy_docs/reference/random/bit_generators/generated/numpy.random.BitGenerator.seed_seq.html\n",
      "numpy_docs/reference/random/bit_generators/generated/numpy.random.MT19937.cffi.html\n"
     ]
    },
    {
     "output_type": "stream",
     "name": "stderr",
     "text": [
      "\r305it [01:39,  3.08it/s]"
     ]
    },
    {
     "output_type": "stream",
     "name": "stdout",
     "text": [
      "numpy_docs/reference/random/bit_generators/generated/numpy.random.PCG64.advance.html\n"
     ]
    },
    {
     "output_type": "stream",
     "name": "stderr",
     "text": [
      "\r306it [01:40,  2.91it/s]"
     ]
    },
    {
     "output_type": "stream",
     "name": "stdout",
     "text": [
      "numpy_docs/reference/random/bit_generators/generated/numpy.random.PCG64DXSM.cffi.html\n"
     ]
    },
    {
     "output_type": "stream",
     "name": "stderr",
     "text": [
      "\r307it [01:40,  2.85it/s]"
     ]
    },
    {
     "output_type": "stream",
     "name": "stdout",
     "text": [
      "numpy_docs/reference/random/bit_generators/generated/numpy.random.SeedSequence.state.html\n",
      "numpy_docs/reference/random/examples/numba.html\n"
     ]
    },
    {
     "output_type": "stream",
     "name": "stderr",
     "text": [
      "\r309it [01:41,  3.19it/s]"
     ]
    },
    {
     "output_type": "stream",
     "name": "stdout",
     "text": [
      "numpy_docs/reference/random/examples/cffi.html\n"
     ]
    },
    {
     "output_type": "stream",
     "name": "stderr",
     "text": [
      "\r310it [01:41,  2.97it/s]"
     ]
    },
    {
     "output_type": "stream",
     "name": "stdout",
     "text": [
      "numpy_docs/reference/random/examples/numba_cffi.html\n"
     ]
    },
    {
     "output_type": "stream",
     "name": "stderr",
     "text": [
      "\r311it [01:41,  2.83it/s]"
     ]
    },
    {
     "output_type": "stream",
     "name": "stdout",
     "text": [
      "numpy_docs/reference/random/examples/cython/index.html\n"
     ]
    },
    {
     "output_type": "stream",
     "name": "stderr",
     "text": [
      "\r312it [01:42,  2.77it/s]"
     ]
    },
    {
     "output_type": "stream",
     "name": "stdout",
     "text": [
      "numpy_docs/reference/random/examples/cython/extending.pyx.html\n"
     ]
    },
    {
     "output_type": "stream",
     "name": "stderr",
     "text": [
      "\r313it [01:42,  2.61it/s]"
     ]
    },
    {
     "output_type": "stream",
     "name": "stdout",
     "text": [
      "numpy_docs/reference/random/examples/cython/extending_distributions.pyx.html\n"
     ]
    },
    {
     "output_type": "stream",
     "name": "stderr",
     "text": [
      "\r314it [01:43,  2.31it/s]"
     ]
    },
    {
     "output_type": "stream",
     "name": "stdout",
     "text": [
      "numpy_docs/reference/random/examples/cython/meson.build.html\n"
     ]
    },
    {
     "output_type": "stream",
     "name": "stderr",
     "text": [
      "316it [01:43,  2.95it/s]"
     ]
    },
    {
     "output_type": "stream",
     "name": "stdout",
     "text": [
      "numpy_docs/reference/random/generated/numpy.random.lognormal.html\n",
      "numpy_docs/reference/random/generated/numpy.random.normal.html\n"
     ]
    },
    {
     "output_type": "stream",
     "name": "stderr",
     "text": [
      "\r317it [01:43,  3.66it/s]"
     ]
    },
    {
     "output_type": "stream",
     "name": "stdout",
     "text": [
      "numpy_docs/reference/random/generated/numpy.random.RandomState.rand.html\n"
     ]
    },
    {
     "output_type": "stream",
     "name": "stderr",
     "text": [
      "319it [01:44,  3.19it/s]"
     ]
    },
    {
     "output_type": "stream",
     "name": "stdout",
     "text": [
      "numpy_docs/reference/random/generated/numpy.random.multivariate_normal.html\n",
      "numpy_docs/reference/random/generated/numpy.random.Generator.multinomial.html\n"
     ]
    },
    {
     "output_type": "stream",
     "name": "stderr",
     "text": [
      "321it [01:45,  2.55it/s]"
     ]
    },
    {
     "output_type": "stream",
     "name": "stdout",
     "text": [
      "numpy_docs/reference/random/generated/numpy.random.RandomState.standard_gamma.html\n",
      "numpy_docs/reference/random/generated/numpy.random.RandomState.hypergeometric.html\n"
     ]
    },
    {
     "output_type": "stream",
     "name": "stderr",
     "text": [
      "\r322it [01:45,  3.23it/s]"
     ]
    },
    {
     "output_type": "stream",
     "name": "stdout",
     "text": [
      "numpy_docs/reference/random/generated/numpy.random.rayleigh.html\n",
      "numpy_docs/reference/random/generated/numpy.random.seed.html\n"
     ]
    },
    {
     "output_type": "stream",
     "name": "stderr",
     "text": [
      "325it [01:46,  3.44it/s]"
     ]
    },
    {
     "output_type": "stream",
     "name": "stdout",
     "text": [
      "numpy_docs/reference/random/generated/numpy.random.RandomState.multivariate_normal.html\n",
      "numpy_docs/reference/random/generated/numpy.random.Generator.exponential.html\n",
      "numpy_docs/reference/random/generated/numpy.random.choice.html\n"
     ]
    },
    {
     "output_type": "stream",
     "name": "stderr",
     "text": [
      "\r327it [01:47,  2.52it/s]"
     ]
    },
    {
     "output_type": "stream",
     "name": "stdout",
     "text": [
      "numpy_docs/reference/random/generated/numpy.random.RandomState.chisquare.html\n"
     ]
    },
    {
     "output_type": "stream",
     "name": "stderr",
     "text": [
      "330it [01:48,  3.13it/s]"
     ]
    },
    {
     "output_type": "stream",
     "name": "stdout",
     "text": [
      "numpy_docs/reference/random/generated/numpy.random.Generator.laplace.html\n",
      "numpy_docs/reference/random/generated/numpy.random.Generator.vonmises.html\n",
      "numpy_docs/reference/random/generated/numpy.random.set_state.html\n",
      "numpy_docs/reference/random/generated/numpy.random.RandomState.multinomial.html\n"
     ]
    },
    {
     "output_type": "stream",
     "name": "stderr",
     "text": [
      "333it [01:50,  2.90it/s]"
     ]
    },
    {
     "output_type": "stream",
     "name": "stdout",
     "text": [
      "numpy_docs/reference/random/generated/numpy.random.Generator.standard_exponential.html\n",
      "numpy_docs/reference/random/generated/numpy.random.gumbel.html\n"
     ]
    },
    {
     "output_type": "stream",
     "name": "stderr",
     "text": [
      "335it [01:50,  3.51it/s]"
     ]
    },
    {
     "output_type": "stream",
     "name": "stdout",
     "text": [
      "numpy_docs/reference/random/generated/numpy.random.binomial.html\n",
      "numpy_docs/reference/random/generated/numpy.random.RandomState.laplace.html\n"
     ]
    },
    {
     "output_type": "stream",
     "name": "stderr",
     "text": [
      "\r336it [01:50,  3.70it/s]"
     ]
    },
    {
     "output_type": "stream",
     "name": "stdout",
     "text": [
      "numpy_docs/reference/random/generated/numpy.random.RandomState.beta.html\n"
     ]
    },
    {
     "output_type": "stream",
     "name": "stderr",
     "text": [
      "\r337it [01:51,  1.84it/s]"
     ]
    },
    {
     "output_type": "stream",
     "name": "stdout",
     "text": [
      "numpy_docs/reference/random/generated/numpy.random.shuffle.html\n"
     ]
    },
    {
     "output_type": "stream",
     "name": "stderr",
     "text": [
      "339it [01:53,  1.87it/s]"
     ]
    },
    {
     "output_type": "stream",
     "name": "stdout",
     "text": [
      "numpy_docs/reference/random/generated/numpy.random.RandomState.normal.html\n",
      "numpy_docs/reference/random/generated/numpy.random.Generator.chisquare.html\n"
     ]
    },
    {
     "output_type": "stream",
     "name": "stderr",
     "text": [
      "\r340it [01:53,  1.86it/s]"
     ]
    },
    {
     "output_type": "stream",
     "name": "stdout",
     "text": [
      "numpy_docs/reference/random/generated/numpy.random.Generator.integers.html\n",
      "numpy_docs/reference/random/generated/numpy.random.RandomState.lognormal.html\n"
     ]
    },
    {
     "output_type": "stream",
     "name": "stderr",
     "text": [
      "\r342it [01:53,  2.93it/s]"
     ]
    },
    {
     "output_type": "stream",
     "name": "stdout",
     "text": [
      "numpy_docs/reference/random/generated/numpy.random.Generator.gamma.html\n",
      "numpy_docs/reference/random/generated/numpy.random.RandomState.noncentral_chisquare.html\n"
     ]
    },
    {
     "output_type": "stream",
     "name": "stderr",
     "text": [
      "345it [01:54,  3.23it/s]"
     ]
    },
    {
     "output_type": "stream",
     "name": "stdout",
     "text": [
      "numpy_docs/reference/random/generated/numpy.random.RandomState.randint.html\n",
      "numpy_docs/reference/random/generated/numpy.random.RandomState.power.html\n"
     ]
    },
    {
     "output_type": "stream",
     "name": "stderr",
     "text": [
      "347it [01:55,  4.46it/s]"
     ]
    },
    {
     "output_type": "stream",
     "name": "stdout",
     "text": [
      "numpy_docs/reference/random/generated/numpy.random.negative_binomial.html\n",
      "numpy_docs/reference/random/generated/numpy.random.Generator.f.html\n",
      "numpy_docs/reference/random/generated/numpy.random.logseries.html\n"
     ]
    },
    {
     "output_type": "stream",
     "name": "stderr",
     "text": [
      "350it [01:56,  3.92it/s]"
     ]
    },
    {
     "output_type": "stream",
     "name": "stdout",
     "text": [
      "numpy_docs/reference/random/generated/numpy.random.RandomState.vonmises.html\n",
      "numpy_docs/reference/random/generated/numpy.random.Generator.shuffle.html\n"
     ]
    },
    {
     "output_type": "stream",
     "name": "stderr",
     "text": [
      "\r351it [01:56,  3.03it/s]"
     ]
    },
    {
     "output_type": "stream",
     "name": "stdout",
     "text": [
      "numpy_docs/reference/random/generated/numpy.random.Generator.bit_generator.html\n"
     ]
    },
    {
     "output_type": "stream",
     "name": "stderr",
     "text": [
      "353it [01:57,  3.25it/s]"
     ]
    },
    {
     "output_type": "stream",
     "name": "stdout",
     "text": [
      "numpy_docs/reference/random/generated/numpy.random.RandomState.rayleigh.html\n",
      "numpy_docs/reference/random/generated/numpy.random.RandomState.f.html\n"
     ]
    },
    {
     "output_type": "stream",
     "name": "stderr",
     "text": [
      "\r354it [01:57,  3.95it/s]"
     ]
    },
    {
     "output_type": "stream",
     "name": "stdout",
     "text": [
      "numpy_docs/reference/random/generated/numpy.random.zipf.html\n"
     ]
    },
    {
     "output_type": "stream",
     "name": "stderr",
     "text": [
      "\r355it [01:58,  2.61it/s]"
     ]
    },
    {
     "output_type": "stream",
     "name": "stdout",
     "text": [
      "numpy_docs/reference/random/generated/numpy.random.geometric.html\n"
     ]
    },
    {
     "output_type": "stream",
     "name": "stderr",
     "text": [
      "\r356it [01:58,  2.12it/s]"
     ]
    },
    {
     "output_type": "stream",
     "name": "stdout",
     "text": [
      "numpy_docs/reference/random/generated/numpy.random.Generator.logseries.html\n"
     ]
    },
    {
     "output_type": "stream",
     "name": "stderr",
     "text": [
      "\r357it [01:59,  2.00it/s]"
     ]
    },
    {
     "output_type": "stream",
     "name": "stdout",
     "text": [
      "numpy_docs/reference/random/generated/numpy.random.RandomState.geometric.html\n"
     ]
    },
    {
     "output_type": "stream",
     "name": "stderr",
     "text": [
      "359it [02:00,  2.34it/s]"
     ]
    },
    {
     "output_type": "stream",
     "name": "stdout",
     "text": [
      "numpy_docs/reference/random/generated/numpy.random.Generator.negative_binomial.html\n",
      "numpy_docs/reference/random/generated/numpy.random.RandomState.standard_exponential.html\n"
     ]
    },
    {
     "output_type": "stream",
     "name": "stderr",
     "text": [
      "\r360it [02:00,  1.98it/s]"
     ]
    },
    {
     "output_type": "stream",
     "name": "stdout",
     "text": [
      "numpy_docs/reference/random/generated/numpy.random.Generator.permuted.html\n"
     ]
    },
    {
     "output_type": "stream",
     "name": "stderr",
     "text": [
      "\r361it [02:01,  1.88it/s]"
     ]
    },
    {
     "output_type": "stream",
     "name": "stdout",
     "text": [
      "numpy_docs/reference/random/generated/numpy.random.Generator.standard_gamma.html\n",
      "numpy_docs/reference/random/generated/numpy.random.beta.html\n"
     ]
    },
    {
     "output_type": "stream",
     "name": "stderr",
     "text": [
      "365it [02:02,  3.12it/s]"
     ]
    },
    {
     "output_type": "stream",
     "name": "stdout",
     "text": [
      "numpy_docs/reference/random/generated/numpy.random.Generator.binomial.html\n",
      "numpy_docs/reference/random/generated/numpy.random.RandomState.logistic.html\n",
      "numpy_docs/reference/random/generated/numpy.random.hypergeometric.html\n"
     ]
    },
    {
     "output_type": "stream",
     "name": "stderr",
     "text": [
      "368it [02:02,  5.01it/s]"
     ]
    },
    {
     "output_type": "stream",
     "name": "stdout",
     "text": [
      "numpy_docs/reference/random/generated/numpy.random.standard_t.html\n",
      "numpy_docs/reference/random/generated/numpy.random.gamma.html\n",
      "numpy_docs/reference/random/generated/numpy.random.RandomState.get_state.html\n"
     ]
    },
    {
     "output_type": "stream",
     "name": "stderr",
     "text": [
      "\r369it [02:03,  2.32it/s]"
     ]
    },
    {
     "output_type": "stream",
     "name": "stdout",
     "text": [
      "numpy_docs/reference/random/generated/numpy.random.pareto.html\n"
     ]
    },
    {
     "output_type": "stream",
     "name": "stderr",
     "text": [
      "371it [02:04,  3.13it/s]"
     ]
    },
    {
     "output_type": "stream",
     "name": "stdout",
     "text": [
      "numpy_docs/reference/random/generated/numpy.random.Generator.multivariate_normal.html\n",
      "numpy_docs/reference/random/generated/numpy.random.Generator.dirichlet.html\n"
     ]
    },
    {
     "output_type": "stream",
     "name": "stderr",
     "text": [
      "\r372it [02:04,  3.63it/s]"
     ]
    },
    {
     "output_type": "stream",
     "name": "stdout",
     "text": [
      "numpy_docs/reference/random/generated/numpy.random.RandomState.random_integers.html\n"
     ]
    },
    {
     "output_type": "stream",
     "name": "stderr",
     "text": [
      "374it [02:05,  2.22it/s]"
     ]
    },
    {
     "output_type": "stream",
     "name": "stdout",
     "text": [
      "numpy_docs/reference/random/generated/numpy.random.Generator.poisson.html\n",
      "numpy_docs/reference/random/generated/numpy.random.Generator.uniform.html\n"
     ]
    },
    {
     "output_type": "stream",
     "name": "stderr",
     "text": [
      "377it [02:06,  2.91it/s]"
     ]
    },
    {
     "output_type": "stream",
     "name": "stdout",
     "text": [
      "numpy_docs/reference/random/generated/numpy.random.Generator.power.html\n",
      "numpy_docs/reference/random/generated/numpy.random.poisson.html\n",
      "numpy_docs/reference/random/generated/numpy.random.standard_gamma.html\n"
     ]
    },
    {
     "output_type": "stream",
     "name": "stderr",
     "text": [
      "\r378it [02:06,  3.51it/s]"
     ]
    },
    {
     "output_type": "stream",
     "name": "stdout",
     "text": [
      "numpy_docs/reference/random/generated/numpy.random.randn.html\n",
      "numpy_docs/reference/random/generated/numpy.random.random.html\n"
     ]
    },
    {
     "output_type": "stream",
     "name": "stderr",
     "text": [
      "\r380it [02:07,  3.08it/s]"
     ]
    },
    {
     "output_type": "stream",
     "name": "stdout",
     "text": [
      "numpy_docs/reference/random/generated/numpy.random.standard_normal.html\n"
     ]
    },
    {
     "output_type": "stream",
     "name": "stderr",
     "text": [
      "383it [02:08,  3.59it/s]"
     ]
    },
    {
     "output_type": "stream",
     "name": "stdout",
     "text": [
      "numpy_docs/reference/random/generated/numpy.random.Generator.lognormal.html\n",
      "numpy_docs/reference/random/generated/numpy.random.Generator.normal.html\n",
      "numpy_docs/reference/random/generated/numpy.random.multinomial.html\n"
     ]
    },
    {
     "output_type": "stream",
     "name": "stderr",
     "text": [
      "385it [02:09,  3.13it/s]"
     ]
    },
    {
     "output_type": "stream",
     "name": "stdout",
     "text": [
      "numpy_docs/reference/random/generated/numpy.random.RandomState.poisson.html\n",
      "numpy_docs/reference/random/generated/numpy.random.Generator.gumbel.html\n"
     ]
    },
    {
     "output_type": "stream",
     "name": "stderr",
     "text": [
      "\r386it [02:09,  3.84it/s]"
     ]
    },
    {
     "output_type": "stream",
     "name": "stdout",
     "text": [
      "numpy_docs/reference/random/generated/numpy.random.Generator.beta.html\n"
     ]
    },
    {
     "output_type": "stream",
     "name": "stderr",
     "text": [
      "388it [02:10,  3.60it/s]"
     ]
    },
    {
     "output_type": "stream",
     "name": "stdout",
     "text": [
      "numpy_docs/reference/random/generated/numpy.random.RandomState.binomial.html\n",
      "numpy_docs/reference/random/generated/numpy.random.RandomState.bytes.html\n"
     ]
    },
    {
     "output_type": "stream",
     "name": "stderr",
     "text": [
      "\r389it [02:11,  1.98it/s]"
     ]
    },
    {
     "output_type": "stream",
     "name": "stdout",
     "text": [
      "numpy_docs/reference/random/generated/numpy.random.standard_exponential.html\n"
     ]
    },
    {
     "output_type": "stream",
     "name": "stderr",
     "text": [
      "391it [02:12,  2.03it/s]"
     ]
    },
    {
     "output_type": "stream",
     "name": "stdout",
     "text": [
      "numpy_docs/reference/random/generated/numpy.random.Generator.multivariate_hypergeometric.html\n",
      "numpy_docs/reference/random/generated/numpy.random.standard_cauchy.html\n",
      "numpy_docs/reference/random/generated/numpy.random.random_integers.html\n"
     ]
    },
    {
     "output_type": "stream",
     "name": "stderr",
     "text": [
      "394it [02:13,  2.72it/s]"
     ]
    },
    {
     "output_type": "stream",
     "name": "stdout",
     "text": [
      "numpy_docs/reference/random/generated/numpy.random.wald.html\n",
      "numpy_docs/reference/random/generated/numpy.random.Generator.zipf.html\n"
     ]
    },
    {
     "output_type": "stream",
     "name": "stderr",
     "text": [
      "\r395it [02:13,  2.40it/s]"
     ]
    },
    {
     "output_type": "stream",
     "name": "stdout",
     "text": [
      "numpy_docs/reference/random/generated/numpy.random.RandomState.uniform.html\n"
     ]
    },
    {
     "output_type": "stream",
     "name": "stderr",
     "text": [
      "\r396it [02:14,  1.95it/s]"
     ]
    },
    {
     "output_type": "stream",
     "name": "stdout",
     "text": [
      "numpy_docs/reference/random/generated/numpy.random.uniform.html\n"
     ]
    },
    {
     "output_type": "stream",
     "name": "stderr",
     "text": [
      "\r397it [02:15,  1.73it/s]"
     ]
    },
    {
     "output_type": "stream",
     "name": "stdout",
     "text": [
      "numpy_docs/reference/random/generated/numpy.random.RandomState.logseries.html\n"
     ]
    },
    {
     "output_type": "stream",
     "name": "stderr",
     "text": [
      "\r398it [02:16,  1.61it/s]"
     ]
    },
    {
     "output_type": "stream",
     "name": "stdout",
     "text": [
      "numpy_docs/reference/random/generated/numpy.random.Generator.geometric.html\n"
     ]
    },
    {
     "output_type": "stream",
     "name": "stderr",
     "text": [
      "\r399it [02:16,  1.47it/s]"
     ]
    },
    {
     "output_type": "stream",
     "name": "stdout",
     "text": [
      "numpy_docs/reference/random/generated/numpy.random.get_state.html\n"
     ]
    },
    {
     "output_type": "stream",
     "name": "stderr",
     "text": [
      "\r400it [02:18,  1.20it/s]"
     ]
    },
    {
     "output_type": "stream",
     "name": "stdout",
     "text": [
      "numpy_docs/reference/random/generated/numpy.random.Generator.standard_normal.html\n"
     ]
    },
    {
     "output_type": "stream",
     "name": "stderr",
     "text": [
      "\r401it [02:19,  1.11it/s]"
     ]
    },
    {
     "output_type": "stream",
     "name": "stdout",
     "text": [
      "numpy_docs/reference/random/generated/numpy.random.RandomState.noncentral_f.html\n"
     ]
    },
    {
     "output_type": "stream",
     "name": "stderr",
     "text": [
      "\r402it [02:19,  1.44it/s]"
     ]
    },
    {
     "output_type": "stream",
     "name": "stdout",
     "text": [
      "numpy_docs/reference/random/generated/numpy.random.RandomState.standard_t.html\n"
     ]
    },
    {
     "output_type": "stream",
     "name": "stderr",
     "text": [
      "\r403it [02:19,  1.79it/s]"
     ]
    },
    {
     "output_type": "stream",
     "name": "stdout",
     "text": [
      "numpy_docs/reference/random/generated/numpy.random.rand.html\n"
     ]
    },
    {
     "output_type": "stream",
     "name": "stderr",
     "text": [
      "\r404it [02:20,  1.58it/s]"
     ]
    },
    {
     "output_type": "stream",
     "name": "stdout",
     "text": [
      "numpy_docs/reference/random/generated/numpy.random.chisquare.html\n"
     ]
    },
    {
     "output_type": "stream",
     "name": "stderr",
     "text": [
      "407it [02:21,  2.33it/s]"
     ]
    },
    {
     "output_type": "stream",
     "name": "stdout",
     "text": [
      "numpy_docs/reference/random/generated/numpy.random.Generator.standard_cauchy.html\n",
      "numpy_docs/reference/random/generated/numpy.random.Generator.rayleigh.html\n",
      "numpy_docs/reference/random/generated/numpy.random.noncentral_f.html\n"
     ]
    },
    {
     "output_type": "stream",
     "name": "stderr",
     "text": [
      "410it [02:21,  4.07it/s]"
     ]
    },
    {
     "output_type": "stream",
     "name": "stdout",
     "text": [
      "numpy_docs/reference/random/generated/numpy.random.Generator.noncentral_f.html\n",
      "numpy_docs/reference/random/generated/numpy.random.randint.html\n",
      "numpy_docs/reference/random/generated/numpy.random.Generator.random.html\n"
     ]
    },
    {
     "output_type": "stream",
     "name": "stderr",
     "text": [
      "413it [02:22,  4.39it/s]"
     ]
    },
    {
     "output_type": "stream",
     "name": "stdout",
     "text": [
      "numpy_docs/reference/random/generated/numpy.random.RandomState.set_state.html\n",
      "numpy_docs/reference/random/generated/numpy.random.RandomState.randn.html\n",
      "numpy_docs/reference/random/generated/numpy.random.RandomState.dirichlet.html"
     ]
    },
    {
     "output_type": "stream",
     "name": "stderr",
     "text": [
      "\r414it [02:22,  4.85it/s]"
     ]
    },
    {
     "output_type": "stream",
     "name": "stdout",
     "text": [
      "\n",
      "numpy_docs/reference/random/generated/numpy.random.Generator.spawn.html\n"
     ]
    },
    {
     "output_type": "stream",
     "name": "stderr",
     "text": [
      "\r415it [02:23,  3.46it/s]"
     ]
    },
    {
     "output_type": "stream",
     "name": "stdout",
     "text": [
      "numpy_docs/reference/random/generated/numpy.random.triangular.html\n"
     ]
    },
    {
     "output_type": "stream",
     "name": "stderr",
     "text": [
      "\r416it [02:23,  2.54it/s]"
     ]
    },
    {
     "output_type": "stream",
     "name": "stdout",
     "text": [
      "numpy_docs/reference/random/generated/numpy.random.RandomState.triangular.html\n"
     ]
    },
    {
     "output_type": "stream",
     "name": "stderr",
     "text": [
      "\r417it [02:24,  2.09it/s]"
     ]
    },
    {
     "output_type": "stream",
     "name": "stdout",
     "text": [
      "numpy_docs/reference/random/generated/numpy.random.Generator.permutation.html\n"
     ]
    },
    {
     "output_type": "stream",
     "name": "stderr",
     "text": [
      "\r418it [02:25,  1.99it/s]"
     ]
    },
    {
     "output_type": "stream",
     "name": "stdout",
     "text": [
      "numpy_docs/reference/random/generated/numpy.random.RandomState.choice.html\n"
     ]
    },
    {
     "output_type": "stream",
     "name": "stderr",
     "text": [
      "\r419it [02:25,  1.75it/s]"
     ]
    },
    {
     "output_type": "stream",
     "name": "stdout",
     "text": [
      "numpy_docs/reference/random/generated/numpy.random.Generator.noncentral_chisquare.html\n"
     ]
    },
    {
     "output_type": "stream",
     "name": "stderr",
     "text": [
      "421it [02:26,  2.30it/s]"
     ]
    },
    {
     "output_type": "stream",
     "name": "stdout",
     "text": [
      "numpy_docs/reference/random/generated/numpy.random.RandomState.exponential.html\n",
      "numpy_docs/reference/random/generated/numpy.random.Generator.triangular.html\n"
     ]
    },
    {
     "output_type": "stream",
     "name": "stderr",
     "text": [
      "424it [02:27,  3.32it/s]"
     ]
    },
    {
     "output_type": "stream",
     "name": "stdout",
     "text": [
      "numpy_docs/reference/random/generated/numpy.random.Generator.weibull.html\n",
      "numpy_docs/reference/random/generated/numpy.random.RandomState.pareto.html\n",
      "numpy_docs/reference/random/generated/numpy.random.RandomState.standard_cauchy.html\n"
     ]
    },
    {
     "output_type": "stream",
     "name": "stderr",
     "text": [
      "\r425it [02:27,  3.93it/s]"
     ]
    },
    {
     "output_type": "stream",
     "name": "stdout",
     "text": [
      "numpy_docs/reference/random/generated/numpy.random.RandomState.standard_normal.html\n"
     ]
    },
    {
     "output_type": "stream",
     "name": "stderr",
     "text": [
      "428it [02:28,  3.83it/s]"
     ]
    },
    {
     "output_type": "stream",
     "name": "stdout",
     "text": [
      "numpy_docs/reference/random/generated/numpy.random.Generator.pareto.html\n",
      "numpy_docs/reference/random/generated/numpy.random.dirichlet.html\n",
      "numpy_docs/reference/random/generated/numpy.random.laplace.html\n"
     ]
    },
    {
     "output_type": "stream",
     "name": "stderr",
     "text": [
      "\r429it [02:28,  4.43it/s]"
     ]
    },
    {
     "output_type": "stream",
     "name": "stdout",
     "text": [
      "numpy_docs/reference/random/generated/numpy.random.Generator.standard_t.html\n",
      "numpy_docs/reference/random/generated/numpy.random.Generator.choice.html\n"
     ]
    },
    {
     "output_type": "stream",
     "name": "stderr",
     "text": [
      "\r431it [02:29,  3.61it/s]"
     ]
    },
    {
     "output_type": "stream",
     "name": "stdout",
     "text": [
      "numpy_docs/reference/random/generated/numpy.random.random_sample.html\n"
     ]
    },
    {
     "output_type": "stream",
     "name": "stderr",
     "text": [
      "433it [02:30,  2.97it/s]"
     ]
    },
    {
     "output_type": "stream",
     "name": "stdout",
     "text": [
      "numpy_docs/reference/random/generated/numpy.random.power.html\n",
      "numpy_docs/reference/random/generated/numpy.random.bytes.html\n"
     ]
    },
    {
     "output_type": "stream",
     "name": "stderr",
     "text": [
      "435it [02:31,  2.19it/s]"
     ]
    },
    {
     "output_type": "stream",
     "name": "stdout",
     "text": [
      "numpy_docs/reference/random/generated/numpy.random.Generator.logistic.html\n",
      "numpy_docs/reference/random/generated/numpy.random.RandomState.gumbel.html\n"
     ]
    },
    {
     "output_type": "stream",
     "name": "stderr",
     "text": [
      "\r436it [02:31,  2.49it/s]"
     ]
    },
    {
     "output_type": "stream",
     "name": "stdout",
     "text": [
      "numpy_docs/reference/random/generated/numpy.random.RandomState.shuffle.html\n"
     ]
    },
    {
     "output_type": "stream",
     "name": "stderr",
     "text": [
      "438it [02:33,  1.94it/s]"
     ]
    },
    {
     "output_type": "stream",
     "name": "stdout",
     "text": [
      "numpy_docs/reference/random/generated/numpy.random.exponential.html\n",
      "numpy_docs/reference/random/generated/numpy.random.RandomState.random_sample.html\n"
     ]
    },
    {
     "output_type": "stream",
     "name": "stderr",
     "text": [
      "440it [02:34,  2.31it/s]"
     ]
    },
    {
     "output_type": "stream",
     "name": "stdout",
     "text": [
      "numpy_docs/reference/random/generated/numpy.random.RandomState.gamma.html\n",
      "numpy_docs/reference/random/generated/numpy.random.RandomState.permutation.html\n"
     ]
    },
    {
     "output_type": "stream",
     "name": "stderr",
     "text": [
      "443it [02:35,  3.28it/s]"
     ]
    },
    {
     "output_type": "stream",
     "name": "stdout",
     "text": [
      "numpy_docs/reference/random/generated/numpy.random.RandomState.wald.html\n",
      "numpy_docs/reference/random/generated/numpy.random.weibull.html\n",
      "numpy_docs/reference/random/generated/numpy.random.permutation.html\n"
     ]
    },
    {
     "output_type": "stream",
     "name": "stderr",
     "text": [
      "\r444it [02:35,  2.37it/s]"
     ]
    },
    {
     "output_type": "stream",
     "name": "stdout",
     "text": [
      "numpy_docs/reference/random/generated/numpy.random.ranf.html\n"
     ]
    },
    {
     "output_type": "stream",
     "name": "stderr",
     "text": [
      "446it [02:36,  2.61it/s]"
     ]
    },
    {
     "output_type": "stream",
     "name": "stdout",
     "text": [
      "numpy_docs/reference/random/generated/numpy.random.RandomState.weibull.html\n",
      "numpy_docs/reference/random/generated/numpy.random.sample.html\n"
     ]
    },
    {
     "output_type": "stream",
     "name": "stderr",
     "text": [
      "449it [02:37,  3.33it/s]"
     ]
    },
    {
     "output_type": "stream",
     "name": "stdout",
     "text": [
      "numpy_docs/reference/random/generated/numpy.random.Generator.hypergeometric.html\n",
      "numpy_docs/reference/random/generated/numpy.random.RandomState.negative_binomial.html\n"
     ]
    },
    {
     "output_type": "stream",
     "name": "stderr",
     "text": [
      "\r450it [02:37,  2.84it/s]"
     ]
    },
    {
     "output_type": "stream",
     "name": "stdout",
     "text": [
      "numpy_docs/reference/random/generated/numpy.random.Generator.bytes.html\n",
      "numpy_docs/reference/random/generated/numpy.random.Generator.wald.html\n",
      "numpy_docs/reference/random/generated/numpy.random.RandomState.seed.html\n"
     ]
    },
    {
     "output_type": "stream",
     "name": "stderr",
     "text": [
      "\r452it [02:38,  2.73it/s]"
     ]
    },
    {
     "output_type": "stream",
     "name": "stdout",
     "text": [
      "numpy_docs/reference/random/generated/numpy.random.RandomState.zipf.html\n"
     ]
    },
    {
     "output_type": "stream",
     "name": "stderr",
     "text": [
      "454it [02:39,  2.76it/s]"
     ]
    },
    {
     "output_type": "stream",
     "name": "stdout",
     "text": [
      "numpy_docs/reference/random/generated/numpy.random.vonmises.html\n",
      "numpy_docs/reference/random/generated/numpy.random.noncentral_chisquare.html\n"
     ]
    },
    {
     "output_type": "stream",
     "name": "stderr",
     "text": [
      "456it [02:40,  2.77it/s]"
     ]
    },
    {
     "output_type": "stream",
     "name": "stdout",
     "text": [
      "numpy_docs/reference/random/generated/numpy.random.logistic.html\n",
      "numpy_docs/reference/random/generated/numpy.random.f.html\n",
      "numpy_docs/reference/simd/simd-optimizations.html\n"
     ]
    },
    {
     "output_type": "stream",
     "name": "stderr",
     "text": [
      "\r458it [02:40,  4.36it/s]"
     ]
    },
    {
     "output_type": "stream",
     "name": "stdout",
     "text": [
      "numpy_docs/reference/simd/index.html\n"
     ]
    },
    {
     "output_type": "stream",
     "name": "stderr",
     "text": [
      "460it [02:40,  4.19it/s]"
     ]
    },
    {
     "output_type": "stream",
     "name": "stdout",
     "text": [
      "numpy_docs/reference/simd/how-it-works.html\n",
      "numpy_docs/reference/simd/build-options.html\n"
     ]
    },
    {
     "output_type": "stream",
     "name": "stderr",
     "text": [
      "\r461it [02:41,  3.50it/s]"
     ]
    },
    {
     "output_type": "stream",
     "name": "stdout",
     "text": [
      "numpy_docs/reference/generated/numpy.matrix.strides.html\n"
     ]
    },
    {
     "output_type": "stream",
     "name": "stderr",
     "text": [
      "465it [02:41,  6.62it/s]"
     ]
    },
    {
     "output_type": "stream",
     "name": "stdout",
     "text": [
      "numpy_docs/reference/generated/numpy.trim_zeros.html\n",
      "numpy_docs/reference/generated/numpy.polynomial.hermite_e.HermiteE.basis_name.html\n",
      "numpy_docs/reference/generated/numpy.ma.masked_array.ravel.html\n",
      "numpy_docs/reference/generated/numpy.ma.masked_array.newbyteorder.html\n",
      "numpy_docs/reference/generated/numpy.char.chararray.trace.html\n",
      "numpy_docs/reference/generated/numpy.RankWarning.html\n"
     ]
    },
    {
     "output_type": "stream",
     "name": "stderr",
     "text": [
      "\r468it [02:42,  7.08it/s]"
     ]
    },
    {
     "output_type": "stream",
     "name": "stdout",
     "text": [
      "numpy_docs/reference/generated/numpy.memmap.partition.html\n"
     ]
    },
    {
     "output_type": "stream",
     "name": "stderr",
     "text": [
      "471it [02:42,  7.10it/s]"
     ]
    },
    {
     "output_type": "stream",
     "name": "stdout",
     "text": [
      "numpy_docs/reference/generated/numpy.polynomial.polynomial.polymul.html\n",
      "numpy_docs/reference/generated/numpy.polynomial.hermite_e.HermiteE.html\n",
      "numpy_docs/reference/generated/numpy.char.chararray.mean.html\n",
      "numpy_docs/reference/generated/numpy.ndarray.trace.html\n"
     ]
    },
    {
     "output_type": "stream",
     "name": "stderr",
     "text": [
      "\r474it [02:42, 10.35it/s]"
     ]
    },
    {
     "output_type": "stream",
     "name": "stdout",
     "text": [
      "numpy_docs/reference/generated/numpy.printoptions.html\n",
      "numpy_docs/reference/generated/numpy.ma.MaskedArray.toflex.html\n",
      "numpy_docs/reference/generated/numpy.polynomial.polynomial.Polynomial.has_sametype.html\n"
     ]
    },
    {
     "output_type": "stream",
     "name": "stderr",
     "text": [
      "\r476it [02:43,  4.38it/s]"
     ]
    },
    {
     "output_type": "stream",
     "name": "stdout",
     "text": [
      "numpy_docs/reference/generated/numpy.linalg.lstsq.html\n",
      "numpy_docs/reference/generated/numpy.testing.assert_almost_equal.html\n"
     ]
    },
    {
     "output_type": "stream",
     "name": "stderr",
     "text": [
      "\r478it [02:44,  5.19it/s]"
     ]
    },
    {
     "output_type": "stream",
     "name": "stdout",
     "text": [
      "numpy_docs/reference/generated/numpy.char.chararray.setfield.html\n"
     ]
    },
    {
     "output_type": "stream",
     "name": "stderr",
     "text": [
      "\r480it [02:45,  2.79it/s]"
     ]
    },
    {
     "output_type": "stream",
     "name": "stdout",
     "text": [
      "numpy_docs/reference/generated/numpy.polynomial.legendre.legdomain.html\n",
      "numpy_docs/reference/generated/numpy.polynomial.chebyshev.Chebyshev.integ.html\n"
     ]
    },
    {
     "output_type": "stream",
     "name": "stderr",
     "text": [
      "\r481it [02:46,  2.18it/s]"
     ]
    },
    {
     "output_type": "stream",
     "name": "stdout",
     "text": [
      "numpy_docs/reference/generated/numpy.histogramdd.html\n"
     ]
    },
    {
     "output_type": "stream",
     "name": "stderr",
     "text": [
      "483it [02:47,  2.45it/s]"
     ]
    },
    {
     "output_type": "stream",
     "name": "stdout",
     "text": [
      "numpy_docs/reference/generated/numpy.ndarray.sort.html\n",
      "numpy_docs/reference/generated/numpy.ma.masked_array.hardmask.html\n",
      "numpy_docs/reference/generated/numpy.ndarray.itemset.html\n"
     ]
    },
    {
     "output_type": "stream",
     "name": "stderr",
     "text": [
      "486it [02:48,  2.88it/s]"
     ]
    },
    {
     "output_type": "stream",
     "name": "stdout",
     "text": [
      "numpy_docs/reference/generated/numpy.polynomial.polynomial.polyone.html\n",
      "numpy_docs/reference/generated/numpy.ndarray.__sub__.html\n",
      "numpy_docs/reference/generated/numpy.polynomial.laguerre.lagvander3d.html\n"
     ]
    },
    {
     "output_type": "stream",
     "name": "stderr",
     "text": [
      "492it [02:48,  6.22it/s]"
     ]
    },
    {
     "output_type": "stream",
     "name": "stdout",
     "text": [
      "numpy_docs/reference/generated/numpy.recarray.tostring.html\n",
      "numpy_docs/reference/generated/numpy.dtype.isnative.html\n",
      "numpy_docs/reference/generated/numpy.ndarray.__mod__.html\n",
      "numpy_docs/reference/generated/numpy.char.chararray.splitlines.html\n",
      "numpy_docs/reference/generated/numpy.polynomial.hermite_e.HermiteE.deriv.html\n"
     ]
    },
    {
     "output_type": "stream",
     "name": "stderr",
     "text": [
      "496it [02:49,  7.39it/s]"
     ]
    },
    {
     "output_type": "stream",
     "name": "stdout",
     "text": [
      "numpy_docs/reference/generated/numpy.flatiter.coords.html\n",
      "numpy_docs/reference/generated/numpy.ma.concatenate.html\n",
      "numpy_docs/reference/generated/numpy.ndarray.__neg__.html\n",
      "numpy_docs/reference/generated/numpy.ma.MaskType.real.html\n",
      "numpy_docs/reference/generated/numpy.polynomial.polynomial.polyval2d.html\n"
     ]
    },
    {
     "output_type": "stream",
     "name": "stderr",
     "text": [
      "\r498it [02:49,  8.89it/s]"
     ]
    },
    {
     "output_type": "stream",
     "name": "stdout",
     "text": [
      "numpy_docs/reference/generated/numpy.amax.html\n",
      "numpy_docs/reference/generated/numpy.char.chararray.argsort.html\n",
      "numpy_docs/reference/generated/numpy.recarray.setfield.html\n"
     ]
    },
    {
     "output_type": "stream",
     "name": "stderr",
     "text": [
      "503it [02:50,  8.13it/s]"
     ]
    },
    {
     "output_type": "stream",
     "name": "stdout",
     "text": [
      "numpy_docs/reference/generated/numpy.ndarray.__bool__.html\n",
      "numpy_docs/reference/generated/numpy.ma.common_fill_value.html\n",
      "numpy_docs/reference/generated/numpy.datetime_data.html\n",
      "numpy_docs/reference/generated/numpy.polynomial.laguerre.lagmul.html\n"
     ]
    },
    {
     "output_type": "stream",
     "name": "stderr",
     "text": [
      "508it [02:50, 11.76it/s]"
     ]
    },
    {
     "output_type": "stream",
     "name": "stdout",
     "text": [
      "numpy_docs/reference/generated/numpy.ma.masked_array.compressed.html\n",
      "numpy_docs/reference/generated/numpy.char.compare_chararrays.html\n",
      "numpy_docs/reference/generated/numpy.ma.flatnotmasked_contiguous.html\n",
      "numpy_docs/reference/generated/numpy.ma.masked_array.dumps.html\n",
      "numpy_docs/reference/generated/numpy.ma.masked_array.round.html\n",
      "numpy_docs/reference/generated/numpy.record.searchsorted.html\n"
     ]
    },
    {
     "output_type": "stream",
     "name": "stderr",
     "text": [
      "515it [02:50, 17.79it/s]"
     ]
    },
    {
     "output_type": "stream",
     "name": "stdout",
     "text": [
      "numpy_docs/reference/generated/numpy.ndarray.sum.html\n",
      "numpy_docs/reference/generated/numpy.busdaycalendar.holidays.html\n",
      "numpy_docs/reference/generated/numpy.matrix.newbyteorder.html\n",
      "numpy_docs/reference/generated/numpy.testing.rundocs.html\n",
      "numpy_docs/reference/generated/numpy.matrix.any.html\n",
      "numpy_docs/reference/generated/numpy.nditer.debug_print.html\n",
      "numpy_docs/reference/generated/numpy.memmap.flush.html\n",
      "numpy_docs/reference/generated/numpy.ufunc.types.html\n"
     ]
    },
    {
     "output_type": "stream",
     "name": "stderr",
     "text": [
      "523it [02:51, 17.24it/s]"
     ]
    },
    {
     "output_type": "stream",
     "name": "stdout",
     "text": [
      "numpy_docs/reference/generated/numpy.char.chararray.partition.html\n",
      "numpy_docs/reference/generated/numpy.ma.masked_array.real.html\n",
      "numpy_docs/reference/generated/numpy.distutils.ccompiler_opt.new_ccompiler_opt.html\n",
      "numpy_docs/reference/generated/numpy.ma.masked_array.compress.html\n",
      "numpy_docs/reference/generated/numpy.generic.shape.html\n",
      "numpy_docs/reference/generated/numpy.recarray.searchsorted.html\n",
      "numpy_docs/reference/generated/numpy.ndindex.html\n"
     ]
    },
    {
     "output_type": "stream",
     "name": "stderr",
     "text": [
      "\r526it [02:51, 19.35it/s]"
     ]
    },
    {
     "output_type": "stream",
     "name": "stdout",
     "text": [
      "numpy_docs/reference/generated/numpy.isreal.html\n",
      "numpy_docs/reference/generated/numpy.max.html\n"
     ]
    },
    {
     "output_type": "stream",
     "name": "stderr",
     "text": [
      "\r529it [02:51,  9.31it/s]"
     ]
    },
    {
     "output_type": "stream",
     "name": "stdout",
     "text": [
      "numpy_docs/reference/generated/numpy.ma.argmax.html\n",
      "numpy_docs/reference/generated/numpy.dtype.flags.html\n",
      "numpy_docs/reference/generated/numpy.polynomial.hermite_e.hermefromroots.html\n"
     ]
    },
    {
     "output_type": "stream",
     "name": "stderr",
     "text": [
      "533it [02:52,  8.94it/s]"
     ]
    },
    {
     "output_type": "stream",
     "name": "stdout",
     "text": [
      "numpy_docs/reference/generated/numpy.argmax.html\n",
      "numpy_docs/reference/generated/numpy.polynomial.hermite_e.poly2herme.html\n",
      "numpy_docs/reference/generated/numpy.record.pprint.html\n",
      "numpy_docs/reference/generated/numpy.ndarray.put.html\n",
      "numpy_docs/reference/generated/numpy.tile.html\n"
     ]
    },
    {
     "output_type": "stream",
     "name": "stderr",
     "text": [
      "539it [02:53,  8.88it/s]"
     ]
    },
    {
     "output_type": "stream",
     "name": "stdout",
     "text": [
      "numpy_docs/reference/generated/numpy.ma.getdata.html\n",
      "numpy_docs/reference/generated/numpy.chararray.encode.html\n",
      "numpy_docs/reference/generated/numpy.logical_not.html\n",
      "numpy_docs/reference/generated/numpy.ma.getmaskarray.html\n",
      "numpy_docs/reference/generated/numpy.polynomial.hermite_e.HermiteE.has_samecoef.html\n"
     ]
    },
    {
     "output_type": "stream",
     "name": "stderr",
     "text": [
      "\r541it [02:53,  7.41it/s]"
     ]
    },
    {
     "output_type": "stream",
     "name": "stdout",
     "text": [
      "numpy_docs/reference/generated/numpy.ma.MaskType.choose.html\n",
      "numpy_docs/reference/generated/numpy.emath.log.html\n"
     ]
    },
    {
     "output_type": "stream",
     "name": "stderr",
     "text": [
      "546it [02:54,  8.46it/s]"
     ]
    },
    {
     "output_type": "stream",
     "name": "stdout",
     "text": [
      "numpy_docs/reference/generated/numpy.ma.masked_array.copy.html\n",
      "numpy_docs/reference/generated/numpy.ma.MaskType.byteswap.html\n",
      "numpy_docs/reference/generated/numpy.polynomial.laguerre.lagone.html\n",
      "numpy_docs/reference/generated/numpy.chararray.ljust.html\n",
      "numpy_docs/reference/generated/numpy.extract.html\n"
     ]
    },
    {
     "output_type": "stream",
     "name": "stderr",
     "text": [
      "552it [02:54, 12.94it/s]"
     ]
    },
    {
     "output_type": "stream",
     "name": "stdout",
     "text": [
      "numpy_docs/reference/generated/numpy.chararray.sort.html\n",
      "numpy_docs/reference/generated/numpy.ediff1d.html\n",
      "numpy_docs/reference/generated/numpy.fft.fftfreq.html\n",
      "numpy_docs/reference/generated/numpy.char.chararray.swapcase.html\n",
      "numpy_docs/reference/generated/numpy.ma.MaskType.ravel.html\n"
     ]
    },
    {
     "output_type": "stream",
     "name": "stderr",
     "text": [
      "\r554it [02:54, 13.87it/s]"
     ]
    },
    {
     "output_type": "stream",
     "name": "stdout",
     "text": [
      "numpy_docs/reference/generated/numpy.invert.html\n",
      "numpy_docs/reference/generated/numpy.poly1d.order.html\n",
      "numpy_docs/reference/generated/numpy.polynomial.chebyshev.Chebyshev.interpolate.html\n"
     ]
    },
    {
     "output_type": "stream",
     "name": "stderr",
     "text": [
      "\r556it [02:55,  8.45it/s]"
     ]
    },
    {
     "output_type": "stream",
     "name": "stdout",
     "text": [
      "numpy_docs/reference/generated/numpy.nanvar.html\n"
     ]
    },
    {
     "output_type": "stream",
     "name": "stderr",
     "text": [
      "560it [02:55,  7.41it/s]"
     ]
    },
    {
     "output_type": "stream",
     "name": "stdout",
     "text": [
      "numpy_docs/reference/generated/numpy.ma.MaskType.diagonal.html\n",
      "numpy_docs/reference/generated/numpy.ma.empty_like.html\n",
      "numpy_docs/reference/generated/numpy.ma.size.html\n",
      "numpy_docs/reference/generated/numpy.fft.hfft.html\n",
      "numpy_docs/reference/generated/numpy.recarray.base.html\n",
      "numpy_docs/reference/generated/numpy.polynomial.hermite_e.HermiteE.convert.html\n"
     ]
    },
    {
     "output_type": "stream",
     "name": "stderr",
     "text": [
      "566it [02:56,  9.40it/s]"
     ]
    },
    {
     "output_type": "stream",
     "name": "stdout",
     "text": [
      "numpy_docs/reference/generated/numpy.cbrt.html\n",
      "numpy_docs/reference/generated/numpy.char.rfind.html\n",
      "numpy_docs/reference/generated/numpy.chararray.isalpha.html\n",
      "numpy_docs/reference/generated/numpy.polynomial.polynomial.Polynomial.has_samewindow.html\n"
     ]
    },
    {
     "output_type": "stream",
     "name": "stderr",
     "text": [
      "\r568it [02:57,  6.17it/s]"
     ]
    },
    {
     "output_type": "stream",
     "name": "stdout",
     "text": [
      "numpy_docs/reference/generated/numpy.fft.rfftn.html\n",
      "numpy_docs/reference/generated/numpy.polynomial.laguerre.lagval2d.html\n"
     ]
    },
    {
     "output_type": "stream",
     "name": "stderr",
     "text": [
      "\r570it [02:57,  6.43it/s]"
     ]
    },
    {
     "output_type": "stream",
     "name": "stdout",
     "text": [
      "numpy_docs/reference/generated/numpy.ma.notmasked_contiguous.html\n",
      "numpy_docs/reference/generated/numpy.ma.choose.html\n"
     ]
    },
    {
     "output_type": "stream",
     "name": "stderr",
     "text": [
      "573it [02:57,  7.22it/s]"
     ]
    },
    {
     "output_type": "stream",
     "name": "stdout",
     "text": [
      "numpy_docs/reference/generated/numpy.ldexp.html\n",
      "numpy_docs/reference/generated/numpy.ndarray.dumps.html\n",
      "numpy_docs/reference/generated/numpy.fromstring.html\n"
     ]
    },
    {
     "output_type": "stream",
     "name": "stderr",
     "text": [
      "577it [02:57, 10.23it/s]"
     ]
    },
    {
     "output_type": "stream",
     "name": "stdout",
     "text": [
      "numpy_docs/reference/generated/numpy.chararray.sum.html\n",
      "numpy_docs/reference/generated/numpy.ma.masked_array.mask.html\n",
      "numpy_docs/reference/generated/numpy.char.chararray.imag.html\n",
      "numpy_docs/reference/generated/numpy.ma.MaskedArray.argsort.html\n",
      "numpy_docs/reference/generated/numpy.polynomial.hermite.Hermite.cutdeg.html\n"
     ]
    },
    {
     "output_type": "stream",
     "name": "stderr",
     "text": [
      "580it [02:59,  5.15it/s]"
     ]
    },
    {
     "output_type": "stream",
     "name": "stdout",
     "text": [
      "numpy_docs/reference/generated/numpy.nanpercentile.html\n",
      "numpy_docs/reference/generated/numpy.errstate.__call__.html\n"
     ]
    },
    {
     "output_type": "stream",
     "name": "stderr",
     "text": [
      "\r582it [02:59,  6.55it/s]"
     ]
    },
    {
     "output_type": "stream",
     "name": "stdout",
     "text": [
      "numpy_docs/reference/generated/numpy.char.chararray.endswith.html\n",
      "numpy_docs/reference/generated/numpy.char.chararray.isalnum.html\n",
      "numpy_docs/reference/generated/numpy.distutils.ccompiler_opt.CCompilerOpt.feature_implies_c.html\n"
     ]
    },
    {
     "output_type": "stream",
     "name": "stderr",
     "text": [
      "586it [03:00,  4.98it/s]"
     ]
    },
    {
     "output_type": "stream",
     "name": "stdout",
     "text": [
      "numpy_docs/reference/generated/numpy.ma.mask_cols.html\n",
      "numpy_docs/reference/generated/numpy.record.argmax.html\n",
      "numpy_docs/reference/generated/numpy.ma.anomalies.html\n"
     ]
    },
    {
     "output_type": "stream",
     "name": "stderr",
     "text": [
      "\r589it [03:00,  7.09it/s]"
     ]
    },
    {
     "output_type": "stream",
     "name": "stdout",
     "text": [
      "numpy_docs/reference/generated/numpy.right_shift.html\n",
      "numpy_docs/reference/generated/numpy.recarray.tofile.html\n",
      "numpy_docs/reference/generated/numpy.ma.MaskedArray.base.html\n",
      "numpy_docs/reference/generated/numpy.polynomial.legendre.Legendre.trim.html\n"
     ]
    },
    {
     "output_type": "stream",
     "name": "stderr",
     "text": [
      "593it [03:00,  7.82it/s]"
     ]
    },
    {
     "output_type": "stream",
     "name": "stdout",
     "text": [
      "numpy_docs/reference/generated/numpy.chararray.istitle.html\n",
      "numpy_docs/reference/generated/numpy.ma.reshape.html\n",
      "numpy_docs/reference/generated/numpy.ma.masked_array.setflags.html\n"
     ]
    },
    {
     "output_type": "stream",
     "name": "stderr",
     "text": [
      "\r595it [03:01,  6.99it/s]"
     ]
    },
    {
     "output_type": "stream",
     "name": "stdout",
     "text": [
      "numpy_docs/reference/generated/numpy.polynomial.chebyshev.chebtrim.html\n",
      "numpy_docs/reference/generated/numpy.polynomial.chebyshev.Chebyshev.fromroots.html\n",
      "numpy_docs/reference/generated/numpy.ma.MaskedArray.__int__.html\n"
     ]
    },
    {
     "output_type": "stream",
     "name": "stderr",
     "text": [
      "600it [03:01, 10.53it/s]"
     ]
    },
    {
     "output_type": "stream",
     "name": "stdout",
     "text": [
      "numpy_docs/reference/generated/numpy.chararray.reshape.html\n",
      "numpy_docs/reference/generated/numpy.chararray.index.html\n",
      "numpy_docs/reference/generated/numpy.polynomial.chebyshev.chebgrid3d.html\n",
      "numpy_docs/reference/generated/numpy.matrix.getI.html\n",
      "numpy_docs/reference/generated/numpy.polynomial.hermite_e.hermezero.html\n"
     ]
    },
    {
     "output_type": "stream",
     "name": "stderr",
     "text": [
      "\r602it [03:01, 11.46it/s]"
     ]
    },
    {
     "output_type": "stream",
     "name": "stdout",
     "text": [
      "numpy_docs/reference/generated/numpy.hanning.html\n",
      "numpy_docs/reference/generated/numpy.polynomial.hermite_e.hermemulx.html\n"
     ]
    },
    {
     "output_type": "stream",
     "name": "stderr",
     "text": [
      "606it [03:02,  8.82it/s]"
     ]
    },
    {
     "output_type": "stream",
     "name": "stdout",
     "text": [
      "numpy_docs/reference/generated/numpy.ma.ones_like.html\n",
      "numpy_docs/reference/generated/numpy.ma.around.html\n",
      "numpy_docs/reference/generated/numpy.row_stack.html\n"
     ]
    },
    {
     "output_type": "stream",
     "name": "stderr",
     "text": [
      "\r609it [03:02, 11.46it/s]"
     ]
    },
    {
     "output_type": "stream",
     "name": "stdout",
     "text": [
      "numpy_docs/reference/generated/numpy.lib.user_array.container.tostring.html\n",
      "numpy_docs/reference/generated/numpy.logical_xor.html\n",
      "numpy_docs/reference/generated/numpy.isfinite.html\n",
      "numpy_docs/reference/generated/numpy.polynomial.legendre.legcompanion.html\n"
     ]
    },
    {
     "output_type": "stream",
     "name": "stderr",
     "text": [
      "614it [03:03, 11.08it/s]"
     ]
    },
    {
     "output_type": "stream",
     "name": "stdout",
     "text": [
      "numpy_docs/reference/generated/numpy.true_divide.html\n",
      "numpy_docs/reference/generated/numpy.around.html\n",
      "numpy_docs/reference/generated/numpy.matrix.tolist.html\n",
      "numpy_docs/reference/generated/numpy.ndarray.clip.html\n",
      "numpy_docs/reference/generated/numpy.distutils.ccompiler.new_compiler.html\n"
     ]
    },
    {
     "output_type": "stream",
     "name": "stderr",
     "text": [
      "\r617it [03:03,  8.11it/s]"
     ]
    },
    {
     "output_type": "stream",
     "name": "stdout",
     "text": [
      "numpy_docs/reference/generated/numpy.lib.format.descr_to_dtype.html\n",
      "numpy_docs/reference/generated/numpy.distutils.ccompiler_opt.CCompilerOpt.generate_dispatch_header.html\n",
      "numpy_docs/reference/generated/numpy.polynomial.polynomial.Polynomial.has_samedomain.html\n"
     ]
    },
    {
     "output_type": "stream",
     "name": "stderr",
     "text": [
      "\r619it [03:04,  6.39it/s]"
     ]
    },
    {
     "output_type": "stream",
     "name": "stdout",
     "text": [
      "numpy_docs/reference/generated/numpy.poly1d.integ.html\n"
     ]
    },
    {
     "output_type": "stream",
     "name": "stderr",
     "text": [
      "\r620it [03:04,  5.44it/s]"
     ]
    },
    {
     "output_type": "stream",
     "name": "stdout",
     "text": [
      "numpy_docs/reference/generated/numpy.record.dtype.html\n",
      "numpy_docs/reference/generated/numpy.polynomial.chebyshev.chebpow.html\n"
     ]
    },
    {
     "output_type": "stream",
     "name": "stderr",
     "text": [
      "625it [03:05,  7.02it/s]"
     ]
    },
    {
     "output_type": "stream",
     "name": "stdout",
     "text": [
      "numpy_docs/reference/generated/numpy.ma.masked_array.argmin.html\n",
      "numpy_docs/reference/generated/numpy.ndarray.argmax.html\n",
      "numpy_docs/reference/generated/numpy.polydiv.html\n",
      "numpy_docs/reference/generated/numpy.polynomial.polynomial.Polynomial.__call__.html\n"
     ]
    },
    {
     "output_type": "stream",
     "name": "stderr",
     "text": [
      "630it [03:05,  8.20it/s]"
     ]
    },
    {
     "output_type": "stream",
     "name": "stdout",
     "text": [
      "numpy_docs/reference/generated/numpy.ma.MaskedArray.tostring.html\n",
      "numpy_docs/reference/generated/numpy.ma.masked_array.recordmask.html\n",
      "numpy_docs/reference/generated/numpy.ma.compress_rows.html\n",
      "numpy_docs/reference/generated/numpy.ma.MaskedArray.flags.html\n",
      "numpy_docs/reference/generated/numpy.matlib.randn.html\n"
     ]
    },
    {
     "output_type": "stream",
     "name": "stderr",
     "text": [
      "635it [03:06,  8.80it/s]"
     ]
    },
    {
     "output_type": "stream",
     "name": "stdout",
     "text": [
      "numpy_docs/reference/generated/numpy.isfortran.html\n",
      "numpy_docs/reference/generated/numpy.memmap.conj.html\n",
      "numpy_docs/reference/generated/numpy.char.asarray.html\n",
      "numpy_docs/reference/generated/numpy.ma.conjugate.html\n",
      "numpy_docs/reference/generated/numpy.ndarray.__pos__.html\n"
     ]
    },
    {
     "output_type": "stream",
     "name": "stderr",
     "text": [
      "\r639it [03:06, 12.63it/s]"
     ]
    },
    {
     "output_type": "stream",
     "name": "stdout",
     "text": [
      "numpy_docs/reference/generated/numpy.char.chararray.argmin.html\n",
      "numpy_docs/reference/generated/numpy.chararray.count.html\n",
      "numpy_docs/reference/generated/numpy.memmap.put.html\n",
      "numpy_docs/reference/generated/numpy.multiply.html\n",
      "numpy_docs/reference/generated/numpy.emath.log10.html\n",
      "numpy_docs/reference/generated/numpy.char.chararray.flat.html\n"
     ]
    },
    {
     "output_type": "stream",
     "name": "stderr",
     "text": [
      "644it [03:07,  8.94it/s]"
     ]
    },
    {
     "output_type": "stream",
     "name": "stdout",
     "text": [
      "numpy_docs/reference/generated/numpy.polynomial.hermite.hermgrid3d.html\n",
      "numpy_docs/reference/generated/numpy.ndarray.ndim.html\n",
      "numpy_docs/reference/generated/numpy.memmap.argmin.html\n",
      "numpy_docs/reference/generated/numpy.ma.shape.html\n",
      "numpy_docs/reference/generated/numpy.recarray.ndim.html\n"
     ]
    },
    {
     "output_type": "stream",
     "name": "stderr",
     "text": [
      "\r648it [03:07, 12.09it/s]"
     ]
    },
    {
     "output_type": "stream",
     "name": "stdout",
     "text": [
      "numpy_docs/reference/generated/numpy.ma.isMaskedArray.html\n",
      "numpy_docs/reference/generated/numpy.ma.MaskedArray.__setmask__.html\n",
      "numpy_docs/reference/generated/numpy.distutils.exec_command.forward_bytes_to_stdout.html\n",
      "numpy_docs/reference/generated/numpy.ma.masked_array.partition.html\n"
     ]
    },
    {
     "output_type": "stream",
     "name": "stderr",
     "text": [
      "\r651it [03:07, 11.00it/s]"
     ]
    },
    {
     "output_type": "stream",
     "name": "stdout",
     "text": [
      "numpy_docs/reference/generated/numpy.save.html\n",
      "numpy_docs/reference/generated/numpy.polynomial.chebyshev.chebmulx.html\n"
     ]
    },
    {
     "output_type": "stream",
     "name": "stderr",
     "text": [
      "656it [03:08,  9.42it/s]"
     ]
    },
    {
     "output_type": "stream",
     "name": "stdout",
     "text": [
      "numpy_docs/reference/generated/numpy.char.chararray.newbyteorder.html\n",
      "numpy_docs/reference/generated/numpy.ma.masked_greater_equal.html\n",
      "numpy_docs/reference/generated/numpy.char.chararray.sort.html\n",
      "numpy_docs/reference/generated/numpy.memmap.transpose.html\n"
     ]
    },
    {
     "output_type": "stream",
     "name": "stderr",
     "text": [
      "662it [03:08, 12.41it/s]"
     ]
    },
    {
     "output_type": "stream",
     "name": "stdout",
     "text": [
      "numpy_docs/reference/generated/numpy.ndarray.cumsum.html\n",
      "numpy_docs/reference/generated/numpy.memmap.argmax.html\n",
      "numpy_docs/reference/generated/numpy.ma.masked_array.imag.html\n",
      "numpy_docs/reference/generated/numpy.roll.html\n",
      "numpy_docs/reference/generated/numpy.ndarray.T.html\n",
      "numpy_docs/reference/generated/numpy.polynomial.legendre.legvander.html\n"
     ]
    },
    {
     "output_type": "stream",
     "name": "stderr",
     "text": [
      "667it [03:09, 10.88it/s]"
     ]
    },
    {
     "output_type": "stream",
     "name": "stdout",
     "text": [
      "numpy_docs/reference/generated/numpy.set_string_function.html\n",
      "numpy_docs/reference/generated/numpy.ma.masked_array.take.html\n",
      "numpy_docs/reference/generated/numpy.cross.html\n",
      "numpy_docs/reference/generated/numpy.polynomial.hermite.hermtrim.html\n",
      "numpy_docs/reference/generated/numpy.ma.masked_array.ctypes.html\n"
     ]
    },
    {
     "output_type": "stream",
     "name": "stderr",
     "text": [
      "\r669it [03:09,  9.37it/s]"
     ]
    },
    {
     "output_type": "stream",
     "name": "stdout",
     "text": [
      "numpy_docs/reference/generated/numpy.recarray.ravel.html\n",
      "numpy_docs/reference/generated/numpy.polynomial.hermite.hermfromroots.html\n"
     ]
    },
    {
     "output_type": "stream",
     "name": "stderr",
     "text": [
      "673it [03:10,  8.73it/s]"
     ]
    },
    {
     "output_type": "stream",
     "name": "stdout",
     "text": [
      "numpy_docs/reference/generated/numpy.ma.setxor1d.html\n",
      "numpy_docs/reference/generated/numpy.record.var.html\n",
      "numpy_docs/reference/generated/numpy.seterr.html\n",
      "numpy_docs/reference/generated/numpy.char.chararray.islower.html\n"
     ]
    },
    {
     "output_type": "stream",
     "name": "stderr",
     "text": [
      "\r675it [03:10,  9.40it/s]"
     ]
    },
    {
     "output_type": "stream",
     "name": "stdout",
     "text": [
      "numpy_docs/reference/generated/numpy.ma.mean.html\n",
      "numpy_docs/reference/generated/numpy.lib.format.html\n"
     ]
    },
    {
     "output_type": "stream",
     "name": "stderr",
     "text": [
      "\r677it [03:10,  8.41it/s]"
     ]
    },
    {
     "output_type": "stream",
     "name": "stdout",
     "text": [
      "numpy_docs/reference/generated/numpy.ma.MaskType.all.html\n",
      "numpy_docs/reference/generated/numpy.fft.fft2.html\n",
      "numpy_docs/reference/generated/numpy.testing.assert_string_equal.html\n"
     ]
    },
    {
     "output_type": "stream",
     "name": "stderr",
     "text": [
      "\r679it [03:10,  8.96it/s]"
     ]
    },
    {
     "output_type": "stream",
     "name": "stdout",
     "text": [
      "numpy_docs/reference/generated/numpy.ma.apply_along_axis.html\n"
     ]
    },
    {
     "output_type": "stream",
     "name": "stderr",
     "text": [
      "\r681it [03:11,  7.81it/s]"
     ]
    },
    {
     "output_type": "stream",
     "name": "stdout",
     "text": [
      "numpy_docs/reference/generated/numpy.real.html\n",
      "numpy_docs/reference/generated/numpy.broadcast.nd.html\n",
      "numpy_docs/reference/generated/numpy.ma.MaskType.take.html\n",
      "numpy_docs/reference/generated/numpy.deg2rad.html\n"
     ]
    },
    {
     "output_type": "stream",
     "name": "stderr",
     "text": [
      "\r684it [03:11, 10.27it/s]"
     ]
    },
    {
     "output_type": "stream",
     "name": "stdout",
     "text": [
      "numpy_docs/reference/generated/numpy.ma.MaskedArray.torecords.html\n"
     ]
    },
    {
     "output_type": "stream",
     "name": "stderr",
     "text": [
      "\r686it [03:13,  3.15it/s]"
     ]
    },
    {
     "output_type": "stream",
     "name": "stdout",
     "text": [
      "numpy_docs/reference/generated/numpy.r_.html\n",
      "numpy_docs/reference/generated/numpy.finfo.smallest_normal.html\n",
      "numpy_docs/reference/generated/numpy.ma.dstack.html\n"
     ]
    },
    {
     "output_type": "stream",
     "name": "stderr",
     "text": [
      "690it [03:13,  4.84it/s]"
     ]
    },
    {
     "output_type": "stream",
     "name": "stdout",
     "text": [
      "numpy_docs/reference/generated/numpy.nanquantile.html\n",
      "numpy_docs/reference/generated/numpy.ma.masked_array.dot.html\n",
      "numpy_docs/reference/generated/numpy.DataSource.open.html\n"
     ]
    },
    {
     "output_type": "stream",
     "name": "stderr",
     "text": [
      "\r692it [03:13,  5.25it/s]"
     ]
    },
    {
     "output_type": "stream",
     "name": "stdout",
     "text": [
      "numpy_docs/reference/generated/numpy.polynomial.laguerre.Laguerre.fromroots.html\n",
      "numpy_docs/reference/generated/numpy.chararray.ndim.html\n"
     ]
    },
    {
     "output_type": "stream",
     "name": "stderr",
     "text": [
      "\r696it [03:14,  8.42it/s]"
     ]
    },
    {
     "output_type": "stream",
     "name": "stdout",
     "text": [
      "numpy_docs/reference/generated/numpy.sort_complex.html\n",
      "numpy_docs/reference/generated/numpy.chararray.lower.html\n",
      "numpy_docs/reference/generated/numpy.emath.power.html\n",
      "numpy_docs/reference/generated/numpy.char.chararray.astype.html\n",
      "numpy_docs/reference/generated/numpy.matrix.getfield.html\n"
     ]
    },
    {
     "output_type": "stream",
     "name": "stderr",
     "text": [
      "\r698it [03:14,  9.22it/s]"
     ]
    },
    {
     "output_type": "stream",
     "name": "stdout",
     "text": [
      "numpy_docs/reference/generated/numpy.char.add.html\n",
      "numpy_docs/reference/generated/numpy.fromfunction.html\n",
      "numpy_docs/reference/generated/numpy.chararray.partition.html\n",
      "numpy_docs/reference/generated/numpy.ones.html\n"
     ]
    },
    {
     "output_type": "stream",
     "name": "stderr",
     "text": [
      "704it [03:14,  9.05it/s]"
     ]
    },
    {
     "output_type": "stream",
     "name": "stdout",
     "text": [
      "numpy_docs/reference/generated/numpy.insert.html\n",
      "numpy_docs/reference/generated/numpy.take.html\n",
      "numpy_docs/reference/generated/numpy.polynomial.polynomial.Polynomial.window.html\n",
      "numpy_docs/reference/generated/numpy.ma.MaskedArray.__rdivmod__.html\n",
      "numpy_docs/reference/generated/numpy.ma.MaskedArray.cumsum.html\n",
      "numpy_docs/reference/generated/numpy.matrix.A.html\n"
     ]
    },
    {
     "output_type": "stream",
     "name": "stderr",
     "text": [
      "710it [03:15, 13.15it/s]"
     ]
    },
    {
     "output_type": "stream",
     "name": "stdout",
     "text": [
      "numpy_docs/reference/generated/numpy.ma.masked_array.itemsize.html\n",
      "numpy_docs/reference/generated/numpy.polynomial.legendre.legroots.html\n",
      "numpy_docs/reference/generated/numpy.polynomial.hermite_e.HermiteE.truncate.html\n"
     ]
    },
    {
     "output_type": "stream",
     "name": "stderr",
     "text": [
      "\r712it [03:15,  8.81it/s]"
     ]
    },
    {
     "output_type": "stream",
     "name": "stdout",
     "text": [
      "numpy_docs/reference/generated/numpy.polynomial.legendre.Legendre.fromroots.html\n",
      "numpy_docs/reference/generated/numpy.char.join.html\n",
      "numpy_docs/reference/generated/numpy.ndarray.nbytes.html\n",
      "numpy_docs/reference/generated/numpy.ma.MaskType.size.html\n",
      "numpy_docs/reference/generated/numpy.polynomial.chebyshev.Chebyshev.fit.html\n"
     ]
    },
    {
     "output_type": "stream",
     "name": "stderr",
     "text": [
      "719it [03:15, 12.96it/s]"
     ]
    },
    {
     "output_type": "stream",
     "name": "stdout",
     "text": [
      "numpy_docs/reference/generated/numpy.byte_bounds.html\n",
      "numpy_docs/reference/generated/numpy.record.conjugate.html\n",
      "numpy_docs/reference/generated/numpy.polynomial.hermite.hermgauss.html\n",
      "numpy_docs/reference/generated/numpy.generic.squeeze.html\n",
      "numpy_docs/reference/generated/numpy.fft.rfft2.html\n"
     ]
    },
    {
     "output_type": "stream",
     "name": "stderr",
     "text": [
      "\r721it [03:16, 14.06it/s]"
     ]
    },
    {
     "output_type": "stream",
     "name": "stdout",
     "text": [
      "numpy_docs/reference/generated/numpy.distutils.exec_command.find_executable.html\n",
      "numpy_docs/reference/generated/numpy.polynomial.laguerre.lagval.html\n"
     ]
    },
    {
     "output_type": "stream",
     "name": "stderr",
     "text": [
      "\r723it [03:16,  9.38it/s]"
     ]
    },
    {
     "output_type": "stream",
     "name": "stdout",
     "text": [
      "numpy_docs/reference/generated/numpy.indices.html\n"
     ]
    },
    {
     "output_type": "stream",
     "name": "stderr",
     "text": [
      "\r725it [03:16,  7.16it/s]"
     ]
    },
    {
     "output_type": "stream",
     "name": "stdout",
     "text": [
      "numpy_docs/reference/generated/numpy.ma.MaskedArray.__pow__.html\n",
      "numpy_docs/reference/generated/numpy.polynomial.polynomial.Polynomial.linspace.html\n"
     ]
    },
    {
     "output_type": "stream",
     "name": "stderr",
     "text": [
      "731it [03:17,  8.72it/s]"
     ]
    },
    {
     "output_type": "stream",
     "name": "stdout",
     "text": [
      "numpy_docs/reference/generated/numpy.ma.MaskedArray.__irshift__.html\n",
      "numpy_docs/reference/generated/numpy.equal.html\n",
      "numpy_docs/reference/generated/numpy.ma.MaskType.mean.html\n",
      "numpy_docs/reference/generated/numpy.asfortranarray.html\n",
      "numpy_docs/reference/generated/numpy.apply_along_axis.html\n",
      "numpy_docs/reference/generated/numpy.iinfo.max.html\n"
     ]
    },
    {
     "output_type": "stream",
     "name": "stderr",
     "text": [
      "\r735it [03:17, 12.08it/s]"
     ]
    },
    {
     "output_type": "stream",
     "name": "stdout",
     "text": [
      "numpy_docs/reference/generated/numpy.memmap.flatten.html\n",
      "numpy_docs/reference/generated/numpy.record.tolist.html\n",
      "numpy_docs/reference/generated/numpy.record.byteswap.html\n",
      "numpy_docs/reference/generated/numpy.polynomial.polynomial.Polynomial.domain.html\n",
      "numpy_docs/reference/generated/numpy.lib.format.write_array.html\n"
     ]
    },
    {
     "output_type": "stream",
     "name": "stderr",
     "text": [
      "\r737it [03:18,  8.24it/s]"
     ]
    },
    {
     "output_type": "stream",
     "name": "stdout",
     "text": [
      "numpy_docs/reference/generated/numpy.lib.format.magic.html\n",
      "numpy_docs/reference/generated/numpy.testing.assert_approx_equal.html\n",
      "numpy_docs/reference/generated/numpy.matrix.setflags.html\n"
     ]
    },
    {
     "output_type": "stream",
     "name": "stderr",
     "text": [
      "\r740it [03:18,  6.67it/s]"
     ]
    },
    {
     "output_type": "stream",
     "name": "stdout",
     "text": [
      "numpy_docs/reference/generated/numpy.matrix.base.html\n",
      "numpy_docs/reference/generated/numpy.matrix.itemset.html\n"
     ]
    },
    {
     "output_type": "stream",
     "name": "stderr",
     "text": [
      "745it [03:19,  7.50it/s]"
     ]
    },
    {
     "output_type": "stream",
     "name": "stdout",
     "text": [
      "numpy_docs/reference/generated/numpy.chararray.zfill.html\n",
      "numpy_docs/reference/generated/numpy.isneginf.html\n",
      "numpy_docs/reference/generated/numpy.logical_and.html\n",
      "numpy_docs/reference/generated/numpy.show_runtime.html\n",
      "numpy_docs/reference/generated/numpy.dtype.isbuiltin.html\n",
      "numpy_docs/reference/generated/numpy.memmap.html\n"
     ]
    },
    {
     "output_type": "stream",
     "name": "stderr",
     "text": [
      "\r748it [03:19,  9.45it/s]"
     ]
    },
    {
     "output_type": "stream",
     "name": "stdout",
     "text": [
      "numpy_docs/reference/generated/numpy.exp2.html\n",
      "numpy_docs/reference/generated/numpy.matrix.shape.html\n",
      "numpy_docs/reference/generated/numpy.ma.compressed.html\n"
     ]
    },
    {
     "output_type": "stream",
     "name": "stderr",
     "text": [
      "754it [03:20,  7.45it/s]"
     ]
    },
    {
     "output_type": "stream",
     "name": "stdout",
     "text": [
      "numpy_docs/reference/generated/numpy.ndarray.__xor__.html\n",
      "numpy_docs/reference/generated/numpy.recarray.put.html\n",
      "numpy_docs/reference/generated/numpy.fft.irfftn.html\n",
      "numpy_docs/reference/generated/numpy.ndarray.swapaxes.html\n",
      "numpy_docs/reference/generated/numpy.frombuffer.html\n"
     ]
    },
    {
     "output_type": "stream",
     "name": "stderr",
     "text": [
      "\r757it [03:20,  9.44it/s]"
     ]
    },
    {
     "output_type": "stream",
     "name": "stdout",
     "text": [
      "numpy_docs/reference/generated/numpy.cosh.html\n",
      "numpy_docs/reference/generated/numpy.recarray.conj.html\n",
      "numpy_docs/reference/generated/numpy.polynomial.legendre.Legendre.has_samedomain.html\n"
     ]
    },
    {
     "output_type": "stream",
     "name": "stderr",
     "text": [
      "\r759it [03:21,  7.76it/s]"
     ]
    },
    {
     "output_type": "stream",
     "name": "stdout",
     "text": [
      "numpy_docs/reference/generated/numpy.ma.masked_array.strides.html\n"
     ]
    },
    {
     "output_type": "stream",
     "name": "stderr",
     "text": [
      "763it [03:21,  8.57it/s]"
     ]
    },
    {
     "output_type": "stream",
     "name": "stdout",
     "text": [
      "numpy_docs/reference/generated/numpy.ma.any.html\n",
      "numpy_docs/reference/generated/numpy.lib.user_array.container.astype.html\n",
      "numpy_docs/reference/generated/numpy.set_printoptions.html\n",
      "numpy_docs/reference/generated/numpy.ufunc.__call__.html\n",
      "numpy_docs/reference/generated/numpy.polynomial.hermite_e.HermiteE.symbol.html\n",
      "numpy_docs/reference/generated/numpy.savez.html\n"
     ]
    },
    {
     "output_type": "stream",
     "name": "stderr",
     "text": [
      "769it [03:22,  9.43it/s]"
     ]
    },
    {
     "output_type": "stream",
     "name": "stdout",
     "text": [
      "numpy_docs/reference/generated/numpy.ma.MaskedArray.__getstate__.html\n",
      "numpy_docs/reference/generated/numpy.polynomial.hermite.Hermite.window.html\n",
      "numpy_docs/reference/generated/numpy.sinc.html\n",
      "numpy_docs/reference/generated/numpy.generic.setflags.html\n",
      "numpy_docs/reference/generated/numpy.char.less_equal.html\n",
      "numpy_docs/reference/generated/numpy.ma.MaskedArray.imag.html\n"
     ]
    },
    {
     "output_type": "stream",
     "name": "stderr",
     "text": [
      "774it [03:22, 13.17it/s]"
     ]
    },
    {
     "output_type": "stream",
     "name": "stdout",
     "text": [
      "numpy_docs/reference/generated/numpy.tensordot.html\n",
      "numpy_docs/reference/generated/numpy.ma.MaskType.imag.html\n",
      "numpy_docs/reference/generated/numpy.recarray.shape.html\n",
      "numpy_docs/reference/generated/numpy.distutils.ccompiler_opt.CCompilerOpt.feature_test.html\n",
      "numpy_docs/reference/generated/numpy.ma.MaskedArray.__rlshift__.html\n",
      "numpy_docs/reference/generated/numpy.choose.html\n"
     ]
    },
    {
     "output_type": "stream",
     "name": "stderr",
     "text": [
      "\r778it [03:22, 16.61it/s]"
     ]
    },
    {
     "output_type": "stream",
     "name": "stdout",
     "text": [
      "numpy_docs/reference/generated/numpy.lexsort.html\n"
     ]
    },
    {
     "output_type": "stream",
     "name": "stderr",
     "text": [
      "\r781it [03:23, 10.08it/s]"
     ]
    },
    {
     "output_type": "stream",
     "name": "stdout",
     "text": [
      "numpy_docs/reference/generated/numpy.recarray.argpartition.html\n",
      "numpy_docs/reference/generated/numpy.polynomial.chebyshev.cheb2poly.html\n",
      "numpy_docs/reference/generated/numpy.generic.base.html\n",
      "numpy_docs/reference/generated/numpy.memmap.cumprod.html\n",
      "numpy_docs/reference/generated/numpy.poly1d.c.html\n",
      "numpy_docs/reference/generated/numpy.ndarray.__ipow__.html\n"
     ]
    },
    {
     "output_type": "stream",
     "name": "stderr",
     "text": [
      "788it [03:23, 15.70it/s]"
     ]
    },
    {
     "output_type": "stream",
     "name": "stdout",
     "text": [
      "numpy_docs/reference/generated/numpy.nanmedian.html\n",
      "numpy_docs/reference/generated/numpy.ufunc.outer.html\n",
      "numpy_docs/reference/generated/numpy.ndarray.itemsize.html\n",
      "numpy_docs/reference/generated/numpy.matrix.put.html\n",
      "numpy_docs/reference/generated/numpy.char.chararray.item.html\n"
     ]
    },
    {
     "output_type": "stream",
     "name": "stderr",
     "text": [
      "\r791it [03:24,  5.87it/s]"
     ]
    },
    {
     "output_type": "stream",
     "name": "stdout",
     "text": [
      "numpy_docs/reference/generated/numpy.ndarray.__abs__.html\n",
      "numpy_docs/reference/generated/numpy.broadcast.shape.html\n",
      "numpy_docs/reference/generated/numpy.char.chararray.tobytes.html\n",
      "numpy_docs/reference/generated/numpy.ma.MaskedArray.__new__.html\n"
     ]
    },
    {
     "output_type": "stream",
     "name": "stderr",
     "text": [
      "\r794it [03:25,  7.43it/s]"
     ]
    },
    {
     "output_type": "stream",
     "name": "stdout",
     "text": [
      "numpy_docs/reference/generated/numpy.chararray.flat.html\n"
     ]
    },
    {
     "output_type": "stream",
     "name": "stderr",
     "text": [
      "\r796it [03:25,  6.02it/s]"
     ]
    },
    {
     "output_type": "stream",
     "name": "stdout",
     "text": [
      "numpy_docs/reference/generated/numpy.ones_like.html\n",
      "numpy_docs/reference/generated/numpy.recarray.field.html\n",
      "numpy_docs/reference/generated/numpy.distutils.ccompiler_opt.CCompilerOpt.feature_detect.html\n"
     ]
    },
    {
     "output_type": "stream",
     "name": "stderr",
     "text": [
      "800it [03:25,  8.21it/s]"
     ]
    },
    {
     "output_type": "stream",
     "name": "stdout",
     "text": [
      "numpy_docs/reference/generated/numpy.char.startswith.html\n",
      "numpy_docs/reference/generated/numpy.testing.assert_array_almost_equal.html\n",
      "numpy_docs/reference/generated/numpy.copy.html\n"
     ]
    },
    {
     "output_type": "stream",
     "name": "stderr",
     "text": [
      "\r802it [03:26,  8.49it/s]"
     ]
    },
    {
     "output_type": "stream",
     "name": "stdout",
     "text": [
      "numpy_docs/reference/generated/numpy.generic.__array_priority__.html\n",
      "numpy_docs/reference/generated/numpy.linalg.solve.html\n",
      "numpy_docs/reference/generated/numpy.record.max.html\n"
     ]
    },
    {
     "output_type": "stream",
     "name": "stderr",
     "text": [
      "806it [03:26,  9.49it/s]"
     ]
    },
    {
     "output_type": "stream",
     "name": "stdout",
     "text": [
      "numpy_docs/reference/generated/numpy.fft.fftshift.html\n",
      "numpy_docs/reference/generated/numpy.datetime_as_string.html\n",
      "numpy_docs/reference/generated/numpy.ma.masked_array.sum.html\n"
     ]
    },
    {
     "output_type": "stream",
     "name": "stderr",
     "text": [
      "\r808it [03:26, 10.19it/s]"
     ]
    },
    {
     "output_type": "stream",
     "name": "stdout",
     "text": [
      "numpy_docs/reference/generated/numpy.ma.expand_dims.html\n",
      "numpy_docs/reference/generated/numpy.generic.dtype.html\n",
      "numpy_docs/reference/generated/numpy.memmap.T.html\n"
     ]
    },
    {
     "output_type": "stream",
     "name": "stderr",
     "text": [
      "813it [03:26, 14.03it/s]"
     ]
    },
    {
     "output_type": "stream",
     "name": "stdout",
     "text": [
      "numpy_docs/reference/generated/numpy.polynomial.chebyshev.Chebyshev.symbol.html\n",
      "numpy_docs/reference/generated/numpy.memmap.argpartition.html\n",
      "numpy_docs/reference/generated/numpy.fix.html\n",
      "numpy_docs/reference/generated/numpy.chararray.upper.html\n"
     ]
    },
    {
     "output_type": "stream",
     "name": "stderr",
     "text": [
      "\r815it [03:27, 13.32it/s]"
     ]
    },
    {
     "output_type": "stream",
     "name": "stdout",
     "text": [
      "numpy_docs/reference/generated/numpy.matlib.zeros.html\n",
      "numpy_docs/reference/generated/numpy.ptp.html\n"
     ]
    },
    {
     "output_type": "stream",
     "name": "stderr",
     "text": [
      "\r817it [03:27,  6.11it/s]"
     ]
    },
    {
     "output_type": "stream",
     "name": "stdout",
     "text": [
      "numpy_docs/reference/generated/numpy.char.chararray.prod.html\n",
      "numpy_docs/reference/generated/numpy.mintypecode.html\n"
     ]
    },
    {
     "output_type": "stream",
     "name": "stderr",
     "text": [
      "\r819it [03:28,  5.21it/s]"
     ]
    },
    {
     "output_type": "stream",
     "name": "stdout",
     "text": [
      "numpy_docs/reference/generated/numpy.polynomial.laguerre.lagadd.html\n",
      "numpy_docs/reference/generated/numpy.char.chararray.shape.html\n",
      "numpy_docs/reference/generated/numpy.polynomial.laguerre.Laguerre.convert.html\n"
     ]
    },
    {
     "output_type": "stream",
     "name": "stderr",
     "text": [
      "\r821it [03:28,  5.08it/s]"
     ]
    },
    {
     "output_type": "stream",
     "name": "stdout",
     "text": [
      "numpy_docs/reference/generated/numpy.ma.masked_array.baseclass.html\n",
      "numpy_docs/reference/generated/numpy.poly.html\n",
      "numpy_docs/reference/generated/numpy.polynomial.chebyshev.chebvander.html\n"
     ]
    },
    {
     "output_type": "stream",
     "name": "stderr",
     "text": [
      "\r824it [03:29,  5.17it/s]"
     ]
    },
    {
     "output_type": "stream",
     "name": "stdout",
     "text": [
      "numpy_docs/reference/generated/numpy.mod.html\n"
     ]
    },
    {
     "output_type": "stream",
     "name": "stderr",
     "text": [
      "828it [03:30,  5.56it/s]"
     ]
    },
    {
     "output_type": "stream",
     "name": "stdout",
     "text": [
      "numpy_docs/reference/generated/numpy.memmap.newbyteorder.html\n",
      "numpy_docs/reference/generated/numpy.char.chararray.squeeze.html\n",
      "numpy_docs/reference/generated/numpy.repeat.html\n",
      "numpy_docs/reference/generated/numpy.ma.MaskType.tostring.html\n",
      "numpy_docs/reference/generated/numpy.chararray.split.html\n",
      "numpy_docs/reference/generated/numpy.dtype.html\n"
     ]
    },
    {
     "output_type": "stream",
     "name": "stderr",
     "text": [
      "\r831it [03:30,  7.55it/s]"
     ]
    },
    {
     "output_type": "stream",
     "name": "stdout",
     "text": [
      "numpy_docs/reference/generated/numpy.polynomial.hermite_e.hermevander.html\n",
      "numpy_docs/reference/generated/numpy.ma.masked_array.setfield.html\n"
     ]
    },
    {
     "output_type": "stream",
     "name": "stderr",
     "text": [
      "\r833it [03:30,  5.53it/s]"
     ]
    },
    {
     "output_type": "stream",
     "name": "stdout",
     "text": [
      "numpy_docs/reference/generated/numpy.ma.MaskedArray.harden_mask.html\n",
      "numpy_docs/reference/generated/numpy.polynomial.hermite.hermvander.html\n"
     ]
    },
    {
     "output_type": "stream",
     "name": "stderr",
     "text": [
      "838it [03:31,  7.48it/s]"
     ]
    },
    {
     "output_type": "stream",
     "name": "stdout",
     "text": [
      "numpy_docs/reference/generated/numpy.ma.MaskType.conj.html\n",
      "numpy_docs/reference/generated/numpy.ndarray.__invert__.html\n",
      "numpy_docs/reference/generated/numpy.frexp.html\n",
      "numpy_docs/reference/generated/numpy.record.setfield.html\n",
      "numpy_docs/reference/generated/numpy.ma.MaskedArray.T.html\n",
      "numpy_docs/reference/generated/numpy.ma.masked_greater.html\n"
     ]
    },
    {
     "output_type": "stream",
     "name": "stderr",
     "text": [
      "\r841it [03:31,  9.83it/s]"
     ]
    },
    {
     "output_type": "stream",
     "name": "stdout",
     "text": [
      "numpy_docs/reference/generated/numpy.emath.arccos.html\n"
     ]
    },
    {
     "output_type": "stream",
     "name": "stderr",
     "text": [
      "845it [03:32,  8.88it/s]"
     ]
    },
    {
     "output_type": "stream",
     "name": "stdout",
     "text": [
      "numpy_docs/reference/generated/numpy.isposinf.html\n",
      "numpy_docs/reference/generated/numpy.geterrobj.html\n",
      "numpy_docs/reference/generated/numpy.ndarray.ravel.html\n",
      "numpy_docs/reference/generated/numpy.array_split.html\n",
      "numpy_docs/reference/generated/numpy.distutils.ccompiler_opt.CCompilerOpt.dist_load_module.html\n"
     ]
    },
    {
     "output_type": "stream",
     "name": "stderr",
     "text": [
      "\r847it [03:32,  6.77it/s]"
     ]
    },
    {
     "output_type": "stream",
     "name": "stdout",
     "text": [
      "numpy_docs/reference/generated/numpy.chararray.item.html\n"
     ]
    },
    {
     "output_type": "stream",
     "name": "stderr",
     "text": [
      "851it [03:33,  6.30it/s]"
     ]
    },
    {
     "output_type": "stream",
     "name": "stdout",
     "text": [
      "numpy_docs/reference/generated/numpy.ma.MaskedArray.__divmod__.html\n",
      "numpy_docs/reference/generated/numpy.vdot.html\n",
      "numpy_docs/reference/generated/numpy.ma.asarray.html\n",
      "numpy_docs/reference/generated/numpy.ma.MaskType.strides.html\n",
      "numpy_docs/reference/generated/numpy.polynomial.polynomial.polyfromroots.html\n"
     ]
    },
    {
     "output_type": "stream",
     "name": "stderr",
     "text": [
      "\r853it [03:33,  7.61it/s]"
     ]
    },
    {
     "output_type": "stream",
     "name": "stdout",
     "text": [
      "numpy_docs/reference/generated/numpy.split.html\n",
      "numpy_docs/reference/generated/numpy.record.itemsize.html\n",
      "numpy_docs/reference/generated/numpy.linalg.matrix_power.html\n"
     ]
    },
    {
     "output_type": "stream",
     "name": "stderr",
     "text": [
      "\r856it [03:34,  6.69it/s]"
     ]
    },
    {
     "output_type": "stream",
     "name": "stdout",
     "text": [
      "numpy_docs/reference/generated/numpy.lib.format.read_array_header_2_0.html\n"
     ]
    },
    {
     "output_type": "stream",
     "name": "stderr",
     "text": [
      "860it [03:34,  6.80it/s]"
     ]
    },
    {
     "output_type": "stream",
     "name": "stdout",
     "text": [
      "numpy_docs/reference/generated/numpy.ma.MaskedArray.__ge__.html\n",
      "numpy_docs/reference/generated/numpy.record.compress.html\n",
      "numpy_docs/reference/generated/numpy.polynomial.hermite_e.HermiteE.fromroots.html\n",
      "numpy_docs/reference/generated/numpy.polynomial.legendre.Legendre.__call__.html\n"
     ]
    },
    {
     "output_type": "stream",
     "name": "stderr",
     "text": [
      "\r862it [03:35,  5.87it/s]"
     ]
    },
    {
     "output_type": "stream",
     "name": "stdout",
     "text": [
      "numpy_docs/reference/generated/numpy.ma.MaskedArray.soften_mask.html\n",
      "numpy_docs/reference/generated/numpy.array_str.html\n"
     ]
    },
    {
     "output_type": "stream",
     "name": "stderr",
     "text": [
      "866it [03:35,  6.94it/s]"
     ]
    },
    {
     "output_type": "stream",
     "name": "stdout",
     "text": [
      "numpy_docs/reference/generated/numpy.ma.MaskedArray.put.html\n",
      "numpy_docs/reference/generated/numpy.ma.masked_array.base.html\n",
      "numpy_docs/reference/generated/numpy.ma.masked_array.astype.html\n",
      "numpy_docs/reference/generated/numpy.get_include.html\n",
      "numpy_docs/reference/generated/numpy.polynomial.hermite.hermline.html\n"
     ]
    },
    {
     "output_type": "stream",
     "name": "stderr",
     "text": [
      "871it [03:36, 10.90it/s]"
     ]
    },
    {
     "output_type": "stream",
     "name": "stdout",
     "text": [
      "numpy_docs/reference/generated/numpy.char.chararray.zfill.html\n",
      "numpy_docs/reference/generated/numpy.recarray.dump.html\n",
      "numpy_docs/reference/generated/numpy.floor_divide.html\n",
      "numpy_docs/reference/generated/numpy.lib.format.read_magic.html\n",
      "numpy_docs/reference/generated/numpy.testing.assert_warns.html\n"
     ]
    },
    {
     "output_type": "stream",
     "name": "stderr",
     "text": [
      "\r874it [03:36, 12.74it/s]"
     ]
    },
    {
     "output_type": "stream",
     "name": "stdout",
     "text": [
      "numpy_docs/reference/generated/numpy.isin.html\n",
      "numpy_docs/reference/generated/numpy.fft.rfft.html\n",
      "numpy_docs/reference/generated/numpy.ma.MaskedArray.diagonal.html\n",
      "numpy_docs/reference/generated/numpy.memmap.ctypes.html\n"
     ]
    },
    {
     "output_type": "stream",
     "name": "stderr",
     "text": [
      "880it [03:36, 13.44it/s]"
     ]
    },
    {
     "output_type": "stream",
     "name": "stdout",
     "text": [
      "numpy_docs/reference/generated/numpy.chararray.isdigit.html\n",
      "numpy_docs/reference/generated/numpy.nditer.nop.html\n",
      "numpy_docs/reference/generated/numpy.ndarray.mean.html\n",
      "numpy_docs/reference/generated/numpy.ma.MaskedArray.min.html\n",
      "numpy_docs/reference/generated/numpy.ma.hstack.html\n"
     ]
    },
    {
     "output_type": "stream",
     "name": "stderr",
     "text": [
      "\r882it [03:36, 12.89it/s]"
     ]
    },
    {
     "output_type": "stream",
     "name": "stdout",
     "text": [
      "numpy_docs/reference/generated/numpy.polynomial.legendre.legmul.html\n",
      "numpy_docs/reference/generated/numpy.polynomial.hermite.Hermite.trim.html\n"
     ]
    },
    {
     "output_type": "stream",
     "name": "stderr",
     "text": [
      "\r884it [03:37,  8.43it/s]"
     ]
    },
    {
     "output_type": "stream",
     "name": "stdout",
     "text": [
      "numpy_docs/reference/generated/numpy.DataSource.abspath.html\n",
      "numpy_docs/reference/generated/numpy.ma.diagflat.html\n"
     ]
    },
    {
     "output_type": "stream",
     "name": "stderr",
     "text": [
      "\r886it [03:38,  3.79it/s]"
     ]
    },
    {
     "output_type": "stream",
     "name": "stdout",
     "text": [
      "numpy_docs/reference/generated/numpy.memmap.real.html\n",
      "numpy_docs/reference/generated/numpy.matrix.partition.html\n"
     ]
    },
    {
     "output_type": "stream",
     "name": "stderr",
     "text": [
      "\r888it [03:39,  3.01it/s]"
     ]
    },
    {
     "output_type": "stream",
     "name": "stdout",
     "text": [
      "numpy_docs/reference/generated/numpy.record.argmin.html\n",
      "numpy_docs/reference/generated/numpy.memmap.repeat.html\n",
      "numpy_docs/reference/generated/numpy.ma.asanyarray.html\n"
     ]
    },
    {
     "output_type": "stream",
     "name": "stderr",
     "text": [
      "892it [03:40,  4.32it/s]"
     ]
    },
    {
     "output_type": "stream",
     "name": "stdout",
     "text": [
      "numpy_docs/reference/generated/numpy.round.html\n",
      "numpy_docs/reference/generated/numpy.polynomial.legendre.Legendre.identity.html\n"
     ]
    },
    {
     "output_type": "stream",
     "name": "stderr",
     "text": [
      "895it [03:40,  6.03it/s]"
     ]
    },
    {
     "output_type": "stream",
     "name": "stdout",
     "text": [
      "numpy_docs/reference/generated/numpy.distutils.ccompiler_opt.CCompilerOpt.conf_min_features.html\n",
      "numpy_docs/reference/generated/numpy.ndarray.__ior__.html\n",
      "numpy_docs/reference/generated/numpy.char.lstrip.html\n"
     ]
    },
    {
     "output_type": "stream",
     "name": "stderr",
     "text": [
      "899it [03:41,  4.71it/s]"
     ]
    },
    {
     "output_type": "stream",
     "name": "stdout",
     "text": [
      "numpy_docs/reference/generated/numpy.nditer.finished.html\n",
      "numpy_docs/reference/generated/numpy.lib.Arrayterator.shape.html\n",
      "numpy_docs/reference/generated/numpy.char.chararray.count.html\n",
      "numpy_docs/reference/generated/numpy.ma.MaskType.item.html\n",
      "numpy_docs/reference/generated/numpy.ndarray.std.html\n"
     ]
    },
    {
     "output_type": "stream",
     "name": "stderr",
     "text": [
      "\r903it [03:41,  7.51it/s]"
     ]
    },
    {
     "output_type": "stream",
     "name": "stdout",
     "text": [
      "numpy_docs/reference/generated/numpy.dtype.str.html\n",
      "numpy_docs/reference/generated/numpy.polynomial.legendre.legdiv.html\n",
      "numpy_docs/reference/generated/numpy.record.nbytes.html\n",
      "numpy_docs/reference/generated/numpy.record.base.html\n",
      "numpy_docs/reference/generated/numpy.polynomial.chebyshev.Chebyshev.has_samewindow.html\n"
     ]
    },
    {
     "output_type": "stream",
     "name": "stderr",
     "text": [
      "\r906it [03:42,  6.79it/s]"
     ]
    },
    {
     "output_type": "stream",
     "name": "stdout",
     "text": [
      "numpy_docs/reference/generated/numpy.recarray.repeat.html\n",
      "numpy_docs/reference/generated/numpy.ma.masked_array.toflex.html\n"
     ]
    },
    {
     "output_type": "stream",
     "name": "stderr",
     "text": [
      "\r908it [03:42,  6.74it/s]"
     ]
    },
    {
     "output_type": "stream",
     "name": "stdout",
     "text": [
      "numpy_docs/reference/generated/numpy.ma.masked_array.tostring.html\n",
      "numpy_docs/reference/generated/numpy.distutils.log.set_verbosity.html\n",
      "numpy_docs/reference/generated/numpy.distutils.ccompiler_opt.CCompilerOpt.conf_features_partial.html\n"
     ]
    },
    {
     "output_type": "stream",
     "name": "stderr",
     "text": [
      "914it [03:43,  8.29it/s]"
     ]
    },
    {
     "output_type": "stream",
     "name": "stdout",
     "text": [
      "numpy_docs/reference/generated/numpy.delete.html\n",
      "numpy_docs/reference/generated/numpy.ma.set_fill_value.html\n",
      "numpy_docs/reference/generated/numpy.matrix.squeeze.html\n",
      "numpy_docs/reference/generated/numpy.ufunc.nargs.html\n"
     ]
    },
    {
     "output_type": "stream",
     "name": "stderr",
     "text": [
      "919it [03:43,  9.70it/s]"
     ]
    },
    {
     "output_type": "stream",
     "name": "stdout",
     "text": [
      "numpy_docs/reference/generated/numpy.issubclass_.html\n",
      "numpy_docs/reference/generated/numpy.ma.trace.html\n",
      "numpy_docs/reference/generated/numpy.matrix.take.html\n",
      "numpy_docs/reference/generated/numpy.setbufsize.html\n",
      "numpy_docs/reference/generated/numpy.ma.MaskedArray.__rsub__.html\n",
      "numpy_docs/reference/generated/numpy.less_equal.html\n",
      "numpy_docs/reference/generated/numpy.ma.MaskedArray.__rtruediv__.html\n",
      "numpy_docs/reference/generated/numpy.polynomial.hermite_e.HermiteE.__call__.html\n"
     ]
    },
    {
     "output_type": "stream",
     "name": "stderr",
     "text": [
      "927it [03:44, 12.78it/s]"
     ]
    },
    {
     "output_type": "stream",
     "name": "stdout",
     "text": [
      "numpy_docs/reference/generated/numpy.ma.compress_cols.html\n",
      "numpy_docs/reference/generated/numpy.memmap.dump.html\n",
      "numpy_docs/reference/generated/numpy.ma.MaskType.var.html\n",
      "numpy_docs/reference/generated/numpy.chararray.center.html\n",
      "numpy_docs/reference/generated/numpy.recarray.html\n"
     ]
    },
    {
     "output_type": "stream",
     "name": "stderr",
     "text": [
      "\r929it [03:44, 12.29it/s]"
     ]
    },
    {
     "output_type": "stream",
     "name": "stdout",
     "text": [
      "numpy_docs/reference/generated/numpy.ndarray.choose.html\n",
      "numpy_docs/reference/generated/numpy.memmap.setfield.html\n"
     ]
    },
    {
     "output_type": "stream",
     "name": "stderr",
     "text": [
      "\r931it [03:44,  9.68it/s]"
     ]
    },
    {
     "output_type": "stream",
     "name": "stdout",
     "text": [
      "numpy_docs/reference/generated/numpy.polynomial.hermite.hermint.html\n",
      "numpy_docs/reference/generated/numpy.ufunc.reduce.html\n"
     ]
    },
    {
     "output_type": "stream",
     "name": "stderr",
     "text": [
      "936it [03:45,  9.43it/s]"
     ]
    },
    {
     "output_type": "stream",
     "name": "stdout",
     "text": [
      "numpy_docs/reference/generated/numpy.ma.masked_array.shape.html\n",
      "numpy_docs/reference/generated/numpy.spacing.html\n",
      "numpy_docs/reference/generated/numpy.char.chararray.flags.html\n",
      "numpy_docs/reference/generated/numpy.matrix.copy.html\n",
      "numpy_docs/reference/generated/numpy.char.rsplit.html\n"
     ]
    },
    {
     "output_type": "stream",
     "name": "stderr",
     "text": [
      "940it [03:45, 11.95it/s]"
     ]
    },
    {
     "output_type": "stream",
     "name": "stdout",
     "text": [
      "numpy_docs/reference/generated/numpy.polynomial.hermite.hermdiv.html\n",
      "numpy_docs/reference/generated/numpy.vstack.html\n",
      "numpy_docs/reference/generated/numpy.chararray.any.html\n",
      "numpy_docs/reference/generated/numpy.diagonal.html\n"
     ]
    },
    {
     "output_type": "stream",
     "name": "stderr",
     "text": [
      "\r942it [03:46,  7.41it/s]"
     ]
    },
    {
     "output_type": "stream",
     "name": "stdout",
     "text": [
      "numpy_docs/reference/generated/numpy.ma.make_mask.html\n",
      "numpy_docs/reference/generated/numpy.char.chararray.tostring.html\n",
      "numpy_docs/reference/generated/numpy.polynomial.laguerre.lagweight.html\n"
     ]
    },
    {
     "output_type": "stream",
     "name": "stderr",
     "text": [
      "\r944it [03:46,  6.35it/s]"
     ]
    },
    {
     "output_type": "stream",
     "name": "stdout",
     "text": [
      "numpy_docs/reference/generated/numpy.polynomial.chebyshev.chebval.html\n"
     ]
    },
    {
     "output_type": "stream",
     "name": "stderr",
     "text": [
      "\r945it [03:47,  4.72it/s]"
     ]
    },
    {
     "output_type": "stream",
     "name": "stdout",
     "text": [
      "numpy_docs/reference/generated/numpy.nditer.reset.html\n",
      "numpy_docs/reference/generated/numpy.argpartition.html\n"
     ]
    },
    {
     "output_type": "stream",
     "name": "stderr",
     "text": [
      "950it [03:47,  6.70it/s]"
     ]
    },
    {
     "output_type": "stream",
     "name": "stdout",
     "text": [
      "numpy_docs/reference/generated/numpy.fft.irfft.html\n",
      "numpy_docs/reference/generated/numpy.ma.MaskedArray.__xor__.html\n",
      "numpy_docs/reference/generated/numpy.matrix.itemsize.html\n",
      "numpy_docs/reference/generated/numpy.polynomial.polynomial.Polynomial.basis_name.html\n",
      "numpy_docs/reference/generated/numpy.polyadd.html\n"
     ]
    },
    {
     "output_type": "stream",
     "name": "stderr",
     "text": [
      "\r952it [03:48,  6.31it/s]"
     ]
    },
    {
     "output_type": "stream",
     "name": "stdout",
     "text": [
      "numpy_docs/reference/generated/numpy.s_.html\n"
     ]
    },
    {
     "output_type": "stream",
     "name": "stderr",
     "text": [
      "957it [03:48,  7.74it/s]"
     ]
    },
    {
     "output_type": "stream",
     "name": "stdout",
     "text": [
      "numpy_docs/reference/generated/numpy.char.chararray.searchsorted.html\n",
      "numpy_docs/reference/generated/numpy.char.chararray.reshape.html\n",
      "numpy_docs/reference/generated/numpy.ma.MaskedArray.__array_priority__.html\n",
      "numpy_docs/reference/generated/numpy.matrix.sum.html\n",
      "numpy_docs/reference/generated/numpy.memmap.dumps.html\n",
      "numpy_docs/reference/generated/numpy.broadcast_arrays.html\n"
     ]
    },
    {
     "output_type": "stream",
     "name": "stderr",
     "text": [
      "\r960it [03:48, 10.31it/s]"
     ]
    },
    {
     "output_type": "stream",
     "name": "stdout",
     "text": [
      "numpy_docs/reference/generated/numpy.ma.MaskedArray.cumprod.html\n",
      "numpy_docs/reference/generated/numpy.ma.masked_array.harden_mask.html\n",
      "numpy_docs/reference/generated/numpy.distutils.core.Extension.html\n",
      "numpy_docs/reference/generated/numpy.chararray.isspace.html\n",
      "numpy_docs/reference/generated/numpy.ndarray.strides.html\n"
     ]
    },
    {
     "output_type": "stream",
     "name": "stderr",
     "text": [
      "966it [03:49,  8.02it/s]"
     ]
    },
    {
     "output_type": "stream",
     "name": "stdout",
     "text": [
      "numpy_docs/reference/generated/numpy.ma.transpose.html\n",
      "numpy_docs/reference/generated/numpy.polynomial.polynomial.polyroots.html\n",
      "numpy_docs/reference/generated/numpy.polynomial.laguerre.lagfit.html\n"
     ]
    },
    {
     "output_type": "stream",
     "name": "stderr",
     "text": [
      "\r968it [03:50,  9.03it/s]"
     ]
    },
    {
     "output_type": "stream",
     "name": "stdout",
     "text": [
      "numpy_docs/reference/generated/numpy.ma.masked_array.T.html\n",
      "numpy_docs/reference/generated/numpy.ma.masked_outside.html\n"
     ]
    },
    {
     "output_type": "stream",
     "name": "stderr",
     "text": [
      "973it [03:51,  6.81it/s]"
     ]
    },
    {
     "output_type": "stream",
     "name": "stdout",
     "text": [
      "numpy_docs/reference/generated/numpy.ufunc.ntypes.html\n",
      "numpy_docs/reference/generated/numpy.ma.masked_object.html\n",
      "numpy_docs/reference/generated/numpy.memmap.mean.html\n",
      "numpy_docs/reference/generated/numpy.testing.overrides.allows_array_ufunc_override.html\n",
      "numpy_docs/reference/generated/numpy.tril_indices_from.html\n",
      "numpy_docs/reference/generated/numpy.polynomial.chebyshev.Chebyshev.degree.html\n"
     ]
    },
    {
     "output_type": "stream",
     "name": "stderr",
     "text": [
      "978it [03:51, 10.30it/s]"
     ]
    },
    {
     "output_type": "stream",
     "name": "stdout",
     "text": [
      "numpy_docs/reference/generated/numpy.dtype.__le__.html\n",
      "numpy_docs/reference/generated/numpy.ma.MaskedArray.tofile.html\n",
      "numpy_docs/reference/generated/numpy.ndarray.__iand__.html\n",
      "numpy_docs/reference/generated/numpy.chararray.ctypes.html\n"
     ]
    },
    {
     "output_type": "stream",
     "name": "stderr",
     "text": [
      "\r980it [03:51,  8.60it/s]"
     ]
    },
    {
     "output_type": "stream",
     "name": "stdout",
     "text": [
      "numpy_docs/reference/generated/numpy.testing.suppress_warnings.__call__.html\n",
      "numpy_docs/reference/generated/numpy.ma.masked_array.itemset.html\n"
     ]
    },
    {
     "output_type": "stream",
     "name": "stderr",
     "text": [
      "984it [03:52,  7.79it/s]"
     ]
    },
    {
     "output_type": "stream",
     "name": "stdout",
     "text": [
      "numpy_docs/reference/generated/numpy.ndarray.__array__.html\n",
      "numpy_docs/reference/generated/numpy.iterable.html\n",
      "numpy_docs/reference/generated/numpy.ma.MaskedArray.__lt__.html\n",
      "numpy_docs/reference/generated/numpy.geomspace.html\n"
     ]
    },
    {
     "output_type": "stream",
     "name": "stderr",
     "text": [
      "\r986it [03:52,  9.10it/s]"
     ]
    },
    {
     "output_type": "stream",
     "name": "stdout",
     "text": [
      "numpy_docs/reference/generated/numpy.distutils.ccompiler_opt.CCompilerOpt.feature_is_supported.html\n",
      "numpy_docs/reference/generated/numpy.emath.arctanh.html\n"
     ]
    },
    {
     "output_type": "stream",
     "name": "stderr",
     "text": [
      "\r988it [03:53,  4.97it/s]"
     ]
    },
    {
     "output_type": "stream",
     "name": "stdout",
     "text": [
      "numpy_docs/reference/generated/numpy.matrix.astype.html\n",
      "numpy_docs/reference/generated/numpy.ma.MaskedArray.ptp.html\n"
     ]
    },
    {
     "output_type": "stream",
     "name": "stderr",
     "text": [
      "\r990it [03:53,  5.61it/s]"
     ]
    },
    {
     "output_type": "stream",
     "name": "stdout",
     "text": [
      "numpy_docs/reference/generated/numpy.argsort.html\n",
      "numpy_docs/reference/generated/numpy.kaiser.html\n"
     ]
    },
    {
     "output_type": "stream",
     "name": "stderr",
     "text": [
      "\r991it [03:53,  5.82it/s]"
     ]
    },
    {
     "output_type": "stream",
     "name": "stdout",
     "text": [
      "numpy_docs/reference/generated/numpy.ma.MaskedArray.strides.html\n"
     ]
    },
    {
     "output_type": "stream",
     "name": "stderr",
     "text": [
      "\r992it [03:54,  3.74it/s]"
     ]
    },
    {
     "output_type": "stream",
     "name": "stdout",
     "text": [
      "numpy_docs/reference/generated/numpy.polynomial.polynomial.Polynomial.maxpower.html\n",
      "numpy_docs/reference/generated/numpy.exceptions.DTypePromotionError.html\n"
     ]
    },
    {
     "output_type": "stream",
     "name": "stderr",
     "text": [
      "996it [03:55,  4.37it/s]"
     ]
    },
    {
     "output_type": "stream",
     "name": "stdout",
     "text": [
      "numpy_docs/reference/generated/numpy.distutils.ccompiler_opt.CCompilerOpt.cpu_dispatch_names.html\n",
      "numpy_docs/reference/generated/numpy.ndarray.tofile.html\n",
      "numpy_docs/reference/generated/numpy.polynomial.laguerre.Laguerre.cast.html\n"
     ]
    },
    {
     "output_type": "stream",
     "name": "stderr",
     "text": [
      "999it [03:55,  5.32it/s]"
     ]
    },
    {
     "output_type": "stream",
     "name": "stdout",
     "text": [
      "numpy_docs/reference/generated/numpy.dtype.__gt__.html\n",
      "numpy_docs/reference/generated/numpy.polynomial.hermite_e.hermeadd.html\n",
      "numpy_docs/reference/generated/numpy.polynomial.hermite_e.hermepow.html\n"
     ]
    },
    {
     "output_type": "stream",
     "name": "stderr",
     "text": [
      "\r1000it [03:56,  4.42it/s]"
     ]
    },
    {
     "output_type": "stream",
     "name": "stdout",
     "text": [
      "numpy_docs/reference/generated/numpy.polynomial.chebyshev.chebfromroots.html\n"
     ]
    },
    {
     "output_type": "stream",
     "name": "stderr",
     "text": [
      "1002it [03:56,  4.11it/s]"
     ]
    },
    {
     "output_type": "stream",
     "name": "stdout",
     "text": [
      "numpy_docs/reference/generated/numpy.ma.empty.html\n",
      "numpy_docs/reference/generated/numpy.ma.MaskedArray.fill.html\n",
      "numpy_docs/reference/generated/numpy.memmap.setflags.html\n"
     ]
    },
    {
     "output_type": "stream",
     "name": "stderr",
     "text": [
      "1008it [03:57,  9.00it/s]"
     ]
    },
    {
     "output_type": "stream",
     "name": "stdout",
     "text": [
      "numpy_docs/reference/generated/numpy.dtype.__reduce__.html\n",
      "numpy_docs/reference/generated/numpy.distutils.ccompiler.gen_lib_options.html\n",
      "numpy_docs/reference/generated/numpy.memmap.flags.html\n",
      "numpy_docs/reference/generated/numpy.nditer.multi_index.html\n",
      "numpy_docs/reference/generated/numpy.ndarray.__lt__.html\n",
      "numpy_docs/reference/generated/numpy.char.chararray.strip.html\n",
      "numpy_docs/reference/generated/numpy.polynomial.hermite_e.HermiteE.cutdeg.html\n"
     ]
    },
    {
     "output_type": "stream",
     "name": "stderr",
     "text": [
      "1013it [03:57,  9.02it/s]"
     ]
    },
    {
     "output_type": "stream",
     "name": "stdout",
     "text": [
      "numpy_docs/reference/generated/numpy.ndarray.__array_wrap__.html\n",
      "numpy_docs/reference/generated/numpy.polynomial.laguerre.lagx.html\n",
      "numpy_docs/reference/generated/numpy.ma.MaskedArray.__copy__.html\n",
      "numpy_docs/reference/generated/numpy.broadcast_shapes.html\n"
     ]
    },
    {
     "output_type": "stream",
     "name": "stderr",
     "text": [
      "1017it [03:58,  8.04it/s]"
     ]
    },
    {
     "output_type": "stream",
     "name": "stdout",
     "text": [
      "numpy_docs/reference/generated/numpy.polynomial.polynomial.polyval3d.html\n",
      "numpy_docs/reference/generated/numpy.char.swapcase.html\n",
      "numpy_docs/reference/generated/numpy.broadcast_to.html\n"
     ]
    },
    {
     "output_type": "stream",
     "name": "stderr",
     "text": [
      "1022it [03:59,  8.30it/s]"
     ]
    },
    {
     "output_type": "stream",
     "name": "stdout",
     "text": [
      "numpy_docs/reference/generated/numpy.memmap.ravel.html\n",
      "numpy_docs/reference/generated/numpy.ma.MaskedArray.trace.html\n",
      "numpy_docs/reference/generated/numpy.ndarray.max.html\n",
      "numpy_docs/reference/generated/numpy.distutils.ccompiler_opt.CCompilerOpt.cc_test_flags.html\n",
      "numpy_docs/reference/generated/numpy.polynomial.hermite.Hermite.copy.html\n"
     ]
    },
    {
     "output_type": "stream",
     "name": "stderr",
     "text": [
      "\r1024it [03:59,  6.67it/s]"
     ]
    },
    {
     "output_type": "stream",
     "name": "stdout",
     "text": [
      "numpy_docs/reference/generated/numpy.linalg.qr.html\n",
      "numpy_docs/reference/generated/numpy.record.tobytes.html\n",
      "numpy_docs/reference/generated/numpy.char.chararray.argpartition.html\n",
      "numpy_docs/reference/generated/numpy.ndarray.view.html\n"
     ]
    },
    {
     "output_type": "stream",
     "name": "stderr",
     "text": [
      "1030it [04:00,  6.63it/s]"
     ]
    },
    {
     "output_type": "stream",
     "name": "stdout",
     "text": [
      "numpy_docs/reference/generated/numpy.ma.ptp.html\n",
      "numpy_docs/reference/generated/numpy.logaddexp.html\n",
      "numpy_docs/reference/generated/numpy.finfo.tiny.html\n",
      "numpy_docs/reference/generated/numpy.recarray.prod.html\n",
      "numpy_docs/reference/generated/numpy.char.mod.html\n",
      "numpy_docs/reference/generated/numpy.ma.masked_array.std.html\n",
      "numpy_docs/reference/generated/numpy.ndarray.__itruediv__.html\n"
     ]
    },
    {
     "output_type": "stream",
     "name": "stderr",
     "text": [
      "1036it [04:00, 10.28it/s]"
     ]
    },
    {
     "output_type": "stream",
     "name": "stdout",
     "text": [
      "numpy_docs/reference/generated/numpy.polynomial.legendre.legval2d.html\n",
      "numpy_docs/reference/generated/numpy.hamming.html\n",
      "numpy_docs/reference/generated/numpy.can_cast.html\n"
     ]
    },
    {
     "output_type": "stream",
     "name": "stderr",
     "text": [
      "1040it [04:01, 12.60it/s]"
     ]
    },
    {
     "output_type": "stream",
     "name": "stdout",
     "text": [
      "numpy_docs/reference/generated/numpy.median.html\n",
      "numpy_docs/reference/generated/numpy.ma.MaskType.argmax.html\n",
      "numpy_docs/reference/generated/numpy.histogram_bin_edges.html\n",
      "numpy_docs/reference/generated/numpy.polynomial.hermite_e.hermeder.html\n"
     ]
    },
    {
     "output_type": "stream",
     "name": "stderr",
     "text": [
      "\r1042it [04:01, 13.80it/s]"
     ]
    },
    {
     "output_type": "stream",
     "name": "stdout",
     "text": [
      "numpy_docs/reference/generated/numpy.matrix.ndim.html\n",
      "numpy_docs/reference/generated/numpy.ndarray.flat.html\n",
      "numpy_docs/reference/generated/numpy.distutils.ccompiler_opt.CCompilerOpt.dist_test.html\n"
     ]
    },
    {
     "output_type": "stream",
     "name": "stderr",
     "text": [
      "\r1044it [04:02,  5.36it/s]"
     ]
    },
    {
     "output_type": "stream",
     "name": "stdout",
     "text": [
      "numpy_docs/reference/generated/numpy.matrix.item.html\n"
     ]
    },
    {
     "output_type": "stream",
     "name": "stderr",
     "text": [
      "\r1046it [04:02,  4.51it/s]"
     ]
    },
    {
     "output_type": "stream",
     "name": "stdout",
     "text": [
      "numpy_docs/reference/generated/numpy.ma.masked_where.html\n",
      "numpy_docs/reference/generated/numpy.polynomial.chebyshev.chebdiv.html\n",
      "numpy_docs/reference/generated/numpy.emath.arcsin.html\n"
     ]
    },
    {
     "output_type": "stream",
     "name": "stderr",
     "text": [
      "\r1048it [04:03,  4.37it/s]"
     ]
    },
    {
     "output_type": "stream",
     "name": "stdout",
     "text": [
      "numpy_docs/reference/generated/numpy.lib.mixins.NDArrayOperatorsMixin.html\n"
     ]
    },
    {
     "output_type": "stream",
     "name": "stderr",
     "text": [
      "\r1049it [04:03,  3.60it/s]"
     ]
    },
    {
     "output_type": "stream",
     "name": "stdout",
     "text": [
      "numpy_docs/reference/generated/numpy.ndarray.__setitem__.html\n",
      "numpy_docs/reference/generated/numpy.polynomial.laguerre.Laguerre.mapparms.html\n"
     ]
    },
    {
     "output_type": "stream",
     "name": "stderr",
     "text": [
      "\r1051it [04:04,  3.82it/s]"
     ]
    },
    {
     "output_type": "stream",
     "name": "stdout",
     "text": [
      "numpy_docs/reference/generated/numpy.is_busday.html\n"
     ]
    },
    {
     "output_type": "stream",
     "name": "stderr",
     "text": [
      "\r1052it [04:04,  3.45it/s]"
     ]
    },
    {
     "output_type": "stream",
     "name": "stdout",
     "text": [
      "numpy_docs/reference/generated/numpy.matrix.nonzero.html\n",
      "numpy_docs/reference/generated/numpy.char.translate.html\n",
      "numpy_docs/reference/generated/numpy.record.conj.html\n",
      "numpy_docs/reference/generated/numpy.ma.outer.html\n"
     ]
    },
    {
     "output_type": "stream",
     "name": "stderr",
     "text": [
      "\r1056it [04:06,  2.72it/s]"
     ]
    },
    {
     "output_type": "stream",
     "name": "stdout",
     "text": [
      "numpy_docs/reference/generated/numpy.ascontiguousarray.html\n",
      "numpy_docs/reference/generated/numpy.logspace.html\n"
     ]
    },
    {
     "output_type": "stream",
     "name": "stderr",
     "text": [
      "\r1058it [04:07,  2.37it/s]"
     ]
    },
    {
     "output_type": "stream",
     "name": "stdout",
     "text": [
      "numpy_docs/reference/generated/numpy.ma.MaskedArray.reshape.html\n"
     ]
    },
    {
     "output_type": "stream",
     "name": "stderr",
     "text": [
      "1062it [04:09,  2.77it/s]"
     ]
    },
    {
     "output_type": "stream",
     "name": "stdout",
     "text": [
      "numpy_docs/reference/generated/numpy.ma.masked_array.dump.html\n",
      "numpy_docs/reference/generated/numpy.busdaycalendar.html\n",
      "numpy_docs/reference/generated/numpy.char.chararray.istitle.html\n",
      "numpy_docs/reference/generated/numpy.char.chararray.upper.html\n",
      "numpy_docs/reference/generated/numpy.polynomial.laguerre.laggrid3d.html\n"
     ]
    },
    {
     "output_type": "stream",
     "name": "stderr",
     "text": [
      "\r1064it [04:09,  3.56it/s]"
     ]
    },
    {
     "output_type": "stream",
     "name": "stdout",
     "text": [
      "numpy_docs/reference/generated/numpy.ma.MaskType.sum.html\n",
      "numpy_docs/reference/generated/numpy.polynomial.laguerre.Laguerre.linspace.html\n"
     ]
    },
    {
     "output_type": "stream",
     "name": "stderr",
     "text": [
      "\r1066it [04:09,  3.83it/s]"
     ]
    },
    {
     "output_type": "stream",
     "name": "stdout",
     "text": [
      "numpy_docs/reference/generated/numpy.lib.NumpyVersion.html\n",
      "numpy_docs/reference/generated/numpy.matrix.data.html\n"
     ]
    },
    {
     "output_type": "stream",
     "name": "stderr",
     "text": [
      "\r1068it [04:09,  4.41it/s]"
     ]
    },
    {
     "output_type": "stream",
     "name": "stdout",
     "text": [
      "numpy_docs/reference/generated/numpy.recarray.diagonal.html\n",
      "numpy_docs/reference/generated/numpy.ma.MaskType.itemsize.html\n",
      "numpy_docs/reference/generated/numpy.chararray.dtype.html\n"
     ]
    },
    {
     "output_type": "stream",
     "name": "stderr",
     "text": [
      "1073it [04:10,  6.66it/s]"
     ]
    },
    {
     "output_type": "stream",
     "name": "stdout",
     "text": [
      "numpy_docs/reference/generated/numpy.ma.MaskedArray.compressed.html\n",
      "numpy_docs/reference/generated/numpy.chararray.flatten.html\n",
      "numpy_docs/reference/generated/numpy.ma.MaskedArray.dtype.html\n"
     ]
    },
    {
     "output_type": "stream",
     "name": "stderr",
     "text": [
      "\r1075it [04:10,  6.25it/s]"
     ]
    },
    {
     "output_type": "stream",
     "name": "stdout",
     "text": [
      "numpy_docs/reference/generated/numpy.ma.MaskedArray.__rrshift__.html\n",
      "numpy_docs/reference/generated/numpy.ma.MaskedArray.tolist.html\n",
      "numpy_docs/reference/generated/numpy.ma.MaskedArray.__rpow__.html\n",
      "numpy_docs/reference/generated/numpy.polynomial.chebyshev.Chebyshev.cutdeg.html\n"
     ]
    },
    {
     "output_type": "stream",
     "name": "stderr",
     "text": [
      "1081it [04:11,  7.89it/s]"
     ]
    },
    {
     "output_type": "stream",
     "name": "stdout",
     "text": [
      "numpy_docs/reference/generated/numpy.char.chararray.std.html\n",
      "numpy_docs/reference/generated/numpy.char.array.html\n",
      "numpy_docs/reference/generated/numpy.dtype.subdtype.html\n",
      "numpy_docs/reference/generated/numpy.distutils.exec_command.get_pythonexe.html\n",
      "numpy_docs/reference/generated/numpy.polynomial.polynomial.polydiv.html\n"
     ]
    },
    {
     "output_type": "stream",
     "name": "stderr",
     "text": [
      "1087it [04:12,  9.12it/s]"
     ]
    },
    {
     "output_type": "stream",
     "name": "stdout",
     "text": [
      "numpy_docs/reference/generated/numpy.char.chararray.put.html\n",
      "numpy_docs/reference/generated/numpy.polynomial.legendre.Legendre.domain.html\n",
      "numpy_docs/reference/generated/numpy.nonzero.html\n",
      "numpy_docs/reference/generated/numpy.polynomial.hermite.Hermite.identity.html\n",
      "numpy_docs/reference/generated/numpy.chararray.min.html\n"
     ]
    },
    {
     "output_type": "stream",
     "name": "stderr",
     "text": [
      "\r1089it [04:12,  8.64it/s]"
     ]
    },
    {
     "output_type": "stream",
     "name": "stdout",
     "text": [
      "numpy_docs/reference/generated/numpy.char.chararray.size.html\n",
      "numpy_docs/reference/generated/numpy.getbufsize.html\n",
      "numpy_docs/reference/generated/numpy.polynomial.polynomial.Polynomial.integ.html\n"
     ]
    },
    {
     "output_type": "stream",
     "name": "stderr",
     "text": [
      "\r1091it [04:12,  6.63it/s]"
     ]
    },
    {
     "output_type": "stream",
     "name": "stdout",
     "text": [
      "numpy_docs/reference/generated/numpy.ma.MaskType.nonzero.html\n",
      "numpy_docs/reference/generated/numpy.ma.MaskType.argmin.html\n",
      "numpy_docs/reference/generated/numpy.polynomial.hermite.Hermite.integ.html\n"
     ]
    },
    {
     "output_type": "stream",
     "name": "stderr",
     "text": [
      "\r1094it [04:13,  6.73it/s]"
     ]
    },
    {
     "output_type": "stream",
     "name": "stdout",
     "text": [
      "numpy_docs/reference/generated/numpy.ufunc.nout.html\n",
      "numpy_docs/reference/generated/numpy.polynomial.hermite.Hermite.has_sametype.html\n"
     ]
    },
    {
     "output_type": "stream",
     "name": "stderr",
     "text": [
      "\r1096it [04:13,  6.07it/s]"
     ]
    },
    {
     "output_type": "stream",
     "name": "stdout",
     "text": [
      "numpy_docs/reference/generated/numpy.memmap.sort.html\n",
      "numpy_docs/reference/generated/numpy.polynomial.hermite.Hermite.cast.html\n"
     ]
    },
    {
     "output_type": "stream",
     "name": "stderr",
     "text": [
      "\r1098it [04:14,  5.61it/s]"
     ]
    },
    {
     "output_type": "stream",
     "name": "stdout",
     "text": [
      "numpy_docs/reference/generated/numpy.lib.user_array.container.tobytes.html\n",
      "numpy_docs/reference/generated/numpy.polynomial.laguerre.Laguerre.domain.html\n",
      "numpy_docs/reference/generated/numpy.blackman.html\n"
     ]
    },
    {
     "output_type": "stream",
     "name": "stderr",
     "text": [
      "1105it [04:14,  8.50it/s]"
     ]
    },
    {
     "output_type": "stream",
     "name": "stdout",
     "text": [
      "numpy_docs/reference/generated/numpy.char.chararray.expandtabs.html\n",
      "numpy_docs/reference/generated/numpy.ma.MaskedArray.get_fill_value.html\n",
      "numpy_docs/reference/generated/numpy.recarray.flatten.html\n",
      "numpy_docs/reference/generated/numpy.ndarray.__floordiv__.html\n",
      "numpy_docs/reference/generated/numpy.testing.assert_array_almost_equal_nulp.html\n",
      "numpy_docs/reference/generated/numpy.polynomial.laguerre.Laguerre.__call__.html\n"
     ]
    },
    {
     "output_type": "stream",
     "name": "stderr",
     "text": [
      "1110it [04:15,  9.29it/s]"
     ]
    },
    {
     "output_type": "stream",
     "name": "stdout",
     "text": [
      "numpy_docs/reference/generated/numpy.ndarray.getfield.html\n",
      "numpy_docs/reference/generated/numpy.recarray.byteswap.html\n",
      "numpy_docs/reference/generated/numpy.ma.MaskedArray.argmin.html\n",
      "numpy_docs/reference/generated/numpy.generic.flat.html\n",
      "numpy_docs/reference/generated/numpy.distutils.ccompiler.replace_method.html\n",
      "numpy_docs/reference/generated/numpy.record.mean.html\n"
     ]
    },
    {
     "output_type": "stream",
     "name": "stderr",
     "text": [
      "\r1113it [04:15, 12.13it/s]"
     ]
    },
    {
     "output_type": "stream",
     "name": "stdout",
     "text": [
      "numpy_docs/reference/generated/numpy.chararray.html\n",
      "numpy_docs/reference/generated/numpy.polynomial.hermite.hermx.html\n"
     ]
    },
    {
     "output_type": "stream",
     "name": "stderr",
     "text": [
      "\r1115it [04:15, 11.00it/s]"
     ]
    },
    {
     "output_type": "stream",
     "name": "stdout",
     "text": [
      "numpy_docs/reference/generated/numpy.ndarray.dtype.html\n",
      "numpy_docs/reference/generated/numpy.char.chararray.itemset.html\n"
     ]
    },
    {
     "output_type": "stream",
     "name": "stderr",
     "text": [
      "\r1117it [04:16,  5.32it/s]"
     ]
    },
    {
     "output_type": "stream",
     "name": "stdout",
     "text": [
      "numpy_docs/reference/generated/numpy.ufunc.signature.html\n"
     ]
    },
    {
     "output_type": "stream",
     "name": "stderr",
     "text": [
      "1122it [04:17,  7.50it/s]"
     ]
    },
    {
     "output_type": "stream",
     "name": "stdout",
     "text": [
      "numpy_docs/reference/generated/numpy.source.html\n",
      "numpy_docs/reference/generated/numpy.searchsorted.html\n",
      "numpy_docs/reference/generated/numpy.ma.MaskType.T.html\n",
      "numpy_docs/reference/generated/numpy.ndarray.__str__.html\n",
      "numpy_docs/reference/generated/numpy.ma.polyfit.html\n"
     ]
    },
    {
     "output_type": "stream",
     "name": "stderr",
     "text": [
      "\r1124it [04:17,  7.59it/s]"
     ]
    },
    {
     "output_type": "stream",
     "name": "stdout",
     "text": [
      "numpy_docs/reference/generated/numpy.polynomial.laguerre.Laguerre.basis.html\n",
      "numpy_docs/reference/generated/numpy.polynomial.polynomial.polyval.html\n"
     ]
    },
    {
     "output_type": "stream",
     "name": "stderr",
     "text": [
      "\r1126it [04:17,  8.73it/s]"
     ]
    },
    {
     "output_type": "stream",
     "name": "stdout",
     "text": [
      "numpy_docs/reference/generated/numpy.testing.suppress_warnings.record.html\n",
      "numpy_docs/reference/generated/numpy.polynomial.polynomial.polyvander2d.html\n"
     ]
    },
    {
     "output_type": "stream",
     "name": "stderr",
     "text": [
      "\r1128it [04:18,  6.49it/s]"
     ]
    },
    {
     "output_type": "stream",
     "name": "stdout",
     "text": [
      "numpy_docs/reference/generated/numpy.distutils.ccompiler_opt.CCompilerOpt.dist_log.html\n",
      "numpy_docs/reference/generated/numpy.polynomial.hermite_e.HermiteE.has_sametype.html\n"
     ]
    },
    {
     "output_type": "stream",
     "name": "stderr",
     "text": [
      "\r1130it [04:18,  5.98it/s]"
     ]
    },
    {
     "output_type": "stream",
     "name": "stdout",
     "text": [
      "numpy_docs/reference/generated/numpy.ma.MaskedArray.__isub__.html\n",
      "numpy_docs/reference/generated/numpy.ma.MaskedArray.sum.html\n",
      "numpy_docs/reference/generated/numpy.putmask.html\n",
      "numpy_docs/reference/generated/numpy.linalg.slogdet.html\n"
     ]
    },
    {
     "output_type": "stream",
     "name": "stderr",
     "text": [
      "1137it [04:19,  6.64it/s]"
     ]
    },
    {
     "output_type": "stream",
     "name": "stdout",
     "text": [
      "numpy_docs/reference/generated/numpy.ma.masked_array.mean.html\n",
      "numpy_docs/reference/generated/numpy.chararray.argmin.html\n",
      "numpy_docs/reference/generated/numpy.record.strides.html\n",
      "numpy_docs/reference/generated/numpy.ndarray.nonzero.html\n",
      "numpy_docs/reference/generated/numpy.unpackbits.html\n",
      "numpy_docs/reference/generated/numpy.matrix.resize.html\n"
     ]
    },
    {
     "output_type": "stream",
     "name": "stderr",
     "text": [
      "1142it [04:21,  5.44it/s]"
     ]
    },
    {
     "output_type": "stream",
     "name": "stdout",
     "text": [
      "numpy_docs/reference/generated/numpy.chararray.T.html\n",
      "numpy_docs/reference/generated/numpy.char.chararray.itemsize.html\n",
      "numpy_docs/reference/generated/numpy.char.equal.html\n",
      "numpy_docs/reference/generated/numpy.polynomial.hermite_e.hermeval.html\n"
     ]
    },
    {
     "output_type": "stream",
     "name": "stderr",
     "text": [
      "1146it [04:21,  5.28it/s]"
     ]
    },
    {
     "output_type": "stream",
     "name": "stdout",
     "text": [
      "numpy_docs/reference/generated/numpy.char.isalnum.html\n",
      "numpy_docs/reference/generated/numpy.chararray.join.html\n",
      "numpy_docs/reference/generated/numpy.chararray.searchsorted.html\n",
      "numpy_docs/reference/generated/numpy.ma.MaskedArray.swapaxes.html\n",
      "numpy_docs/reference/generated/numpy.recarray.flat.html\n"
     ]
    },
    {
     "output_type": "stream",
     "name": "stderr",
     "text": [
      "1151it [04:22,  7.44it/s]"
     ]
    },
    {
     "output_type": "stream",
     "name": "stdout",
     "text": [
      "numpy_docs/reference/generated/numpy.clip.html\n",
      "numpy_docs/reference/generated/numpy.lib.arraysetops.html\n",
      "numpy_docs/reference/generated/numpy.testing.print_assert_equal.html\n",
      "numpy_docs/reference/generated/numpy.char.chararray.find.html\n",
      "numpy_docs/reference/generated/numpy.char.chararray.ctypes.html\n"
     ]
    },
    {
     "output_type": "stream",
     "name": "stderr",
     "text": [
      "1157it [04:22, 10.78it/s]"
     ]
    },
    {
     "output_type": "stream",
     "name": "stdout",
     "text": [
      "numpy_docs/reference/generated/numpy.chararray.std.html\n",
      "numpy_docs/reference/generated/numpy.nanstd.html\n",
      "numpy_docs/reference/generated/numpy.memmap.sum.html\n",
      "numpy_docs/reference/generated/numpy.may_share_memory.html\n",
      "numpy_docs/reference/generated/numpy.memmap.astype.html\n",
      "numpy_docs/reference/generated/numpy.ma.MaskedArray.take.html\n",
      "numpy_docs/reference/generated/numpy.char.chararray.resize.html\n"
     ]
    },
    {
     "output_type": "stream",
     "name": "stderr",
     "text": [
      "1162it [04:23,  7.61it/s]"
     ]
    },
    {
     "output_type": "stream",
     "name": "stdout",
     "text": [
      "numpy_docs/reference/generated/numpy.polynomial.chebyshev.chebsub.html\n",
      "numpy_docs/reference/generated/numpy.ma.masked_array.product.html\n",
      "numpy_docs/reference/generated/numpy.polynomial.polynomial.Polynomial.mapparms.html\n"
     ]
    },
    {
     "output_type": "stream",
     "name": "stderr",
     "text": [
      "\r1164it [04:24,  6.24it/s]"
     ]
    },
    {
     "output_type": "stream",
     "name": "stdout",
     "text": [
      "numpy_docs/reference/generated/numpy.ma.MaskType.flat.html\n",
      "numpy_docs/reference/generated/numpy.distutils.ccompiler_opt.CCompilerOpt.cache_hash.html\n",
      "numpy_docs/reference/generated/numpy.recarray.data.html\n"
     ]
    },
    {
     "output_type": "stream",
     "name": "stderr",
     "text": [
      "\r1166it [04:24,  6.68it/s]"
     ]
    },
    {
     "output_type": "stream",
     "name": "stdout",
     "text": [
      "numpy_docs/reference/generated/numpy.dtype.__lt__.html\n",
      "numpy_docs/reference/generated/numpy.dtype.fields.html\n"
     ]
    },
    {
     "output_type": "stream",
     "name": "stderr",
     "text": [
      "\r1168it [04:25,  5.89it/s]"
     ]
    },
    {
     "output_type": "stream",
     "name": "stdout",
     "text": [
      "numpy_docs/reference/generated/numpy.ma.MaskType.ptp.html\n",
      "numpy_docs/reference/generated/numpy.memmap.reshape.html\n",
      "numpy_docs/reference/generated/numpy.ma.MaskedArray.__div__.html\n",
      "numpy_docs/reference/generated/numpy.polynomial.laguerre.lagcompanion.html\n"
     ]
    },
    {
     "output_type": "stream",
     "name": "stderr",
     "text": [
      "1174it [04:25,  8.15it/s]"
     ]
    },
    {
     "output_type": "stream",
     "name": "stdout",
     "text": [
      "numpy_docs/reference/generated/numpy.ma.ndenumerate.html\n",
      "numpy_docs/reference/generated/numpy.format_float_scientific.html\n",
      "numpy_docs/reference/generated/numpy.ma.MaskedArray.ravel.html\n"
     ]
    },
    {
     "output_type": "stream",
     "name": "stderr",
     "text": [
      "1179it [04:25, 11.26it/s]"
     ]
    },
    {
     "output_type": "stream",
     "name": "stdout",
     "text": [
      "numpy_docs/reference/generated/numpy.ndarray.__new__.html\n",
      "numpy_docs/reference/generated/numpy.distutils.ccompiler_opt.CCompilerOpt.conf_c_prefix_.html\n",
      "numpy_docs/reference/generated/numpy.ndindex.ndincr.html\n",
      "numpy_docs/reference/generated/numpy.polynomial.legendre.leg2poly.html\n",
      "numpy_docs/reference/generated/numpy.polynomial.legendre.legint.html\n"
     ]
    },
    {
     "output_type": "stream",
     "name": "stderr",
     "text": [
      "1184it [04:26, 14.17it/s]"
     ]
    },
    {
     "output_type": "stream",
     "name": "stdout",
     "text": [
      "numpy_docs/reference/generated/numpy.distutils.ccompiler.CCompiler_spawn.html\n",
      "numpy_docs/reference/generated/numpy.polynomial.laguerre.Laguerre.maxpower.html\n",
      "numpy_docs/reference/generated/numpy.matrix.flatten.html\n",
      "numpy_docs/reference/generated/numpy.tril_indices.html\n",
      "numpy_docs/reference/generated/numpy.ma.MaskedArray.__radd__.html\n",
      "numpy_docs/reference/generated/numpy.polynomial.hermite.Hermite.maxpower.html\n"
     ]
    },
    {
     "output_type": "stream",
     "name": "stderr",
     "text": [
      "\r1187it [04:26, 15.99it/s]"
     ]
    },
    {
     "output_type": "stream",
     "name": "stdout",
     "text": [
      "numpy_docs/reference/generated/numpy.polyfit.html\n",
      "numpy_docs/reference/generated/numpy.char.chararray.compress.html\n",
      "numpy_docs/reference/generated/numpy.recarray.copy.html\n",
      "numpy_docs/reference/generated/numpy.record.resize.html\n"
     ]
    },
    {
     "output_type": "stream",
     "name": "stderr",
     "text": [
      "1194it [04:26, 21.42it/s]"
     ]
    },
    {
     "output_type": "stream",
     "name": "stdout",
     "text": [
      "numpy_docs/reference/generated/numpy.ma.ediff1d.html\n",
      "numpy_docs/reference/generated/numpy.memmap.searchsorted.html\n",
      "numpy_docs/reference/generated/numpy.chararray.lstrip.html\n",
      "numpy_docs/reference/generated/numpy.recarray.argsort.html\n",
      "numpy_docs/reference/generated/numpy.fft.ifft.html\n"
     ]
    },
    {
     "output_type": "stream",
     "name": "stderr",
     "text": [
      "1200it [04:26, 21.26it/s]"
     ]
    },
    {
     "output_type": "stream",
     "name": "stdout",
     "text": [
      "numpy_docs/reference/generated/numpy.chararray.repeat.html\n",
      "numpy_docs/reference/generated/numpy.recarray.reshape.html\n",
      "numpy_docs/reference/generated/numpy.recarray.var.html\n",
      "numpy_docs/reference/generated/numpy.char.chararray.isspace.html\n",
      "numpy_docs/reference/generated/numpy.ma.all.html\n",
      "numpy_docs/reference/generated/numpy.record.astype.html\n",
      "numpy_docs/reference/generated/numpy.poly1d.__call__.html\n"
     ]
    },
    {
     "output_type": "stream",
     "name": "stderr",
     "text": [
      "\r1203it [04:27, 13.54it/s]"
     ]
    },
    {
     "output_type": "stream",
     "name": "stdout",
     "text": [
      "numpy_docs/reference/generated/numpy.angle.html\n",
      "numpy_docs/reference/generated/numpy.record.setflags.html\n",
      "numpy_docs/reference/generated/numpy.matrix.ptp.html\n",
      "numpy_docs/reference/generated/numpy.matrix.setfield.html\n"
     ]
    },
    {
     "output_type": "stream",
     "name": "stderr",
     "text": [
      "1208it [04:28,  8.99it/s]"
     ]
    },
    {
     "output_type": "stream",
     "name": "stdout",
     "text": [
      "numpy_docs/reference/generated/numpy.loadtxt.html\n",
      "numpy_docs/reference/generated/numpy.pad.html\n",
      "numpy_docs/reference/generated/numpy.ma.MaskedArray.__eq__.html\n"
     ]
    },
    {
     "output_type": "stream",
     "name": "stderr",
     "text": [
      "\r1211it [04:28, 10.74it/s]"
     ]
    },
    {
     "output_type": "stream",
     "name": "stdout",
     "text": [
      "numpy_docs/reference/generated/numpy.ma.masked_array.argsort.html\n",
      "numpy_docs/reference/generated/numpy.polynomial.chebyshev.chebadd.html\n",
      "numpy_docs/reference/generated/numpy.char.chararray.flatten.html\n",
      "numpy_docs/reference/generated/numpy.common_type.html\n"
     ]
    },
    {
     "output_type": "stream",
     "name": "stderr",
     "text": [
      "1215it [04:28,  8.82it/s]"
     ]
    },
    {
     "output_type": "stream",
     "name": "stdout",
     "text": [
      "numpy_docs/reference/generated/numpy.cumsum.html\n",
      "numpy_docs/reference/generated/numpy.matmul.html\n",
      "numpy_docs/reference/generated/numpy.ma.MaskType.copy.html\n",
      "numpy_docs/reference/generated/numpy.polyder.html\n"
     ]
    },
    {
     "output_type": "stream",
     "name": "stderr",
     "text": [
      "1219it [04:29,  8.82it/s]"
     ]
    },
    {
     "output_type": "stream",
     "name": "stdout",
     "text": [
      "numpy_docs/reference/generated/numpy.ma.MaskedArray.dump.html\n",
      "numpy_docs/reference/generated/numpy.ndarray.copy.html\n",
      "numpy_docs/reference/generated/numpy.dtype.descr.html\n"
     ]
    },
    {
     "output_type": "stream",
     "name": "stderr",
     "text": [
      "\r1221it [04:29,  6.95it/s]"
     ]
    },
    {
     "output_type": "stream",
     "name": "stdout",
     "text": [
      "numpy_docs/reference/generated/numpy.linalg.tensorinv.html\n",
      "numpy_docs/reference/generated/numpy.record.repeat.html\n",
      "numpy_docs/reference/generated/numpy.chararray.swapaxes.html\n",
      "numpy_docs/reference/generated/numpy.polynomial.chebyshev.Chebyshev.has_samecoef.html\n"
     ]
    },
    {
     "output_type": "stream",
     "name": "stderr",
     "text": [
      "\r1224it [04:30,  6.23it/s]"
     ]
    },
    {
     "output_type": "stream",
     "name": "stdout",
     "text": [
      "numpy_docs/reference/generated/numpy.triu_indices.html\n",
      "numpy_docs/reference/generated/numpy.fromregex.html\n",
      "numpy_docs/reference/generated/numpy.ma.masked_array.unshare_mask.html\n",
      "numpy_docs/reference/generated/numpy.ndarray.setflags.html\n"
     ]
    },
    {
     "output_type": "stream",
     "name": "stderr",
     "text": [
      "\r1228it [04:31,  5.29it/s]"
     ]
    },
    {
     "output_type": "stream",
     "name": "stdout",
     "text": [
      "numpy_docs/reference/generated/numpy.distutils.ccompiler_opt.html\n",
      "numpy_docs/reference/generated/numpy.array_equal.html\n"
     ]
    },
    {
     "output_type": "stream",
     "name": "stderr",
     "text": [
      "\r1230it [04:31,  4.78it/s]"
     ]
    },
    {
     "output_type": "stream",
     "name": "stdout",
     "text": [
      "numpy_docs/reference/generated/numpy.subtract.html\n",
      "numpy_docs/reference/generated/numpy.ma.MaskedArray.item.html\n"
     ]
    },
    {
     "output_type": "stream",
     "name": "stderr",
     "text": [
      "1234it [04:32,  5.47it/s]"
     ]
    },
    {
     "output_type": "stream",
     "name": "stdout",
     "text": [
      "numpy_docs/reference/generated/numpy.testing.measure.html\n",
      "numpy_docs/reference/generated/numpy.matrix.prod.html\n",
      "numpy_docs/reference/generated/numpy.polynomial.polynomial.polypow.html\n"
     ]
    },
    {
     "output_type": "stream",
     "name": "stderr",
     "text": [
      "1236it [04:33,  3.71it/s]"
     ]
    },
    {
     "output_type": "stream",
     "name": "stdout",
     "text": [
      "numpy_docs/reference/generated/numpy.polynomial.laguerre.Laguerre.degree.html\n",
      "numpy_docs/reference/generated/numpy.distutils.ccompiler_opt.CCompilerOpt.cc_normalize_flags.html\n"
     ]
    },
    {
     "output_type": "stream",
     "name": "stderr",
     "text": [
      "1239it [04:34,  3.64it/s]"
     ]
    },
    {
     "output_type": "stream",
     "name": "stdout",
     "text": [
      "numpy_docs/reference/generated/numpy.ma.masked_array.get_real.html\n",
      "numpy_docs/reference/generated/numpy.polynomial.hermite.hermval2d.html\n",
      "numpy_docs/reference/generated/numpy.meshgrid.html\n"
     ]
    },
    {
     "output_type": "stream",
     "name": "stderr",
     "text": [
      "\r1240it [04:34,  3.96it/s]"
     ]
    },
    {
     "output_type": "stream",
     "name": "stdout",
     "text": [
      "numpy_docs/reference/generated/numpy.ma.MaskedArray.conj.html\n",
      "numpy_docs/reference/generated/numpy.chararray.setflags.html\n"
     ]
    },
    {
     "output_type": "stream",
     "name": "stderr",
     "text": [
      "\r1242it [04:35,  2.85it/s]"
     ]
    },
    {
     "output_type": "stream",
     "name": "stdout",
     "text": [
      "numpy_docs/reference/generated/numpy.array.html\n",
      "numpy_docs/reference/generated/numpy.polynomial.hermite.hermcompanion.html\n"
     ]
    },
    {
     "output_type": "stream",
     "name": "stderr",
     "text": [
      "1246it [04:36,  4.45it/s]"
     ]
    },
    {
     "output_type": "stream",
     "name": "stdout",
     "text": [
      "numpy_docs/reference/generated/numpy.dtype.type.html\n",
      "numpy_docs/reference/generated/numpy.polynomial.legendre.legsub.html\n",
      "numpy_docs/reference/generated/numpy.ma.MaskType.searchsorted.html\n",
      "numpy_docs/reference/generated/numpy.exceptions.ComplexWarning.html\n",
      "numpy_docs/reference/generated/numpy.generic.real.html\n",
      "numpy_docs/reference/generated/numpy.polynomial.chebyshev.Chebyshev.basis_name.html\n"
     ]
    },
    {
     "output_type": "stream",
     "name": "stderr",
     "text": [
      "1253it [04:36, 10.41it/s]"
     ]
    },
    {
     "output_type": "stream",
     "name": "stdout",
     "text": [
      "numpy_docs/reference/generated/numpy.maximum_sctype.html\n",
      "numpy_docs/reference/generated/numpy.ma.masked_array.argpartition.html\n",
      "numpy_docs/reference/generated/numpy.ma.masked_all.html\n",
      "numpy_docs/reference/generated/numpy.char.chararray.rstrip.html\n",
      "numpy_docs/reference/generated/numpy.polynomial.laguerre.lagvander2d.html\n"
     ]
    },
    {
     "output_type": "stream",
     "name": "stderr",
     "text": [
      "1259it [04:37, 10.87it/s]"
     ]
    },
    {
     "output_type": "stream",
     "name": "stdout",
     "text": [
      "numpy_docs/reference/generated/numpy.mask_indices.html\n",
      "numpy_docs/reference/generated/numpy.ma.MaskedArray.any.html\n",
      "numpy_docs/reference/generated/numpy.fft.ifftshift.html\n",
      "numpy_docs/reference/generated/numpy.chararray.real.html\n",
      "numpy_docs/reference/generated/numpy.ma.MaskedArray.dumps.html\n",
      "numpy_docs/reference/generated/numpy.ma.arange.html\n",
      "numpy_docs/reference/generated/numpy.matlib.eye.html\n"
     ]
    },
    {
     "output_type": "stream",
     "name": "stderr",
     "text": [
      "1264it [04:37,  9.71it/s]"
     ]
    },
    {
     "output_type": "stream",
     "name": "stdout",
     "text": [
      "numpy_docs/reference/generated/numpy.lib.user_array.container.byteswap.html\n",
      "numpy_docs/reference/generated/numpy.ma.zeros.html\n",
      "numpy_docs/reference/generated/numpy.ma.MaskedArray.__ifloordiv__.html\n",
      "numpy_docs/reference/generated/numpy.polynomial.laguerre.Laguerre.fit.html\n"
     ]
    },
    {
     "output_type": "stream",
     "name": "stderr",
     "text": [
      "1269it [04:38, 13.24it/s]"
     ]
    },
    {
     "output_type": "stream",
     "name": "stdout",
     "text": [
      "numpy_docs/reference/generated/numpy.char.rpartition.html\n",
      "numpy_docs/reference/generated/numpy.sctype2char.html\n",
      "numpy_docs/reference/generated/numpy.conjugate.html\n",
      "numpy_docs/reference/generated/numpy.distutils.core.Extension.has_f2py_sources.html\n",
      "numpy_docs/reference/generated/numpy.ma.MaskedArray.repeat.html\n",
      "numpy_docs/reference/generated/numpy.polynomial.hermite.Hermite.deriv.html\n"
     ]
    },
    {
     "output_type": "stream",
     "name": "stderr",
     "text": [
      "\r1272it [04:38,  9.94it/s]"
     ]
    },
    {
     "output_type": "stream",
     "name": "stdout",
     "text": [
      "numpy_docs/reference/generated/numpy.unravel_index.html\n"
     ]
    },
    {
     "output_type": "stream",
     "name": "stderr",
     "text": [
      "\r1274it [04:38,  7.48it/s]"
     ]
    },
    {
     "output_type": "stream",
     "name": "stdout",
     "text": [
      "numpy_docs/reference/generated/numpy.ma.allequal.html\n",
      "numpy_docs/reference/generated/numpy.greater.html\n",
      "numpy_docs/reference/generated/numpy.matrix.repeat.html\n",
      "numpy_docs/reference/generated/numpy.ndarray.resize.html\n"
     ]
    },
    {
     "output_type": "stream",
     "name": "stderr",
     "text": [
      "\r1277it [04:39,  5.06it/s]"
     ]
    },
    {
     "output_type": "stream",
     "name": "stdout",
     "text": [
      "numpy_docs/reference/generated/numpy.memmap.ndim.html\n",
      "numpy_docs/reference/generated/numpy.ma.masked_array.var.html\n"
     ]
    },
    {
     "output_type": "stream",
     "name": "stderr",
     "text": [
      "1283it [04:40,  8.15it/s]"
     ]
    },
    {
     "output_type": "stream",
     "name": "stdout",
     "text": [
      "numpy_docs/reference/generated/numpy.matrix.cumprod.html\n",
      "numpy_docs/reference/generated/numpy.greater_equal.html\n",
      "numpy_docs/reference/generated/numpy.ma.MaskType.repeat.html\n",
      "numpy_docs/reference/generated/numpy.memmap.fill.html\n",
      "numpy_docs/reference/generated/numpy.ma.masked_array.nonzero.html\n",
      "numpy_docs/reference/generated/numpy.ma.MaskedArray.__ior__.html\n",
      "numpy_docs/reference/generated/numpy.polynomial.chebyshev.Chebyshev.__call__.html\n"
     ]
    },
    {
     "output_type": "stream",
     "name": "stderr",
     "text": [
      "1289it [04:41,  9.14it/s]"
     ]
    },
    {
     "output_type": "stream",
     "name": "stdout",
     "text": [
      "numpy_docs/reference/generated/numpy.chararray.cumprod.html\n",
      "numpy_docs/reference/generated/numpy.recarray.newbyteorder.html\n",
      "numpy_docs/reference/generated/numpy.ma.where.html\n",
      "numpy_docs/reference/generated/numpy.ma.MaskedArray.__or__.html\n",
      "numpy_docs/reference/generated/numpy.core.defchararray.asarray.html\n"
     ]
    },
    {
     "output_type": "stream",
     "name": "stderr",
     "text": [
      "1294it [04:41, 11.54it/s]"
     ]
    },
    {
     "output_type": "stream",
     "name": "stdout",
     "text": [
      "numpy_docs/reference/generated/numpy.fmod.html\n",
      "numpy_docs/reference/generated/numpy.polynomial.laguerre.Laguerre.html\n",
      "numpy_docs/reference/generated/numpy.nditer.itviews.html\n",
      "numpy_docs/reference/generated/numpy.polynomial.polynomial.polycompanion.html\n"
     ]
    },
    {
     "output_type": "stream",
     "name": "stderr",
     "text": [
      "\r1296it [04:41,  8.15it/s]"
     ]
    },
    {
     "output_type": "stream",
     "name": "stdout",
     "text": [
      "numpy_docs/reference/generated/numpy.ma.MaskType.dtype.html\n",
      "numpy_docs/reference/generated/numpy.tan.html\n",
      "numpy_docs/reference/generated/numpy.polynomial.legendre.Legendre.has_sametype.html\n"
     ]
    },
    {
     "output_type": "stream",
     "name": "stderr",
     "text": [
      "1300it [04:42,  7.95it/s]"
     ]
    },
    {
     "output_type": "stream",
     "name": "stdout",
     "text": [
      "numpy_docs/reference/generated/numpy.poly1d.html\n",
      "numpy_docs/reference/generated/numpy.ma.MaskType.newbyteorder.html\n",
      "numpy_docs/reference/generated/numpy.chararray.rpartition.html\n",
      "numpy_docs/reference/generated/numpy.poly1d.roots.html\n",
      "numpy_docs/reference/generated/numpy.ma.MaskedArray.shape.html\n",
      "numpy_docs/reference/generated/numpy.memmap.diagonal.html\n",
      "numpy_docs/reference/generated/numpy.ma.atleast_2d.html\n"
     ]
    },
    {
     "output_type": "stream",
     "name": "stderr",
     "text": [
      "1308it [04:43,  7.51it/s]"
     ]
    },
    {
     "output_type": "stream",
     "name": "stdout",
     "text": [
      "numpy_docs/reference/generated/numpy.matrix.all.html\n",
      "numpy_docs/reference/generated/numpy.matrix.min.html\n",
      "numpy_docs/reference/generated/numpy.ma.round.html\n",
      "numpy_docs/reference/generated/numpy.distutils.ccompiler_opt.CCompilerOpt.conf_target_groups.html\n",
      "numpy_docs/reference/generated/numpy.sum.html\n"
     ]
    },
    {
     "output_type": "stream",
     "name": "stderr",
     "text": [
      "\r1310it [04:44,  5.49it/s]"
     ]
    },
    {
     "output_type": "stream",
     "name": "stdout",
     "text": [
      "numpy_docs/reference/generated/numpy.polynomial.polynomial.polymulx.html\n"
     ]
    },
    {
     "output_type": "stream",
     "name": "stderr",
     "text": [
      "1314it [04:44,  6.27it/s]"
     ]
    },
    {
     "output_type": "stream",
     "name": "stdout",
     "text": [
      "numpy_docs/reference/generated/numpy.record.newbyteorder.html\n",
      "numpy_docs/reference/generated/numpy.recarray.imag.html\n",
      "numpy_docs/reference/generated/numpy.polynomial.hermite_e.HermiteE.fit.html\n",
      "numpy_docs/reference/generated/numpy.ma.masked_array.fill.html\n",
      "numpy_docs/reference/generated/numpy.polynomial.chebyshev.Chebyshev.has_samedomain.html\n"
     ]
    },
    {
     "output_type": "stream",
     "name": "stderr",
     "text": [
      "1319it [04:45,  7.61it/s]"
     ]
    },
    {
     "output_type": "stream",
     "name": "stdout",
     "text": [
      "numpy_docs/reference/generated/numpy.chararray.replace.html\n",
      "numpy_docs/reference/generated/numpy.not_equal.html\n",
      "numpy_docs/reference/generated/numpy.array_equiv.html\n",
      "numpy_docs/reference/generated/numpy.ma.masked_array.tolist.html\n",
      "numpy_docs/reference/generated/numpy.polynomial.chebyshev.Chebyshev.html\n"
     ]
    },
    {
     "output_type": "stream",
     "name": "stderr",
     "text": [
      "\r1321it [04:45,  8.81it/s]"
     ]
    },
    {
     "output_type": "stream",
     "name": "stdout",
     "text": [
      "numpy_docs/reference/generated/numpy.imag.html\n",
      "numpy_docs/reference/generated/numpy.c_.html\n"
     ]
    },
    {
     "output_type": "stream",
     "name": "stderr",
     "text": [
      "\r1323it [04:46,  5.24it/s]"
     ]
    },
    {
     "output_type": "stream",
     "name": "stdout",
     "text": [
      "numpy_docs/reference/generated/numpy.polynomial.polynomial.Polynomial.identity.html\n",
      "numpy_docs/reference/generated/numpy.polynomial.hermite.Hermite.truncate.html\n"
     ]
    },
    {
     "output_type": "stream",
     "name": "stderr",
     "text": [
      "\r1325it [04:47,  3.90it/s]"
     ]
    },
    {
     "output_type": "stream",
     "name": "stdout",
     "text": [
      "numpy_docs/reference/generated/numpy.ndarray.__ixor__.html\n",
      "numpy_docs/reference/generated/numpy.polynomial.hermite.Hermite.fit.html\n"
     ]
    },
    {
     "output_type": "stream",
     "name": "stderr",
     "text": [
      "1329it [04:47,  5.82it/s]"
     ]
    },
    {
     "output_type": "stream",
     "name": "stdout",
     "text": [
      "numpy_docs/reference/generated/numpy.chararray.dump.html\n",
      "numpy_docs/reference/generated/numpy.char.chararray.T.html\n",
      "numpy_docs/reference/generated/numpy.poly1d.deriv.html\n"
     ]
    },
    {
     "output_type": "stream",
     "name": "stderr",
     "text": [
      "\r1331it [04:48,  4.52it/s]"
     ]
    },
    {
     "output_type": "stream",
     "name": "stdout",
     "text": [
      "numpy_docs/reference/generated/numpy.ndarray.take.html\n",
      "numpy_docs/reference/generated/numpy.broadcast.size.html\n",
      "numpy_docs/reference/generated/numpy.polynomial.legendre.Legendre.convert.html\n"
     ]
    },
    {
     "output_type": "stream",
     "name": "stderr",
     "text": [
      "1334it [04:49,  3.98it/s]"
     ]
    },
    {
     "output_type": "stream",
     "name": "stdout",
     "text": [
      "numpy_docs/reference/generated/numpy.einsum.html\n",
      "numpy_docs/reference/generated/numpy.ma.setdiff1d.html\n"
     ]
    },
    {
     "output_type": "stream",
     "name": "stderr",
     "text": [
      "1340it [04:49,  8.91it/s]"
     ]
    },
    {
     "output_type": "stream",
     "name": "stdout",
     "text": [
      "numpy_docs/reference/generated/numpy.char.istitle.html\n",
      "numpy_docs/reference/generated/numpy.ma.MaskedArray.__imod__.html\n",
      "numpy_docs/reference/generated/numpy.ndarray.__eq__.html\n",
      "numpy_docs/reference/generated/numpy.flatiter.copy.html\n",
      "numpy_docs/reference/generated/numpy.distutils.ccompiler_opt.CCompilerOpt.cache_flush.html\n",
      "numpy_docs/reference/generated/numpy.polynomial.hermite.Hermite.html\n"
     ]
    },
    {
     "output_type": "stream",
     "name": "stderr",
     "text": [
      "\r1342it [04:49, 10.08it/s]"
     ]
    },
    {
     "output_type": "stream",
     "name": "stdout",
     "text": [
      "numpy_docs/reference/generated/numpy.chararray.dot.html\n",
      "numpy_docs/reference/generated/numpy.nditer.iterrange.html\n",
      "numpy_docs/reference/generated/numpy.ma.MaskType.dump.html\n",
      "numpy_docs/reference/generated/numpy.flipud.html\n",
      "numpy_docs/reference/generated/numpy.ndarray.ctypes.html\n"
     ]
    },
    {
     "output_type": "stream",
     "name": "stderr",
     "text": [
      "1352it [04:50, 11.98it/s]"
     ]
    },
    {
     "output_type": "stream",
     "name": "stdout",
     "text": [
      "numpy_docs/reference/generated/numpy.record.min.html\n",
      "numpy_docs/reference/generated/numpy.distutils.ccompiler.CCompiler_get_version.html\n",
      "numpy_docs/reference/generated/numpy.place.html\n",
      "numpy_docs/reference/generated/numpy.base_repr.html\n",
      "numpy_docs/reference/generated/numpy.char.replace.html\n",
      "numpy_docs/reference/generated/numpy.char.split.html\n",
      "numpy_docs/reference/generated/numpy.recarray.std.html\n",
      "numpy_docs/reference/generated/numpy.info.html\n"
     ]
    },
    {
     "output_type": "stream",
     "name": "stderr",
     "text": [
      "\r1355it [04:51,  8.94it/s]"
     ]
    },
    {
     "output_type": "stream",
     "name": "stdout",
     "text": [
      "numpy_docs/reference/generated/numpy.ma.sum.html\n",
      "numpy_docs/reference/generated/numpy.memmap.ptp.html\n",
      "numpy_docs/reference/generated/numpy.polynomial.hermite_e.hermegauss.html\n",
      "numpy_docs/reference/generated/numpy.full_like.html\n"
     ]
    },
    {
     "output_type": "stream",
     "name": "stderr",
     "text": [
      "1361it [04:51, 13.07it/s]"
     ]
    },
    {
     "output_type": "stream",
     "name": "stdout",
     "text": [
      "numpy_docs/reference/generated/numpy.polynomial.legendre.Legendre.symbol.html\n",
      "numpy_docs/reference/generated/numpy.shares_memory.html\n",
      "numpy_docs/reference/generated/numpy.ma.MaskType.html\n",
      "numpy_docs/reference/generated/numpy.log2.html\n",
      "numpy_docs/reference/generated/numpy.polynomial.polynomial.polyadd.html\n"
     ]
    },
    {
     "output_type": "stream",
     "name": "stderr",
     "text": [
      "\r1364it [04:51,  9.24it/s]"
     ]
    },
    {
     "output_type": "stream",
     "name": "stdout",
     "text": [
      "numpy_docs/reference/generated/numpy.kron.html\n",
      "numpy_docs/reference/generated/numpy.dstack.html\n",
      "numpy_docs/reference/generated/numpy.ma.masked_array.sort.html\n",
      "numpy_docs/reference/generated/numpy.matrix.view.html\n"
     ]
    },
    {
     "output_type": "stream",
     "name": "stderr",
     "text": [
      "1369it [04:52,  7.86it/s]"
     ]
    },
    {
     "output_type": "stream",
     "name": "stdout",
     "text": [
      "numpy_docs/reference/generated/numpy.negative.html\n",
      "numpy_docs/reference/generated/numpy.ma.soften_mask.html\n",
      "numpy_docs/reference/generated/numpy.memmap.strides.html\n",
      "numpy_docs/reference/generated/numpy.polynomial.chebyshev.chebcompanion.html\n"
     ]
    },
    {
     "output_type": "stream",
     "name": "stderr",
     "text": [
      "\r1371it [04:53,  5.46it/s]"
     ]
    },
    {
     "output_type": "stream",
     "name": "stdout",
     "text": [
      "numpy_docs/reference/generated/numpy.lib.format.write_array_header_1_0.html\n",
      "numpy_docs/reference/generated/numpy.ma.MaskedArray.byteswap.html\n",
      "numpy_docs/reference/generated/numpy.polynomial.legendre.legvander3d.html\n"
     ]
    },
    {
     "output_type": "stream",
     "name": "stderr",
     "text": [
      "1377it [04:54,  7.33it/s]"
     ]
    },
    {
     "output_type": "stream",
     "name": "stdout",
     "text": [
      "numpy_docs/reference/generated/numpy.record.item.html\n",
      "numpy_docs/reference/generated/numpy.distutils.ccompiler_opt.CCompilerOpt.cpu_baseline_flags.html\n",
      "numpy_docs/reference/generated/numpy.percentile.html\n",
      "numpy_docs/reference/generated/numpy.ma.MaskedArray.__str__.html\n",
      "numpy_docs/reference/generated/numpy.recarray.argmin.html\n",
      "numpy_docs/reference/generated/numpy.polynomial.chebyshev.Chebyshev.convert.html\n"
     ]
    },
    {
     "output_type": "stream",
     "name": "stderr",
     "text": [
      "\r1380it [04:54,  6.64it/s]"
     ]
    },
    {
     "output_type": "stream",
     "name": "stdout",
     "text": [
      "numpy_docs/reference/generated/numpy.char.chararray.translate.html\n",
      "numpy_docs/reference/generated/numpy.diag_indices.html\n"
     ]
    },
    {
     "output_type": "stream",
     "name": "stderr",
     "text": [
      "1386it [04:55,  8.37it/s]"
     ]
    },
    {
     "output_type": "stream",
     "name": "stdout",
     "text": [
      "numpy_docs/reference/generated/numpy.ma.MaskedArray.__setitem__.html\n",
      "numpy_docs/reference/generated/numpy.ufunc.identity.html\n",
      "numpy_docs/reference/generated/numpy.argwhere.html\n",
      "numpy_docs/reference/generated/numpy.einsum_path.html\n",
      "numpy_docs/reference/generated/numpy.distutils.ccompiler_opt.CCompilerOpt.html\n",
      "numpy_docs/reference/generated/numpy.char.chararray.dtype.html\n"
     ]
    },
    {
     "output_type": "stream",
     "name": "stderr",
     "text": [
      "\r1388it [04:55,  7.67it/s]"
     ]
    },
    {
     "output_type": "stream",
     "name": "stdout",
     "text": [
      "numpy_docs/reference/generated/numpy.matrix.argsort.html\n",
      "numpy_docs/reference/generated/numpy.generic.__array__.html\n",
      "numpy_docs/reference/generated/numpy.polynomial.laguerre.Laguerre.has_samedomain.html\n"
     ]
    },
    {
     "output_type": "stream",
     "name": "stderr",
     "text": [
      "\r1391it [04:56,  7.23it/s]"
     ]
    },
    {
     "output_type": "stream",
     "name": "stdout",
     "text": [
      "numpy_docs/reference/generated/numpy.polynomial.polyutils.getdomain.html\n"
     ]
    },
    {
     "output_type": "stream",
     "name": "stderr",
     "text": [
      "\r1392it [04:56,  5.91it/s]"
     ]
    },
    {
     "output_type": "stream",
     "name": "stdout",
     "text": [
      "numpy_docs/reference/generated/numpy.ma.MaskedArray.view.html\n"
     ]
    },
    {
     "output_type": "stream",
     "name": "stderr",
     "text": [
      "\r1393it [04:56,  4.83it/s]"
     ]
    },
    {
     "output_type": "stream",
     "name": "stdout",
     "text": [
      "numpy_docs/reference/generated/numpy.polynomial.hermite.Hermite.has_samedomain.html\n"
     ]
    },
    {
     "output_type": "stream",
     "name": "stderr",
     "text": [
      "1398it [04:57,  7.46it/s]"
     ]
    },
    {
     "output_type": "stream",
     "name": "stdout",
     "text": [
      "numpy_docs/reference/generated/numpy.nditer.has_delayed_bufalloc.html\n",
      "numpy_docs/reference/generated/numpy.recarray.take.html\n",
      "numpy_docs/reference/generated/numpy.chararray.rfind.html\n",
      "numpy_docs/reference/generated/numpy.ma.MaskedArray.shrink_mask.html\n",
      "numpy_docs/reference/generated/numpy.ma.MaskedArray.tobytes.html\n"
     ]
    },
    {
     "output_type": "stream",
     "name": "stderr",
     "text": [
      "1404it [04:57, 12.68it/s]"
     ]
    },
    {
     "output_type": "stream",
     "name": "stdout",
     "text": [
      "numpy_docs/reference/generated/numpy.ma.MaskType.cumprod.html\n",
      "numpy_docs/reference/generated/numpy.flatiter.index.html\n",
      "numpy_docs/reference/generated/numpy.ma.in1d.html\n",
      "numpy_docs/reference/generated/numpy.number.__class_getitem__.html\n",
      "numpy_docs/reference/generated/numpy.polynomial.legendre.Legendre.basis_name.html\n",
      "numpy_docs/reference/generated/numpy.polynomial.hermite_e.HermiteE.has_samedomain.html\n"
     ]
    },
    {
     "output_type": "stream",
     "name": "stderr",
     "text": [
      "\r1406it [04:58,  9.33it/s]"
     ]
    },
    {
     "output_type": "stream",
     "name": "stdout",
     "text": [
      "numpy_docs/reference/generated/numpy.ma.MaskedArray.flat.html\n",
      "numpy_docs/reference/generated/numpy.argmin.html\n",
      "numpy_docs/reference/generated/numpy.ma.MaskedArray.size.html\n"
     ]
    },
    {
     "output_type": "stream",
     "name": "stderr",
     "text": [
      "1411it [04:58, 10.48it/s]"
     ]
    },
    {
     "output_type": "stream",
     "name": "stdout",
     "text": [
      "numpy_docs/reference/generated/numpy.in1d.html\n",
      "numpy_docs/reference/generated/numpy.nditer.has_index.html\n",
      "numpy_docs/reference/generated/numpy.polynomial.laguerre.Laguerre.symbol.html\n",
      "numpy_docs/reference/generated/numpy.distutils.ccompiler_opt.CCompilerOpt.try_dispatch.html\n",
      "numpy_docs/reference/generated/numpy.finfo.html\n"
     ]
    },
    {
     "output_type": "stream",
     "name": "stderr",
     "text": [
      "\r1413it [04:59,  4.41it/s]"
     ]
    },
    {
     "output_type": "stream",
     "name": "stdout",
     "text": [
      "numpy_docs/reference/generated/numpy.ma.anom.html\n",
      "numpy_docs/reference/generated/numpy.polynomial.legendre.legpow.html\n"
     ]
    },
    {
     "output_type": "stream",
     "name": "stderr",
     "text": [
      "1417it [05:00,  4.74it/s]"
     ]
    },
    {
     "output_type": "stream",
     "name": "stdout",
     "text": [
      "numpy_docs/reference/generated/numpy.ma.MaskedArray.__rshift__.html\n",
      "numpy_docs/reference/generated/numpy.linspace.html\n",
      "numpy_docs/reference/generated/numpy.format_parser.html\n"
     ]
    },
    {
     "output_type": "stream",
     "name": "stderr",
     "text": [
      "\r1419it [05:00,  5.55it/s]"
     ]
    },
    {
     "output_type": "stream",
     "name": "stdout",
     "text": [
      "numpy_docs/reference/generated/numpy.distutils.ccompiler.CCompiler_compile.html\n",
      "numpy_docs/reference/generated/numpy.ma.masked_array.torecords.html\n"
     ]
    },
    {
     "output_type": "stream",
     "name": "stderr",
     "text": [
      "\r1421it [05:01,  4.65it/s]"
     ]
    },
    {
     "output_type": "stream",
     "name": "stdout",
     "text": [
      "numpy_docs/reference/generated/numpy.polysub.html\n",
      "numpy_docs/reference/generated/numpy.polynomial.hermite_e.HermiteE.copy.html\n"
     ]
    },
    {
     "output_type": "stream",
     "name": "stderr",
     "text": [
      "\r1422it [05:02,  3.42it/s]"
     ]
    },
    {
     "output_type": "stream",
     "name": "stdout",
     "text": [
      "numpy_docs/reference/generated/numpy.union1d.html\n",
      "numpy_docs/reference/generated/numpy.memmap.base.html\n",
      "numpy_docs/reference/generated/numpy.ravel.html\n"
     ]
    },
    {
     "output_type": "stream",
     "name": "stderr",
     "text": [
      "1427it [05:02,  5.77it/s]"
     ]
    },
    {
     "output_type": "stream",
     "name": "stdout",
     "text": [
      "numpy_docs/reference/generated/numpy.chararray.tostring.html\n",
      "numpy_docs/reference/generated/numpy.linalg.eigvalsh.html\n",
      "numpy_docs/reference/generated/numpy.log.html\n"
     ]
    },
    {
     "output_type": "stream",
     "name": "stderr",
     "text": [
      "1432it [05:03,  6.35it/s]"
     ]
    },
    {
     "output_type": "stream",
     "name": "stdout",
     "text": [
      "numpy_docs/reference/generated/numpy.ma.MaskedArray.__array__.html\n",
      "numpy_docs/reference/generated/numpy.recarray.trace.html\n",
      "numpy_docs/reference/generated/numpy.ma.MaskType.swapaxes.html\n",
      "numpy_docs/reference/generated/numpy.polynomial.legendre.legzero.html\n",
      "numpy_docs/reference/generated/numpy.chararray.trace.html\n",
      "numpy_docs/reference/generated/numpy.geterrcall.html\n"
     ]
    },
    {
     "output_type": "stream",
     "name": "stderr",
     "text": [
      "\r1435it [05:03,  8.58it/s]"
     ]
    },
    {
     "output_type": "stream",
     "name": "stdout",
     "text": [
      "numpy_docs/reference/generated/numpy.recarray.ptp.html\n",
      "numpy_docs/reference/generated/numpy.distutils.ccompiler_opt.CCompilerOpt.dist_error.html\n",
      "numpy_docs/reference/generated/numpy.polynomial.polynomial.polyvander.html\n"
     ]
    },
    {
     "output_type": "stream",
     "name": "stderr",
     "text": [
      "\r1437it [05:04,  6.49it/s]"
     ]
    },
    {
     "output_type": "stream",
     "name": "stdout",
     "text": [
      "numpy_docs/reference/generated/numpy.char.rindex.html\n",
      "numpy_docs/reference/generated/numpy.moveaxis.html\n",
      "numpy_docs/reference/generated/numpy.ma.MaskType.conjugate.html\n",
      "numpy_docs/reference/generated/numpy.promote_types.html\n"
     ]
    },
    {
     "output_type": "stream",
     "name": "stderr",
     "text": [
      "1446it [05:04, 10.89it/s]"
     ]
    },
    {
     "output_type": "stream",
     "name": "stdout",
     "text": [
      "numpy_docs/reference/generated/numpy.record.shape.html\n",
      "numpy_docs/reference/generated/numpy.testing.clear_and_catch_warnings.class_modules.html\n",
      "numpy_docs/reference/generated/numpy.ma.masked_array.conjugate.html\n",
      "numpy_docs/reference/generated/numpy.recarray.argmax.html\n",
      "numpy_docs/reference/generated/numpy.where.html\n",
      "numpy_docs/reference/generated/numpy.triu_indices_from.html\n",
      "numpy_docs/reference/generated/numpy.chararray.isupper.html\n",
      "numpy_docs/reference/generated/numpy.polynomial.polynomial.Polynomial.deriv.html\n"
     ]
    },
    {
     "output_type": "stream",
     "name": "stderr",
     "text": [
      "\r1449it [05:05,  8.58it/s]"
     ]
    },
    {
     "output_type": "stream",
     "name": "stdout",
     "text": [
      "numpy_docs/reference/generated/numpy.ma.is_mask.html\n",
      "numpy_docs/reference/generated/numpy.recarray.dtype.html\n"
     ]
    },
    {
     "output_type": "stream",
     "name": "stderr",
     "text": [
      "1454it [05:06,  6.05it/s]"
     ]
    },
    {
     "output_type": "stream",
     "name": "stdout",
     "text": [
      "numpy_docs/reference/generated/numpy.ndarray.argpartition.html\n",
      "numpy_docs/reference/generated/numpy.poly1d.coefficients.html\n",
      "numpy_docs/reference/generated/numpy.convolve.html\n",
      "numpy_docs/reference/generated/numpy.dtype.char.html\n",
      "numpy_docs/reference/generated/numpy.recarray.itemset.html\n"
     ]
    },
    {
     "output_type": "stream",
     "name": "stderr",
     "text": [
      "\r1456it [05:07,  5.17it/s]"
     ]
    },
    {
     "output_type": "stream",
     "name": "stdout",
     "text": [
      "numpy_docs/reference/generated/numpy.any.html\n"
     ]
    },
    {
     "output_type": "stream",
     "name": "stderr",
     "text": [
      "1460it [05:07,  5.71it/s]"
     ]
    },
    {
     "output_type": "stream",
     "name": "stdout",
     "text": [
      "numpy_docs/reference/generated/numpy.rad2deg.html\n",
      "numpy_docs/reference/generated/numpy.exp.html\n",
      "numpy_docs/reference/generated/numpy.ma.MaskedArray.mean.html\n",
      "numpy_docs/reference/generated/numpy.roots.html\n"
     ]
    },
    {
     "output_type": "stream",
     "name": "stderr",
     "text": [
      "\r1462it [05:08,  5.51it/s]"
     ]
    },
    {
     "output_type": "stream",
     "name": "stdout",
     "text": [
      "numpy_docs/reference/generated/numpy.ma.MaskedArray.__truediv__.html\n",
      "numpy_docs/reference/generated/numpy.hsplit.html\n",
      "numpy_docs/reference/generated/numpy.mat.html\n",
      "numpy_docs/reference/generated/numpy.polynomial.chebyshev.Chebyshev.truncate.html\n"
     ]
    },
    {
     "output_type": "stream",
     "name": "stderr",
     "text": [
      "\r1465it [05:08,  5.56it/s]"
     ]
    },
    {
     "output_type": "stream",
     "name": "stdout",
     "text": [
      "numpy_docs/reference/generated/numpy.polynomial.hermite_e.hermevander2d.html\n"
     ]
    },
    {
     "output_type": "stream",
     "name": "stderr",
     "text": [
      "\r1466it [05:09,  4.76it/s]"
     ]
    },
    {
     "output_type": "stream",
     "name": "stdout",
     "text": [
      "numpy_docs/reference/generated/numpy.memmap.item.html\n"
     ]
    },
    {
     "output_type": "stream",
     "name": "stderr",
     "text": [
      "1469it [05:09,  5.83it/s]"
     ]
    },
    {
     "output_type": "stream",
     "name": "stdout",
     "text": [
      "numpy_docs/reference/generated/numpy.char.encode.html\n",
      "numpy_docs/reference/generated/numpy.polynomial.hermite.hermdomain.html\n",
      "numpy_docs/reference/generated/numpy.ma.MaskType.min.html\n",
      "numpy_docs/reference/generated/numpy.flatiter.html\n",
      "numpy_docs/reference/generated/numpy.polynomial.legendre.leggrid2d.html\n"
     ]
    },
    {
     "output_type": "stream",
     "name": "stderr",
     "text": [
      "\r1472it [05:09,  8.34it/s]"
     ]
    },
    {
     "output_type": "stream",
     "name": "stdout",
     "text": [
      "numpy_docs/reference/generated/numpy.nditer.iterationneedsapi.html\n",
      "numpy_docs/reference/generated/numpy.polynomial.laguerre.Laguerre.roots.html\n"
     ]
    },
    {
     "output_type": "stream",
     "name": "stderr",
     "text": [
      "\r1474it [05:10,  6.87it/s]"
     ]
    },
    {
     "output_type": "stream",
     "name": "stdout",
     "text": [
      "numpy_docs/reference/generated/numpy.char.isnumeric.html\n",
      "numpy_docs/reference/generated/numpy.polynomial.chebyshev.Chebyshev.linspace.html\n"
     ]
    },
    {
     "output_type": "stream",
     "name": "stderr",
     "text": [
      "\r1476it [05:10,  5.50it/s]"
     ]
    },
    {
     "output_type": "stream",
     "name": "stdout",
     "text": [
      "numpy_docs/reference/generated/numpy.frompyfunc.html\n",
      "numpy_docs/reference/generated/numpy.record.sum.html\n",
      "numpy_docs/reference/generated/numpy.record.flags.html\n",
      "numpy_docs/reference/generated/numpy.ma.MaskType.reshape.html\n",
      "numpy_docs/reference/generated/numpy.polynomial.polyutils.mapparms.html\n"
     ]
    },
    {
     "output_type": "stream",
     "name": "stderr",
     "text": [
      "\r1481it [05:11,  7.38it/s]"
     ]
    },
    {
     "output_type": "stream",
     "name": "stdout",
     "text": [
      "numpy_docs/reference/generated/numpy.polynomial.legendre.Legendre.has_samecoef.html\n"
     ]
    },
    {
     "output_type": "stream",
     "name": "stderr",
     "text": [
      "\r1482it [05:11,  5.93it/s]"
     ]
    },
    {
     "output_type": "stream",
     "name": "stdout",
     "text": [
      "numpy_docs/reference/generated/numpy.polynomial.hermite.herm2poly.html\n",
      "numpy_docs/reference/generated/numpy.polynomial.chebyshev.Chebyshev.trim.html\n"
     ]
    },
    {
     "output_type": "stream",
     "name": "stderr",
     "text": [
      "\r1484it [05:12,  5.06it/s]"
     ]
    },
    {
     "output_type": "stream",
     "name": "stdout",
     "text": [
      "numpy_docs/reference/generated/numpy.char.strip.html\n",
      "numpy_docs/reference/generated/numpy.arccosh.html\n"
     ]
    },
    {
     "output_type": "stream",
     "name": "stderr",
     "text": [
      "1488it [05:13,  4.55it/s]"
     ]
    },
    {
     "output_type": "stream",
     "name": "stdout",
     "text": [
      "numpy_docs/reference/generated/numpy.ma.masked_array.swapaxes.html\n",
      "numpy_docs/reference/generated/numpy.distutils.ccompiler.CCompiler_customize.html\n",
      "numpy_docs/reference/generated/numpy.ma.MaskType.compress.html\n",
      "numpy_docs/reference/generated/numpy.polynomial.chebyshev.Chebyshev.mapparms.html\n"
     ]
    },
    {
     "output_type": "stream",
     "name": "stderr",
     "text": [
      "\r1490it [05:14,  3.47it/s]"
     ]
    },
    {
     "output_type": "stream",
     "name": "stdout",
     "text": [
      "numpy_docs/reference/generated/numpy.ogrid.html\n"
     ]
    },
    {
     "output_type": "stream",
     "name": "stderr",
     "text": [
      "1493it [05:15,  3.55it/s]"
     ]
    },
    {
     "output_type": "stream",
     "name": "stdout",
     "text": [
      "numpy_docs/reference/generated/numpy.sign.html\n",
      "numpy_docs/reference/generated/numpy.chararray.isdecimal.html\n",
      "numpy_docs/reference/generated/numpy.remainder.html\n"
     ]
    },
    {
     "output_type": "stream",
     "name": "stderr",
     "text": [
      "1499it [05:16,  5.36it/s]"
     ]
    },
    {
     "output_type": "stream",
     "name": "stdout",
     "text": [
      "numpy_docs/reference/generated/numpy.chararray.prod.html\n",
      "numpy_docs/reference/generated/numpy.polynomial.hermite_e.hermegrid3d.html\n",
      "numpy_docs/reference/generated/numpy.dtype.__class_getitem__.html\n",
      "numpy_docs/reference/generated/numpy.polynomial.hermite_e.HermiteE.window.html\n",
      "numpy_docs/reference/generated/numpy.float_power.html\n"
     ]
    },
    {
     "output_type": "stream",
     "name": "stderr",
     "text": [
      "\r1502it [05:16,  7.63it/s]"
     ]
    },
    {
     "output_type": "stream",
     "name": "stdout",
     "text": [
      "numpy_docs/reference/generated/numpy.ma.identity.html\n",
      "numpy_docs/reference/generated/numpy.chararray.max.html\n",
      "numpy_docs/reference/generated/numpy.chararray.strip.html\n",
      "numpy_docs/reference/generated/numpy.ma.MaskedArray.__floordiv__.html\n",
      "numpy_docs/reference/generated/numpy.memmap.clip.html\n",
      "numpy_docs/reference/generated/numpy.polynomial.hermite.Hermite.mapparms.html\n"
     ]
    },
    {
     "output_type": "stream",
     "name": "stderr",
     "text": [
      "1508it [05:17,  9.58it/s]"
     ]
    },
    {
     "output_type": "stream",
     "name": "stdout",
     "text": [
      "numpy_docs/reference/generated/numpy.linalg.eigvals.html\n",
      "numpy_docs/reference/generated/numpy.char.chararray.rpartition.html\n",
      "numpy_docs/reference/generated/numpy.chararray.tobytes.html\n",
      "numpy_docs/reference/generated/numpy.ndarray.__matmul__.html\n",
      "numpy_docs/reference/generated/numpy.matrix.argmax.html\n",
      "numpy_docs/reference/generated/numpy.polynomial.polynomial.Polynomial.cutdeg.html\n"
     ]
    },
    {
     "output_type": "stream",
     "name": "stderr",
     "text": [
      "\r1511it [05:17,  7.67it/s]"
     ]
    },
    {
     "output_type": "stream",
     "name": "stdout",
     "text": [
      "numpy_docs/reference/generated/numpy.distutils.ccompiler_opt.CCompilerOpt.feature_sorted.html\n"
     ]
    },
    {
     "output_type": "stream",
     "name": "stderr",
     "text": [
      "\r1513it [05:18,  6.04it/s]"
     ]
    },
    {
     "output_type": "stream",
     "name": "stdout",
     "text": [
      "numpy_docs/reference/generated/numpy.polynomial.legendre.Legendre.html\n",
      "numpy_docs/reference/generated/numpy.var.html\n"
     ]
    },
    {
     "output_type": "stream",
     "name": "stderr",
     "text": [
      "1518it [05:19,  7.15it/s]"
     ]
    },
    {
     "output_type": "stream",
     "name": "stdout",
     "text": [
      "numpy_docs/reference/generated/numpy.ma.cumprod.html\n",
      "numpy_docs/reference/generated/numpy.record.cumprod.html\n",
      "numpy_docs/reference/generated/numpy.matrix.trace.html\n",
      "numpy_docs/reference/generated/numpy.ma.dot.html\n",
      "numpy_docs/reference/generated/numpy.ma.MaskedArray.argmax.html\n"
     ]
    },
    {
     "output_type": "stream",
     "name": "stderr",
     "text": [
      "\r1520it [05:19,  8.42it/s]"
     ]
    },
    {
     "output_type": "stream",
     "name": "stdout",
     "text": [
      "numpy_docs/reference/generated/numpy.ma.masked_invalid.html\n",
      "numpy_docs/reference/generated/numpy.polynomial.chebyshev.Chebyshev.maxpower.html\n",
      "numpy_docs/reference/generated/numpy.ma.masked_array.choose.html\n",
      "numpy_docs/reference/generated/numpy.ndarray.__rshift__.html\n",
      "numpy_docs/reference/generated/numpy.ma.indices.html\n"
     ]
    },
    {
     "output_type": "stream",
     "name": "stderr",
     "text": [
      "1526it [05:20,  6.86it/s]"
     ]
    },
    {
     "output_type": "stream",
     "name": "stdout",
     "text": [
      "numpy_docs/reference/generated/numpy.fft.ihfft.html\n",
      "numpy_docs/reference/generated/numpy.char.lower.html\n",
      "numpy_docs/reference/generated/numpy.nextafter.html\n",
      "numpy_docs/reference/generated/numpy.busday_count.html\n"
     ]
    },
    {
     "output_type": "stream",
     "name": "stderr",
     "text": [
      "1532it [05:20,  8.83it/s]"
     ]
    },
    {
     "output_type": "stream",
     "name": "stdout",
     "text": [
      "numpy_docs/reference/generated/numpy.char.find.html\n",
      "numpy_docs/reference/generated/numpy.ma.MaskType.flags.html\n",
      "numpy_docs/reference/generated/numpy.ndarray.__getitem__.html\n",
      "numpy_docs/reference/generated/numpy.ma.std.html\n",
      "numpy_docs/reference/generated/numpy.polynomial.hermite.Hermite.basis.html\n",
      "numpy_docs/reference/generated/numpy.ma.atleast_1d.html\n"
     ]
    },
    {
     "output_type": "stream",
     "name": "stderr",
     "text": [
      "\r1534it [05:21,  4.98it/s]"
     ]
    },
    {
     "output_type": "stream",
     "name": "stdout",
     "text": [
      "numpy_docs/reference/generated/numpy.chararray.setfield.html\n"
     ]
    },
    {
     "output_type": "stream",
     "name": "stderr",
     "text": [
      "\r1536it [05:22,  4.32it/s]"
     ]
    },
    {
     "output_type": "stream",
     "name": "stdout",
     "text": [
      "numpy_docs/reference/generated/numpy.asarray_chkfinite.html\n",
      "numpy_docs/reference/generated/numpy.partition.html\n",
      "numpy_docs/reference/generated/numpy.ma.masked_array.repeat.html\n",
      "numpy_docs/reference/generated/numpy.polynomial.chebyshev.Chebyshev.deriv.html\n"
     ]
    },
    {
     "output_type": "stream",
     "name": "stderr",
     "text": [
      "\r1539it [05:23,  4.60it/s]"
     ]
    },
    {
     "output_type": "stream",
     "name": "stdout",
     "text": [
      "numpy_docs/reference/generated/numpy.maximum.html\n",
      "numpy_docs/reference/generated/numpy.rot90.html\n",
      "numpy_docs/reference/generated/numpy.char.chararray.html\n"
     ]
    },
    {
     "output_type": "stream",
     "name": "stderr",
     "text": [
      "1546it [05:23,  8.48it/s]"
     ]
    },
    {
     "output_type": "stream",
     "name": "stdout",
     "text": [
      "numpy_docs/reference/generated/numpy.chararray.compress.html\n",
      "numpy_docs/reference/generated/numpy.ma.MaskedArray.__rfloordiv__.html\n",
      "numpy_docs/reference/generated/numpy.ma.fix_invalid.html\n",
      "numpy_docs/reference/generated/numpy.nditer.copy.html\n",
      "numpy_docs/reference/generated/numpy.ndarray.__pow__.html\n",
      "numpy_docs/reference/generated/numpy.memmap.data.html\n"
     ]
    },
    {
     "output_type": "stream",
     "name": "stderr",
     "text": [
      "1551it [05:23, 10.29it/s]"
     ]
    },
    {
     "output_type": "stream",
     "name": "stdout",
     "text": [
      "numpy_docs/reference/generated/numpy.testing.assert_array_equal.html\n",
      "numpy_docs/reference/generated/numpy.exceptions.VisibleDeprecationWarning.html\n",
      "numpy_docs/reference/generated/numpy.char.chararray.fill.html\n",
      "numpy_docs/reference/generated/numpy.ma.masked_array.tofile.html\n",
      "numpy_docs/reference/generated/numpy.bincount.html\n",
      "numpy_docs/reference/generated/numpy.matrix.html\n"
     ]
    },
    {
     "output_type": "stream",
     "name": "stderr",
     "text": [
      "\r1554it [05:24, 11.64it/s]"
     ]
    },
    {
     "output_type": "stream",
     "name": "stdout",
     "text": [
      "numpy_docs/reference/generated/numpy.logaddexp2.html\n",
      "numpy_docs/reference/generated/numpy.intersect1d.html\n",
      "numpy_docs/reference/generated/numpy.memmap.resize.html\n"
     ]
    },
    {
     "output_type": "stream",
     "name": "stderr",
     "text": [
      "1561it [05:24, 13.20it/s]"
     ]
    },
    {
     "output_type": "stream",
     "name": "stdout",
     "text": [
      "numpy_docs/reference/generated/numpy.testing.assert_raises.html\n",
      "numpy_docs/reference/generated/numpy.record.dumps.html\n",
      "numpy_docs/reference/generated/numpy.record.view.html\n",
      "numpy_docs/reference/generated/numpy.ndenumerate.html\n",
      "numpy_docs/reference/generated/numpy.polynomial.legendre.legder.html\n"
     ]
    },
    {
     "output_type": "stream",
     "name": "stderr",
     "text": [
      "\r1563it [05:24, 13.29it/s]"
     ]
    },
    {
     "output_type": "stream",
     "name": "stdout",
     "text": [
      "numpy_docs/reference/generated/numpy.ma.mask_or.html\n",
      "numpy_docs/reference/generated/numpy.ndarray.partition.html\n"
     ]
    },
    {
     "output_type": "stream",
     "name": "stderr",
     "text": [
      "\r1565it [05:25,  6.35it/s]"
     ]
    },
    {
     "output_type": "stream",
     "name": "stdout",
     "text": [
      "numpy_docs/reference/generated/numpy.record.put.html\n",
      "numpy_docs/reference/generated/numpy.polynomial.laguerre.laggrid2d.html\n",
      "numpy_docs/reference/generated/numpy.linalg.tensorsolve.html\n"
     ]
    },
    {
     "output_type": "stream",
     "name": "stderr",
     "text": [
      "\r1567it [05:26,  5.11it/s]"
     ]
    },
    {
     "output_type": "stream",
     "name": "stdout",
     "text": [
      "numpy_docs/reference/generated/numpy.min.html\n",
      "numpy_docs/reference/generated/numpy.polynomial.hermite.hermval.html\n"
     ]
    },
    {
     "output_type": "stream",
     "name": "stderr",
     "text": [
      "1570it [05:27,  4.08it/s]"
     ]
    },
    {
     "output_type": "stream",
     "name": "stdout",
     "text": [
      "numpy_docs/reference/generated/numpy.ndarray.flatten.html\n",
      "numpy_docs/reference/generated/numpy.ma.MaskedArray.__reduce__.html\n"
     ]
    },
    {
     "output_type": "stream",
     "name": "stderr",
     "text": [
      "\r1573it [05:27,  6.15it/s]"
     ]
    },
    {
     "output_type": "stream",
     "name": "stdout",
     "text": [
      "numpy_docs/reference/generated/numpy.distutils.ccompiler_opt.CCompilerOpt.conf_cc_flags.html\n",
      "numpy_docs/reference/generated/numpy.poly1d.r.html\n",
      "numpy_docs/reference/generated/numpy.polynomial.hermite.Hermite.roots.html\n"
     ]
    },
    {
     "output_type": "stream",
     "name": "stderr",
     "text": [
      "\r1575it [05:28,  4.54it/s]"
     ]
    },
    {
     "output_type": "stream",
     "name": "stdout",
     "text": [
      "numpy_docs/reference/generated/numpy.ma.min.html\n",
      "numpy_docs/reference/generated/numpy.dsplit.html\n",
      "numpy_docs/reference/generated/numpy.core.records.fromarrays.html\n"
     ]
    },
    {
     "output_type": "stream",
     "name": "stderr",
     "text": [
      "1579it [05:28,  6.65it/s]"
     ]
    },
    {
     "output_type": "stream",
     "name": "stdout",
     "text": [
      "numpy_docs/reference/generated/numpy.trunc.html\n",
      "numpy_docs/reference/generated/numpy.char.chararray.decode.html\n",
      "numpy_docs/reference/generated/numpy.polynomial.set_default_printstyle.html\n",
      "numpy_docs/reference/generated/numpy.polynomial.laguerre.Laguerre.trim.html\n"
     ]
    },
    {
     "output_type": "stream",
     "name": "stderr",
     "text": [
      "\r1581it [05:29,  4.49it/s]"
     ]
    },
    {
     "output_type": "stream",
     "name": "stdout",
     "text": [
      "numpy_docs/reference/generated/numpy.ndarray.__divmod__.html\n",
      "numpy_docs/reference/generated/numpy.outer.html\n"
     ]
    },
    {
     "output_type": "stream",
     "name": "stderr",
     "text": [
      "1585it [05:30,  4.54it/s]"
     ]
    },
    {
     "output_type": "stream",
     "name": "stdout",
     "text": [
      "numpy_docs/reference/generated/numpy.put_along_axis.html\n",
      "numpy_docs/reference/generated/numpy.distutils.ccompiler_opt.CCompilerOpt.feature_names.html\n",
      "numpy_docs/reference/generated/numpy.histogram.html\n",
      "numpy_docs/reference/generated/numpy.polynomial.chebyshev.chebroots.html\n"
     ]
    },
    {
     "output_type": "stream",
     "name": "stderr",
     "text": [
      "1590it [05:30,  7.95it/s]"
     ]
    },
    {
     "output_type": "stream",
     "name": "stdout",
     "text": [
      "numpy_docs/reference/generated/numpy.recarray.round.html\n",
      "numpy_docs/reference/generated/numpy.record.flat.html\n",
      "numpy_docs/reference/generated/numpy.linalg.svd.html\n",
      "numpy_docs/reference/generated/numpy.polynomial.laguerre.lagzero.html\n"
     ]
    },
    {
     "output_type": "stream",
     "name": "stderr",
     "text": [
      "\r1592it [05:30,  8.97it/s]"
     ]
    },
    {
     "output_type": "stream",
     "name": "stdout",
     "text": [
      "numpy_docs/reference/generated/numpy.iinfo.html\n",
      "numpy_docs/reference/generated/numpy.ma.resize.html\n",
      "numpy_docs/reference/generated/numpy.dtype.shape.html\n",
      "numpy_docs/reference/generated/numpy.char.chararray.transpose.html\n"
     ]
    },
    {
     "output_type": "stream",
     "name": "stderr",
     "text": [
      "1597it [05:31,  7.03it/s]"
     ]
    },
    {
     "output_type": "stream",
     "name": "stdout",
     "text": [
      "numpy_docs/reference/generated/numpy.ma.prod.html\n",
      "numpy_docs/reference/generated/numpy.linalg.cond.html\n",
      "numpy_docs/reference/generated/numpy.polynomial.laguerre.Laguerre.truncate.html\n"
     ]
    },
    {
     "output_type": "stream",
     "name": "stderr",
     "text": [
      "1602it [05:32,  8.53it/s]"
     ]
    },
    {
     "output_type": "stream",
     "name": "stdout",
     "text": [
      "numpy_docs/reference/generated/numpy.record.tofile.html\n",
      "numpy_docs/reference/generated/numpy.polyval.html\n",
      "numpy_docs/reference/generated/numpy.char.chararray.capitalize.html\n",
      "numpy_docs/reference/generated/numpy.chararray.take.html\n",
      "numpy_docs/reference/generated/numpy.distutils.ccompiler_opt.CCompilerOpt.report.html\n",
      "numpy_docs/reference/generated/numpy.ma.MaskedArray.__gt__.html\n"
     ]
    },
    {
     "output_type": "stream",
     "name": "stderr",
     "text": [
      "\r1606it [05:32, 12.14it/s]"
     ]
    },
    {
     "output_type": "stream",
     "name": "stdout",
     "text": [
      "numpy_docs/reference/generated/numpy.ndarray.__irshift__.html\n",
      "numpy_docs/reference/generated/numpy.core.records.fromrecords.html\n",
      "numpy_docs/reference/generated/numpy.polynomial.polynomial.polyvander3d.html\n"
     ]
    },
    {
     "output_type": "stream",
     "name": "stderr",
     "text": [
      "\r1608it [05:32,  8.30it/s]"
     ]
    },
    {
     "output_type": "stream",
     "name": "stdout",
     "text": [
      "numpy_docs/reference/generated/numpy.ufunc.accumulate.html\n",
      "numpy_docs/reference/generated/numpy.nditer.dtypes.html\n",
      "numpy_docs/reference/generated/numpy.recarray.strides.html\n"
     ]
    },
    {
     "output_type": "stream",
     "name": "stderr",
     "text": [
      "\r1610it [05:33,  7.86it/s]"
     ]
    },
    {
     "output_type": "stream",
     "name": "stdout",
     "text": [
      "numpy_docs/reference/generated/numpy.matrix.dump.html\n",
      "numpy_docs/reference/generated/numpy.recarray.setflags.html\n"
     ]
    },
    {
     "output_type": "stream",
     "name": "stderr",
     "text": [
      "1614it [05:33,  6.78it/s]"
     ]
    },
    {
     "output_type": "stream",
     "name": "stdout",
     "text": [
      "numpy_docs/reference/generated/numpy.fft.ifftn.html\n",
      "numpy_docs/reference/generated/numpy.polynomial.polynomial.Polynomial.basis.html\n",
      "numpy_docs/reference/generated/numpy.char.chararray.encode.html\n"
     ]
    },
    {
     "output_type": "stream",
     "name": "stderr",
     "text": [
      "\r1616it [05:33,  8.16it/s]"
     ]
    },
    {
     "output_type": "stream",
     "name": "stdout",
     "text": [
      "numpy_docs/reference/generated/numpy.ma.append.html\n",
      "numpy_docs/reference/generated/numpy.degrees.html\n",
      "numpy_docs/reference/generated/numpy.ma.masked_array.transpose.html\n"
     ]
    },
    {
     "output_type": "stream",
     "name": "stderr",
     "text": [
      "\r1618it [05:34,  7.50it/s]"
     ]
    },
    {
     "output_type": "stream",
     "name": "stdout",
     "text": [
      "numpy_docs/reference/generated/numpy.matrix.flat.html\n"
     ]
    },
    {
     "output_type": "stream",
     "name": "stderr",
     "text": [
      "1623it [05:34,  9.84it/s]"
     ]
    },
    {
     "output_type": "stream",
     "name": "stdout",
     "text": [
      "numpy_docs/reference/generated/numpy.asarray.html\n",
      "numpy_docs/reference/generated/numpy.dtype.base.html\n",
      "numpy_docs/reference/generated/numpy.chararray.ravel.html\n",
      "numpy_docs/reference/generated/numpy.distutils.ccompiler_opt.CCompilerOpt.dist_fatal.html\n",
      "numpy_docs/reference/generated/numpy.broadcast.iters.html\n"
     ]
    },
    {
     "output_type": "stream",
     "name": "stderr",
     "text": [
      "1628it [05:34, 13.27it/s]"
     ]
    },
    {
     "output_type": "stream",
     "name": "stdout",
     "text": [
      "numpy_docs/reference/generated/numpy.char.count.html\n",
      "numpy_docs/reference/generated/numpy.ma.make_mask_none.html\n",
      "numpy_docs/reference/generated/numpy.polynomial.laguerre.Laguerre.basis_name.html\n",
      "numpy_docs/reference/generated/numpy.polynomial.chebyshev.Chebyshev.basis.html\n"
     ]
    },
    {
     "output_type": "stream",
     "name": "stderr",
     "text": [
      "\r1632it [05:35, 18.10it/s]"
     ]
    },
    {
     "output_type": "stream",
     "name": "stdout",
     "text": [
      "numpy_docs/reference/generated/numpy.memmap.take.html\n",
      "numpy_docs/reference/generated/numpy.ma.MaskType.round.html\n",
      "numpy_docs/reference/generated/numpy.char.chararray.lstrip.html\n",
      "numpy_docs/reference/generated/numpy.distutils.ccompiler_opt.CCompilerOpt.feature_can_autovec.html\n",
      "numpy_docs/reference/generated/numpy.matrix.real.html\n",
      "numpy_docs/reference/generated/numpy.poly1d.coeffs.html\n",
      "numpy_docs/reference/generated/numpy.polynomial.legendre.legone.html\n"
     ]
    },
    {
     "output_type": "stream",
     "name": "stderr",
     "text": [
      "1639it [05:35, 22.26it/s]"
     ]
    },
    {
     "output_type": "stream",
     "name": "stdout",
     "text": [
      "numpy_docs/reference/generated/numpy.char.capitalize.html\n",
      "numpy_docs/reference/generated/numpy.ma.masked_array.byteswap.html\n",
      "numpy_docs/reference/generated/numpy.chararray.title.html\n",
      "numpy_docs/reference/generated/numpy.ma.masked_array.all.html\n",
      "numpy_docs/reference/generated/numpy.chararray.squeeze.html\n",
      "numpy_docs/reference/generated/numpy.poly1d.o.html\n",
      "numpy_docs/reference/generated/numpy.ma.MaskType.tofile.html\n",
      "numpy_docs/reference/generated/numpy.matlib.identity.html\n",
      "numpy_docs/reference/generated/numpy.char.chararray.min.html\n"
     ]
    },
    {
     "output_type": "stream",
     "name": "stderr",
     "text": [
      "1648it [05:35, 29.18it/s]"
     ]
    },
    {
     "output_type": "stream",
     "name": "stdout",
     "text": [
      "numpy_docs/reference/generated/numpy.shape.html\n",
      "numpy_docs/reference/generated/numpy.char.chararray.cumsum.html\n",
      "numpy_docs/reference/generated/numpy.broadcast.numiter.html\n",
      "numpy_docs/reference/generated/numpy.geterr.html\n",
      "numpy_docs/reference/generated/numpy.ndarray.byteswap.html\n",
      "numpy_docs/reference/generated/numpy.broadcast.ndim.html\n",
      "numpy_docs/reference/generated/numpy.bitwise_or.html\n"
     ]
    },
    {
     "output_type": "stream",
     "name": "stderr",
     "text": [
      "1656it [05:35, 30.78it/s]"
     ]
    },
    {
     "output_type": "stream",
     "name": "stdout",
     "text": [
      "numpy_docs/reference/generated/numpy.matrix.imag.html\n",
      "numpy_docs/reference/generated/numpy.recarray.T.html\n",
      "numpy_docs/reference/generated/numpy.ndarray.__len__.html\n",
      "numpy_docs/reference/generated/numpy.testing.overrides.allows_array_function_override.html\n",
      "numpy_docs/reference/generated/numpy.char.rstrip.html\n",
      "numpy_docs/reference/generated/numpy.polynomial.laguerre.lagfromroots.html\n"
     ]
    },
    {
     "output_type": "stream",
     "name": "stderr",
     "text": [
      "\r1660it [05:36, 16.71it/s]"
     ]
    },
    {
     "output_type": "stream",
     "name": "stdout",
     "text": [
      "numpy_docs/reference/generated/numpy.column_stack.html\n",
      "numpy_docs/reference/generated/numpy.polynomial.chebyshev.Chebyshev.window.html\n",
      "numpy_docs/reference/generated/numpy.signbit.html\n",
      "numpy_docs/reference/generated/numpy.polynomial.hermite.hermmulx.html\n",
      "numpy_docs/reference/generated/numpy.ma.MaskedArray.__setstate__.html\n",
      "numpy_docs/reference/generated/numpy.chararray.view.html\n"
     ]
    },
    {
     "output_type": "stream",
     "name": "stderr",
     "text": [
      "1665it [05:37,  8.64it/s]"
     ]
    },
    {
     "output_type": "stream",
     "name": "stdout",
     "text": [
      "numpy_docs/reference/generated/numpy.polynomial.chebyshev.chebinterpolate.html\n",
      "numpy_docs/reference/generated/numpy.generic.ndim.html\n",
      "numpy_docs/reference/generated/numpy.chararray.astype.html\n",
      "numpy_docs/reference/generated/numpy.polynomial.chebyshev.chebder.html\n"
     ]
    },
    {
     "output_type": "stream",
     "name": "stderr",
     "text": [
      "\r1667it [05:37,  9.16it/s]"
     ]
    },
    {
     "output_type": "stream",
     "name": "stdout",
     "text": [
      "numpy_docs/reference/generated/numpy.nancumsum.html\n",
      "numpy_docs/reference/generated/numpy.memmap.itemsize.html\n",
      "numpy_docs/reference/generated/numpy.polynomial.laguerre.lagpow.html\n"
     ]
    },
    {
     "output_type": "stream",
     "name": "stderr",
     "text": [
      "1672it [05:38,  9.19it/s]"
     ]
    },
    {
     "output_type": "stream",
     "name": "stdout",
     "text": [
      "numpy_docs/reference/generated/numpy.polynomial.legendre.legtrim.html\n",
      "numpy_docs/reference/generated/numpy.gcd.html\n",
      "numpy_docs/reference/generated/numpy.reshape.html\n"
     ]
    },
    {
     "output_type": "stream",
     "name": "stderr",
     "text": [
      "\r1674it [05:38, 10.14it/s]"
     ]
    },
    {
     "output_type": "stream",
     "name": "stdout",
     "text": [
      "numpy_docs/reference/generated/numpy.ndarray.real.html\n",
      "numpy_docs/reference/generated/numpy.vectorize.__call__.html\n",
      "numpy_docs/reference/generated/numpy.ma.median.html\n",
      "numpy_docs/reference/generated/numpy.distutils.ccompiler_opt.CCompilerOpt.feature_c_preprocessor.html\n"
     ]
    },
    {
     "output_type": "stream",
     "name": "stderr",
     "text": [
      "\r1677it [05:38,  7.95it/s]"
     ]
    },
    {
     "output_type": "stream",
     "name": "stdout",
     "text": [
      "numpy_docs/reference/generated/numpy.chararray.tolist.html\n"
     ]
    },
    {
     "output_type": "stream",
     "name": "stderr",
     "text": [
      "1681it [05:39,  6.98it/s]"
     ]
    },
    {
     "output_type": "stream",
     "name": "stdout",
     "text": [
      "numpy_docs/reference/generated/numpy.ndarray.prod.html\n",
      "numpy_docs/reference/generated/numpy.polynomial.chebyshev.chebgrid2d.html\n",
      "numpy_docs/reference/generated/numpy.dtype.names.html\n",
      "numpy_docs/reference/generated/numpy.polynomial.legendre.Legendre.roots.html\n",
      "numpy_docs/reference/generated/numpy.polynomial.chebyshev.Chebyshev.has_sametype.html\n"
     ]
    },
    {
     "output_type": "stream",
     "name": "stderr",
     "text": [
      "\r1683it [05:40,  3.44it/s]"
     ]
    },
    {
     "output_type": "stream",
     "name": "stdout",
     "text": [
      "numpy_docs/reference/generated/numpy.polynomial.hermite_e.HermiteE.linspace.html\n"
     ]
    },
    {
     "output_type": "stream",
     "name": "stderr",
     "text": [
      "1686it [05:41,  3.92it/s]"
     ]
    },
    {
     "output_type": "stream",
     "name": "stdout",
     "text": [
      "numpy_docs/reference/generated/numpy.distutils.ccompiler_opt.CCompilerOpt.cpu_baseline_names.html\n",
      "numpy_docs/reference/generated/numpy.ma.MaskType.prod.html\n",
      "numpy_docs/reference/generated/numpy.ma.masked_inside.html\n"
     ]
    },
    {
     "output_type": "stream",
     "name": "stderr",
     "text": [
      "1689it [05:43,  2.73it/s]"
     ]
    },
    {
     "output_type": "stream",
     "name": "stdout",
     "text": [
      "numpy_docs/reference/generated/numpy.modf.html\n",
      "numpy_docs/reference/generated/numpy.triu.html\n",
      "numpy_docs/reference/generated/numpy.generic.T.html\n",
      "numpy_docs/reference/generated/numpy.distutils.ccompiler.simple_version_match.html\n",
      "numpy_docs/reference/generated/numpy.polynomial.hermite_e.hermeint.html\n"
     ]
    },
    {
     "output_type": "stream",
     "name": "stderr",
     "text": [
      "\r1692it [05:43,  4.22it/s]"
     ]
    },
    {
     "output_type": "stream",
     "name": "stdout",
     "text": [
      "numpy_docs/reference/generated/numpy.polynomial.polynomial.Polynomial.truncate.html\n"
     ]
    },
    {
     "output_type": "stream",
     "name": "stderr",
     "text": [
      "1698it [05:44,  6.74it/s]"
     ]
    },
    {
     "output_type": "stream",
     "name": "stdout",
     "text": [
      "numpy_docs/reference/generated/numpy.linalg.eigh.html\n",
      "numpy_docs/reference/generated/numpy.lookfor.html\n",
      "numpy_docs/reference/generated/numpy.matrix.fill.html\n",
      "numpy_docs/reference/generated/numpy.recarray.real.html\n",
      "numpy_docs/reference/generated/numpy.ma.MaskType.std.html\n",
      "numpy_docs/reference/generated/numpy.char.chararray.ravel.html\n"
     ]
    },
    {
     "output_type": "stream",
     "name": "stderr",
     "text": [
      "\r1700it [05:44,  7.75it/s]"
     ]
    },
    {
     "output_type": "stream",
     "name": "stdout",
     "text": [
      "numpy_docs/reference/generated/numpy.polynomial.hermite_e.hermeline.html\n",
      "numpy_docs/reference/generated/numpy.polynomial.polyutils.RankWarning.html\n",
      "numpy_docs/reference/generated/numpy.linalg.inv.html\n"
     ]
    },
    {
     "output_type": "stream",
     "name": "stderr",
     "text": [
      "1705it [05:45,  6.85it/s]"
     ]
    },
    {
     "output_type": "stream",
     "name": "stdout",
     "text": [
      "numpy_docs/reference/generated/numpy.bitwise_and.html\n",
      "numpy_docs/reference/generated/numpy.matrix.argpartition.html\n",
      "numpy_docs/reference/generated/numpy.ma.MaskedArray.set_fill_value.html\n",
      "numpy_docs/reference/generated/numpy.ma.masked_equal.html\n",
      "numpy_docs/reference/generated/numpy.ma.masked_array.anom.html\n",
      "numpy_docs/reference/generated/numpy.chararray.copy.html\n"
     ]
    },
    {
     "output_type": "stream",
     "name": "stderr",
     "text": [
      "1710it [05:45,  9.47it/s]"
     ]
    },
    {
     "output_type": "stream",
     "name": "stdout",
     "text": [
      "numpy_docs/reference/generated/numpy.polynomial.chebyshev.chebdomain.html\n",
      "numpy_docs/reference/generated/numpy.ma.filled.html\n",
      "numpy_docs/reference/generated/numpy.char.chararray.var.html\n",
      "numpy_docs/reference/generated/numpy.ma.masked_array.diagonal.html\n",
      "numpy_docs/reference/generated/numpy.ndarray.__reduce__.html\n"
     ]
    },
    {
     "output_type": "stream",
     "name": "stderr",
     "text": [
      "1716it [05:46, 13.65it/s]"
     ]
    },
    {
     "output_type": "stream",
     "name": "stdout",
     "text": [
      "numpy_docs/reference/generated/numpy.ma.argmin.html\n",
      "numpy_docs/reference/generated/numpy.ndarray.astype.html\n",
      "numpy_docs/reference/generated/numpy.distutils.core.Extension.has_cxx_sources.html\n",
      "numpy_docs/reference/generated/numpy.matrix.var.html\n",
      "numpy_docs/reference/generated/numpy.polynomial.laguerre.Laguerre.has_samecoef.html\n"
     ]
    },
    {
     "output_type": "stream",
     "name": "stderr",
     "text": [
      "1722it [05:46, 12.99it/s]"
     ]
    },
    {
     "output_type": "stream",
     "name": "stdout",
     "text": [
      "numpy_docs/reference/generated/numpy.chararray.decode.html\n",
      "numpy_docs/reference/generated/numpy.record.dump.html\n",
      "numpy_docs/reference/generated/numpy.ma.masked_array.max.html\n",
      "numpy_docs/reference/generated/numpy.polynomial.hermite.Hermite.domain.html\n",
      "numpy_docs/reference/generated/numpy.char.isupper.html\n",
      "numpy_docs/reference/generated/numpy.ma.masked_array.conj.html\n",
      "numpy_docs/reference/generated/numpy.ma.MaskedArray.__ipow__.html\n",
      "numpy_docs/reference/generated/numpy.recarray.astype.html\n"
     ]
    },
    {
     "output_type": "stream",
     "name": "stderr",
     "text": [
      "\r1726it [05:46, 15.88it/s]"
     ]
    },
    {
     "output_type": "stream",
     "name": "stdout",
     "text": [
      "numpy_docs/reference/generated/numpy.char.chararray.getfield.html\n",
      "numpy_docs/reference/generated/numpy.ma.inner.html\n",
      "numpy_docs/reference/generated/numpy.arcsinh.html\n"
     ]
    },
    {
     "output_type": "stream",
     "name": "stderr",
     "text": [
      "\r1729it [05:47,  8.33it/s]"
     ]
    },
    {
     "output_type": "stream",
     "name": "stdout",
     "text": [
      "numpy_docs/reference/generated/numpy.log1p.html\n"
     ]
    },
    {
     "output_type": "stream",
     "name": "stderr",
     "text": [
      "1733it [05:48,  6.88it/s]"
     ]
    },
    {
     "output_type": "stream",
     "name": "stdout",
     "text": [
      "numpy_docs/reference/generated/numpy.ma.MaskType.ndim.html\n",
      "numpy_docs/reference/generated/numpy.memmap.var.html\n",
      "numpy_docs/reference/generated/numpy.polynomial.hermite.hermfit.html\n",
      "numpy_docs/reference/generated/numpy.cos.html\n",
      "numpy_docs/reference/generated/numpy.polynomial.legendre.legfromroots.html\n"
     ]
    },
    {
     "output_type": "stream",
     "name": "stderr",
     "text": [
      "1739it [05:49,  9.08it/s]"
     ]
    },
    {
     "output_type": "stream",
     "name": "stdout",
     "text": [
      "numpy_docs/reference/generated/numpy.chararray.clip.html\n",
      "numpy_docs/reference/generated/numpy.ma.masked_array.clip.html\n",
      "numpy_docs/reference/generated/numpy.ma.average.html\n",
      "numpy_docs/reference/generated/numpy.ndarray.round.html\n",
      "numpy_docs/reference/generated/numpy.testing.decorate_methods.html\n",
      "numpy_docs/reference/generated/numpy.lib.format.header_data_from_array_1_0.html\n"
     ]
    },
    {
     "output_type": "stream",
     "name": "stderr",
     "text": [
      "1744it [05:49, 12.46it/s]"
     ]
    },
    {
     "output_type": "stream",
     "name": "stdout",
     "text": [
      "numpy_docs/reference/generated/numpy.record.flatten.html\n",
      "numpy_docs/reference/generated/numpy.char.chararray.nbytes.html\n",
      "numpy_docs/reference/generated/numpy.polynomial.legendre.legline.html\n",
      "numpy_docs/reference/generated/numpy.polyint.html\n"
     ]
    },
    {
     "output_type": "stream",
     "name": "stderr",
     "text": [
      "\r1746it [05:49,  9.06it/s]"
     ]
    },
    {
     "output_type": "stream",
     "name": "stdout",
     "text": [
      "numpy_docs/reference/generated/numpy.char.isdecimal.html\n",
      "numpy_docs/reference/generated/numpy.polynomial.laguerre.lag2poly.html\n",
      "numpy_docs/reference/generated/numpy.distutils.ccompiler_opt.CCompilerOpt.conf_c_prefix.html\n",
      "numpy_docs/reference/generated/numpy.polynomial.legendre.Legendre.fit.html\n"
     ]
    },
    {
     "output_type": "stream",
     "name": "stderr",
     "text": [
      "1753it [05:50, 14.27it/s]"
     ]
    },
    {
     "output_type": "stream",
     "name": "stdout",
     "text": [
      "numpy_docs/reference/generated/numpy.char.chararray.max.html\n",
      "numpy_docs/reference/generated/numpy.isinf.html\n",
      "numpy_docs/reference/generated/numpy.char.chararray.swapaxes.html\n",
      "numpy_docs/reference/generated/numpy.ma.masked_array.searchsorted.html\n",
      "numpy_docs/reference/generated/numpy.polynomial.legendre.Legendre.basis.html\n"
     ]
    },
    {
     "output_type": "stream",
     "name": "stderr",
     "text": [
      "\r1756it [05:50, 14.32it/s]"
     ]
    },
    {
     "output_type": "stream",
     "name": "stdout",
     "text": [
      "numpy_docs/reference/generated/numpy.emath.sqrt.html\n",
      "numpy_docs/reference/generated/numpy.polynomial.hermite_e.hermediv.html\n",
      "numpy_docs/reference/generated/numpy.ndarray.__le__.html\n",
      "numpy_docs/reference/generated/numpy.polynomial.laguerre.lagmulx.html\n"
     ]
    },
    {
     "output_type": "stream",
     "name": "stderr",
     "text": [
      "1760it [05:50, 10.84it/s]"
     ]
    },
    {
     "output_type": "stream",
     "name": "stdout",
     "text": [
      "numpy_docs/reference/generated/numpy.polynomial.hermite_e.HermiteE.domain.html\n",
      "numpy_docs/reference/generated/numpy.ma.MaskedArray.copy.html\n",
      "numpy_docs/reference/generated/numpy.record.itemset.html\n",
      "numpy_docs/reference/generated/numpy.polynomial.hermite_e.hermemul.html\n"
     ]
    },
    {
     "output_type": "stream",
     "name": "stderr",
     "text": [
      "\r1762it [05:50, 11.94it/s]"
     ]
    },
    {
     "output_type": "stream",
     "name": "stdout",
     "text": [
      "numpy_docs/reference/generated/numpy.polynomial.legendre.legmulx.html\n"
     ]
    },
    {
     "output_type": "stream",
     "name": "stderr",
     "text": [
      "\r1764it [05:51,  8.59it/s]"
     ]
    },
    {
     "output_type": "stream",
     "name": "stdout",
     "text": [
      "numpy_docs/reference/generated/numpy.record.take.html\n",
      "numpy_docs/reference/generated/numpy.polynomial.legendre.Legendre.window.html\n",
      "numpy_docs/reference/generated/numpy.ma.MaskType.astype.html\n",
      "numpy_docs/reference/generated/numpy.memmap.size.html\n"
     ]
    },
    {
     "output_type": "stream",
     "name": "stderr",
     "text": [
      "\r1767it [05:51,  9.28it/s]"
     ]
    },
    {
     "output_type": "stream",
     "name": "stdout",
     "text": [
      "numpy_docs/reference/generated/numpy.chararray.strides.html\n",
      "numpy_docs/reference/generated/numpy.std.html\n"
     ]
    },
    {
     "output_type": "stream",
     "name": "stderr",
     "text": [
      "\r1769it [05:52,  5.53it/s]"
     ]
    },
    {
     "output_type": "stream",
     "name": "stdout",
     "text": [
      "numpy_docs/reference/generated/numpy.nditer.value.html\n",
      "numpy_docs/reference/generated/numpy.memmap.imag.html\n",
      "numpy_docs/reference/generated/numpy.full.html\n"
     ]
    },
    {
     "output_type": "stream",
     "name": "stderr",
     "text": [
      "\r1772it [05:52,  5.45it/s]"
     ]
    },
    {
     "output_type": "stream",
     "name": "stdout",
     "text": [
      "numpy_docs/reference/generated/numpy.polynomial.legendre.Legendre.cast.html\n"
     ]
    },
    {
     "output_type": "stream",
     "name": "stderr",
     "text": [
      "\r1773it [05:53,  4.65it/s]"
     ]
    },
    {
     "output_type": "stream",
     "name": "stdout",
     "text": [
      "numpy_docs/reference/generated/numpy.distutils.ccompiler_opt.CCompilerOpt.feature_implies.html\n"
     ]
    },
    {
     "output_type": "stream",
     "name": "stderr",
     "text": [
      "1776it [05:54,  4.58it/s]"
     ]
    },
    {
     "output_type": "stream",
     "name": "stdout",
     "text": [
      "numpy_docs/reference/generated/numpy.ndarray.squeeze.html\n",
      "numpy_docs/reference/generated/numpy.char.chararray.replace.html\n",
      "numpy_docs/reference/generated/numpy.generic.__array_wrap__.html\n"
     ]
    },
    {
     "output_type": "stream",
     "name": "stderr",
     "text": [
      "\r1778it [05:54,  6.00it/s]"
     ]
    },
    {
     "output_type": "stream",
     "name": "stdout",
     "text": [
      "numpy_docs/reference/generated/numpy.char.isspace.html\n",
      "numpy_docs/reference/generated/numpy.polynomial.polyutils.mapdomain.html\n"
     ]
    },
    {
     "output_type": "stream",
     "name": "stderr",
     "text": [
      "\r1780it [05:55,  4.09it/s]"
     ]
    },
    {
     "output_type": "stream",
     "name": "stdout",
     "text": [
      "numpy_docs/reference/generated/numpy.polynomial.laguerre.lagsub.html\n",
      "numpy_docs/reference/generated/numpy.polynomial.polynomial.Polynomial.fit.html\n"
     ]
    },
    {
     "output_type": "stream",
     "name": "stderr",
     "text": [
      "\r1781it [05:55,  4.15it/s]"
     ]
    },
    {
     "output_type": "stream",
     "name": "stdout",
     "text": [
      "numpy_docs/reference/generated/numpy.ma.MaskedArray.ids.html\n",
      "numpy_docs/reference/generated/numpy.memmap.shape.html\n",
      "numpy_docs/reference/generated/numpy.polynomial.polyutils.as_series.html\n"
     ]
    },
    {
     "output_type": "stream",
     "name": "stderr",
     "text": [
      "1786it [05:55,  7.37it/s]"
     ]
    },
    {
     "output_type": "stream",
     "name": "stdout",
     "text": [
      "numpy_docs/reference/generated/numpy.matrix.H.html\n",
      "numpy_docs/reference/generated/numpy.dtype.name.html\n",
      "numpy_docs/reference/generated/numpy.ma.masked_array.fill_value.html\n",
      "numpy_docs/reference/generated/numpy.fft.fft.html\n"
     ]
    },
    {
     "output_type": "stream",
     "name": "stderr",
     "text": [
      "\r1788it [05:55,  8.32it/s]"
     ]
    },
    {
     "output_type": "stream",
     "name": "stdout",
     "text": [
      "numpy_docs/reference/generated/numpy.ndarray.item.html\n",
      "numpy_docs/reference/generated/numpy.polynomial.hermite_e.hermecompanion.html\n"
     ]
    },
    {
     "output_type": "stream",
     "name": "stderr",
     "text": [
      "\r1790it [05:57,  2.78it/s]"
     ]
    },
    {
     "output_type": "stream",
     "name": "stdout",
     "text": [
      "numpy_docs/reference/generated/numpy.recarray.item.html\n"
     ]
    },
    {
     "output_type": "stream",
     "name": "stderr",
     "text": [
      "\r1791it [05:58,  2.52it/s]"
     ]
    },
    {
     "output_type": "stream",
     "name": "stdout",
     "text": [
      "numpy_docs/reference/generated/numpy.memmap.byteswap.html\n",
      "numpy_docs/reference/generated/numpy.resize.html\n",
      "numpy_docs/reference/generated/numpy.arccos.html\n"
     ]
    },
    {
     "output_type": "stream",
     "name": "stderr",
     "text": [
      "1796it [05:59,  3.81it/s]"
     ]
    },
    {
     "output_type": "stream",
     "name": "stdout",
     "text": [
      "numpy_docs/reference/generated/numpy.square.html\n",
      "numpy_docs/reference/generated/numpy.polynomial.polynomial.polydomain.html\n",
      "numpy_docs/reference/generated/numpy.ma.MaskedArray.__iand__.html\n",
      "numpy_docs/reference/generated/numpy.ma.masked_array.data.html\n"
     ]
    },
    {
     "output_type": "stream",
     "name": "stderr",
     "text": [
      "1802it [05:59,  7.38it/s]"
     ]
    },
    {
     "output_type": "stream",
     "name": "stdout",
     "text": [
      "numpy_docs/reference/generated/numpy.recarray.max.html\n",
      "numpy_docs/reference/generated/numpy.ix_.html\n",
      "numpy_docs/reference/generated/numpy.zeros_like.html\n",
      "numpy_docs/reference/generated/numpy.hstack.html\n"
     ]
    },
    {
     "output_type": "stream",
     "name": "stderr",
     "text": [
      "\r1805it [05:59,  9.19it/s]"
     ]
    },
    {
     "output_type": "stream",
     "name": "stdout",
     "text": [
      "numpy_docs/reference/generated/numpy.generic.itemsize.html\n",
      "numpy_docs/reference/generated/numpy.ndarray.__deepcopy__.html\n",
      "numpy_docs/reference/generated/numpy.polynomial.polynomial.Polynomial.html\n",
      "numpy_docs/reference/generated/numpy.recarray.all.html\n",
      "numpy_docs/reference/generated/numpy.iscomplex.html\n"
     ]
    },
    {
     "output_type": "stream",
     "name": "stderr",
     "text": [
      "1810it [05:59, 12.30it/s]"
     ]
    },
    {
     "output_type": "stream",
     "name": "stdout",
     "text": [
      "numpy_docs/reference/generated/numpy.from_dlpack.html\n",
      "numpy_docs/reference/generated/numpy.ma.MaskedArray.__float__.html\n",
      "numpy_docs/reference/generated/numpy.ma.argsort.html\n",
      "numpy_docs/reference/generated/numpy.ma.masked_values.html\n"
     ]
    },
    {
     "output_type": "stream",
     "name": "stderr",
     "text": [
      "\r1814it [05:59, 16.26it/s]"
     ]
    },
    {
     "output_type": "stream",
     "name": "stdout",
     "text": [
      "numpy_docs/reference/generated/numpy.ma.MaskType.base.html\n",
      "numpy_docs/reference/generated/numpy.ma.masked_array.getfield.html\n",
      "numpy_docs/reference/generated/numpy.char.not_equal.html\n",
      "numpy_docs/reference/generated/numpy.polynomial.polyutils.trimcoef.html\n",
      "numpy_docs/reference/generated/numpy.polynomial.laguerre.lagtrim.html\n"
     ]
    },
    {
     "output_type": "stream",
     "name": "stderr",
     "text": [
      "1820it [06:00, 16.60it/s]"
     ]
    },
    {
     "output_type": "stream",
     "name": "stdout",
     "text": [
      "numpy_docs/reference/generated/numpy.ma.MaskedArray.clip.html\n",
      "numpy_docs/reference/generated/numpy.ma.flatnotmasked_edges.html\n",
      "numpy_docs/reference/generated/numpy.ndarray.__copy__.html\n",
      "numpy_docs/reference/generated/numpy.sinh.html\n",
      "numpy_docs/reference/generated/numpy.matrix.getT.html\n",
      "numpy_docs/reference/generated/numpy.ma.MaskType.shape.html\n",
      "numpy_docs/reference/generated/numpy.polynomial.chebyshev.chebpts2.html\n"
     ]
    },
    {
     "output_type": "stream",
     "name": "stderr",
     "text": [
      "\r1823it [06:00, 10.64it/s]"
     ]
    },
    {
     "output_type": "stream",
     "name": "stdout",
     "text": [
      "numpy_docs/reference/generated/numpy.polynomial.laguerre.lagval3d.html\n",
      "numpy_docs/reference/generated/numpy.polynomial.polynomial.polyvalfromroots.html\n"
     ]
    },
    {
     "output_type": "stream",
     "name": "stderr",
     "text": [
      "\r1825it [06:01,  7.26it/s]"
     ]
    },
    {
     "output_type": "stream",
     "name": "stdout",
     "text": [
      "numpy_docs/reference/generated/numpy.matrix.dtype.html\n",
      "numpy_docs/reference/generated/numpy.polynomial.polynomial.Polynomial.trim.html\n"
     ]
    },
    {
     "output_type": "stream",
     "name": "stderr",
     "text": [
      "1830it [06:02,  7.09it/s]"
     ]
    },
    {
     "output_type": "stream",
     "name": "stdout",
     "text": [
      "numpy_docs/reference/generated/numpy.interp.html\n",
      "numpy_docs/reference/generated/numpy.recarray.squeeze.html\n",
      "numpy_docs/reference/generated/numpy.isscalar.html\n",
      "numpy_docs/reference/generated/numpy.ma.MaskedArray.__mul__.html\n",
      "numpy_docs/reference/generated/numpy.memmap.nbytes.html\n",
      "numpy_docs/reference/generated/numpy.char.chararray.title.html\n",
      "numpy_docs/reference/generated/numpy.polynomial.hermite_e.hermeroots.html\n"
     ]
    },
    {
     "output_type": "stream",
     "name": "stderr",
     "text": [
      "\r1834it [06:02,  9.82it/s]"
     ]
    },
    {
     "output_type": "stream",
     "name": "stdout",
     "text": [
      "numpy_docs/reference/generated/numpy.mean.html\n"
     ]
    },
    {
     "output_type": "stream",
     "name": "stderr",
     "text": [
      "1838it [06:03,  8.39it/s]"
     ]
    },
    {
     "output_type": "stream",
     "name": "stdout",
     "text": [
      "numpy_docs/reference/generated/numpy.char.chararray.round.html\n",
      "numpy_docs/reference/generated/numpy.ma.mr_.html\n",
      "numpy_docs/reference/generated/numpy.ma.MaskedArray.max.html\n",
      "numpy_docs/reference/generated/numpy.ma.frombuffer.html\n"
     ]
    },
    {
     "output_type": "stream",
     "name": "stderr",
     "text": [
      "\r1840it [06:03,  9.53it/s]"
     ]
    },
    {
     "output_type": "stream",
     "name": "stdout",
     "text": [
      "numpy_docs/reference/generated/numpy.ma.harden_mask.html\n",
      "numpy_docs/reference/generated/numpy.ndarray.fill.html\n",
      "numpy_docs/reference/generated/numpy.chararray.endswith.html\n",
      "numpy_docs/reference/generated/numpy.polynomial.polynomial.Polynomial.copy.html\n"
     ]
    },
    {
     "output_type": "stream",
     "name": "stderr",
     "text": [
      "\r1843it [06:03,  7.48it/s]"
     ]
    },
    {
     "output_type": "stream",
     "name": "stdout",
     "text": [
      "numpy_docs/reference/generated/numpy.squeeze.html\n",
      "numpy_docs/reference/generated/numpy.ma.MaskedArray.iscontiguous.html\n",
      "numpy_docs/reference/generated/numpy.broadcast.html\n"
     ]
    },
    {
     "output_type": "stream",
     "name": "stderr",
     "text": [
      "1849it [06:04,  8.29it/s]"
     ]
    },
    {
     "output_type": "stream",
     "name": "stdout",
     "text": [
      "numpy_docs/reference/generated/numpy.chararray.fill.html\n",
      "numpy_docs/reference/generated/numpy.ndarray.__ne__.html\n",
      "numpy_docs/reference/generated/numpy.ma.power.html\n",
      "numpy_docs/reference/generated/numpy.polynomial.chebyshev.chebzero.html\n"
     ]
    },
    {
     "output_type": "stream",
     "name": "stderr",
     "text": [
      "\r1851it [06:04,  9.23it/s]"
     ]
    },
    {
     "output_type": "stream",
     "name": "stdout",
     "text": [
      "numpy_docs/reference/generated/numpy.record.all.html\n",
      "numpy_docs/reference/generated/numpy.ma.MaskedArray.filled.html\n",
      "numpy_docs/reference/generated/numpy.sqrt.html\n"
     ]
    },
    {
     "output_type": "stream",
     "name": "stderr",
     "text": [
      "1857it [06:05,  8.78it/s]"
     ]
    },
    {
     "output_type": "stream",
     "name": "stdout",
     "text": [
      "numpy_docs/reference/generated/numpy.record.any.html\n",
      "numpy_docs/reference/generated/numpy.ndarray.__ifloordiv__.html\n",
      "numpy_docs/reference/generated/numpy.chararray.capitalize.html\n",
      "numpy_docs/reference/generated/numpy.ma.MaskedArray.__getitem__.html\n",
      "numpy_docs/reference/generated/numpy.recarray.flags.html\n",
      "numpy_docs/reference/generated/numpy.char.center.html\n",
      "numpy_docs/reference/generated/numpy.chararray.mean.html\n",
      "numpy_docs/reference/generated/numpy.ma.maximum_fill_value.html\n"
     ]
    },
    {
     "output_type": "stream",
     "name": "stderr",
     "text": [
      "\r1861it [06:06,  6.01it/s]"
     ]
    },
    {
     "output_type": "stream",
     "name": "stdout",
     "text": [
      "numpy_docs/reference/generated/numpy.polynomial.legendre.legval.html\n",
      "numpy_docs/reference/generated/numpy.emath.log2.html\n"
     ]
    },
    {
     "output_type": "stream",
     "name": "stderr",
     "text": [
      "1865it [06:07,  5.12it/s]"
     ]
    },
    {
     "output_type": "stream",
     "name": "stdout",
     "text": [
      "numpy_docs/reference/generated/numpy.char.chararray.argmax.html\n",
      "numpy_docs/reference/generated/numpy.polynomial.hermite_e.hermesub.html\n",
      "numpy_docs/reference/generated/numpy.block.html\n"
     ]
    },
    {
     "output_type": "stream",
     "name": "stderr",
     "text": [
      "\r1867it [06:08,  3.22it/s]"
     ]
    },
    {
     "output_type": "stream",
     "name": "stdout",
     "text": [
      "numpy_docs/reference/generated/numpy.polynomial.legendre.legval3d.html\n",
      "numpy_docs/reference/generated/numpy.testing.assert_array_max_ulp.html\n"
     ]
    },
    {
     "output_type": "stream",
     "name": "stderr",
     "text": [
      "\r1869it [06:09,  3.98it/s]"
     ]
    },
    {
     "output_type": "stream",
     "name": "stdout",
     "text": [
      "numpy_docs/reference/generated/numpy.show_config.html\n",
      "numpy_docs/reference/generated/numpy.polynomial.chebyshev.Chebyshev.roots.html\n"
     ]
    },
    {
     "output_type": "stream",
     "name": "stderr",
     "text": [
      "\r1870it [06:10,  2.84it/s]"
     ]
    },
    {
     "output_type": "stream",
     "name": "stdout",
     "text": [
      "numpy_docs/reference/generated/numpy.recarray.nbytes.html\n",
      "numpy_docs/reference/generated/numpy.recarray.conjugate.html\n",
      "numpy_docs/reference/generated/numpy.polynomial.polynomial.polyder.html\n"
     ]
    },
    {
     "output_type": "stream",
     "name": "stderr",
     "text": [
      "\r1873it [06:10,  3.05it/s]"
     ]
    },
    {
     "output_type": "stream",
     "name": "stdout",
     "text": [
      "numpy_docs/reference/generated/numpy.ma.mask_rowcols.html\n"
     ]
    },
    {
     "output_type": "stream",
     "name": "stderr",
     "text": [
      "\r1874it [06:11,  2.34it/s]"
     ]
    },
    {
     "output_type": "stream",
     "name": "stdout",
     "text": [
      "numpy_docs/reference/generated/numpy.polynomial.hermite_e.HermiteE.trim.html\n"
     ]
    },
    {
     "output_type": "stream",
     "name": "stderr",
     "text": [
      "1879it [06:12,  4.60it/s]"
     ]
    },
    {
     "output_type": "stream",
     "name": "stdout",
     "text": [
      "numpy_docs/reference/generated/numpy.lib.user_array.container.copy.html\n",
      "numpy_docs/reference/generated/numpy.issubsctype.html\n",
      "numpy_docs/reference/generated/numpy.char.chararray.isdecimal.html\n",
      "numpy_docs/reference/generated/numpy.ma.MaskedArray.__add__.html\n",
      "numpy_docs/reference/generated/numpy.polynomial.chebyshev.chebvander3d.html\n"
     ]
    },
    {
     "output_type": "stream",
     "name": "stderr",
     "text": [
      "\r1881it [06:12,  4.19it/s]"
     ]
    },
    {
     "output_type": "stream",
     "name": "stdout",
     "text": [
      "numpy_docs/reference/generated/numpy.polynomial.polynomial.polygrid3d.html\n",
      "numpy_docs/reference/generated/numpy.ma.squeeze.html\n",
      "numpy_docs/reference/generated/numpy.fromfile.html\n"
     ]
    },
    {
     "output_type": "stream",
     "name": "stderr",
     "text": [
      "\r1883it [06:13,  5.19it/s]"
     ]
    },
    {
     "output_type": "stream",
     "name": "stdout",
     "text": [
      "numpy_docs/reference/generated/numpy.polynomial.hermite.Hermite.__call__.html\n"
     ]
    },
    {
     "output_type": "stream",
     "name": "stderr",
     "text": [
      "\r1885it [06:13,  5.09it/s]"
     ]
    },
    {
     "output_type": "stream",
     "name": "stdout",
     "text": [
      "numpy_docs/reference/generated/numpy.ma.MaskedArray.__abs__.html\n",
      "numpy_docs/reference/generated/numpy.ma.masked_array.get_fill_value.html\n",
      "numpy_docs/reference/generated/numpy.recarray.clip.html\n",
      "numpy_docs/reference/generated/numpy.polynomial.polyutils.trimseq.html\n"
     ]
    },
    {
     "output_type": "stream",
     "name": "stderr",
     "text": [
      "1891it [06:14,  7.74it/s]"
     ]
    },
    {
     "output_type": "stream",
     "name": "stdout",
     "text": [
      "numpy_docs/reference/generated/numpy.fft.ifft2.html\n",
      "numpy_docs/reference/generated/numpy.ma.masked_array.soften_mask.html\n",
      "numpy_docs/reference/generated/numpy.issubdtype.html\n",
      "numpy_docs/reference/generated/numpy.distutils.ccompiler_opt.CCompilerOpt.conf_cache_factors.html\n",
      "numpy_docs/reference/generated/numpy.ma.make_mask_descr.html\n",
      "numpy_docs/reference/generated/numpy.chararray.data.html\n"
     ]
    },
    {
     "output_type": "stream",
     "name": "stderr",
     "text": [
      "1896it [06:14,  9.02it/s]"
     ]
    },
    {
     "output_type": "stream",
     "name": "stdout",
     "text": [
      "numpy_docs/reference/generated/numpy.nanmax.html\n",
      "numpy_docs/reference/generated/numpy.polynomial.polynomial.polyzero.html\n",
      "numpy_docs/reference/generated/numpy.log10.html\n"
     ]
    },
    {
     "output_type": "stream",
     "name": "stderr",
     "text": [
      "\r1898it [06:15,  5.80it/s]"
     ]
    },
    {
     "output_type": "stream",
     "name": "stdout",
     "text": [
      "numpy_docs/reference/generated/numpy.ma.MaskType.tolist.html\n",
      "numpy_docs/reference/generated/numpy.polynomial.polynomial.Polynomial.convert.html\n"
     ]
    },
    {
     "output_type": "stream",
     "name": "stderr",
     "text": [
      "1902it [06:15,  6.72it/s]"
     ]
    },
    {
     "output_type": "stream",
     "name": "stdout",
     "text": [
      "numpy_docs/reference/generated/numpy.char.chararray.join.html\n",
      "numpy_docs/reference/generated/numpy.chararray.getfield.html\n",
      "numpy_docs/reference/generated/numpy.dtype.itemsize.html\n",
      "numpy_docs/reference/generated/numpy.eye.html\n"
     ]
    },
    {
     "output_type": "stream",
     "name": "stderr",
     "text": [
      "\r1904it [06:16,  5.50it/s]"
     ]
    },
    {
     "output_type": "stream",
     "name": "stdout",
     "text": [
      "numpy_docs/reference/generated/numpy.ma.MaskType.getfield.html\n",
      "numpy_docs/reference/generated/numpy.ma.minimum_fill_value.html\n"
     ]
    },
    {
     "output_type": "stream",
     "name": "stderr",
     "text": [
      "\r1906it [06:17,  3.73it/s]"
     ]
    },
    {
     "output_type": "stream",
     "name": "stdout",
     "text": [
      "numpy_docs/reference/generated/numpy.fmax.html\n",
      "numpy_docs/reference/generated/numpy.real_if_close.html\n"
     ]
    },
    {
     "output_type": "stream",
     "name": "stderr",
     "text": [
      "\r1907it [06:17,  3.05it/s]"
     ]
    },
    {
     "output_type": "stream",
     "name": "stdout",
     "text": [
      "numpy_docs/reference/generated/numpy.flatiter.base.html\n",
      "numpy_docs/reference/generated/numpy.nanprod.html\n",
      "numpy_docs/reference/generated/numpy.polynomial.legendre.Legendre.maxpower.html\n",
      "numpy_docs/reference/generated/numpy.i0.html\n"
     ]
    },
    {
     "output_type": "stream",
     "name": "stderr",
     "text": [
      "\r1911it [06:18,  3.90it/s]"
     ]
    },
    {
     "output_type": "stream",
     "name": "stdout",
     "text": [
      "numpy_docs/reference/generated/numpy.matrix.size.html\n"
     ]
    },
    {
     "output_type": "stream",
     "name": "stderr",
     "text": [
      "1916it [06:19,  6.66it/s]"
     ]
    },
    {
     "output_type": "stream",
     "name": "stdout",
     "text": [
      "numpy_docs/reference/generated/numpy.busdaycalendar.weekmask.html\n",
      "numpy_docs/reference/generated/numpy.memmap.all.html\n",
      "numpy_docs/reference/generated/numpy.heaviside.html\n",
      "numpy_docs/reference/generated/numpy.distutils.cpuinfo.cpu.html\n",
      "numpy_docs/reference/generated/numpy.polynomial.polynomial.Polynomial.has_samecoef.html\n"
     ]
    },
    {
     "output_type": "stream",
     "name": "stderr",
     "text": [
      "\r1918it [06:19,  5.71it/s]"
     ]
    },
    {
     "output_type": "stream",
     "name": "stdout",
     "text": [
      "numpy_docs/reference/generated/numpy.memmap.tostring.html\n",
      "numpy_docs/reference/generated/numpy.ndarray.__class_getitem__.html\n",
      "numpy_docs/reference/generated/numpy.chararray.all.html\n",
      "numpy_docs/reference/generated/numpy.recarray.tolist.html\n"
     ]
    },
    {
     "output_type": "stream",
     "name": "stderr",
     "text": [
      "\r1921it [06:20,  5.39it/s]"
     ]
    },
    {
     "output_type": "stream",
     "name": "stdout",
     "text": [
      "numpy_docs/reference/generated/numpy.tanh.html\n"
     ]
    },
    {
     "output_type": "stream",
     "name": "stderr",
     "text": [
      "1923it [06:21,  4.02it/s]"
     ]
    },
    {
     "output_type": "stream",
     "name": "stdout",
     "text": [
      "numpy_docs/reference/generated/numpy.polynomial.polynomial.polytrim.html\n",
      "numpy_docs/reference/generated/numpy.polynomial.hermite.hermvander2d.html\n"
     ]
    },
    {
     "output_type": "stream",
     "name": "stderr",
     "text": [
      "1925it [06:21,  3.50it/s]"
     ]
    },
    {
     "output_type": "stream",
     "name": "stdout",
     "text": [
      "numpy_docs/reference/generated/numpy.ma.compress_rowcols.html\n",
      "numpy_docs/reference/generated/numpy.chararray.byteswap.html\n",
      "numpy_docs/reference/generated/numpy.dtype.newbyteorder.html\n"
     ]
    },
    {
     "output_type": "stream",
     "name": "stderr",
     "text": [
      "\r1927it [06:22,  4.82it/s]"
     ]
    },
    {
     "output_type": "stream",
     "name": "stdout",
     "text": [
      "numpy_docs/reference/generated/numpy.arctan.html\n"
     ]
    },
    {
     "output_type": "stream",
     "name": "stderr",
     "text": [
      "1929it [06:23,  2.88it/s]"
     ]
    },
    {
     "output_type": "stream",
     "name": "stdout",
     "text": [
      "numpy_docs/reference/generated/numpy.nested_iters.html\n",
      "numpy_docs/reference/generated/numpy.distutils.ccompiler_opt.CCompilerOpt.feature_get_til.html\n"
     ]
    },
    {
     "output_type": "stream",
     "name": "stderr",
     "text": [
      "1932it [06:24,  3.25it/s]"
     ]
    },
    {
     "output_type": "stream",
     "name": "stdout",
     "text": [
      "numpy_docs/reference/generated/numpy.char.chararray.isnumeric.html\n",
      "numpy_docs/reference/generated/numpy.ndarray.reshape.html\n",
      "numpy_docs/reference/generated/numpy.broadcast.index.html\n",
      "numpy_docs/reference/generated/numpy.char.chararray.isdigit.html\n"
     ]
    },
    {
     "output_type": "stream",
     "name": "stderr",
     "text": [
      "\r1936it [06:24,  5.97it/s]"
     ]
    },
    {
     "output_type": "stream",
     "name": "stdout",
     "text": [
      "numpy_docs/reference/generated/numpy.ma.MaskedArray.searchsorted.html\n",
      "numpy_docs/reference/generated/numpy.polynomial.chebyshev.chebfit.html\n",
      "numpy_docs/reference/generated/numpy.ma.MaskedArray.__ne__.html\n",
      "numpy_docs/reference/generated/numpy.tril.html\n"
     ]
    },
    {
     "output_type": "stream",
     "name": "stderr",
     "text": [
      "\r1938it [06:25,  5.03it/s]"
     ]
    },
    {
     "output_type": "stream",
     "name": "stdout",
     "text": [
      "numpy_docs/reference/generated/numpy.array_repr.html\n"
     ]
    },
    {
     "output_type": "stream",
     "name": "stderr",
     "text": [
      "\r1939it [06:25,  4.10it/s]"
     ]
    },
    {
     "output_type": "stream",
     "name": "stdout",
     "text": [
      "numpy_docs/reference/generated/numpy.polynomial.hermite.hermweight.html\n"
     ]
    },
    {
     "output_type": "stream",
     "name": "stderr",
     "text": [
      "1944it [06:26,  6.61it/s]"
     ]
    },
    {
     "output_type": "stream",
     "name": "stdout",
     "text": [
      "numpy_docs/reference/generated/numpy.generic.__array_interface__.html\n",
      "numpy_docs/reference/generated/numpy.fft.rfftfreq.html\n",
      "numpy_docs/reference/generated/numpy.ma.MaskType.fill.html\n",
      "numpy_docs/reference/generated/numpy.polynomial.legendre.poly2leg.html\n",
      "numpy_docs/reference/generated/numpy.ndarray.__and__.html\n",
      "numpy_docs/reference/generated/numpy.ma.masked_array.count.html\n"
     ]
    },
    {
     "output_type": "stream",
     "name": "stderr",
     "text": [
      "1951it [06:26, 12.53it/s]"
     ]
    },
    {
     "output_type": "stream",
     "name": "stdout",
     "text": [
      "numpy_docs/reference/generated/numpy.linalg.norm.html\n",
      "numpy_docs/reference/generated/numpy.char.rjust.html\n",
      "numpy_docs/reference/generated/numpy.matrix.dumps.html\n",
      "numpy_docs/reference/generated/numpy.ma.masked_array.flat.html\n",
      "numpy_docs/reference/generated/numpy.record.clip.html\n",
      "numpy_docs/reference/generated/numpy.lcm.html\n",
      "numpy_docs/reference/generated/numpy.polynomial.legendre.legweight.html\n"
     ]
    },
    {
     "output_type": "stream",
     "name": "stderr",
     "text": [
      "1958it [06:27, 12.87it/s]"
     ]
    },
    {
     "output_type": "stream",
     "name": "stdout",
     "text": [
      "numpy_docs/reference/generated/numpy.core.defchararray.array.html\n",
      "numpy_docs/reference/generated/numpy.ma.masked_array.set_fill_value.html\n",
      "numpy_docs/reference/generated/numpy.ma.MaskedArray.__contains__.html\n",
      "numpy_docs/reference/generated/numpy.recarray.compress.html\n",
      "numpy_docs/reference/generated/numpy.nansum.html\n",
      "numpy_docs/reference/generated/numpy.memmap.copy.html\n",
      "numpy_docs/reference/generated/numpy.matlib.empty.html\n"
     ]
    },
    {
     "output_type": "stream",
     "name": "stderr",
     "text": [
      "1966it [06:27, 14.20it/s]"
     ]
    },
    {
     "output_type": "stream",
     "name": "stdout",
     "text": [
      "numpy_docs/reference/generated/numpy.char.chararray.isalpha.html\n",
      "numpy_docs/reference/generated/numpy.ma.MaskType.clip.html\n",
      "numpy_docs/reference/generated/numpy.char.chararray.cumprod.html\n",
      "numpy_docs/reference/generated/numpy.ma.MaskType.transpose.html\n",
      "numpy_docs/reference/generated/numpy.ndarray.__or__.html\n",
      "numpy_docs/reference/generated/numpy.polynomial.chebyshev.Chebyshev.domain.html\n",
      "numpy_docs/reference/generated/numpy.record.ptp.html\n",
      "numpy_docs/reference/generated/numpy.ufunc.nin.html\n"
     ]
    },
    {
     "output_type": "stream",
     "name": "stderr",
     "text": [
      "\r1969it [06:27, 15.33it/s]"
     ]
    },
    {
     "output_type": "stream",
     "name": "stdout",
     "text": [
      "numpy_docs/reference/generated/numpy.load.html\n",
      "numpy_docs/reference/generated/numpy.ma.masked_less_equal.html\n",
      "numpy_docs/reference/generated/numpy.ma.masked_array.nbytes.html\n",
      "numpy_docs/reference/generated/numpy.dtype.kind.html\n"
     ]
    },
    {
     "output_type": "stream",
     "name": "stderr",
     "text": [
      "1975it [06:28, 13.28it/s]"
     ]
    },
    {
     "output_type": "stream",
     "name": "stdout",
     "text": [
      "numpy_docs/reference/generated/numpy.chararray.rstrip.html\n",
      "numpy_docs/reference/generated/numpy.ma.MaskedArray.anom.html\n",
      "numpy_docs/reference/generated/numpy.ma.masked_array.cumprod.html\n",
      "numpy_docs/reference/generated/numpy.isrealobj.html\n",
      "numpy_docs/reference/generated/numpy.polynomial.laguerre.Laguerre.has_samewindow.html\n",
      "numpy_docs/reference/generated/numpy.nditer.remove_multi_index.html\n"
     ]
    },
    {
     "output_type": "stream",
     "name": "stderr",
     "text": [
      "1980it [06:29,  8.55it/s]"
     ]
    },
    {
     "output_type": "stream",
     "name": "stdout",
     "text": [
      "numpy_docs/reference/generated/numpy.char.chararray.take.html\n",
      "numpy_docs/reference/generated/numpy.histogram2d.html\n",
      "numpy_docs/reference/generated/numpy.linalg.pinv.html\n",
      "numpy_docs/reference/generated/numpy.polynomial.hermite_e.HermiteE.integ.html\n"
     ]
    },
    {
     "output_type": "stream",
     "name": "stderr",
     "text": [
      "\r1982it [06:29,  7.13it/s]"
     ]
    },
    {
     "output_type": "stream",
     "name": "stdout",
     "text": [
      "numpy_docs/reference/generated/numpy.polynomial.chebyshev.chebgauss.html\n",
      "numpy_docs/reference/generated/numpy.deprecate_with_doc.html\n"
     ]
    },
    {
     "output_type": "stream",
     "name": "stderr",
     "text": [
      "1986it [06:30,  5.68it/s]"
     ]
    },
    {
     "output_type": "stream",
     "name": "stdout",
     "text": [
      "numpy_docs/reference/generated/numpy.polynomial.hermite_e.hermegrid2d.html\n",
      "numpy_docs/reference/generated/numpy.ma.MaskedArray.__ixor__.html\n",
      "numpy_docs/reference/generated/numpy.ndarray.__setstate__.html\n"
     ]
    },
    {
     "output_type": "stream",
     "name": "stderr",
     "text": [
      "1991it [06:31,  6.25it/s]"
     ]
    },
    {
     "output_type": "stream",
     "name": "stdout",
     "text": [
      "numpy_docs/reference/generated/numpy.distutils.exec_command.exec_command.html\n",
      "numpy_docs/reference/generated/numpy.dtype.metadata.html\n",
      "numpy_docs/reference/generated/numpy.record.reshape.html\n",
      "numpy_docs/reference/generated/numpy.polynomial.legendre.legadd.html\n",
      "numpy_docs/reference/generated/numpy.char.less.html\n"
     ]
    },
    {
     "output_type": "stream",
     "name": "stderr",
     "text": [
      "\r1994it [06:31,  8.49it/s]"
     ]
    },
    {
     "output_type": "stream",
     "name": "stdout",
     "text": [
      "numpy_docs/reference/generated/numpy.record.html\n",
      "numpy_docs/reference/generated/numpy.ma.MaskedArray.__iadd__.html\n",
      "numpy_docs/reference/generated/numpy.cumprod.html\n",
      "numpy_docs/reference/generated/numpy.distutils.ccompiler_opt.CCompilerOpt.feature_is_exist.html\n"
     ]
    },
    {
     "output_type": "stream",
     "name": "stderr",
     "text": [
      "1999it [06:32,  8.40it/s]"
     ]
    },
    {
     "output_type": "stream",
     "name": "stdout",
     "text": [
      "numpy_docs/reference/generated/numpy.ma.MaskedArray.__bool__.html\n",
      "numpy_docs/reference/generated/numpy.ma.cumsum.html\n",
      "numpy_docs/reference/generated/numpy.polynomial.chebyshev.Chebyshev.identity.html\n",
      "numpy_docs/reference/generated/numpy.ma.MaskType.max.html\n",
      "numpy_docs/reference/generated/numpy.recarray.nonzero.html\n"
     ]
    },
    {
     "output_type": "stream",
     "name": "stderr",
     "text": [
      "\r2002it [06:32, 10.98it/s]"
     ]
    },
    {
     "output_type": "stream",
     "name": "stdout",
     "text": [
      "numpy_docs/reference/generated/numpy.matrix.clip.html\n",
      "numpy_docs/reference/generated/numpy.ufunc.at.html\n"
     ]
    },
    {
     "output_type": "stream",
     "name": "stderr",
     "text": [
      "2007it [06:33, 11.06it/s]"
     ]
    },
    {
     "output_type": "stream",
     "name": "stdout",
     "text": [
      "numpy_docs/reference/generated/numpy.ma.masked_array.resize.html\n",
      "numpy_docs/reference/generated/numpy.ma.masked_array.ids.html\n",
      "numpy_docs/reference/generated/numpy.isclose.html\n",
      "numpy_docs/reference/generated/numpy.char.chararray.rsplit.html\n",
      "numpy_docs/reference/generated/numpy.recarray.min.html\n",
      "numpy_docs/reference/generated/numpy.ma.masked_array.dtype.html\n"
     ]
    },
    {
     "output_type": "stream",
     "name": "stderr",
     "text": [
      "2012it [06:33, 11.88it/s]"
     ]
    },
    {
     "output_type": "stream",
     "name": "stdout",
     "text": [
      "numpy_docs/reference/generated/numpy.polynomial.hermite_e.HermiteE.basis.html\n",
      "numpy_docs/reference/generated/numpy.nditer.index.html\n",
      "numpy_docs/reference/generated/numpy.recarray.dumps.html\n",
      "numpy_docs/reference/generated/numpy.piecewise.html\n",
      "numpy_docs/reference/generated/numpy.vander.html\n",
      "numpy_docs/reference/generated/numpy.ma.masked_array.cumsum.html\n"
     ]
    },
    {
     "output_type": "stream",
     "name": "stderr",
     "text": [
      "2019it [06:33, 19.07it/s]"
     ]
    },
    {
     "output_type": "stream",
     "name": "stdout",
     "text": [
      "numpy_docs/reference/generated/numpy.generic.flags.html\n",
      "numpy_docs/reference/generated/numpy.char.chararray.ndim.html\n",
      "numpy_docs/reference/generated/numpy.recarray.cumprod.html\n",
      "numpy_docs/reference/generated/numpy.distutils.ccompiler_opt.CCompilerOpt.me.html\n",
      "numpy_docs/reference/generated/numpy.ma.clip.html\n",
      "numpy_docs/reference/generated/numpy.chararray.itemset.html\n",
      "numpy_docs/reference/generated/numpy.trapz.html\n"
     ]
    },
    {
     "output_type": "stream",
     "name": "stderr",
     "text": [
      "\r2022it [06:34,  6.13it/s]"
     ]
    },
    {
     "output_type": "stream",
     "name": "stdout",
     "text": [
      "numpy_docs/reference/generated/numpy.poly1d.coef.html\n",
      "numpy_docs/reference/generated/numpy.ma.masked_array.view.html\n"
     ]
    },
    {
     "output_type": "stream",
     "name": "stderr",
     "text": [
      "\r2024it [06:35,  5.17it/s]"
     ]
    },
    {
     "output_type": "stream",
     "name": "stdout",
     "text": [
      "numpy_docs/reference/generated/numpy.ma.var.html\n"
     ]
    },
    {
     "output_type": "stream",
     "name": "stderr",
     "text": [
      "\r2026it [06:37,  2.68it/s]"
     ]
    },
    {
     "output_type": "stream",
     "name": "stdout",
     "text": [
      "numpy_docs/reference/generated/numpy.distutils.ccompiler_opt.CCompilerOpt.feature_ahead.html\n",
      "numpy_docs/reference/generated/numpy.record.std.html\n",
      "numpy_docs/reference/generated/numpy.nanmean.html\n"
     ]
    },
    {
     "output_type": "stream",
     "name": "stderr",
     "text": [
      "2031it [06:37,  4.83it/s]"
     ]
    },
    {
     "output_type": "stream",
     "name": "stdout",
     "text": [
      "numpy_docs/reference/generated/numpy.iscomplexobj.html\n",
      "numpy_docs/reference/generated/numpy.recarray.itemsize.html\n",
      "numpy_docs/reference/generated/numpy.ma.masked_array.ptp.html\n",
      "numpy_docs/reference/generated/numpy.chararray.conjugate.html\n",
      "numpy_docs/reference/generated/numpy.ndarray.__contains__.html\n"
     ]
    },
    {
     "output_type": "stream",
     "name": "stderr",
     "text": [
      "2035it [06:38,  6.82it/s]"
     ]
    },
    {
     "output_type": "stream",
     "name": "stdout",
     "text": [
      "numpy_docs/reference/generated/numpy.reciprocal.html\n",
      "numpy_docs/reference/generated/numpy.polynomial.hermite_e.HermiteE.degree.html\n",
      "numpy_docs/reference/generated/numpy.ma.MaskType.flatten.html\n",
      "numpy_docs/reference/generated/numpy.matrix.flags.html\n"
     ]
    },
    {
     "output_type": "stream",
     "name": "stderr",
     "text": [
      "\r2038it [06:38,  8.95it/s]"
     ]
    },
    {
     "output_type": "stream",
     "name": "stdout",
     "text": [
      "numpy_docs/reference/generated/numpy.polynomial.hermite.hermzero.html\n",
      "numpy_docs/reference/generated/numpy.chararray.translate.html\n",
      "numpy_docs/reference/generated/numpy.generic.__reduce__.html\n",
      "numpy_docs/reference/generated/numpy.lib.user_array.container.html\n",
      "numpy_docs/reference/generated/numpy.distutils.ccompiler_opt.CCompilerOpt.dist_compile.html\n"
     ]
    },
    {
     "output_type": "stream",
     "name": "stderr",
     "text": [
      "\r2042it [06:38, 12.57it/s]"
     ]
    },
    {
     "output_type": "stream",
     "name": "stdout",
     "text": [
      "numpy_docs/reference/generated/numpy.ma.copy.html\n",
      "numpy_docs/reference/generated/numpy.polynomial.laguerre.lagint.html\n"
     ]
    },
    {
     "output_type": "stream",
     "name": "stderr",
     "text": [
      "2049it [06:38, 15.86it/s]"
     ]
    },
    {
     "output_type": "stream",
     "name": "stdout",
     "text": [
      "numpy_docs/reference/generated/numpy.chararray.rjust.html\n",
      "numpy_docs/reference/generated/numpy.memmap.nonzero.html\n",
      "numpy_docs/reference/generated/numpy.lib.format.read_array.html\n",
      "numpy_docs/reference/generated/numpy.asmatrix.html\n",
      "numpy_docs/reference/generated/numpy.ndarray.__int__.html\n",
      "numpy_docs/reference/generated/numpy.recarray.swapaxes.html\n",
      "numpy_docs/reference/generated/numpy.ma.intersect1d.html\n"
     ]
    },
    {
     "output_type": "stream",
     "name": "stderr",
     "text": [
      "\r2052it [06:38, 17.59it/s]"
     ]
    },
    {
     "output_type": "stream",
     "name": "stdout",
     "text": [
      "numpy_docs/reference/generated/numpy.char.endswith.html\n",
      "numpy_docs/reference/generated/numpy.polynomial.legendre.legx.html\n",
      "numpy_docs/reference/generated/numpy.chararray.nbytes.html\n",
      "numpy_docs/reference/generated/numpy.polynomial.legendre.Legendre.deriv.html\n"
     ]
    },
    {
     "output_type": "stream",
     "name": "stderr",
     "text": [
      "2057it [06:39, 11.96it/s]"
     ]
    },
    {
     "output_type": "stream",
     "name": "stdout",
     "text": [
      "numpy_docs/reference/generated/numpy.ma.isarray.html\n",
      "numpy_docs/reference/generated/numpy.ma.vander.html\n",
      "numpy_docs/reference/generated/numpy.polynomial.hermite.Hermite.fromroots.html\n"
     ]
    },
    {
     "output_type": "stream",
     "name": "stderr",
     "text": [
      "\r2059it [06:39, 12.81it/s]"
     ]
    },
    {
     "output_type": "stream",
     "name": "stdout",
     "text": [
      "numpy_docs/reference/generated/numpy.record.T.html\n",
      "numpy_docs/reference/generated/numpy.char.chararray.startswith.html\n",
      "numpy_docs/reference/generated/numpy.ma.MaskType.setfield.html\n",
      "numpy_docs/reference/generated/numpy.polynomial.hermite.Hermite.convert.html\n"
     ]
    },
    {
     "output_type": "stream",
     "name": "stderr",
     "text": [
      "\r2062it [06:40,  9.89it/s]"
     ]
    },
    {
     "output_type": "stream",
     "name": "stdout",
     "text": [
      "numpy_docs/reference/generated/numpy.atleast_2d.html\n"
     ]
    },
    {
     "output_type": "stream",
     "name": "stderr",
     "text": [
      "\r2064it [06:40,  6.55it/s]"
     ]
    },
    {
     "output_type": "stream",
     "name": "stdout",
     "text": [
      "numpy_docs/reference/generated/numpy.polynomial.laguerre.lagroots.html\n",
      "numpy_docs/reference/generated/numpy.exceptions.AxisError.html\n"
     ]
    },
    {
     "output_type": "stream",
     "name": "stderr",
     "text": [
      "\r2066it [06:41,  5.37it/s]"
     ]
    },
    {
     "output_type": "stream",
     "name": "stdout",
     "text": [
      "numpy_docs/reference/generated/numpy.char.chararray.nonzero.html\n",
      "numpy_docs/reference/generated/numpy.ma.masked_array.put.html\n",
      "numpy_docs/reference/generated/numpy.all.html\n"
     ]
    },
    {
     "output_type": "stream",
     "name": "stderr",
     "text": [
      "2072it [06:41,  7.75it/s]"
     ]
    },
    {
     "output_type": "stream",
     "name": "stdout",
     "text": [
      "numpy_docs/reference/generated/numpy.char.chararray.repeat.html\n",
      "numpy_docs/reference/generated/numpy.matrix.dot.html\n",
      "numpy_docs/reference/generated/numpy.chararray.round.html\n",
      "numpy_docs/reference/generated/numpy.ma.masked_array.get_imag.html\n",
      "numpy_docs/reference/generated/numpy.linalg.LinAlgError.html\n"
     ]
    },
    {
     "output_type": "stream",
     "name": "stderr",
     "text": [
      "\r2074it [06:42,  6.25it/s]"
     ]
    },
    {
     "output_type": "stream",
     "name": "stdout",
     "text": [
      "numpy_docs/reference/generated/numpy.core.records.fromfile.html\n",
      "numpy_docs/reference/generated/numpy.memmap.tolist.html\n"
     ]
    },
    {
     "output_type": "stream",
     "name": "stderr",
     "text": [
      "\r2076it [06:42,  6.10it/s]"
     ]
    },
    {
     "output_type": "stream",
     "name": "stdout",
     "text": [
      "numpy_docs/reference/generated/numpy.busday_offset.html\n",
      "numpy_docs/reference/generated/numpy.savez_compressed.html\n"
     ]
    },
    {
     "output_type": "stream",
     "name": "stderr",
     "text": [
      "\r2078it [06:43,  4.99it/s]"
     ]
    },
    {
     "output_type": "stream",
     "name": "stdout",
     "text": [
      "numpy_docs/reference/generated/numpy.polynomial.legendre.Legendre.degree.html\n",
      "numpy_docs/reference/generated/numpy.polynomial.legendre.Legendre.linspace.html\n"
     ]
    },
    {
     "output_type": "stream",
     "name": "stderr",
     "text": [
      "\r2079it [06:43,  4.30it/s]"
     ]
    },
    {
     "output_type": "stream",
     "name": "stdout",
     "text": [
      "numpy_docs/reference/generated/numpy.ma.atleast_3d.html\n"
     ]
    },
    {
     "output_type": "stream",
     "name": "stderr",
     "text": [
      "2083it [06:44,  4.51it/s]"
     ]
    },
    {
     "output_type": "stream",
     "name": "stdout",
     "text": [
      "numpy_docs/reference/generated/numpy.ndarray.conjugate.html\n",
      "numpy_docs/reference/generated/numpy.ndarray.__imul__.html\n",
      "numpy_docs/reference/generated/numpy.ndarray.cumprod.html\n",
      "numpy_docs/reference/generated/numpy.memmap.trace.html\n",
      "numpy_docs/reference/generated/numpy.polynomial.laguerre.Laguerre.copy.html\n"
     ]
    },
    {
     "output_type": "stream",
     "name": "stderr",
     "text": [
      "\r2085it [06:45,  4.62it/s]"
     ]
    },
    {
     "output_type": "stream",
     "name": "stdout",
     "text": [
      "numpy_docs/reference/generated/numpy.nditer.shape.html\n",
      "numpy_docs/reference/generated/numpy.ma.MaskType.resize.html\n",
      "numpy_docs/reference/generated/numpy.memmap.dtype.html\n"
     ]
    },
    {
     "output_type": "stream",
     "name": "stderr",
     "text": [
      "2091it [06:45,  8.07it/s]"
     ]
    },
    {
     "output_type": "stream",
     "name": "stdout",
     "text": [
      "numpy_docs/reference/generated/numpy.nditer.iterindex.html\n",
      "numpy_docs/reference/generated/numpy.char.chararray.rfind.html\n",
      "numpy_docs/reference/generated/numpy.packbits.html\n",
      "numpy_docs/reference/generated/numpy.hypot.html\n"
     ]
    },
    {
     "output_type": "stream",
     "name": "stderr",
     "text": [
      "\r2093it [06:46,  5.68it/s]"
     ]
    },
    {
     "output_type": "stream",
     "name": "stdout",
     "text": [
      "numpy_docs/reference/generated/numpy.char.zfill.html\n",
      "numpy_docs/reference/generated/numpy.polynomial.polynomial.Polynomial.degree.html\n",
      "numpy_docs/reference/generated/numpy.polynomial.hermite_e.hermeone.html\n"
     ]
    },
    {
     "output_type": "stream",
     "name": "stderr",
     "text": [
      "\r2095it [06:46,  6.41it/s]"
     ]
    },
    {
     "output_type": "stream",
     "name": "stdout",
     "text": [
      "numpy_docs/reference/generated/numpy.ndarray.transpose.html\n"
     ]
    },
    {
     "output_type": "stream",
     "name": "stderr",
     "text": [
      "2100it [06:47,  6.26it/s]"
     ]
    },
    {
     "output_type": "stream",
     "name": "stdout",
     "text": [
      "numpy_docs/reference/generated/numpy.polynomial.hermite.Hermite.symbol.html\n",
      "numpy_docs/reference/generated/numpy.ma.MaskedArray.__array_wrap__.html\n",
      "numpy_docs/reference/generated/numpy.ndarray.flags.html\n",
      "numpy_docs/reference/generated/numpy.count_nonzero.html\n",
      "numpy_docs/reference/generated/numpy.ma.masked_not_equal.html\n",
      "numpy_docs/reference/generated/numpy.cov.html\n"
     ]
    },
    {
     "output_type": "stream",
     "name": "stderr",
     "text": [
      "2104it [06:48,  5.96it/s]"
     ]
    },
    {
     "output_type": "stream",
     "name": "stdout",
     "text": [
      "numpy_docs/reference/generated/numpy.ma.masked_array.prod.html\n",
      "numpy_docs/reference/generated/numpy.ma.fromfunction.html\n",
      "numpy_docs/reference/generated/numpy.matrix.argmin.html\n",
      "numpy_docs/reference/generated/numpy.chararray.diagonal.html\n"
     ]
    },
    {
     "output_type": "stream",
     "name": "stderr",
     "text": [
      "\r2106it [06:48,  7.34it/s]"
     ]
    },
    {
     "output_type": "stream",
     "name": "stdout",
     "text": [
      "numpy_docs/reference/generated/numpy.polynomial.laguerre.lagvander.html\n",
      "numpy_docs/reference/generated/numpy.divmod.html\n"
     ]
    },
    {
     "output_type": "stream",
     "name": "stderr",
     "text": [
      "2110it [06:50,  3.54it/s]"
     ]
    },
    {
     "output_type": "stream",
     "name": "stdout",
     "text": [
      "numpy_docs/reference/generated/numpy.chararray.base.html\n",
      "numpy_docs/reference/generated/numpy.ndarray.min.html\n",
      "numpy_docs/reference/generated/numpy.atleast_3d.html\n"
     ]
    },
    {
     "output_type": "stream",
     "name": "stderr",
     "text": [
      "\r2112it [06:51,  2.81it/s]"
     ]
    },
    {
     "output_type": "stream",
     "name": "stdout",
     "text": [
      "numpy_docs/reference/generated/numpy.fabs.html\n",
      "numpy_docs/reference/generated/numpy.nditer.has_multi_index.html\n",
      "numpy_docs/reference/generated/numpy.distutils.ccompiler_opt.CCompilerOpt.feature_flags.html\n",
      "numpy_docs/reference/generated/numpy.memmap.conjugate.html\n",
      "numpy_docs/reference/generated/numpy.recarray.fill.html\n"
     ]
    },
    {
     "output_type": "stream",
     "name": "stderr",
     "text": [
      "2118it [06:51,  5.63it/s]"
     ]
    },
    {
     "output_type": "stream",
     "name": "stdout",
     "text": [
      "numpy_docs/reference/generated/numpy.memmap.tofile.html\n",
      "numpy_docs/reference/generated/numpy.core.records.fromstring.html\n",
      "numpy_docs/reference/generated/numpy.linalg.matrix_rank.html\n"
     ]
    },
    {
     "output_type": "stream",
     "name": "stderr",
     "text": [
      "2122it [06:52,  7.69it/s]"
     ]
    },
    {
     "output_type": "stream",
     "name": "stdout",
     "text": [
      "numpy_docs/reference/generated/numpy.obj2sctype.html\n",
      "numpy_docs/reference/generated/numpy.stack.html\n",
      "numpy_docs/reference/generated/numpy.testing.assert_array_less.html\n",
      "numpy_docs/reference/generated/numpy.polynomial.hermite.Hermite.degree.html\n"
     ]
    },
    {
     "output_type": "stream",
     "name": "stderr",
     "text": [
      "\r2124it [06:52,  8.77it/s]"
     ]
    },
    {
     "output_type": "stream",
     "name": "stdout",
     "text": [
      "numpy_docs/reference/generated/numpy.amin.html\n",
      "numpy_docs/reference/generated/numpy.ma.masked_less.html\n",
      "numpy_docs/reference/generated/numpy.record.squeeze.html\n",
      "numpy_docs/reference/generated/numpy.polynomial.hermite_e.hermevander3d.html\n"
     ]
    },
    {
     "output_type": "stream",
     "name": "stderr",
     "text": [
      "2130it [06:52, 10.44it/s]"
     ]
    },
    {
     "output_type": "stream",
     "name": "stdout",
     "text": [
      "numpy_docs/reference/generated/numpy.trace.html\n",
      "numpy_docs/reference/generated/numpy.divide.html\n",
      "numpy_docs/reference/generated/numpy.record.choose.html\n",
      "numpy_docs/reference/generated/numpy.ndarray.argsort.html\n",
      "numpy_docs/reference/generated/numpy.ma.masked_array.trace.html\n",
      "numpy_docs/reference/generated/numpy.polynomial.laguerre.lagder.html\n"
     ]
    },
    {
     "output_type": "stream",
     "name": "stderr",
     "text": [
      "2135it [06:53, 13.14it/s]"
     ]
    },
    {
     "output_type": "stream",
     "name": "stdout",
     "text": [
      "numpy_docs/reference/generated/numpy.matlib.ones.html\n",
      "numpy_docs/reference/generated/numpy.disp.html\n",
      "numpy_docs/reference/generated/numpy.testing.assert_equal.html\n"
     ]
    },
    {
     "output_type": "stream",
     "name": "stderr",
     "text": [
      "2142it [06:53, 12.78it/s]"
     ]
    },
    {
     "output_type": "stream",
     "name": "stdout",
     "text": [
      "numpy_docs/reference/generated/numpy.expand_dims.html\n",
      "numpy_docs/reference/generated/numpy.matrix.choose.html\n",
      "numpy_docs/reference/generated/numpy.memmap.swapaxes.html\n",
      "numpy_docs/reference/generated/numpy.ma.MaskedArray.__rand__.html\n",
      "numpy_docs/reference/generated/numpy.distutils.ccompiler_opt.CCompilerOpt.conf_tmp_path.html\n",
      "numpy_docs/reference/generated/numpy.empty_like.html\n",
      "numpy_docs/reference/generated/numpy.ma.getmask.html\n"
     ]
    },
    {
     "output_type": "stream",
     "name": "stderr",
     "text": [
      "2147it [06:53, 16.33it/s]"
     ]
    },
    {
     "output_type": "stream",
     "name": "stdout",
     "text": [
      "numpy_docs/reference/generated/numpy.nditer.close.html\n",
      "numpy_docs/reference/generated/numpy.generic.__setstate__.html\n",
      "numpy_docs/reference/generated/numpy.testing.overrides.get_overridable_numpy_ufuncs.html\n",
      "numpy_docs/reference/generated/numpy.ma.MaskedArray.compress.html\n",
      "numpy_docs/reference/generated/numpy.char.chararray.rjust.html\n",
      "numpy_docs/reference/generated/numpy.fill_diagonal.html\n"
     ]
    },
    {
     "output_type": "stream",
     "name": "stderr",
     "text": [
      "2152it [06:54, 10.73it/s]"
     ]
    },
    {
     "output_type": "stream",
     "name": "stdout",
     "text": [
      "numpy_docs/reference/generated/numpy.ma.MaskedArray.astype.html\n",
      "numpy_docs/reference/generated/numpy.polynomial.chebyshev.chebint.html\n",
      "numpy_docs/reference/generated/numpy.memmap.tobytes.html\n",
      "numpy_docs/reference/generated/numpy.polynomial.legendre.leggrid3d.html\n"
     ]
    },
    {
     "output_type": "stream",
     "name": "stderr",
     "text": [
      "2157it [06:54, 13.39it/s]"
     ]
    },
    {
     "output_type": "stream",
     "name": "stdout",
     "text": [
      "numpy_docs/reference/generated/numpy.record.argsort.html\n",
      "numpy_docs/reference/generated/numpy.ma.MaskType.itemset.html\n",
      "numpy_docs/reference/generated/numpy.matrix.conj.html\n",
      "numpy_docs/reference/generated/numpy.polynomial.chebyshev.chebx.html\n",
      "numpy_docs/reference/generated/numpy.ma.ravel.html\n"
     ]
    },
    {
     "output_type": "stream",
     "name": "stderr",
     "text": [
      "\r2159it [06:55, 13.32it/s]"
     ]
    },
    {
     "output_type": "stream",
     "name": "stdout",
     "text": [
      "numpy_docs/reference/generated/numpy.matrix.compress.html\n",
      "numpy_docs/reference/generated/numpy.identity.html\n",
      "numpy_docs/reference/generated/numpy.ma.diff.html\n",
      "numpy_docs/reference/generated/numpy.transpose.html\n"
     ]
    },
    {
     "output_type": "stream",
     "name": "stderr",
     "text": [
      "2165it [06:55, 10.54it/s]"
     ]
    },
    {
     "output_type": "stream",
     "name": "stdout",
     "text": [
      "numpy_docs/reference/generated/numpy.ndarray.ptp.html\n",
      "numpy_docs/reference/generated/numpy.exceptions.TooHardError.html\n",
      "numpy_docs/reference/generated/numpy.ndarray.__isub__.html\n",
      "numpy_docs/reference/generated/numpy.matrix.getA.html\n",
      "numpy_docs/reference/generated/numpy.ma.MaskType.dumps.html\n",
      "numpy_docs/reference/generated/numpy.min_scalar_type.html\n"
     ]
    },
    {
     "output_type": "stream",
     "name": "stderr",
     "text": [
      "\r2168it [06:56,  8.35it/s]"
     ]
    },
    {
     "output_type": "stream",
     "name": "stdout",
     "text": [
      "numpy_docs/reference/generated/numpy.matlib.rand.html\n",
      "numpy_docs/reference/generated/numpy.ma.MaskedArray.ctypes.html\n"
     ]
    },
    {
     "output_type": "stream",
     "name": "stderr",
     "text": [
      "\r2170it [06:56,  7.15it/s]"
     ]
    },
    {
     "output_type": "stream",
     "name": "stdout",
     "text": [
      "numpy_docs/reference/generated/numpy.memmap.flat.html\n"
     ]
    },
    {
     "output_type": "stream",
     "name": "stderr",
     "text": [
      "\r2172it [06:57,  6.90it/s]"
     ]
    },
    {
     "output_type": "stream",
     "name": "stdout",
     "text": [
      "numpy_docs/reference/generated/numpy.ma.count_masked.html\n",
      "numpy_docs/reference/generated/numpy.ma.masked_array.flags.html\n",
      "numpy_docs/reference/generated/numpy.select.html\n",
      "numpy_docs/reference/generated/numpy.broadcast.reset.html\n"
     ]
    },
    {
     "output_type": "stream",
     "name": "stderr",
     "text": [
      "2178it [06:57,  8.26it/s]"
     ]
    },
    {
     "output_type": "stream",
     "name": "stdout",
     "text": [
      "numpy_docs/reference/generated/numpy.flip.html\n",
      "numpy_docs/reference/generated/numpy.minimum.html\n",
      "numpy_docs/reference/generated/numpy.ma.masked_array.min.html\n",
      "numpy_docs/reference/generated/numpy.ma.MaskedArray.__idiv__.html\n",
      "numpy_docs/reference/generated/numpy.nditer.html\n"
     ]
    },
    {
     "output_type": "stream",
     "name": "stderr",
     "text": [
      "\r2180it [06:57,  8.95it/s]"
     ]
    },
    {
     "output_type": "stream",
     "name": "stdout",
     "text": [
      "numpy_docs/reference/generated/numpy.nditer.remove_axis.html\n"
     ]
    },
    {
     "output_type": "stream",
     "name": "stderr",
     "text": [
      "2184it [06:58,  7.87it/s]"
     ]
    },
    {
     "output_type": "stream",
     "name": "stdout",
     "text": [
      "numpy_docs/reference/generated/numpy.chararray.islower.html\n",
      "numpy_docs/reference/generated/numpy.ma.MaskedArray.sort.html\n",
      "numpy_docs/reference/generated/numpy.get_printoptions.html\n",
      "numpy_docs/reference/generated/numpy.polynomial.polynomial.Polynomial.roots.html\n"
     ]
    },
    {
     "output_type": "stream",
     "name": "stderr",
     "text": [
      "\r2186it [06:59,  5.67it/s]"
     ]
    },
    {
     "output_type": "stream",
     "name": "stdout",
     "text": [
      "numpy_docs/reference/generated/numpy.polynomial.polynomial.polyfit.html\n",
      "numpy_docs/reference/generated/numpy.record.transpose.html\n",
      "numpy_docs/reference/generated/numpy.ndarray.setfield.html\n"
     ]
    },
    {
     "output_type": "stream",
     "name": "stderr",
     "text": [
      "\r2188it [07:00,  4.05it/s]"
     ]
    },
    {
     "output_type": "stream",
     "name": "stdout",
     "text": [
      "numpy_docs/reference/generated/numpy.polynomial.laguerre.Laguerre.cutdeg.html\n"
     ]
    },
    {
     "output_type": "stream",
     "name": "stderr",
     "text": [
      "\r2189it [07:00,  3.67it/s]"
     ]
    },
    {
     "output_type": "stream",
     "name": "stdout",
     "text": [
      "numpy_docs/reference/generated/numpy.chararray.flags.html\n",
      "numpy_docs/reference/generated/numpy.allclose.html\n"
     ]
    },
    {
     "output_type": "stream",
     "name": "stderr",
     "text": [
      "\r2191it [07:01,  3.71it/s]"
     ]
    },
    {
     "output_type": "stream",
     "name": "stdout",
     "text": [
      "numpy_docs/reference/generated/numpy.ma.MaskType.any.html\n",
      "numpy_docs/reference/generated/numpy.dot.html\n"
     ]
    },
    {
     "output_type": "stream",
     "name": "stderr",
     "text": [
      "\r2193it [07:01,  3.59it/s]"
     ]
    },
    {
     "output_type": "stream",
     "name": "stdout",
     "text": [
      "numpy_docs/reference/generated/numpy.polynomial.hermite_e.HermiteE.roots.html\n"
     ]
    },
    {
     "output_type": "stream",
     "name": "stderr",
     "text": [
      "\r2194it [07:01,  3.40it/s]"
     ]
    },
    {
     "output_type": "stream",
     "name": "stdout",
     "text": [
      "numpy_docs/reference/generated/numpy.polynomial.laguerre.Laguerre.has_sametype.html\n"
     ]
    },
    {
     "output_type": "stream",
     "name": "stderr",
     "text": [
      "\r2195it [07:02,  2.66it/s]"
     ]
    },
    {
     "output_type": "stream",
     "name": "stdout",
     "text": [
      "numpy_docs/reference/generated/numpy.mgrid.html\n"
     ]
    },
    {
     "output_type": "stream",
     "name": "stderr",
     "text": [
      "2199it [07:03,  3.68it/s]"
     ]
    },
    {
     "output_type": "stream",
     "name": "stdout",
     "text": [
      "numpy_docs/reference/generated/numpy.bitwise_xor.html\n",
      "numpy_docs/reference/generated/numpy.matrix.nbytes.html\n",
      "numpy_docs/reference/generated/numpy.chararray.nonzero.html\n",
      "numpy_docs/reference/generated/numpy.ndarray.var.html\n"
     ]
    },
    {
     "output_type": "stream",
     "name": "stderr",
     "text": [
      "2203it [07:03,  6.25it/s]"
     ]
    },
    {
     "output_type": "stream",
     "name": "stdout",
     "text": [
      "numpy_docs/reference/generated/numpy.chararray.isalnum.html\n",
      "numpy_docs/reference/generated/numpy.record.fill.html\n",
      "numpy_docs/reference/generated/numpy.setdiff1d.html\n",
      "numpy_docs/reference/generated/numpy.ndarray.tobytes.html\n"
     ]
    },
    {
     "output_type": "stream",
     "name": "stderr",
     "text": [
      "2207it [07:04,  8.40it/s]"
     ]
    },
    {
     "output_type": "stream",
     "name": "stdout",
     "text": [
      "numpy_docs/reference/generated/numpy.unique.html\n",
      "numpy_docs/reference/generated/numpy.dtype.isalignedstruct.html\n",
      "numpy_docs/reference/generated/numpy.matrix.cumsum.html\n",
      "numpy_docs/reference/generated/numpy.dtype.num.html\n"
     ]
    },
    {
     "output_type": "stream",
     "name": "stderr",
     "text": [
      "2211it [07:04, 11.27it/s]"
     ]
    },
    {
     "output_type": "stream",
     "name": "stdout",
     "text": [
      "numpy_docs/reference/generated/numpy.chararray.expandtabs.html\n",
      "numpy_docs/reference/generated/numpy.ma.masked_array.filled.html\n",
      "numpy_docs/reference/generated/numpy.diff.html\n",
      "numpy_docs/reference/generated/numpy.ma.nonzero.html\n"
     ]
    },
    {
     "output_type": "stream",
     "name": "stderr",
     "text": [
      "\r2213it [07:04, 11.64it/s]"
     ]
    },
    {
     "output_type": "stream",
     "name": "stdout",
     "text": [
      "numpy_docs/reference/generated/numpy.char.upper.html\n",
      "numpy_docs/reference/generated/numpy.char.chararray.real.html\n",
      "numpy_docs/reference/generated/numpy.polynomial.hermite.hermone.html\n"
     ]
    },
    {
     "output_type": "stream",
     "name": "stderr",
     "text": [
      "\r2215it [07:04, 11.12it/s]"
     ]
    },
    {
     "output_type": "stream",
     "name": "stdout",
     "text": [
      "numpy_docs/reference/generated/numpy.char.chararray.strides.html\n"
     ]
    },
    {
     "output_type": "stream",
     "name": "stderr",
     "text": [
      "\r2217it [07:05,  6.92it/s]"
     ]
    },
    {
     "output_type": "stream",
     "name": "stdout",
     "text": [
      "numpy_docs/reference/generated/numpy.ma.MaskedArray.__lshift__.html\n",
      "numpy_docs/reference/generated/numpy.polynomial.laguerre.lagdiv.html\n",
      "numpy_docs/reference/generated/numpy.testing.assert_raises_regex.html\n"
     ]
    },
    {
     "output_type": "stream",
     "name": "stderr",
     "text": [
      "\r2219it [07:05,  7.57it/s]"
     ]
    },
    {
     "output_type": "stream",
     "name": "stdout",
     "text": [
      "numpy_docs/reference/generated/numpy.expm1.html\n",
      "numpy_docs/reference/generated/numpy.polymul.html\n"
     ]
    },
    {
     "output_type": "stream",
     "name": "stderr",
     "text": [
      "2224it [07:06,  7.70it/s]"
     ]
    },
    {
     "output_type": "stream",
     "name": "stdout",
     "text": [
      "numpy_docs/reference/generated/numpy.testing.overrides.get_overridable_numpy_array_functions.html\n",
      "numpy_docs/reference/generated/numpy.chararray.itemsize.html\n",
      "numpy_docs/reference/generated/numpy.polynomial.polynomial.polyint.html\n",
      "numpy_docs/reference/generated/numpy.chararray.startswith.html\n",
      "numpy_docs/reference/generated/numpy.ma.isin.html\n"
     ]
    },
    {
     "output_type": "stream",
     "name": "stderr",
     "text": [
      "2228it [07:06, 10.80it/s]"
     ]
    },
    {
     "output_type": "stream",
     "name": "stdout",
     "text": [
      "numpy_docs/reference/generated/numpy.ma.MaskType.data.html\n",
      "numpy_docs/reference/generated/numpy.polynomial.legendre.leggauss.html\n",
      "numpy_docs/reference/generated/numpy.chararray.choose.html\n",
      "numpy_docs/reference/generated/numpy.ma.MaskedArray.__repr__.html\n",
      "numpy_docs/reference/generated/numpy.ndarray.compress.html\n",
      "numpy_docs/reference/generated/numpy.find_common_type.html\n"
     ]
    },
    {
     "output_type": "stream",
     "name": "stderr",
     "text": [
      "\r2232it [07:06, 15.07it/s]"
     ]
    },
    {
     "output_type": "stream",
     "name": "stdout",
     "text": [
      "numpy_docs/reference/generated/numpy.polynomial.legendre.Legendre.cutdeg.html\n",
      "numpy_docs/reference/generated/numpy.ma.ones.html\n"
     ]
    },
    {
     "output_type": "stream",
     "name": "stderr",
     "text": [
      "\r2234it [07:08,  4.77it/s]"
     ]
    },
    {
     "output_type": "stream",
     "name": "stdout",
     "text": [
      "numpy_docs/reference/generated/numpy.ma.sort.html\n",
      "numpy_docs/reference/generated/numpy.recarray.ctypes.html\n"
     ]
    },
    {
     "output_type": "stream",
     "name": "stderr",
     "text": [
      "2238it [07:08,  6.13it/s]"
     ]
    },
    {
     "output_type": "stream",
     "name": "stdout",
     "text": [
      "numpy_docs/reference/generated/numpy.tri.html\n",
      "numpy_docs/reference/generated/numpy.polynomial.hermite.hermmul.html\n",
      "numpy_docs/reference/generated/numpy.polynomial.hermite_e.herme2poly.html\n"
     ]
    },
    {
     "output_type": "stream",
     "name": "stderr",
     "text": [
      "\r2240it [07:08,  7.42it/s]"
     ]
    },
    {
     "output_type": "stream",
     "name": "stdout",
     "text": [
      "numpy_docs/reference/generated/numpy.ndarray.__lshift__.html\n",
      "numpy_docs/reference/generated/numpy.ma.masked_array.flatten.html\n",
      "numpy_docs/reference/generated/numpy.record.nonzero.html\n",
      "numpy_docs/reference/generated/numpy.distutils.ccompiler_opt.CCompilerOpt.parse_targets.html\n"
     ]
    },
    {
     "output_type": "stream",
     "name": "stderr",
     "text": [
      "\r2243it [07:09,  6.53it/s]"
     ]
    },
    {
     "output_type": "stream",
     "name": "stdout",
     "text": [
      "numpy_docs/reference/generated/numpy.ma.masked_array.shrink_mask.html\n",
      "numpy_docs/reference/generated/numpy.polynomial.hermite_e.HermiteE.mapparms.html\n"
     ]
    },
    {
     "output_type": "stream",
     "name": "stderr",
     "text": [
      "\r2245it [07:09,  6.06it/s]"
     ]
    },
    {
     "output_type": "stream",
     "name": "stdout",
     "text": [
      "numpy_docs/reference/generated/numpy.recarray.size.html\n"
     ]
    },
    {
     "output_type": "stream",
     "name": "stderr",
     "text": [
      "2251it [07:09, 10.24it/s]"
     ]
    },
    {
     "output_type": "stream",
     "name": "stdout",
     "text": [
      "numpy_docs/reference/generated/numpy.chararray.shape.html\n",
      "numpy_docs/reference/generated/numpy.distutils.exec_command.filepath_from_subprocess_output.html\n",
      "numpy_docs/reference/generated/numpy.testing.suppress_warnings.filter.html\n",
      "numpy_docs/reference/generated/numpy.polynomial.laguerre.Laguerre.window.html\n",
      "numpy_docs/reference/generated/numpy.char.title.html\n",
      "numpy_docs/reference/generated/numpy.matrix.I.html\n",
      "numpy_docs/reference/generated/numpy.recarray.cumsum.html\n",
      "numpy_docs/reference/generated/numpy.polynomial.hermite_e.HermiteE.identity.html\n"
     ]
    },
    {
     "output_type": "stream",
     "name": "stderr",
     "text": [
      "2257it [07:10, 12.61it/s]"
     ]
    },
    {
     "output_type": "stream",
     "name": "stdout",
     "text": [
      "numpy_docs/reference/generated/numpy.ma.MaskType.trace.html\n",
      "numpy_docs/reference/generated/numpy.nancumprod.html\n",
      "numpy_docs/reference/generated/numpy.ndarray.html\n",
      "numpy_docs/reference/generated/numpy.prod.html\n"
     ]
    },
    {
     "output_type": "stream",
     "name": "stderr",
     "text": [
      "\r2259it [07:11,  7.01it/s]"
     ]
    },
    {
     "output_type": "stream",
     "name": "stdout",
     "text": [
      "numpy_docs/reference/generated/numpy.memmap.any.html\n",
      "numpy_docs/reference/generated/numpy.char.chararray.data.html\n"
     ]
    },
    {
     "output_type": "stream",
     "name": "stderr",
     "text": [
      "2263it [07:11,  8.41it/s]"
     ]
    },
    {
     "output_type": "stream",
     "name": "stdout",
     "text": [
      "numpy_docs/reference/generated/numpy.chararray.splitlines.html\n",
      "numpy_docs/reference/generated/numpy.genfromtxt.html\n",
      "numpy_docs/reference/generated/numpy.ma.MaskType.setflags.html\n",
      "numpy_docs/reference/generated/numpy.recarray.transpose.html\n"
     ]
    },
    {
     "output_type": "stream",
     "name": "stderr",
     "text": [
      "2268it [07:12,  8.51it/s]"
     ]
    },
    {
     "output_type": "stream",
     "name": "stdout",
     "text": [
      "numpy_docs/reference/generated/numpy.isnan.html\n",
      "numpy_docs/reference/generated/numpy.inner.html\n",
      "numpy_docs/reference/generated/numpy.generic.data.html\n",
      "numpy_docs/reference/generated/numpy.char.chararray.dump.html\n",
      "numpy_docs/reference/generated/numpy.ma.row_stack.html\n",
      "numpy_docs/reference/generated/numpy.result_type.html\n"
     ]
    },
    {
     "output_type": "stream",
     "name": "stderr",
     "text": [
      "\r2270it [07:12,  6.19it/s]"
     ]
    },
    {
     "output_type": "stream",
     "name": "stdout",
     "text": [
      "numpy_docs/reference/generated/numpy.distutils.system_info.get_standard_file.html\n",
      "numpy_docs/reference/generated/numpy.dtype.hasobject.html\n"
     ]
    },
    {
     "output_type": "stream",
     "name": "stderr",
     "text": [
      "2274it [07:13,  5.83it/s]"
     ]
    },
    {
     "output_type": "stream",
     "name": "stdout",
     "text": [
      "numpy_docs/reference/generated/numpy.polynomial.chebyshev.chebmul.html\n",
      "numpy_docs/reference/generated/numpy.apply_over_axes.html\n",
      "numpy_docs/reference/generated/numpy.ma.is_masked.html\n"
     ]
    },
    {
     "output_type": "stream",
     "name": "stderr",
     "text": [
      "\r2276it [07:14,  3.61it/s]"
     ]
    },
    {
     "output_type": "stream",
     "name": "stdout",
     "text": [
      "numpy_docs/reference/generated/numpy.polynomial.legendre.legfit.html\n",
      "numpy_docs/reference/generated/numpy.zeros.html\n",
      "numpy_docs/reference/generated/numpy.recarray.resize.html\n"
     ]
    },
    {
     "output_type": "stream",
     "name": "stderr",
     "text": [
      "2281it [07:15,  4.94it/s]"
     ]
    },
    {
     "output_type": "stream",
     "name": "stdout",
     "text": [
      "numpy_docs/reference/generated/numpy.ma.mask_rows.html\n",
      "numpy_docs/reference/generated/numpy.dtype.__setstate__.html\n",
      "numpy_docs/reference/generated/numpy.polynomial.polynomial.polyline.html\n",
      "numpy_docs/reference/generated/numpy.polynomial.hermite_e.HermiteE.cast.html\n"
     ]
    },
    {
     "output_type": "stream",
     "name": "stderr",
     "text": [
      "\r2283it [07:15,  4.80it/s]"
     ]
    },
    {
     "output_type": "stream",
     "name": "stdout",
     "text": [
      "numpy_docs/reference/generated/numpy.concatenate.html\n",
      "numpy_docs/reference/generated/numpy.ma.cov.html\n",
      "numpy_docs/reference/generated/numpy.matrix.byteswap.html\n",
      "numpy_docs/reference/generated/numpy.binary_repr.html\n"
     ]
    },
    {
     "output_type": "stream",
     "name": "stderr",
     "text": [
      "\r2286it [07:16,  6.54it/s]"
     ]
    },
    {
     "output_type": "stream",
     "name": "stdout",
     "text": [
      "numpy_docs/reference/generated/numpy.polynomial.legendre.Legendre.copy.html\n"
     ]
    },
    {
     "output_type": "stream",
     "name": "stderr",
     "text": [
      "\r2288it [07:16,  4.76it/s]"
     ]
    },
    {
     "output_type": "stream",
     "name": "stdout",
     "text": [
      "numpy_docs/reference/generated/numpy.generic.imag.html\n",
      "numpy_docs/reference/generated/numpy.ndarray.__complex__.html\n",
      "numpy_docs/reference/generated/numpy.gradient.html\n"
     ]
    },
    {
     "output_type": "stream",
     "name": "stderr",
     "text": [
      "\r2290it [07:18,  3.09it/s]"
     ]
    },
    {
     "output_type": "stream",
     "name": "stdout",
     "text": [
      "numpy_docs/reference/generated/numpy.matrix.transpose.html\n"
     ]
    },
    {
     "output_type": "stream",
     "name": "stderr",
     "text": [
      "2293it [07:19,  3.16it/s]"
     ]
    },
    {
     "output_type": "stream",
     "name": "stdout",
     "text": [
      "numpy_docs/reference/generated/numpy.issctype.html\n",
      "numpy_docs/reference/generated/numpy.recarray.mean.html\n",
      "numpy_docs/reference/generated/numpy.testing.assert_allclose.html\n",
      "numpy_docs/reference/generated/numpy.asfarray.html\n"
     ]
    },
    {
     "output_type": "stream",
     "name": "stderr",
     "text": [
      "2298it [07:20,  4.34it/s]"
     ]
    },
    {
     "output_type": "stream",
     "name": "stdout",
     "text": [
      "numpy_docs/reference/generated/numpy.ufunc.resolve_dtypes.html\n",
      "numpy_docs/reference/generated/numpy.ndarray.dot.html\n",
      "numpy_docs/reference/generated/numpy.polynomial.chebyshev.chebone.html\n",
      "numpy_docs/reference/generated/numpy.fft.irfft2.html\n",
      "numpy_docs/reference/generated/numpy.polynomial.legendre.Legendre.integ.html\n"
     ]
    },
    {
     "output_type": "stream",
     "name": "stderr",
     "text": [
      "2303it [07:20,  6.25it/s]"
     ]
    },
    {
     "output_type": "stream",
     "name": "stdout",
     "text": [
      "numpy_docs/reference/generated/numpy.ndarray.all.html\n",
      "numpy_docs/reference/generated/numpy.chararray.rindex.html\n",
      "numpy_docs/reference/generated/numpy.recarray.any.html\n",
      "numpy_docs/reference/generated/numpy.ma.clump_unmasked.html\n"
     ]
    },
    {
     "output_type": "stream",
     "name": "stderr",
     "text": [
      "\r2305it [07:21,  4.18it/s]"
     ]
    },
    {
     "output_type": "stream",
     "name": "stdout",
     "text": [
      "numpy_docs/reference/generated/numpy.matrix.tostring.html\n",
      "numpy_docs/reference/generated/numpy.ma.notmasked_edges.html\n",
      "numpy_docs/reference/generated/numpy.record.size.html\n",
      "numpy_docs/reference/generated/numpy.matrix.ctypes.html\n"
     ]
    },
    {
     "output_type": "stream",
     "name": "stderr",
     "text": [
      "2312it [07:22,  7.71it/s]"
     ]
    },
    {
     "output_type": "stream",
     "name": "stdout",
     "text": [
      "numpy_docs/reference/generated/numpy.ma.MaskedArray.__sub__.html\n",
      "numpy_docs/reference/generated/numpy.memmap.argsort.html\n",
      "numpy_docs/reference/generated/numpy.record.trace.html\n",
      "numpy_docs/reference/generated/numpy.ndarray.__gt__.html\n",
      "numpy_docs/reference/generated/numpy.polynomial.hermite_e.hermeweight.html\n"
     ]
    },
    {
     "output_type": "stream",
     "name": "stderr",
     "text": [
      "2316it [07:22,  7.86it/s]"
     ]
    },
    {
     "output_type": "stream",
     "name": "stdout",
     "text": [
      "numpy_docs/reference/generated/numpy.chararray.tofile.html\n",
      "numpy_docs/reference/generated/numpy.polynomial.laguerre.laggauss.html\n",
      "numpy_docs/reference/generated/numpy.fromiter.html\n",
      "numpy_docs/reference/generated/numpy.ma.masked_all_like.html\n"
     ]
    },
    {
     "output_type": "stream",
     "name": "stderr",
     "text": [
      "2320it [07:23,  5.81it/s]"
     ]
    },
    {
     "output_type": "stream",
     "name": "stdout",
     "text": [
      "numpy_docs/reference/generated/numpy.record.copy.html\n",
      "numpy_docs/reference/generated/numpy.correlate.html\n",
      "numpy_docs/reference/generated/numpy.ndarray.__repr__.html\n",
      "numpy_docs/reference/generated/numpy.polynomial.polynomial.Polynomial.cast.html\n"
     ]
    },
    {
     "output_type": "stream",
     "name": "stderr",
     "text": [
      "2325it [07:24,  7.01it/s]"
     ]
    },
    {
     "output_type": "stream",
     "name": "stdout",
     "text": [
      "numpy_docs/reference/generated/numpy.ndarray.__add__.html\n",
      "numpy_docs/reference/generated/numpy.polynomial.polynomial.Polynomial.symbol.html\n",
      "numpy_docs/reference/generated/numpy.nanargmax.html\n",
      "numpy_docs/reference/generated/numpy.polynomial.hermite_e.hermefit.html\n",
      "numpy_docs/reference/generated/numpy.rollaxis.html\n"
     ]
    },
    {
     "output_type": "stream",
     "name": "stderr",
     "text": [
      "2329it [07:24,  9.77it/s]"
     ]
    },
    {
     "output_type": "stream",
     "name": "stdout",
     "text": [
      "numpy_docs/reference/generated/numpy.iinfo.min.html\n",
      "numpy_docs/reference/generated/numpy.char.chararray.sum.html\n",
      "numpy_docs/reference/generated/numpy.polynomial.chebyshev.poly2cheb.html\n",
      "numpy_docs/reference/generated/numpy.ma.count.html\n",
      "numpy_docs/reference/generated/numpy.isnat.html\n"
     ]
    },
    {
     "output_type": "stream",
     "name": "stderr",
     "text": [
      "2336it [07:24, 16.80it/s]"
     ]
    },
    {
     "output_type": "stream",
     "name": "stdout",
     "text": [
      "numpy_docs/reference/generated/numpy.rint.html\n",
      "numpy_docs/reference/generated/numpy.lib.format.write_array_header_2_0.html\n",
      "numpy_docs/reference/generated/numpy.polynomial.hermite_e.HermiteE.maxpower.html\n",
      "numpy_docs/reference/generated/numpy.ma.masked_array.sharedmask.html\n",
      "numpy_docs/reference/generated/numpy.ma.MaskedArray.prod.html\n",
      "numpy_docs/reference/generated/numpy.chararray.swapcase.html\n",
      "numpy_docs/reference/generated/numpy.ufunc.html\n",
      "numpy_docs/reference/generated/numpy.chararray.size.html\n"
     ]
    },
    {
     "output_type": "stream",
     "name": "stderr",
     "text": [
      "2342it [07:25, 15.14it/s]"
     ]
    },
    {
     "output_type": "stream",
     "name": "stdout",
     "text": [
      "numpy_docs/reference/generated/numpy.matrix.reshape.html\n",
      "numpy_docs/reference/generated/numpy.dtype.alignment.html\n",
      "numpy_docs/reference/generated/numpy.absolute.html\n",
      "numpy_docs/reference/generated/numpy.memmap.compress.html\n",
      "numpy_docs/reference/generated/numpy.char.chararray.tofile.html\n",
      "numpy_docs/reference/generated/numpy.nan_to_num.html\n"
     ]
    },
    {
     "output_type": "stream",
     "name": "stderr",
     "text": [
      "2348it [07:25, 16.73it/s]"
     ]
    },
    {
     "output_type": "stream",
     "name": "stdout",
     "text": [
      "numpy_docs/reference/generated/numpy.ma.column_stack.html\n",
      "numpy_docs/reference/generated/numpy.polynomial.hermite.hermgrid2d.html\n",
      "numpy_docs/reference/generated/numpy.logical_or.html\n",
      "numpy_docs/reference/generated/numpy.char.index.html\n",
      "numpy_docs/reference/generated/numpy.ma.MaskType.nbytes.html\n"
     ]
    },
    {
     "output_type": "stream",
     "name": "stderr",
     "text": [
      "\r2352it [07:25, 20.75it/s]"
     ]
    },
    {
     "output_type": "stream",
     "name": "stdout",
     "text": [
      "numpy_docs/reference/generated/numpy.memmap.std.html\n",
      "numpy_docs/reference/generated/numpy.testing.assert_no_gc_cycles.html\n",
      "numpy_docs/reference/generated/numpy.record.ravel.html\n",
      "numpy_docs/reference/generated/numpy.char.chararray.isupper.html\n",
      "numpy_docs/reference/generated/numpy.matrix.tobytes.html\n"
     ]
    },
    {
     "output_type": "stream",
     "name": "stderr",
     "text": [
      "2358it [07:26, 19.26it/s]"
     ]
    },
    {
     "output_type": "stream",
     "name": "stdout",
     "text": [
      "numpy_docs/reference/generated/numpy.ndarray.__ge__.html\n",
      "numpy_docs/reference/generated/numpy.linalg.eig.html\n",
      "numpy_docs/reference/generated/numpy.chararray.rsplit.html\n",
      "numpy_docs/reference/generated/numpy.distutils.ccompiler_opt.CCompilerOpt.feature_untied.html\n",
      "numpy_docs/reference/generated/numpy.char.chararray.all.html\n",
      "numpy_docs/reference/generated/numpy.polynomial.chebyshev.chebvander2d.html\n"
     ]
    },
    {
     "output_type": "stream",
     "name": "stderr",
     "text": [
      "\r2361it [07:26, 10.91it/s]"
     ]
    },
    {
     "output_type": "stream",
     "name": "stdout",
     "text": [
      "numpy_docs/reference/generated/numpy.dtype.ndim.html\n",
      "numpy_docs/reference/generated/numpy.ndarray.size.html\n"
     ]
    },
    {
     "output_type": "stream",
     "name": "stderr",
     "text": [
      "\r2363it [07:27,  6.92it/s]"
     ]
    },
    {
     "output_type": "stream",
     "name": "stdout",
     "text": [
      "numpy_docs/reference/generated/numpy.char.chararray.lower.html\n",
      "numpy_docs/reference/generated/numpy.memmap.prod.html\n",
      "numpy_docs/reference/generated/numpy.generic.strides.html\n",
      "numpy_docs/reference/generated/numpy.floor.html\n"
     ]
    },
    {
     "output_type": "stream",
     "name": "stderr",
     "text": [
      "\r2367it [07:28,  6.17it/s]"
     ]
    },
    {
     "output_type": "stream",
     "name": "stdout",
     "text": [
      "numpy_docs/reference/generated/numpy.polynomial.legendre.legvander2d.html\n"
     ]
    },
    {
     "output_type": "stream",
     "name": "stderr",
     "text": [
      "2371it [07:28,  6.94it/s]"
     ]
    },
    {
     "output_type": "stream",
     "name": "stdout",
     "text": [
      "numpy_docs/reference/generated/numpy.distutils.ccompiler_opt.CCompilerOpt.conf_check_path.html\n",
      "numpy_docs/reference/generated/numpy.corrcoef.html\n",
      "numpy_docs/reference/generated/numpy.require.html\n",
      "numpy_docs/reference/generated/numpy.matrix.max.html\n",
      "numpy_docs/reference/generated/numpy.polynomial.chebyshev.chebval3d.html\n"
     ]
    },
    {
     "output_type": "stream",
     "name": "stderr",
     "text": [
      "\r2373it [07:28,  8.03it/s]"
     ]
    },
    {
     "output_type": "stream",
     "name": "stdout",
     "text": [
      "numpy_docs/reference/generated/numpy.copysign.html\n",
      "numpy_docs/reference/generated/numpy.record.ndim.html\n",
      "numpy_docs/reference/generated/numpy.bmat.html\n",
      "numpy_docs/reference/generated/numpy.polynomial.hermite.Hermite.linspace.html\n"
     ]
    },
    {
     "output_type": "stream",
     "name": "stderr",
     "text": [
      "\r2377it [07:29,  8.00it/s]"
     ]
    },
    {
     "output_type": "stream",
     "name": "stdout",
     "text": [
      "numpy_docs/reference/generated/numpy.linalg.multi_dot.html\n"
     ]
    },
    {
     "output_type": "stream",
     "name": "stderr",
     "text": [
      "2381it [07:30,  6.67it/s]"
     ]
    },
    {
     "output_type": "stream",
     "name": "stdout",
     "text": [
      "numpy_docs/reference/generated/numpy.add.html\n",
      "numpy_docs/reference/generated/numpy.distutils.ccompiler_opt.CCompilerOpt.is_cached.html\n",
      "numpy_docs/reference/generated/numpy.ma.MaskedArray.product.html\n",
      "numpy_docs/reference/generated/numpy.polynomial.hermite_e.hermedomain.html\n"
     ]
    },
    {
     "output_type": "stream",
     "name": "stderr",
     "text": [
      "2385it [07:30,  8.62it/s]"
     ]
    },
    {
     "output_type": "stream",
     "name": "stdout",
     "text": [
      "numpy_docs/reference/generated/numpy.memmap.choose.html\n",
      "numpy_docs/reference/generated/numpy.char.islower.html\n",
      "numpy_docs/reference/generated/numpy.arcsin.html\n",
      "numpy_docs/reference/generated/numpy.record.diagonal.html\n",
      "numpy_docs/reference/generated/numpy.char.chararray.ptp.html\n",
      "numpy_docs/reference/generated/numpy.ma.vstack.html\n"
     ]
    },
    {
     "output_type": "stream",
     "name": "stderr",
     "text": [
      "\r2388it [07:30,  9.33it/s]"
     ]
    },
    {
     "output_type": "stream",
     "name": "stdout",
     "text": [
      "numpy_docs/reference/generated/numpy.ma.MaskedArray.transpose.html\n",
      "numpy_docs/reference/generated/numpy.ma.masked_array.item.html\n"
     ]
    },
    {
     "output_type": "stream",
     "name": "stderr",
     "text": [
      "2391it [07:33,  3.01it/s]"
     ]
    },
    {
     "output_type": "stream",
     "name": "stdout",
     "text": [
      "numpy_docs/reference/generated/numpy.polynomial.hermite_e.hermex.html\n",
      "numpy_docs/reference/generated/numpy.distutils.ccompiler_opt.CCompilerOpt.cc_test_cexpr.html\n",
      "numpy_docs/reference/generated/numpy.polynomial.polynomial.polysub.html\n"
     ]
    },
    {
     "output_type": "stream",
     "name": "stderr",
     "text": [
      "2396it [07:33,  4.92it/s]"
     ]
    },
    {
     "output_type": "stream",
     "name": "stdout",
     "text": [
      "numpy_docs/reference/generated/numpy.ndarray.diagonal.html\n",
      "numpy_docs/reference/generated/numpy.ma.MaskedArray.__rmul__.html\n",
      "numpy_docs/reference/generated/numpy.nanargmin.html\n",
      "numpy_docs/reference/generated/numpy.ma.innerproduct.html\n",
      "numpy_docs/reference/generated/numpy.ma.masked_array.html\n"
     ]
    },
    {
     "output_type": "stream",
     "name": "stderr",
     "text": [
      "\r2398it [07:33,  6.16it/s]"
     ]
    },
    {
     "output_type": "stream",
     "name": "stdout",
     "text": [
      "numpy_docs/reference/generated/numpy.distutils.ccompiler.CCompiler_cxx_compiler.html\n",
      "numpy_docs/reference/generated/numpy.compress.html\n",
      "numpy_docs/reference/generated/numpy.polynomial.laguerre.Laguerre.deriv.html\n"
     ]
    },
    {
     "output_type": "stream",
     "name": "stderr",
     "text": [
      "2404it [07:34,  8.04it/s]"
     ]
    },
    {
     "output_type": "stream",
     "name": "stdout",
     "text": [
      "numpy_docs/reference/generated/numpy.char.isalpha.html\n",
      "numpy_docs/reference/generated/numpy.ma.MaskedArray.__and__.html\n",
      "numpy_docs/reference/generated/numpy.vectorize.html\n",
      "numpy_docs/reference/generated/numpy.char.multiply.html\n",
      "numpy_docs/reference/generated/numpy.ma.MaskedArray.itemsize.html\n",
      "numpy_docs/reference/generated/numpy.recarray.view.html\n"
     ]
    },
    {
     "output_type": "stream",
     "name": "stderr",
     "text": [
      "2410it [07:35,  8.23it/s]"
     ]
    },
    {
     "output_type": "stream",
     "name": "stdout",
     "text": [
      "numpy_docs/reference/generated/numpy.char.chararray.index.html\n",
      "numpy_docs/reference/generated/numpy.distutils.ccompiler_opt.CCompilerOpt.conf_nocache.html\n",
      "numpy_docs/reference/generated/numpy.ndarray.shape.html\n",
      "numpy_docs/reference/generated/numpy.matrix.A1.html\n",
      "numpy_docs/reference/generated/numpy.ma.MaskedArray.__le__.html\n",
      "numpy_docs/reference/generated/numpy.ma.MaskedArray.ndim.html\n",
      "numpy_docs/reference/generated/numpy.generic.byteswap.html\n"
     ]
    },
    {
     "output_type": "stream",
     "name": "stderr",
     "text": [
      "\r2414it [07:35, 11.60it/s]"
     ]
    },
    {
     "output_type": "stream",
     "name": "stdout",
     "text": [
      "numpy_docs/reference/generated/numpy.testing.clear_and_catch_warnings.html\n"
     ]
    },
    {
     "output_type": "stream",
     "name": "stderr",
     "text": [
      "\r2417it [07:36,  8.13it/s]"
     ]
    },
    {
     "output_type": "stream",
     "name": "stdout",
     "text": [
      "numpy_docs/reference/generated/numpy.ndarray.searchsorted.html\n",
      "numpy_docs/reference/generated/numpy.ma.MaskedArray.flatten.html\n",
      "numpy_docs/reference/generated/numpy.ufunc.reduceat.html\n"
     ]
    },
    {
     "output_type": "stream",
     "name": "stderr",
     "text": [
      "2422it [07:36, 11.45it/s]"
     ]
    },
    {
     "output_type": "stream",
     "name": "stdout",
     "text": [
      "numpy_docs/reference/generated/numpy.chararray.newbyteorder.html\n",
      "numpy_docs/reference/generated/numpy.matrix.round.html\n",
      "numpy_docs/reference/generated/numpy.ma.MaskedArray.__len__.html\n",
      "numpy_docs/reference/generated/numpy.ma.max.html\n",
      "numpy_docs/reference/generated/numpy.chararray.argpartition.html\n",
      "numpy_docs/reference/generated/numpy.chararray.resize.html\n"
     ]
    },
    {
     "output_type": "stream",
     "name": "stderr",
     "text": [
      "2426it [07:37,  7.68it/s]"
     ]
    },
    {
     "output_type": "stream",
     "name": "stdout",
     "text": [
      "numpy_docs/reference/generated/numpy.ndarray.newbyteorder.html\n",
      "numpy_docs/reference/generated/numpy.polynomial.hermite_e.hermeval2d.html\n",
      "numpy_docs/reference/generated/numpy.power.html\n",
      "numpy_docs/reference/generated/numpy.deprecate.html\n"
     ]
    },
    {
     "output_type": "stream",
     "name": "stderr",
     "text": [
      "2432it [07:37,  9.63it/s]"
     ]
    },
    {
     "output_type": "stream",
     "name": "stdout",
     "text": [
      "numpy_docs/reference/generated/numpy.testing.assert_no_warnings.html\n",
      "numpy_docs/reference/generated/numpy.chararray.conj.html\n",
      "numpy_docs/reference/generated/numpy.diag_indices_from.html\n",
      "numpy_docs/reference/generated/numpy.ma.masked_array.squeeze.html\n",
      "numpy_docs/reference/generated/numpy.char.chararray.any.html\n",
      "numpy_docs/reference/generated/numpy.char.chararray.conj.html\n",
      "numpy_docs/reference/generated/numpy.matrix.swapaxes.html\n",
      "numpy_docs/reference/generated/numpy.polynomial.laguerre.lagline.html\n"
     ]
    },
    {
     "output_type": "stream",
     "name": "stderr",
     "text": [
      "2441it [07:38, 17.08it/s]"
     ]
    },
    {
     "output_type": "stream",
     "name": "stdout",
     "text": [
      "numpy_docs/reference/generated/numpy.distutils.ccompiler_opt.CCompilerOpt.conf_noopt.html\n",
      "numpy_docs/reference/generated/numpy.vsplit.html\n",
      "numpy_docs/reference/generated/numpy.char.chararray.dot.html\n",
      "numpy_docs/reference/generated/numpy.flatnonzero.html\n",
      "numpy_docs/reference/generated/numpy.distutils.ccompiler.CCompiler_show_customization.html\n",
      "numpy_docs/reference/generated/numpy.lib.format.dtype_to_descr.html\n"
     ]
    },
    {
     "output_type": "stream",
     "name": "stderr",
     "text": [
      "\r2444it [07:38, 10.44it/s]"
     ]
    },
    {
     "output_type": "stream",
     "name": "stdout",
     "text": [
      "numpy_docs/reference/generated/numpy.format_float_positional.html\n",
      "numpy_docs/reference/generated/numpy.ndarray.base.html\n",
      "numpy_docs/reference/generated/numpy.ma.MaskedArray.round.html\n",
      "numpy_docs/reference/generated/numpy.char.chararray.clip.html\n",
      "numpy_docs/reference/generated/numpy.polynomial.hermite.hermsub.html\n"
     ]
    },
    {
     "output_type": "stream",
     "name": "stderr",
     "text": [
      "2452it [07:39, 15.24it/s]"
     ]
    },
    {
     "output_type": "stream",
     "name": "stdout",
     "text": [
      "numpy_docs/reference/generated/numpy.chararray.ptp.html\n",
      "numpy_docs/reference/generated/numpy.ma.masked_array.ndim.html\n",
      "numpy_docs/reference/generated/numpy.ndarray.__mul__.html\n",
      "numpy_docs/reference/generated/numpy.distutils.ccompiler_opt.CCompilerOpt.feature_extra_checks.html\n",
      "numpy_docs/reference/generated/numpy.arctan2.html\n",
      "numpy_docs/reference/generated/numpy.left_shift.html\n"
     ]
    },
    {
     "output_type": "stream",
     "name": "stderr",
     "text": [
      "\r2455it [07:39,  9.97it/s]"
     ]
    },
    {
     "output_type": "stream",
     "name": "stdout",
     "text": [
      "numpy_docs/reference/generated/numpy.linalg.det.html\n",
      "numpy_docs/reference/generated/numpy.polynomial.hermite.hermder.html\n",
      "numpy_docs/reference/generated/numpy.nditer.itersize.html\n",
      "numpy_docs/reference/generated/numpy.polynomial.hermite.hermvander3d.html\n"
     ]
    },
    {
     "output_type": "stream",
     "name": "stderr",
     "text": [
      "2460it [07:40, 10.23it/s]"
     ]
    },
    {
     "output_type": "stream",
     "name": "stdout",
     "text": [
      "numpy_docs/reference/generated/numpy.char.chararray.diagonal.html\n",
      "numpy_docs/reference/generated/numpy.ma.isMA.html\n",
      "numpy_docs/reference/generated/numpy.ma.MaskedArray.all.html\n",
      "numpy_docs/reference/generated/numpy.memmap.getfield.html\n",
      "numpy_docs/reference/generated/numpy.ma.MaskType.sort.html\n",
      "numpy_docs/reference/generated/numpy.ma.MaskedArray.__ilshift__.html\n"
     ]
    },
    {
     "output_type": "stream",
     "name": "stderr",
     "text": [
      "2467it [07:40, 14.66it/s]"
     ]
    },
    {
     "output_type": "stream",
     "name": "stdout",
     "text": [
      "numpy_docs/reference/generated/numpy.ndarray.__ilshift__.html\n",
      "numpy_docs/reference/generated/numpy.polynomial.hermite.hermadd.html\n",
      "numpy_docs/reference/generated/numpy.positive.html\n",
      "numpy_docs/reference/generated/numpy.ma.swapaxes.html\n",
      "numpy_docs/reference/generated/numpy.ma.MaskedArray.count.html\n",
      "numpy_docs/reference/generated/numpy.polynomial.polynomial.Polynomial.fromroots.html\n",
      "numpy_docs/reference/generated/numpy.ma.masked_array.reshape.html\n"
     ]
    },
    {
     "output_type": "stream",
     "name": "stderr",
     "text": [
      "2473it [07:41, 12.66it/s]"
     ]
    },
    {
     "output_type": "stream",
     "name": "stdout",
     "text": [
      "numpy_docs/reference/generated/numpy.polynomial.hermite_e.hermetrim.html\n",
      "numpy_docs/reference/generated/numpy.memmap.round.html\n",
      "numpy_docs/reference/generated/numpy.seterrcall.html\n",
      "numpy_docs/reference/generated/numpy.char.chararray.byteswap.html\n",
      "numpy_docs/reference/generated/numpy.record.getfield.html\n"
     ]
    },
    {
     "output_type": "stream",
     "name": "stderr",
     "text": [
      "\r2476it [07:41, 13.91it/s]"
     ]
    },
    {
     "output_type": "stream",
     "name": "stdout",
     "text": [
      "numpy_docs/reference/generated/numpy.polynomial.polynomial.polygrid2d.html\n",
      "numpy_docs/reference/generated/numpy.distutils.ccompiler.html\n",
      "numpy_docs/reference/generated/numpy.matrix.mean.html\n"
     ]
    },
    {
     "output_type": "stream",
     "name": "stderr",
     "text": [
      "2481it [07:41, 15.98it/s]"
     ]
    },
    {
     "output_type": "stream",
     "name": "stdout",
     "text": [
      "numpy_docs/reference/generated/numpy.bartlett.html\n",
      "numpy_docs/reference/generated/numpy.chararray.argmax.html\n",
      "numpy_docs/reference/generated/numpy.ma.MaskedArray.resize.html\n",
      "numpy_docs/reference/generated/numpy.lib.stride_tricks.as_strided.html\n",
      "numpy_docs/reference/generated/numpy.char.str_len.html\n"
     ]
    },
    {
     "output_type": "stream",
     "name": "stderr",
     "text": [
      "2485it [07:42,  9.64it/s]"
     ]
    },
    {
     "output_type": "stream",
     "name": "stdout",
     "text": [
      "numpy_docs/reference/generated/numpy.polynomial.hermite.hermval3d.html\n",
      "numpy_docs/reference/generated/numpy.recarray.getfield.html\n",
      "numpy_docs/reference/generated/numpy.distutils.ccompiler.CCompiler_find_executables.html\n",
      "numpy_docs/reference/generated/numpy.DataSource.html\n"
     ]
    },
    {
     "output_type": "stream",
     "name": "stderr",
     "text": [
      "\r2487it [07:42,  6.74it/s]"
     ]
    },
    {
     "output_type": "stream",
     "name": "stdout",
     "text": [
      "numpy_docs/reference/generated/numpy.polynomial.hermite.hermpow.html\n"
     ]
    },
    {
     "output_type": "stream",
     "name": "stderr",
     "text": [
      "\r2489it [07:43,  5.99it/s]"
     ]
    },
    {
     "output_type": "stream",
     "name": "stdout",
     "text": [
      "numpy_docs/reference/generated/numpy.ma.corrcoef.html\n",
      "numpy_docs/reference/generated/numpy.who.html\n"
     ]
    },
    {
     "output_type": "stream",
     "name": "stderr",
     "text": [
      "2491it [07:44,  4.29it/s]"
     ]
    },
    {
     "output_type": "stream",
     "name": "stdout",
     "text": [
      "numpy_docs/reference/generated/numpy.fft.fftn.html\n",
      "numpy_docs/reference/generated/numpy.ma.outerproduct.html\n"
     ]
    },
    {
     "output_type": "stream",
     "name": "stderr",
     "text": [
      "2494it [07:45,  2.68it/s]"
     ]
    },
    {
     "output_type": "stream",
     "name": "stdout",
     "text": [
      "numpy_docs/reference/generated/numpy.matrix.searchsorted.html\n",
      "numpy_docs/reference/generated/numpy.ma.MaskedArray.__rmod__.html\n",
      "numpy_docs/reference/generated/numpy.ndarray.data.html\n"
     ]
    },
    {
     "output_type": "stream",
     "name": "stderr",
     "text": [
      "\r2495it [07:46,  1.98it/s]"
     ]
    },
    {
     "output_type": "stream",
     "name": "stdout",
     "text": [
      "numpy_docs/reference/generated/numpy.lib.Arrayterator.html\n"
     ]
    },
    {
     "output_type": "stream",
     "name": "stderr",
     "text": [
      "\r2496it [07:47,  2.02it/s]"
     ]
    },
    {
     "output_type": "stream",
     "name": "stdout",
     "text": [
      "numpy_docs/reference/generated/numpy.generic.size.html\n",
      "numpy_docs/reference/generated/numpy.record.prod.html\n",
      "numpy_docs/reference/generated/numpy.diagflat.html\n"
     ]
    },
    {
     "output_type": "stream",
     "name": "stderr",
     "text": [
      "\r2499it [07:48,  2.92it/s]"
     ]
    },
    {
     "output_type": "stream",
     "name": "stdout",
     "text": [
      "numpy_docs/reference/generated/numpy.char.chararray.ljust.html\n",
      "numpy_docs/reference/generated/numpy.ma.MaskType.tobytes.html\n",
      "numpy_docs/reference/generated/numpy.record.real.html\n",
      "numpy_docs/reference/generated/numpy.polynomial.chebyshev.chebweight.html\n"
     ]
    },
    {
     "output_type": "stream",
     "name": "stderr",
     "text": [
      "\r2503it [07:48,  4.13it/s]"
     ]
    },
    {
     "output_type": "stream",
     "name": "stdout",
     "text": [
      "numpy_docs/reference/generated/numpy.polynomial.legendre.Legendre.truncate.html\n"
     ]
    },
    {
     "output_type": "stream",
     "name": "stderr",
     "text": [
      "\r2504it [07:48,  3.79it/s]"
     ]
    },
    {
     "output_type": "stream",
     "name": "stdout",
     "text": [
      "numpy_docs/reference/generated/numpy.chararray.isnumeric.html\n",
      "numpy_docs/reference/generated/numpy.swapaxes.html\n",
      "numpy_docs/reference/generated/numpy.char.chararray.view.html\n"
     ]
    },
    {
     "output_type": "stream",
     "name": "stderr",
     "text": [
      "2509it [07:49,  4.52it/s]"
     ]
    },
    {
     "output_type": "stream",
     "name": "stdout",
     "text": [
      "numpy_docs/reference/generated/numpy.ma.MaskedArray.real.html\n",
      "numpy_docs/reference/generated/numpy.polynomial.laguerre.lagdomain.html\n",
      "numpy_docs/reference/generated/numpy.chararray.imag.html\n",
      "numpy_docs/reference/generated/numpy.fmin.html\n",
      "numpy_docs/reference/generated/numpy.asanyarray.html\n"
     ]
    },
    {
     "output_type": "stream",
     "name": "stderr",
     "text": [
      "2515it [07:50,  8.41it/s]"
     ]
    },
    {
     "output_type": "stream",
     "name": "stdout",
     "text": [
      "numpy_docs/reference/generated/numpy.emath.logn.html\n",
      "numpy_docs/reference/generated/numpy.ndarray.any.html\n",
      "numpy_docs/reference/generated/numpy.char.chararray.dumps.html\n",
      "numpy_docs/reference/generated/numpy.polynomial.laguerre.Laguerre.integ.html\n"
     ]
    },
    {
     "output_type": "stream",
     "name": "stderr",
     "text": [
      "\r2517it [07:50,  6.91it/s]"
     ]
    },
    {
     "output_type": "stream",
     "name": "stdout",
     "text": [
      "numpy_docs/reference/generated/numpy.ndarray.__imod__.html\n",
      "numpy_docs/reference/generated/numpy.matrix.std.html\n",
      "numpy_docs/reference/generated/numpy.memmap.view.html\n"
     ]
    },
    {
     "output_type": "stream",
     "name": "stderr",
     "text": [
      "\r2519it [07:51,  6.31it/s]"
     ]
    },
    {
     "output_type": "stream",
     "name": "stdout",
     "text": [
      "numpy_docs/reference/generated/numpy.memmap.itemset.html\n"
     ]
    },
    {
     "output_type": "stream",
     "name": "stderr",
     "text": [
      "2523it [07:51,  7.95it/s]"
     ]
    },
    {
     "output_type": "stream",
     "name": "stdout",
     "text": [
      "numpy_docs/reference/generated/numpy.append.html\n",
      "numpy_docs/reference/generated/numpy.core.records.array.html\n",
      "numpy_docs/reference/generated/numpy.polynomial.hermite_e.hermeval3d.html\n",
      "numpy_docs/reference/generated/numpy.ma.MaskedArray.var.html\n",
      "numpy_docs/reference/generated/numpy.lib.format.read_array_header_1_0.html\n"
     ]
    },
    {
     "output_type": "stream",
     "name": "stderr",
     "text": [
      "2527it [07:53,  4.39it/s]"
     ]
    },
    {
     "output_type": "stream",
     "name": "stdout",
     "text": [
      "numpy_docs/reference/generated/numpy.quantile.html\n",
      "numpy_docs/reference/generated/numpy.char.chararray.choose.html\n",
      "numpy_docs/reference/generated/numpy.ma.MaskType.argsort.html\n",
      "numpy_docs/reference/generated/numpy.chararray.dumps.html\n",
      "numpy_docs/reference/generated/numpy.ma.masked_array.iscontiguous.html\n",
      "numpy_docs/reference/generated/numpy.arctanh.html\n"
     ]
    },
    {
     "output_type": "stream",
     "name": "stderr",
     "text": [
      "\r2531it [07:53,  4.79it/s]"
     ]
    },
    {
     "output_type": "stream",
     "name": "stdout",
     "text": [
      "numpy_docs/reference/generated/numpy.linalg.cholesky.html\n"
     ]
    },
    {
     "output_type": "stream",
     "name": "stderr",
     "text": [
      "2535it [07:54,  5.79it/s]"
     ]
    },
    {
     "output_type": "stream",
     "name": "stdout",
     "text": [
      "numpy_docs/reference/generated/numpy.chararray.var.html\n",
      "numpy_docs/reference/generated/numpy.typename.html\n",
      "numpy_docs/reference/generated/numpy.errstate.html\n",
      "numpy_docs/reference/generated/numpy.ma.masked_array.size.html\n"
     ]
    },
    {
     "output_type": "stream",
     "name": "stderr",
     "text": [
      "2539it [07:54,  7.45it/s]"
     ]
    },
    {
     "output_type": "stream",
     "name": "stdout",
     "text": [
      "numpy_docs/reference/generated/numpy.char.greater_equal.html\n",
      "numpy_docs/reference/generated/numpy.recarray.tobytes.html\n",
      "numpy_docs/reference/generated/numpy.ndarray.tostring.html\n",
      "numpy_docs/reference/generated/numpy.recarray.dot.html\n",
      "numpy_docs/reference/generated/numpy.copyto.html\n"
     ]
    },
    {
     "output_type": "stream",
     "name": "stderr",
     "text": [
      "2543it [07:55,  9.94it/s]"
     ]
    },
    {
     "output_type": "stream",
     "name": "stdout",
     "text": [
      "numpy_docs/reference/generated/numpy.arange.html\n",
      "numpy_docs/reference/generated/numpy.polynomial.chebyshev.chebval2d.html\n",
      "numpy_docs/reference/generated/numpy.radians.html\n",
      "numpy_docs/reference/generated/numpy.ndarray.repeat.html\n"
     ]
    },
    {
     "output_type": "stream",
     "name": "stderr",
     "text": [
      "2549it [07:55, 15.11it/s]"
     ]
    },
    {
     "output_type": "stream",
     "name": "stdout",
     "text": [
      "numpy_docs/reference/generated/numpy.lib.stride_tricks.sliding_window_view.html\n",
      "numpy_docs/reference/generated/numpy.char.chararray.base.html\n",
      "numpy_docs/reference/generated/numpy.ma.MaskedArray.__mod__.html\n",
      "numpy_docs/reference/generated/numpy.array2string.html\n",
      "numpy_docs/reference/generated/numpy.setxor1d.html\n",
      "numpy_docs/reference/generated/numpy.dtype.__ge__.html\n"
     ]
    },
    {
     "output_type": "stream",
     "name": "stderr",
     "text": [
      "\r2553it [07:55, 19.78it/s]"
     ]
    },
    {
     "output_type": "stream",
     "name": "stdout",
     "text": [
      "numpy_docs/reference/generated/numpy.chararray.cumsum.html\n",
      "numpy_docs/reference/generated/numpy.memmap.cumsum.html\n",
      "numpy_docs/reference/generated/numpy.less.html\n",
      "numpy_docs/reference/generated/numpy.polynomial.chebyshev.Chebyshev.copy.html\n"
     ]
    },
    {
     "output_type": "stream",
     "name": "stderr",
     "text": [
      "2560it [07:56, 14.39it/s]"
     ]
    },
    {
     "output_type": "stream",
     "name": "stdout",
     "text": [
      "numpy_docs/reference/generated/numpy.ma.MaskedArray.__imul__.html\n",
      "numpy_docs/reference/generated/numpy.record.imag.html\n",
      "numpy_docs/reference/generated/numpy.recarray.choose.html\n",
      "numpy_docs/reference/generated/numpy.ndarray.__iadd__.html\n",
      "numpy_docs/reference/generated/numpy.matlib.repmat.html\n",
      "numpy_docs/reference/generated/numpy.matrix.ravel.html\n"
     ]
    },
    {
     "output_type": "stream",
     "name": "stderr",
     "text": [
      "\r2563it [07:56, 14.52it/s]"
     ]
    },
    {
     "output_type": "stream",
     "name": "stdout",
     "text": [
      "numpy_docs/reference/generated/numpy.ma.stack.html\n",
      "numpy_docs/reference/generated/numpy.memmap.dot.html\n",
      "numpy_docs/reference/generated/numpy.matrix.getH.html\n",
      "numpy_docs/reference/generated/numpy.ndarray.argmin.html\n"
     ]
    },
    {
     "output_type": "stream",
     "name": "stderr",
     "text": [
      "\r2566it [07:56, 14.81it/s]"
     ]
    },
    {
     "output_type": "stream",
     "name": "stdout",
     "text": [
      "numpy_docs/reference/generated/numpy.polynomial.polynomial.polyx.html\n",
      "numpy_docs/reference/generated/numpy.sin.html\n",
      "numpy_docs/reference/generated/numpy.polynomial.hermite.Hermite.has_samewindow.html\n"
     ]
    },
    {
     "output_type": "stream",
     "name": "stderr",
     "text": [
      "2571it [07:58,  5.40it/s]"
     ]
    },
    {
     "output_type": "stream",
     "name": "stdout",
     "text": [
      "numpy_docs/reference/generated/numpy.memmap.min.html\n",
      "numpy_docs/reference/generated/numpy.ma.MaskedArray.choose.html\n",
      "numpy_docs/reference/generated/numpy.ndarray.dump.html\n",
      "numpy_docs/reference/generated/numpy.ma.zeros_like.html\n"
     ]
    },
    {
     "output_type": "stream",
     "name": "stderr",
     "text": [
      "2575it [07:58,  7.04it/s]"
     ]
    },
    {
     "output_type": "stream",
     "name": "stdout",
     "text": [
      "numpy_docs/reference/generated/numpy.char.chararray.conjugate.html\n",
      "numpy_docs/reference/generated/numpy.char.partition.html\n",
      "numpy_docs/reference/generated/numpy.digitize.html\n",
      "numpy_docs/reference/generated/numpy.ndarray.imag.html\n"
     ]
    },
    {
     "output_type": "stream",
     "name": "stderr",
     "text": [
      "\r2577it [07:59,  7.81it/s]"
     ]
    },
    {
     "output_type": "stream",
     "name": "stdout",
     "text": [
      "numpy_docs/reference/generated/numpy.ma.MaskedArray.unshare_mask.html\n",
      "numpy_docs/reference/generated/numpy.ma.default_fill_value.html\n",
      "numpy_docs/reference/generated/numpy.nditer.enable_external_loop.html\n"
     ]
    },
    {
     "output_type": "stream",
     "name": "stderr",
     "text": [
      "\r2579it [08:01,  2.78it/s]"
     ]
    },
    {
     "output_type": "stream",
     "name": "stdout",
     "text": [
      "numpy_docs/reference/generated/numpy.polynomial.hermite_e.HermiteE.has_samewindow.html\n"
     ]
    },
    {
     "output_type": "stream",
     "name": "stderr",
     "text": [
      "\r2580it [08:01,  2.75it/s]"
     ]
    },
    {
     "output_type": "stream",
     "name": "stdout",
     "text": [
      "numpy_docs/reference/generated/numpy.testing.assert_.html\n",
      "numpy_docs/reference/generated/numpy.distutils.ccompiler_opt.CCompilerOpt.dist_info.html\n"
     ]
    },
    {
     "output_type": "stream",
     "name": "stderr",
     "text": [
      "2585it [08:01,  4.82it/s]"
     ]
    },
    {
     "output_type": "stream",
     "name": "stdout",
     "text": [
      "numpy_docs/reference/generated/numpy.memmap.squeeze.html\n",
      "numpy_docs/reference/generated/numpy.ndarray.conj.html\n",
      "numpy_docs/reference/generated/numpy.record.round.html\n",
      "numpy_docs/reference/generated/numpy.diag.html\n",
      "numpy_docs/reference/generated/numpy.record.tostring.html\n",
      "numpy_docs/reference/generated/numpy.polynomial.legendre.Legendre.mapparms.html\n"
     ]
    },
    {
     "output_type": "stream",
     "name": "stderr",
     "text": [
      "2591it [08:02,  7.08it/s]"
     ]
    },
    {
     "output_type": "stream",
     "name": "stdout",
     "text": [
      "numpy_docs/reference/generated/numpy.ma.MaskedArray.__deepcopy__.html\n",
      "numpy_docs/reference/generated/numpy.ndarray.__truediv__.html\n",
      "numpy_docs/reference/generated/numpy.polynomial.chebyshev.chebline.html\n",
      "numpy_docs/reference/generated/numpy.ma.MaskedArray.conjugate.html\n",
      "numpy_docs/reference/generated/numpy.ma.clump_masked.html\n"
     ]
    },
    {
     "output_type": "stream",
     "name": "stderr",
     "text": [
      "2598it [08:03,  7.75it/s]"
     ]
    },
    {
     "output_type": "stream",
     "name": "stdout",
     "text": [
      "numpy_docs/reference/generated/numpy.ma.MaskedArray.nbytes.html\n",
      "numpy_docs/reference/generated/numpy.ma.MaskType.put.html\n",
      "numpy_docs/reference/generated/numpy.ma.MaskType.view.html\n",
      "numpy_docs/reference/generated/numpy.distutils.system_info.get_info.html\n",
      "numpy_docs/reference/generated/numpy.ma.MaskedArray.__itruediv__.html\n",
      "numpy_docs/reference/generated/numpy.distutils.ccompiler_opt.CCompilerOpt.conf_features.html\n",
      "numpy_docs/reference/generated/numpy.char.splitlines.html\n",
      "numpy_docs/reference/generated/numpy.chararray.put.html\n"
     ]
    },
    {
     "output_type": "stream",
     "name": "stderr",
     "text": [
      "\r2601it [08:03,  9.79it/s]"
     ]
    },
    {
     "output_type": "stream",
     "name": "stdout",
     "text": [
      "numpy_docs/reference/generated/numpy.record.sort.html\n",
      "numpy_docs/reference/generated/numpy.ndarray.tolist.html\n"
     ]
    },
    {
     "output_type": "stream",
     "name": "stderr",
     "text": [
      "2607it [08:04,  8.15it/s]"
     ]
    },
    {
     "output_type": "stream",
     "name": "stdout",
     "text": [
      "numpy_docs/reference/generated/numpy.recarray.sum.html\n",
      "numpy_docs/reference/generated/numpy.ma.diag.html\n",
      "numpy_docs/reference/generated/numpy.ma.MaskType.squeeze.html\n",
      "numpy_docs/reference/generated/numpy.ma.MaskedArray.__rxor__.html\n",
      "numpy_docs/reference/generated/numpy.chararray.find.html\n",
      "numpy_docs/reference/generated/numpy.ma.MaskedArray.__ror__.html\n",
      "numpy_docs/reference/generated/numpy.char.chararray.center.html\n"
     ]
    },
    {
     "output_type": "stream",
     "name": "stderr",
     "text": [
      "\r2611it [08:04, 11.19it/s]"
     ]
    },
    {
     "output_type": "stream",
     "name": "stdout",
     "text": [
      "numpy_docs/reference/generated/numpy.char.isdigit.html\n",
      "numpy_docs/reference/generated/numpy.lib.format.open_memmap.html\n",
      "numpy_docs/reference/generated/numpy.sort.html\n",
      "numpy_docs/reference/generated/numpy.generic.__array_struct__.html\n"
     ]
    },
    {
     "output_type": "stream",
     "name": "stderr",
     "text": [
      "\r2614it [08:05, 12.45it/s]"
     ]
    },
    {
     "output_type": "stream",
     "name": "stdout",
     "text": [
      "numpy_docs/reference/generated/numpy.record.swapaxes.html\n",
      "numpy_docs/reference/generated/numpy.ndarray.__float__.html\n",
      "numpy_docs/reference/generated/numpy.polynomial.chebyshev.Chebyshev.cast.html\n"
     ]
    },
    {
     "output_type": "stream",
     "name": "stderr",
     "text": [
      "\r2617it [08:05,  8.82it/s]"
     ]
    },
    {
     "output_type": "stream",
     "name": "stdout",
     "text": [
      "numpy_docs/reference/generated/numpy.recarray.partition.html\n"
     ]
    },
    {
     "output_type": "stream",
     "name": "stderr",
     "text": [
      "2621it [08:06,  7.49it/s]"
     ]
    },
    {
     "output_type": "stream",
     "name": "stdout",
     "text": [
      "numpy_docs/reference/generated/numpy.matrix.sort.html\n",
      "numpy_docs/reference/generated/numpy.char.chararray.split.html\n",
      "numpy_docs/reference/generated/numpy.distutils.exec_command.html\n",
      "numpy_docs/reference/generated/numpy.recarray.sort.html\n"
     ]
    },
    {
     "output_type": "stream",
     "name": "stderr",
     "text": [
      "\r2623it [08:06,  8.36it/s]"
     ]
    },
    {
     "output_type": "stream",
     "name": "stdout",
     "text": [
      "numpy_docs/reference/generated/numpy.put.html\n",
      "numpy_docs/reference/generated/numpy.fliplr.html\n",
      "numpy_docs/reference/generated/numpy.polynomial.chebyshev.chebpts1.html\n"
     ]
    },
    {
     "output_type": "stream",
     "name": "stderr",
     "text": [
      "2628it [08:07,  8.74it/s]"
     ]
    },
    {
     "output_type": "stream",
     "name": "stdout",
     "text": [
      "numpy_docs/reference/generated/numpy.ma.masked_array.tobytes.html\n",
      "numpy_docs/reference/generated/numpy.matrix.conjugate.html\n",
      "numpy_docs/reference/generated/numpy.seterrobj.html\n",
      "numpy_docs/reference/generated/numpy.ma.hsplit.html\n",
      "numpy_docs/reference/generated/numpy.char.greater.html\n"
     ]
    },
    {
     "output_type": "stream",
     "name": "stderr",
     "text": [
      "2634it [08:07, 13.34it/s]"
     ]
    },
    {
     "output_type": "stream",
     "name": "stdout",
     "text": [
      "numpy_docs/reference/generated/numpy.empty.html\n",
      "numpy_docs/reference/generated/numpy.distutils.exec_command.temp_file_name.html\n",
      "numpy_docs/reference/generated/numpy.record.cumsum.html\n",
      "numpy_docs/reference/generated/numpy.lib.Arrayterator.flat.html\n",
      "numpy_docs/reference/generated/numpy.record.data.html\n"
     ]
    },
    {
     "output_type": "stream",
     "name": "stderr",
     "text": [
      "\r2637it [08:07, 16.09it/s]"
     ]
    },
    {
     "output_type": "stream",
     "name": "stdout",
     "text": [
      "numpy_docs/reference/generated/numpy.ma.masked_array.any.html\n",
      "numpy_docs/reference/generated/numpy.ma.MaskedArray.std.html\n",
      "numpy_docs/reference/generated/numpy.polynomial.legendre.Legendre.has_samewindow.html\n",
      "numpy_docs/reference/generated/numpy.char.chararray.setflags.html\n",
      "numpy_docs/reference/generated/numpy.average.html\n"
     ]
    },
    {
     "output_type": "stream",
     "name": "stderr",
     "text": [
      "\r2640it [08:09,  4.60it/s]"
     ]
    },
    {
     "output_type": "stream",
     "name": "stdout",
     "text": [
      "numpy_docs/reference/generated/numpy.DataSource.exists.html\n"
     ]
    },
    {
     "output_type": "stream",
     "name": "stderr",
     "text": [
      "2644it [08:09,  5.38it/s]"
     ]
    },
    {
     "output_type": "stream",
     "name": "stdout",
     "text": [
      "numpy_docs/reference/generated/numpy.nditer.ndim.html\n",
      "numpy_docs/reference/generated/numpy.matrix.tofile.html\n",
      "numpy_docs/reference/generated/numpy.ma.unique.html\n",
      "numpy_docs/reference/generated/numpy.chararray.transpose.html\n"
     ]
    },
    {
     "output_type": "stream",
     "name": "stderr",
     "text": [
      "\r2646it [08:10,  4.61it/s]"
     ]
    },
    {
     "output_type": "stream",
     "name": "stdout",
     "text": [
      "numpy_docs/reference/generated/numpy.distutils.ccompiler.CCompiler_object_filenames.html\n",
      "numpy_docs/reference/generated/numpy.char.chararray.tolist.html\n"
     ]
    },
    {
     "output_type": "stream",
     "name": "stderr",
     "text": [
      "2649it [08:11,  3.25it/s]"
     ]
    },
    {
     "output_type": "stream",
     "name": "stdout",
     "text": [
      "numpy_docs/reference/generated/numpy.matrix.diagonal.html\n",
      "numpy_docs/reference/generated/numpy.ma.allclose.html\n",
      "numpy_docs/reference/generated/numpy.poly1d.variable.html\n"
     ]
    },
    {
     "output_type": "stream",
     "name": "stderr",
     "text": [
      "\r2651it [08:12,  4.28it/s]"
     ]
    },
    {
     "output_type": "stream",
     "name": "stdout",
     "text": [
      "numpy_docs/reference/generated/numpy.ma.MaskedArray.nonzero.html\n",
      "numpy_docs/reference/generated/numpy.polynomial.hermite.Hermite.basis_name.html\n",
      "numpy_docs/reference/generated/numpy.atleast_1d.html\n"
     ]
    },
    {
     "output_type": "stream",
     "name": "stderr",
     "text": [
      "2655it [08:13,  4.08it/s]"
     ]
    },
    {
     "output_type": "stream",
     "name": "stdout",
     "text": [
      "numpy_docs/reference/generated/numpy.nanmin.html\n",
      "numpy_docs/reference/generated/numpy.char.chararray.rindex.html\n",
      "numpy_docs/reference/generated/numpy.ma.MaskedArray.__delitem__.html\n",
      "numpy_docs/reference/generated/numpy.ma.array.html\n"
     ]
    },
    {
     "output_type": "stream",
     "name": "stderr",
     "text": [
      "2659it [08:13,  5.71it/s]"
     ]
    },
    {
     "output_type": "stream",
     "name": "stdout",
     "text": [
      "numpy_docs/reference/generated/numpy.char.decode.html\n",
      "numpy_docs/reference/generated/numpy.distutils.ccompiler.CCompiler_customize_cmd.html\n",
      "numpy_docs/reference/generated/numpy.matrix.T.html\n",
      "numpy_docs/reference/generated/numpy.polynomial.hermite.Hermite.has_samecoef.html\n"
     ]
    },
    {
     "output_type": "stream",
     "name": "stderr",
     "text": [
      "2663it [08:14,  6.33it/s]"
     ]
    },
    {
     "output_type": "stream",
     "name": "stdout",
     "text": [
      "numpy_docs/reference/generated/numpy.polynomial.laguerre.poly2lag.html\n",
      "numpy_docs/reference/generated/numpy.conj.html\n",
      "numpy_docs/reference/generated/numpy.char.expandtabs.html\n"
     ]
    },
    {
     "output_type": "stream",
     "name": "stderr",
     "text": [
      "\r2665it [08:15,  4.91it/s]"
     ]
    },
    {
     "output_type": "stream",
     "name": "stdout",
     "text": [
      "numpy_docs/reference/generated/numpy.savetxt.html\n",
      "numpy_docs/reference/generated/numpy.ravel_multi_index.html\n",
      "numpy_docs/reference/generated/numpy.take_along_axis.html\n"
     ]
    },
    {
     "output_type": "stream",
     "name": "stderr",
     "text": [
      "2670it [08:15,  8.77it/s]"
     ]
    },
    {
     "output_type": "stream",
     "name": "stdout",
     "text": [
      "numpy_docs/reference/generated/numpy.chararray.argsort.html\n",
      "numpy_docs/reference/generated/numpy.char.ljust.html\n",
      "numpy_docs/reference/generated/numpy.matrix.getA1.html\n",
      "numpy_docs/reference/generated/numpy.ma.MaskedArray.squeeze.html\n",
      "numpy_docs/reference/generated/numpy.ma.MaskType.cumsum.html\n",
      "numpy_docs/reference/generated/numpy.ma.union1d.html\n"
     ]
    },
    {
     "output_type": "stream",
     "name": "stderr",
     "text": [
      "2677it [08:15, 15.38it/s]"
     ]
    },
    {
     "output_type": "stream",
     "name": "stdout",
     "text": [
      "numpy_docs/reference/generated/numpy.nditer.iternext.html\n",
      "numpy_docs/reference/generated/numpy.nditer.operands.html\n",
      "numpy_docs/reference/generated/numpy.unwrap.html\n",
      "numpy_docs/reference/generated/numpy.ma.masked_array.argmax.html\n",
      "numpy_docs/reference/generated/numpy.memmap.max.html\n",
      "numpy_docs/reference/generated/numpy.testing.suppress_warnings.html\n"
     ]
    },
    {
     "output_type": "stream",
     "name": "stderr",
     "text": [
      "\r2680it [08:15, 16.05it/s]"
     ]
    },
    {
     "output_type": "stream",
     "name": "stdout",
     "text": [
      "numpy_docs/reference/generated/numpy.dtype.byteorder.html\n",
      "numpy_docs/reference/generated/numpy.polynomial.hermite.hermroots.html\n",
      "numpy_docs/reference/generated/numpy.ceil.html\n",
      "numpy_docs/reference/generated/numpy.polynomial.hermite.poly2herm.html\n"
     ]
    },
    {
     "output_type": "stream",
     "name": "stderr",
     "text": [
      "2685it [08:16, 14.69it/s]"
     ]
    },
    {
     "output_type": "stream",
     "name": "stdout",
     "text": [
      "numpy_docs/reference/generated/numpy.ma.apply_over_axes.html\n",
      "numpy_docs/reference/generated/numpy.polynomial.laguerre.Laguerre.identity.html\n",
      "numpy_docs/reference/generated/numpy.char.chararray.copy.html\n",
      "numpy_docs/reference/c-api/index.html\n"
     ]
    },
    {
     "output_type": "stream",
     "name": "stderr",
     "text": [
      "\r2687it [08:16,  9.44it/s]"
     ]
    },
    {
     "output_type": "stream",
     "name": "stdout",
     "text": [
      "numpy_docs/reference/c-api/deprecations.html\n",
      "numpy_docs/reference/c-api/types-and-structures.html\n"
     ]
    },
    {
     "output_type": "stream",
     "name": "stderr",
     "text": [
      "\r2689it [08:17,  6.97it/s]"
     ]
    },
    {
     "output_type": "stream",
     "name": "stdout",
     "text": [
      "numpy_docs/reference/c-api/coremath.html\n",
      "numpy_docs/reference/c-api/generalized-ufuncs.html\n"
     ]
    },
    {
     "output_type": "stream",
     "name": "stderr",
     "text": [
      "\r2691it [08:17,  6.66it/s]"
     ]
    },
    {
     "output_type": "stream",
     "name": "stdout",
     "text": [
      "numpy_docs/reference/c-api/config.html\n"
     ]
    },
    {
     "output_type": "stream",
     "name": "stderr",
     "text": [
      "\r2692it [08:17,  5.22it/s]"
     ]
    },
    {
     "output_type": "stream",
     "name": "stdout",
     "text": [
      "numpy_docs/reference/c-api/dtype.html\n"
     ]
    },
    {
     "output_type": "stream",
     "name": "stderr",
     "text": [
      "\r2693it [08:18,  3.05it/s]"
     ]
    },
    {
     "output_type": "stream",
     "name": "stdout",
     "text": [
      "numpy_docs/reference/c-api/iterator.html\n"
     ]
    },
    {
     "output_type": "stream",
     "name": "stderr",
     "text": [
      "\r2694it [08:19,  2.84it/s]"
     ]
    },
    {
     "output_type": "stream",
     "name": "stdout",
     "text": [
      "numpy_docs/reference/c-api/ufunc.html\n"
     ]
    },
    {
     "output_type": "stream",
     "name": "stderr",
     "text": [
      "\r2695it [08:19,  3.12it/s]"
     ]
    },
    {
     "output_type": "stream",
     "name": "stdout",
     "text": [
      "numpy_docs/reference/c-api/data_memory.html\n"
     ]
    },
    {
     "output_type": "stream",
     "name": "stderr",
     "text": [
      "\r2696it [08:20,  2.42it/s]"
     ]
    },
    {
     "output_type": "stream",
     "name": "stdout",
     "text": [
      "numpy_docs/reference/c-api/array.html\n"
     ]
    },
    {
     "output_type": "stream",
     "name": "stderr",
     "text": [
      "2699it [08:21,  5.38it/s]\n"
     ]
    },
    {
     "output_type": "stream",
     "name": "stdout",
     "text": [
      "numpy_docs/reference/distutils/misc_util.html\n",
      "numpy_docs/_static/webpack-macros.html\n"
     ]
    }
   ],
   "source": [
    "from tqdm import tqdm\n",
    "\n",
    "docs = []\n",
    "docs_path = Path(\"docs.pkl\")\n",
    "for p in tqdm(Path(\"numpy_docs\").rglob(\"*.html\")):\n",
    "    if p.is_dir():\n",
    "        continue\n",
    "    print(p)\n",
    "    loader = UnstructuredHTMLLoader(str(p))\n",
    "    raw_document = loader.load()\n",
    "    # docs.append(raw_document)\n",
    "    title = get_document_title(raw_document)\n",
    "    m = {\"title\": title}\n",
    "    if raw_document:\n",
    "        raw_document[0].metadata.update(m)\n",
    "        raw_document[0].metadata[\"source\"] = str(raw_document[0].metadata[\"source\"])\n",
    "        docs.extend(raw_document)\n",
    "\n",
    "\n",
    "if docs:\n",
    "    with open(docs_path, \"wb\") as fh:\n",
    "        pickle.dump(docs, fh)\n",
    "else:\n",
    "    with open(docs_path, \"rb\") as fh:\n",
    "        docs = pickle.load(fh)"
   ]
  },
  {
   "cell_type": "code",
   "execution_count": 15,
   "id": "c019d728-bb65-494a-b4a9-73a62bf8e155",
   "metadata": {
    "id": "c019d728-bb65-494a-b4a9-73a62bf8e155",
    "outputId": "a63ba879-bac3-4017-818f-f1ad83e11f41",
    "colab": {
     "base_uri": "https://localhost:8080/"
    }
   },
   "outputs": [
    {
     "output_type": "execute_result",
     "data": {
      "text/plain": [
       "2699"
      ]
     },
     "metadata": {},
     "execution_count": 15
    }
   ],
   "source": [
    "len(docs)"
   ]
  },
  {
   "cell_type": "markdown",
   "id": "c3852dd3",
   "metadata": {
    "id": "c3852dd3"
   },
   "source": [
    "# Generating emebeddings from our docs\n",
    "\n",
    "Now that we have our raw documents loaded, we need to pre-process them to generate embeddings:"
   ]
  },
  {
   "cell_type": "code",
   "execution_count": 16,
   "id": "82230563",
   "metadata": {
    "id": "82230563"
   },
   "outputs": [],
   "source": [
    "text_splitter = RecursiveCharacterTextSplitter(\n",
    "    chunk_size=1000,\n",
    "    chunk_overlap=200,\n",
    ")\n",
    "documents = text_splitter.split_documents(docs)\n",
    "embeddings = OpenAIEmbeddings()"
   ]
  },
  {
   "cell_type": "markdown",
   "id": "43e68215",
   "metadata": {
    "id": "43e68215"
   },
   "source": [
    "# Storing\n",
    "\n",
    "Let's connect to LanceDB so we can store our documents, It requires 0 setup !"
   ]
  },
  {
   "cell_type": "markdown",
   "id": "7ed0c792",
   "metadata": {
    "id": "7ed0c792"
   },
   "source": [
    "### For LanceDB cloud use the below cell :"
   ]
  },
  {
   "cell_type": "code",
   "execution_count": null,
   "id": "74780a58",
   "metadata": {
    "id": "74780a58"
   },
   "outputs": [],
   "source": [
    "vectorstore = LanceDB(\n",
    "    embedding=embeddings,\n",
    "    uri=\"db://test\",  # your remote database URI\n",
    "    api_key=\"sk_...\",\n",
    "    region=\"us-east-x-xxx\",  # the cloud region you have configured\n",
    "    table_name=\"langchain_vectorstore\",  # Optional, defaults to \"vectors\"\n",
    "    mode=\"overwrite\",  # Optional, defaults to \"overwrite\"\n",
    ")\n",
    "\n",
    "doc_ids = vectorstore.add_documents(documents=documents)"
   ]
  },
  {
   "cell_type": "markdown",
   "id": "9d6cf585",
   "metadata": {
    "id": "9d6cf585"
   },
   "source": [
    "### For LanceDB local use the below cell :"
   ]
  },
  {
   "cell_type": "code",
   "execution_count": 18,
   "id": "71e15e3b",
   "metadata": {
    "id": "71e15e3b"
   },
   "outputs": [],
   "source": [
    "vectorstore = LanceDB.from_documents(documents=documents, embedding=embeddings)"
   ]
  },
  {
   "cell_type": "markdown",
   "id": "3cb1dc5d",
   "metadata": {
    "id": "3cb1dc5d"
   },
   "source": [
    "Now let's create our RetrievalQA chain using the LanceDB vector store:"
   ]
  },
  {
   "cell_type": "code",
   "execution_count": 19,
   "id": "6a5891ad",
   "metadata": {
    "id": "6a5891ad"
   },
   "outputs": [],
   "source": [
    "qa = RetrievalQA.from_chain_type(\n",
    "    llm=OpenAI(), chain_type=\"stuff\", retriever=vectorstore.as_retriever()\n",
    ")"
   ]
  },
  {
   "cell_type": "markdown",
   "id": "28d93b85",
   "metadata": {
    "id": "28d93b85"
   },
   "source": [
    "And thats it! We're all setup. The next step is to run some queries, let's try a few:"
   ]
  },
  {
   "cell_type": "markdown",
   "id": "82a5c946-5af3-45c1-862a-207ff4a34bb4",
   "metadata": {
    "id": "82a5c946-5af3-45c1-862a-207ff4a34bb4"
   },
   "source": [
    "### Querying"
   ]
  },
  {
   "cell_type": "code",
   "execution_count": 20,
   "id": "70d88316",
   "metadata": {
    "id": "70d88316",
    "outputId": "da5c4c94-819f-489b-a546-87f5f2deb0b7",
    "colab": {
     "base_uri": "https://localhost:8080/"
    }
   },
   "outputs": [
    {
     "output_type": "execute_result",
     "data": {
      "text/plain": [
       "{'query': 'tell me about the numpy library?',\n",
       " 'result': ' The NumPy library is a Python library that provides multidimensional array and matrix data structures, as well as various routines for efficient operations on these structures. It is commonly used for scientific computing and has a vast library of mathematical functions. It also has a fixed array size and is used extensively in other popular data science packages such as Pandas and scikit-learn.'}"
      ]
     },
     "metadata": {},
     "execution_count": 20
    }
   ],
   "source": [
    "query = \"tell me about the numpy library?\"\n",
    "qa.invoke(query)"
   ]
  },
  {
   "cell_type": "code",
   "execution_count": 21,
   "id": "85a0397c",
   "metadata": {
    "id": "85a0397c",
    "outputId": "0ed3ddb5-9e46-4c6c-e830-252d6933c9f0",
    "colab": {
     "base_uri": "https://localhost:8080/"
    }
   },
   "outputs": [
    {
     "output_type": "execute_result",
     "data": {
      "text/plain": [
       "{'query': \"What's the current version of numpy?\",\n",
       " 'result': ' The current version of NumPy is 1.26.'}"
      ]
     },
     "metadata": {},
     "execution_count": 21
    }
   ],
   "source": [
    "query = \"What's the current version of numpy?\"\n",
    "qa.invoke(query)"
   ]
  },
  {
   "cell_type": "code",
   "execution_count": 22,
   "id": "923f86c6",
   "metadata": {
    "id": "923f86c6",
    "outputId": "1e0fee97-df4e-4e0b-80f9-8715e489f873",
    "colab": {
     "base_uri": "https://localhost:8080/"
    }
   },
   "outputs": [
    {
     "output_type": "execute_result",
     "data": {
      "text/plain": [
       "{'query': 'What kind of linear algebra related operations can be done in numpy?',\n",
       " 'result': \"\\n\\nSome possible operations that can be performed using numpy's linear algebra functions include matrix multiplication, finding eigenvalues and eigenvectors, calculating determinants and inverses, solving systems of linear equations, and performing decompositions such as LU, QR, and SVD.\"}"
      ]
     },
     "metadata": {},
     "execution_count": 22
    }
   ],
   "source": [
    "query = \"What kind of linear algebra related operations can be done in numpy?\"\n",
    "qa.invoke(query)"
   ]
  },
  {
   "cell_type": "markdown",
   "id": "f8958d1b-0ad6-44d6-bca0-d81771c564a1",
   "metadata": {
    "id": "f8958d1b-0ad6-44d6-bca0-d81771c564a1"
   },
   "source": [
    "Thanks !"
   ]
  }
 ],
 "metadata": {
  "kernelspec": {
   "display_name": "Python 3 (ipykernel)",
   "language": "python",
   "name": "python3"
  },
  "language_info": {
   "codemirror_mode": {
    "name": "ipython",
    "version": 3
   },
   "file_extension": ".py",
   "mimetype": "text/x-python",
   "name": "python",
   "nbconvert_exporter": "python",
   "pygments_lexer": "ipython3",
   "version": "3.10.13"
  },
  "vscode": {
   "interpreter": {
    "hash": "511a7c77cb034b09af5465c01316a0f4bb20176d139e60e6d7915f9a637a5037"
   }
  },
  "colab": {
   "provenance": []
  }
 },
 "nbformat": 4,
 "nbformat_minor": 5
}